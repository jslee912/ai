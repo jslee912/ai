{
 "cells": [
  {
   "cell_type": "code",
   "execution_count": 1,
   "id": "89702b5a",
   "metadata": {},
   "outputs": [
    {
     "data": {
      "text/html": [
       "\n",
       "<style>\n",
       "div.container{width:90% !important;} \n",
       "div.cell.code_cell.rendered{width:100%;} \n",
       "div.input_prompt{padding:0px;}\n",
       "div.CodeMirror {font-family:Consolas; font-size:14pt;} \n",
       "div.text_cell_render.rendered_html{font-size:14pt;} \n",
       "div.output {font-size:14pt; font-weight:bold;} \n",
       "div.input {font-family:Consolas; font-size:14pt;} \n",
       "div.prompt {min-width:70px;}\n",
       "div#toc-wrapper{padding-top:120px;} \n",
       "div.text_cell_render ul li{font-size:12pt;padding:5px;} \n",
       "table.dataframe{font-size:12px;}\n",
       "</style>\n"
      ],
      "text/plain": [
       "<IPython.core.display.HTML object>"
      ]
     },
     "metadata": {},
     "output_type": "display_data"
    }
   ],
   "source": [
    "from IPython.display import display, HTML\n",
    "display(HTML(\"\"\"\n",
    "<style>\n",
    "div.container{width:90% !important;} \n",
    "div.cell.code_cell.rendered{width:100%;} \n",
    "div.input_prompt{padding:0px;}\n",
    "div.CodeMirror {font-family:Consolas; font-size:14pt;} \n",
    "div.text_cell_render.rendered_html{font-size:14pt;} \n",
    "div.output {font-size:14pt; font-weight:bold;} \n",
    "div.input {font-family:Consolas; font-size:14pt;} \n",
    "div.prompt {min-width:70px;}\n",
    "div#toc-wrapper{padding-top:120px;} \n",
    "div.text_cell_render ul li{font-size:12pt;padding:5px;} \n",
    "table.dataframe{font-size:12px;}\n",
    "</style>\n",
    "\"\"\"))"
   ]
  },
  {
   "cell_type": "markdown",
   "id": "aad3cdbf",
   "metadata": {},
   "source": [
    "<b><font size=\"6\" color=\"red\">ch08. 예외처리</font></b>\n",
    "```\n",
    "- 에러 :\n",
    "    (1) 문법에러 : 문법적으로 나타나는 에러(프로그램을 수정)\n",
    "    (2) 실행에러(실행시 에러)\n",
    "      * 시스템 에러 : 프로그래머의 의지와 사이관없이 나타나는 에러\n",
    "      * 예외 : 정상적으로 동작하는 프로그램에서 나타나는 에러(MILD한 에러)\n",
    "```\n",
    "# 1절. 예외처리 필요성\n",
    "- 예외가 날 가능성이 있는 부분에 대해서 미리 예상하고, 그에 대한 처리를 프로그래밍하는 것\n",
    "    (필요한 이유 : 좀 더 안정적인 시스템)\n",
    "```\n",
    "    ex1. 파일을 다룰 때, 파일이 없거나, 쓰기금지 되어있거나, 파일 인코딩방법에 의한 오류\n",
    "    ex2. 데이터베이스 프로그래밍 시 제약조건 등에 의한 CRUD 명령 수행 오류, DBMS 서버 오류\n",
    "    ex3. 네트워크 프로그래밍 시 네트워크 연결 오류\n",
    "    ex4. 리스트나 튜플의 인덱스를 벗어난 참조에 의한 오류\n",
    "```"
   ]
  },
  {
   "cell_type": "code",
   "execution_count": 12,
   "id": "35df0bc3",
   "metadata": {},
   "outputs": [
    {
     "name": "stdout",
     "output_type": "stream",
     "text": [
      "파일명은 ?ch08.txt\n"
     ]
    },
    {
     "data": {
      "text/plain": [
       "'Hello\\nPython'"
      ]
     },
     "execution_count": 12,
     "metadata": {},
     "output_type": "execute_result"
    }
   ],
   "source": [
    "# 파일명(ch08.txt, ch02.txt)은 사용자에게 입력받아 해당파 일 내용을 출력\n",
    "filename = input('파일명은 ?')\n",
    "f = open('data/' + filename,'r')  # 파일을 연다(스트림객체 생성)\n",
    "f.read()"
   ]
  },
  {
   "cell_type": "code",
   "execution_count": 13,
   "id": "d8f94b12",
   "metadata": {},
   "outputs": [],
   "source": [
    "f.close()"
   ]
  },
  {
   "cell_type": "code",
   "execution_count": 19,
   "id": "864a6b84",
   "metadata": {},
   "outputs": [
    {
     "name": "stdout",
     "output_type": "stream",
     "text": [
      "파일명은 ?ch08.txt\n",
      "Hello\n",
      "Python\n",
      "주피터노트북의 txt파일 저장은 기본이 utf8로 저장\n",
      "김설믜\n"
     ]
    }
   ],
   "source": [
    "# 예외발생은 : 파일이 잘못 되었을 경우\n",
    "# 한글인코딩 방법 :\n",
    "# 한글완성형(euc-kr < cp949) 한글 1만1172자 중 2,850자만 코드표현법 <가-?/갸-? 앉(O) 햕(X) 믜 볣>\n",
    "# 한글조합형(utf-8) :초중종성을 조합해서 만들어 표현하지 못하는 경우가 없다.\n",
    "#                 ch08.txt\n",
    "filename = input('파일명은 ?')\n",
    "f = open('data/' + filename,'r')  # cp949코드가 기본 encoding 방식\n",
    "print(f.read())\n",
    "f.close()"
   ]
  },
  {
   "cell_type": "code",
   "execution_count": null,
   "id": "368471ae",
   "metadata": {},
   "outputs": [],
   "source": [
    "# 예외발생은 : 인코딩방식 에러\n",
    "filename = input('파일명은 ?')\n",
    "f = open('data/' + filename,'r', encoding='utf-8')  # encoding 방식 지정으로 해결\n",
    "print(f.read())\n",
    "f.close()"
   ]
  },
  {
   "cell_type": "code",
   "execution_count": 21,
   "id": "7f776595",
   "metadata": {
    "collapsed": true
   },
   "outputs": [
    {
     "ename": "ZeroDivisionError",
     "evalue": "division by zero",
     "output_type": "error",
     "traceback": [
      "\u001b[1;31m---------------------------------------------------------------------------\u001b[0m",
      "\u001b[1;31mZeroDivisionError\u001b[0m                         Traceback (most recent call last)",
      "Cell \u001b[1;32mIn[21], line 2\u001b[0m\n\u001b[0;32m      1\u001b[0m \u001b[38;5;66;03m# '0'으로 나누었을때 \u001b[39;00m\n\u001b[1;32m----> 2\u001b[0m \u001b[38;5;241;43m4\u001b[39;49m\u001b[43m \u001b[49m\u001b[38;5;241;43m/\u001b[39;49m\u001b[43m \u001b[49m\u001b[38;5;241;43m0\u001b[39;49m\n",
      "\u001b[1;31mZeroDivisionError\u001b[0m: division by zero"
     ]
    }
   ],
   "source": [
    "# '0'으로 나누었을때 \n",
    "4 / 0"
   ]
  },
  {
   "cell_type": "code",
   "execution_count": 22,
   "id": "fed30aad",
   "metadata": {
    "collapsed": true
   },
   "outputs": [
    {
     "ename": "IndexError",
     "evalue": "list index out of range",
     "output_type": "error",
     "traceback": [
      "\u001b[1;31m---------------------------------------------------------------------------\u001b[0m",
      "\u001b[1;31mIndexError\u001b[0m                                Traceback (most recent call last)",
      "Cell \u001b[1;32mIn[22], line 3\u001b[0m\n\u001b[0;32m      1\u001b[0m \u001b[38;5;66;03m# 없는 인덱스 지시했을 때\u001b[39;00m\n\u001b[0;32m      2\u001b[0m a \u001b[38;5;241m=\u001b[39m [\u001b[38;5;241m1\u001b[39m,\u001b[38;5;241m2\u001b[39m,\u001b[38;5;241m3\u001b[39m]\n\u001b[1;32m----> 3\u001b[0m \u001b[43ma\u001b[49m\u001b[43m[\u001b[49m\u001b[38;5;241;43m3\u001b[39;49m\u001b[43m]\u001b[49m\n",
      "\u001b[1;31mIndexError\u001b[0m: list index out of range"
     ]
    }
   ],
   "source": [
    "# 없는 인덱스 지시했을 때\n",
    "a = [1,2,3]\n",
    "a[3]\n",
    "\n",
    "'''\n",
    "IndexError                                Traceback (most recent call last)\n",
    "Cell In[22], line 3\n",
    "      1 # 없는 인덱스 지시했을 때\n",
    "      2 a = [1,2,3]\n",
    "----> 3 a[3]\n",
    "\n",
    "IndexError: list index out of range\n",
    "\n",
    "'''"
   ]
  },
  {
   "cell_type": "markdown",
   "id": "f56ec46a",
   "metadata": {},
   "source": [
    "# 2절 try~except로 예외처리\n",
    "## 2.1 try~except\n",
    "```\n",
    "try:\n",
    "    예외가 발생할 가능성이 있는 명령어들\n",
    "except:\n",
    "    예외가 발생했을 경우 실행할 명령어들\n",
    "```"
   ]
  },
  {
   "cell_type": "code",
   "execution_count": 27,
   "id": "bdad2ec0",
   "metadata": {},
   "outputs": [
    {
     "name": "stdout",
     "output_type": "stream",
     "text": [
      "100을 나눌 정수를 입력하세요 : 0\n"
     ]
    },
    {
     "ename": "ZeroDivisionError",
     "evalue": "division by zero",
     "output_type": "error",
     "traceback": [
      "\u001b[1;31m---------------------------------------------------------------------------\u001b[0m",
      "\u001b[1;31mZeroDivisionError\u001b[0m                         Traceback (most recent call last)",
      "Cell \u001b[1;32mIn[27], line 4\u001b[0m\n\u001b[0;32m      1\u001b[0m \u001b[38;5;66;03m# 100을 입력받은 정수값으로 나눠 출력\u001b[39;00m\n\u001b[0;32m      2\u001b[0m \u001b[38;5;66;03m# ValueError: invalid literal for int() with base 10: '삼'(정수를 입력하지 않은 경우)\u001b[39;00m\n\u001b[0;32m      3\u001b[0m x \u001b[38;5;241m=\u001b[39m \u001b[38;5;28mint\u001b[39m(\u001b[38;5;28minput\u001b[39m(\u001b[38;5;124m\"\u001b[39m\u001b[38;5;124m100을 나눌 정수를 입력하세요 : \u001b[39m\u001b[38;5;124m\"\u001b[39m))\n\u001b[1;32m----> 4\u001b[0m \u001b[38;5;28mprint\u001b[39m(\u001b[38;5;124m'\u001b[39m\u001b[38;5;124m100을 입력한 정수로 나누면 \u001b[39m\u001b[38;5;132;01m{:.3f}\u001b[39;00m\u001b[38;5;124m'\u001b[39m\u001b[38;5;241m.\u001b[39mformat(\u001b[38;5;241;43m100\u001b[39;49m\u001b[38;5;241;43m/\u001b[39;49m\u001b[43mx\u001b[49m))\n",
      "\u001b[1;31mZeroDivisionError\u001b[0m: division by zero"
     ]
    }
   ],
   "source": [
    "# 100을 입력받은 정수값으로 나눠 출력\n",
    "# ValueError: invalid literal for int() with base 10: '삼'(정수를 입력하지 않은 경우)\n",
    "# ZeroDivisionError: division by zero (0으로 나누려했을 때 예외 객체의 타입과 메시지)\n",
    "\n",
    "x = int(input(\"100을 나눌 정수를 입력하세요 : \"))\n",
    "print('100을 입력한 정수로 나누면 {:.3f}'.format(100/x)) "
   ]
  },
  {
   "cell_type": "code",
   "execution_count": 3,
   "id": "517554bd",
   "metadata": {},
   "outputs": [
    {
     "name": "stdout",
     "output_type": "stream",
     "text": [
      "100을 나눌 정수를 입력하세요 : 0\n",
      "유효한 정수가 아닙니다.\n"
     ]
    }
   ],
   "source": [
    "# 100을 입력받은 정수값으로 나눠 출력\n",
    "# ValueError: invalid literal for int() with base 10: '삼'(정수를 입력하지 않은 경우)\n",
    "# ZeroDivisionError: division by zero (0으로 나누려했을 때 예외 객체의 타입과 메시지)\n",
    "# try절에 예외가 발생되지 않으면 except절은 수행되지 않음\n",
    "# try절에 예외가 발생되면, try절 수행을 멈추고 except절을 수행\n",
    "# 8번 라인에서 숫자'0'이 입력되면 try절 진입하나 except절로 이동하여 x변수 할당되나 'ㅁ'과 같이 int로 변환되지 못하는 경우 try절 진입이 안되어 x변수 할당되지 않음\n",
    "try:\n",
    "    x = int(input(\"100을 나눌 정수를 입력하세요 : \"))\n",
    "    print('100을 입력한 정수로 나누면 {:.3f}'.format(100/x)) \n",
    "except:\n",
    "    print('유효한 정수가 아닙니다.')\n",
    "    "
   ]
  },
  {
   "cell_type": "code",
   "execution_count": 6,
   "id": "0f686aff",
   "metadata": {
    "collapsed": true
   },
   "outputs": [
    {
     "name": "stdout",
     "output_type": "stream",
     "text": [
      "100을 나눌 정수를 입력하세요 : a\n",
      "유효한 정수가 아닙니다.\n",
      "100을 나눌 정수를 입력하세요 : 0\n",
      "유효한 정수가 아닙니다.\n",
      "100을 나눌 정수를 입력하세요 :  \n",
      "유효한 정수가 아닙니다.\n",
      "100을 나눌 정수를 입력하세요 :  \n",
      "유효한 정수가 아닙니다.\n",
      "100을 나눌 정수를 입력하세요 : 1\n",
      "100을 입력한 정수로 나누면 100.000\n"
     ]
    }
   ],
   "source": [
    "# 100을 나눌 유효한 정수를 입력할때까지 입력받아 100을 나눈 결과를 출력\n",
    "# ValueError: invalid literal for int() with base 10: '삼'(정수를 입력하지 않은 경우)\n",
    "# ZeroDivisionError: division by zero (0으로 나누려했을 때 예외 객체의 타입과 메시지)\n",
    "while True:\n",
    "    try:\n",
    "        x = int(input(\"100을 나눌 정수를 입력하세요 : \"))\n",
    "        print('100을 입력한 정수로 나누면 {:.3f}'.format(100/x)) \n",
    "        break\n",
    "    except:\n",
    "        print('유효한 정수가 아닙니다.')    "
   ]
  },
  {
   "cell_type": "markdown",
   "id": "9f748053",
   "metadata": {},
   "source": [
    "## 2.2 지정된 예외 처리\n",
    "```\n",
    "try:\n",
    "    예외가 발생할 수도 있는 명령어\n",
    "except (예외타입1, 예외타입3):\n",
    "    해당 예외가 발생할 경우 실행할 명령어\n",
    "except 예외타입2:\n",
    "    해당 예외가 발생할 경우 실행할 명령어\n",
    "```"
   ]
  },
  {
   "cell_type": "code",
   "execution_count": 8,
   "id": "3ea6fe66",
   "metadata": {},
   "outputs": [
    {
     "name": "stdout",
     "output_type": "stream",
     "text": [
      "100을 나눌 정수를 입력하세요 : 3\n",
      "100을 입력한 정수로 나누면 33.333\n"
     ]
    }
   ],
   "source": [
    "# 수를 입력받아 100을 나눈 결과를 출력\n",
    "# ValueError: invalid literal for int() with base 10: '삼'(정수를 입력하지 않은 경우)\n",
    "# ZeroDivisionError: division by zero (0으로 나누려했을 때 예외 객체의 타입과 메시지)\n",
    "\n",
    "try:\n",
    "    x = int(input(\"100을 나눌 정수를 입력하세요 : \"))\n",
    "    print('100을 입력한 정수로 나누면 {:.3f}'.format(100/x))\n",
    "except ZeroDivisionError:\n",
    "    print('0으로는 나눌 수 없어요')\n",
    "except ValueError:\n",
    "    print('정수를 입력하지 않았습니다.')\n",
    "except Exception:\n",
    "    print('기타 다른 예외입니다.')"
   ]
  },
  {
   "cell_type": "code",
   "execution_count": 10,
   "id": "36151afa",
   "metadata": {},
   "outputs": [
    {
     "name": "stdout",
     "output_type": "stream",
     "text": [
      "100을 나눌 정수를 입력하세요 : ㅁ\n",
      "나눌 수 있는 유효한 수가 아닙니다.\n"
     ]
    }
   ],
   "source": [
    "try:\n",
    "    x = int(input(\"100을 나눌 정수를 입력하세요 : \"))\n",
    "    print('100을 입력한 정수로 나누면 {:.3f}'.format(100/x))\n",
    "except (ZeroDivisionError, ValueError):\n",
    "    print('나눌 수 있는 유효한 수가 아닙니다.')\n",
    "except Exception:\n",
    "    print('기타 다른 예외입니다.')"
   ]
  },
  {
   "cell_type": "markdown",
   "id": "637e3299",
   "metadata": {},
   "source": [
    "## 2.3 예외 인수(e)\n",
    "```\n",
    "try:\n",
    "    예외가 발생할 수도 있는 명령어\n",
    "except 예외타입  as e:\n",
    "   print(e.args[0])   #예외 메세지 출력\n",
    "   print(e.__str__())\n",
    "   print(e)\n",
    "```"
   ]
  },
  {
   "cell_type": "code",
   "execution_count": 16,
   "id": "e0be3f0f",
   "metadata": {},
   "outputs": [
    {
     "name": "stdout",
     "output_type": "stream",
     "text": [
      "100을 나눌 정수를 입력하세요 : 0\n",
      "예외 유형 : <class 'ZeroDivisionError'>\n",
      "예외 메세지 : division by zero\n",
      "예외 메세지 : division by zero\n",
      "예외 메세지 : ('division by zero',)\n"
     ]
    }
   ],
   "source": [
    "try:\n",
    "    x = int(input(\"100을 나눌 정수를 입력하세요 : \"))\n",
    "    print('100을 입력한 정수로 나누면 {:.3f}'.format(100/x))\n",
    "except (ZeroDivisionError, ValueError) as e:\n",
    "    print('예외 유형 :', type(e))\n",
    "    print('예외 메세지 :', e)\n",
    "    print('예외 메세지 :', e.__str__())\n",
    "    print('예외 메세지 :', e.args)\n",
    "except Exception:\n",
    "    print('기타 다른 예외입니다.')"
   ]
  },
  {
   "cell_type": "code",
   "execution_count": 44,
   "id": "b1a316f3",
   "metadata": {},
   "outputs": [
    {
     "ename": "SyntaxError",
     "evalue": "invalid syntax (2099940350.py, line 1)",
     "output_type": "error",
     "traceback": [
      "\u001b[1;36m  Cell \u001b[1;32mIn[44], line 1\u001b[1;36m\u001b[0m\n\u001b[1;33m    ```\u001b[0m\n\u001b[1;37m    ^\u001b[0m\n\u001b[1;31mSyntaxError\u001b[0m\u001b[1;31m:\u001b[0m invalid syntax\n"
     ]
    }
   ],
   "source": [
    "```\n",
    "try:\n",
    "    예외 발생 가능 명령어\n",
    "except [예외타입 [as e]]:\n",
    "    예외타입 발생시 명령어\n",
    "[else:\n",
    "    try절 수행하다 예외가 발생 안되면 else절 수행\n",
    "    try절 수행하다 예외가 발생하면 except절 수행(else절 수행 안 함)\n",
    "]\n",
    "[finally:\n",
    "    try 절에서 예외가 발생하든 안 하든 마지막에 수행\n",
    "]\n",
    "```"
   ]
  },
  {
   "cell_type": "code",
   "execution_count": 21,
   "id": "89390473",
   "metadata": {},
   "outputs": [
    {
     "name": "stdout",
     "output_type": "stream",
     "text": [
      "Hello\n",
      "Python\n",
      "주피터노트북의 txt파일 저장은 기본이 utf8로 저장\n",
      "김설믜\n"
     ]
    }
   ],
   "source": [
    "try:\n",
    "    file = open('data/ch08.txt','r', encoding='utf-8')\n",
    "except FileNotFoundError as e:\n",
    "    print('해당 폴더나 파일이 없습니다.')\n",
    "    print(e)\n",
    "except UnicodeDecodeError as e:\n",
    "    print(e)\n",
    "else:                  // 예외처리 안됨\n",
    "    print(file.read())\n",
    "finally:\n",
    "    file.close()"
   ]
  },
  {
   "cell_type": "code",
   "execution_count": 22,
   "id": "0968588b",
   "metadata": {},
   "outputs": [
    {
     "name": "stdout",
     "output_type": "stream",
     "text": [
      "Hello\n",
      "Python\n",
      "주피터노트북의 txt파일 저장은 기본이 utf8로 저장\n",
      "김설믜\n"
     ]
    }
   ],
   "source": [
    "try:\n",
    "    file = open('data/ch08.txt','r', encoding='utf-8')\n",
    "    print(file.read())\n",
    "except FileNotFoundError as e:\n",
    "    print('해당 폴더나 파일이 없습니다.')\n",
    "    print(e)\n",
    "except UnicodeDecodeError as e:\n",
    "    print(e)\n",
    "finally:\n",
    "    file.close()"
   ]
  },
  {
   "cell_type": "markdown",
   "id": "6ae20715",
   "metadata": {},
   "source": [
    "# 3절 raise\n",
    "- 강제 예외 발생"
   ]
  },
  {
   "cell_type": "code",
   "execution_count": 25,
   "id": "b7321d93",
   "metadata": {},
   "outputs": [
    {
     "ename": "ZeroDivisionError",
     "evalue": "0으로 나누려고 했네",
     "output_type": "error",
     "traceback": [
      "\u001b[1;31m---------------------------------------------------------------------------\u001b[0m",
      "\u001b[1;31mZeroDivisionError\u001b[0m                         Traceback (most recent call last)",
      "Cell \u001b[1;32mIn[25], line 1\u001b[0m\n\u001b[1;32m----> 1\u001b[0m \u001b[38;5;28;01mraise\u001b[39;00m \u001b[38;5;167;01mZeroDivisionError\u001b[39;00m(\u001b[38;5;124m\"\u001b[39m\u001b[38;5;124m0으로 나누려고 했네\u001b[39m\u001b[38;5;124m\"\u001b[39m)\n",
      "\u001b[1;31mZeroDivisionError\u001b[0m: 0으로 나누려고 했네"
     ]
    }
   ],
   "source": [
    "raise ZeroDivisionError(\"0으로 나누려고 했네\")"
   ]
  },
  {
   "cell_type": "code",
   "execution_count": 26,
   "id": "23d9302c",
   "metadata": {},
   "outputs": [],
   "source": [
    "# raise Exception(\"예외메세지\")\n",
    "\n",
    "# 사용자 정의 예외 : Exception클래스로부터 상속받아 구현\n",
    "class LengthZeroError(Exception):\n",
    "    '길이가 0일때 발생하는 예외'\n",
    "    def __init__(self, message):\n",
    "        super().__init__(message)"
   ]
  },
  {
   "cell_type": "code",
   "execution_count": 27,
   "id": "a3eeb622",
   "metadata": {},
   "outputs": [],
   "source": [
    "def insert(*data):   # 튜플매개변수\n",
    "    print('data = ', data)\n",
    "    if len(data)==0:\n",
    "        raise LengthZeroError(\"매개변수의 갯수가 0이면 예외에요(사용자 정의 예외)\")\n",
    "    for item in data:\n",
    "        print(item, end=' ')\n",
    "    print('등을 입력하였습니다.')"
   ]
  },
  {
   "cell_type": "code",
   "execution_count": 28,
   "id": "f0cc9998",
   "metadata": {},
   "outputs": [
    {
     "name": "stdout",
     "output_type": "stream",
     "text": [
      "data =  (1, 2, 3)\n",
      "1 2 3 등을 입력하였습니다.\n"
     ]
    }
   ],
   "source": [
    "insert(1,2,3)"
   ]
  },
  {
   "cell_type": "code",
   "execution_count": 29,
   "id": "6b33c207",
   "metadata": {},
   "outputs": [
    {
     "name": "stdout",
     "output_type": "stream",
     "text": [
      "data =  (1, 2, '3')\n",
      "1 2 3 등을 입력하였습니다.\n"
     ]
    }
   ],
   "source": [
    "data = (1,2,'3')\n",
    "insert(*data)"
   ]
  },
  {
   "cell_type": "code",
   "execution_count": 31,
   "id": "394bbd20",
   "metadata": {},
   "outputs": [
    {
     "name": "stdout",
     "output_type": "stream",
     "text": [
      "data =  ()\n",
      "매개변수의 갯수가 0이면 예외에요(사용자 정의 예외)\n",
      "예외가 발생하든 안 하든 무조건 실행\n"
     ]
    }
   ],
   "source": [
    "data = ()\n",
    "try:\n",
    "    insert(*data)    \n",
    "except Exception as e:\n",
    "    print(e)\n",
    "else:\n",
    "    print('예외가 발생 안 할 때만 실행')\n",
    "finally:\n",
    "    print('예외가 발생하든 안 하든 무조건 실행')\n",
    "#"
   ]
  },
  {
   "cell_type": "markdown",
   "id": "9dba9ae0",
   "metadata": {},
   "source": [
    "# 4절 추상클래스\n",
    "- 추상클래스 : 추상메소드가 1개 이상 포함된 클래스를 추상클래스\n",
    "- 추상메소드 : 호출할 수 없는 메소드. 상속받은 클래스에서 재정의를 강요할 때\n",
    "- Python에서 추상메소드는 @abstractmethod나 raise를 이용"
   ]
  },
  {
   "cell_type": "code",
   "execution_count": 39,
   "id": "14b4d45d",
   "metadata": {},
   "outputs": [],
   "source": [
    "class Shape:\n",
    "    def __init__(self):\n",
    "        raise NotImplementedError(\"추상클래스 역할\")\n",
    "    def calc_area(self):\n",
    "        raise NotImplementedError(\"추상메소드 역할\")"
   ]
  },
  {
   "cell_type": "code",
   "execution_count": null,
   "id": "fde86dfd",
   "metadata": {},
   "outputs": [],
   "source": [
    "from abc import ABC,abstractmethod\n",
    "class Shape(ABC):\n",
    "    @abstractmethod   #python 3.10부터 \n",
    "    def __init__(self):\n",
    "        pass\n",
    "    @abstractmethod      \n",
    "    def calc_area(self):\n",
    "        pass"
   ]
  },
  {
   "cell_type": "code",
   "execution_count": 40,
   "id": "ef3c0e28",
   "metadata": {},
   "outputs": [],
   "source": [
    "import numpy as np\n",
    "class Circle(Shape):\n",
    "    def __init__(self, radius=3):\n",
    "        self.radius = radius\n",
    "    def calc_area(self):\n",
    "        '원의 넓이를 return'\n",
    "        return np.pi * (self.radius**2)"
   ]
  },
  {
   "cell_type": "code",
   "execution_count": 41,
   "id": "749f4385",
   "metadata": {},
   "outputs": [
    {
     "data": {
      "text/plain": [
       "78.53981633974483"
      ]
     },
     "execution_count": 41,
     "metadata": {},
     "output_type": "execute_result"
    }
   ],
   "source": [
    "myCircle = Circle(5)\n",
    "myCircle.calc_area()"
   ]
  },
  {
   "cell_type": "markdown",
   "id": "371e273e",
   "metadata": {},
   "source": [
    "# 5절 파일 정리 작업(with절 이용)"
   ]
  },
  {
   "cell_type": "code",
   "execution_count": 45,
   "id": "453f10ea",
   "metadata": {},
   "outputs": [
    {
     "name": "stdout",
     "output_type": "stream",
     "text": [
      "['Hello\\n', 'Python\\n', '주피터노트북의 txt파일 저장은 기본이 utf8로 저장\\n', '김설믜']\n"
     ]
    }
   ],
   "source": [
    "try:\n",
    "    f = open('data/ch08.txt', 'r', encoding='utf-8')\n",
    "    lines = f.readlines()  # 한줄 한줄 모든 줄을 한꺼번에 .list로 읽어오기\n",
    "    print(lines)\n",
    "except FileNotFoundError as e:\n",
    "    print(e)\n",
    "finally:\n",
    "    f.close()"
   ]
  },
  {
   "cell_type": "code",
   "execution_count": null,
   "id": "a1efc213",
   "metadata": {},
   "outputs": [],
   "source": [
    "f = open('data/ch08.txt', 'r', encoding='utf-8')\n",
    "lines = f.readlines()  # 한줄 한줄 모든 줄을 한꺼번에 .list로 읽어오기\n",
    "print(lines)\n",
    "f.close()"
   ]
  },
  {
   "cell_type": "code",
   "execution_count": 46,
   "id": "d45ce36d",
   "metadata": {},
   "outputs": [
    {
     "name": "stdout",
     "output_type": "stream",
     "text": [
      "['Hello\\n', 'Python\\n', '주피터노트북의 txt파일 저장은 기본이 utf8로 저장\\n', '김설믜']\n"
     ]
    }
   ],
   "source": [
    "# with절 이후에는 자동적으로 close() 실행\n",
    "with open('data/ch08.txt', 'r',  encoding='utf-8') as f:\n",
    "    lines = f.readlines()\n",
    "print(lines)"
   ]
  },
  {
   "cell_type": "code",
   "execution_count": 49,
   "id": "53f2cfaf",
   "metadata": {},
   "outputs": [
    {
     "name": "stdout",
     "output_type": "stream",
     "text": [
      "['Hello\\n', 'Python\\n', '주피터노트북의 txt파일 저장은 기본이 utf8로 저장\\n', '김설믜']\n"
     ]
    }
   ],
   "source": [
    "try:\n",
    "    with open('data/ch08.txt','r',encoding='utf-8') as f:\n",
    "        lines = f.readlines()\n",
    "    print(lines)\n",
    "except (FileNotFoundError, UnicodeDecodeError) as e:\n",
    "    print(e)\n"
   ]
  },
  {
   "cell_type": "markdown",
   "id": "e8f5a143",
   "metadata": {},
   "source": [
    "# 6절 연습문제"
   ]
  },
  {
   "cell_type": "markdown",
   "id": "b4510b02",
   "metadata": {},
   "source": [
    "### 실습형"
   ]
  },
  {
   "cell_type": "code",
   "execution_count": 2,
   "id": "3f49feab",
   "metadata": {},
   "outputs": [
    {
     "name": "stdout",
     "output_type": "stream",
     "text": [
      "첫 번째 숫자를 입력하세요 : 1.5\n",
      "두 번째 숫자를 입력하세요 : 1\n",
      "입력한 수는 1.5와 1.0입니다.\n",
      "1.5을 1.0로 나누면 1.5입니다.\n"
     ]
    }
   ],
   "source": [
    "# 1\n",
    "# 숫자 두 개를 입력받아 나눗셈 연산을 하는 프로그램. 두 숫자는 정수 또는 실수 일 수 있으며 0으로 나눌수 없습니다.\n",
    "# 올바른 두 수를 입력하고 나눗셈연산결과를 출력한 후 종료해야 합니다.\n",
    "# - 출력 예시\n",
    "# - 첫 번째 숫자를 입력하세요: hello\n",
    "# - 유효한 숫자가 아닙니다. 다시 시도하세요\n",
    "# - 첫 번째 숫자를 입력하세요: 10\n",
    "# - 두 번째 숫자를 입력하세요: 0\n",
    "# - 입력한 수는 10.0와 0.0입니다.\n",
    "# - 유효한 숫자가 아닙니다. 다시 시도하세요\n",
    "# - 첫 번째 숫자를 입력하세요: 3.5\n",
    "# - 두 번째 숫자를 입력하세요: hello\n",
    "# - 유효한 숫자가 아닙니다. 다시 시도하세요\n",
    "# - 첫 번째 숫자를 입력하세요: 3.5\n",
    "# - 두 번째 숫자를 입력하세요: 2\n",
    "# - 입력한 수는 3.5와 1.75입니다.\n",
    "while True:\n",
    "    try:\n",
    "        x = float(input(\"첫 번째 숫자를 입력하세요 : \"))\n",
    "        y = float(input(\"두 번째 숫자를 입력하세요 : \"))\n",
    "        print('입력한 수는 {}와 {}입니다.'.format(x, y))\n",
    "        print('{}을 {}로 나누면 {}입니다.'.format(x, y, x/y))\n",
    "        break\n",
    "    except(ZeroDivisionError, ValueError) as e:\n",
    "        print('유효한 숫자가 아닙니다. 다시 시도하세요')\n",
    "    except Exception:\n",
    "        print('기타 다른 예외입니다.')    \n"
   ]
  },
  {
   "cell_type": "code",
   "execution_count": 4,
   "id": "685e75e8",
   "metadata": {},
   "outputs": [
    {
     "name": "stdout",
     "output_type": "stream",
     "text": [
      "첫 번째 숫자를 입력하세요 : abc\n",
      "유효한 숫자가 아닙니다. 다시 시도하세요\n",
      "첫 번째 숫자를 입력하세요 : 10.0\n",
      "두 번째 숫자를 입력하세요 : 0\n",
      "입력한 수는 10.0와 0.0입니다.\n",
      "0으로 나눌 수 없습니다. 다시 시도하세요\n",
      "첫 번째 숫자를 입력하세요 : 3\n",
      "두 번째 숫자를 입력하세요 : 2\n",
      "입력한 수는 3.0와 2.0입니다.\n",
      "3.0을 2.0로 나누면 1.5입니다.\n"
     ]
    }
   ],
   "source": [
    "# 2. 1번 코드의 예외처리를 예외에 따라 다르게 처리하세요.\n",
    "#  - 숫자로 바꿀 수 없을 경우 ValueError가 발생합니다.\n",
    "#  - 0으로 나누려고 할 때 ZeroDivisionError가 발생합니다.\n",
    "# keepgoing = True\n",
    "# while keepgoing:\n",
    "while True:\n",
    "    try:\n",
    "        x = float(input(\"첫 번째 숫자를 입력하세요 : \"))\n",
    "        y = float(input(\"두 번째 숫자를 입력하세요 : \"))\n",
    "        print('입력한 수는 {}와 {}입니다.'.format(x, y))\n",
    "        print('{}을 {}로 나누면 {}입니다.'.format(x, y, x/y))\n",
    "#         keepgoing = None\n",
    "        break\n",
    "    except ValueError as e:\n",
    "        print('0으로 나눌 수 없습니다. 다시 시도하세요')\n",
    "    except ZeroDivisionError as e:\n",
    "        print('유효한 숫자가 아닙니다. 다시 시도하세요')\n",
    "    except Exception:\n",
    "        print('기타 다른 예외입니다.')    \n"
   ]
  },
  {
   "cell_type": "markdown",
   "id": "b8246c23",
   "metadata": {},
   "source": [
    "### 문제풀이형"
   ]
  },
  {
   "cell_type": "code",
   "execution_count": null,
   "id": "a78b49e3",
   "metadata": {},
   "outputs": [],
   "source": [
    "# 1. 예외 처리에 대해 잘못 설명한 것은?  3번\n",
    "# 1) try 블록은 예외가 발생할 가능성이 있는 문장을 작성한다\n",
    "# 2) 예외가 발생하면 except 블록이 실행된다.\n",
    "# 3) 상위 예외 처리를 위한 except 블록은 하위 예외처리 except 블록에 비해 먼저 선언되어야 한다.\n",
    "# 4) finally 블록은 예외의 발생 유/무와 상관없이 실행된다."
   ]
  },
  {
   "cell_type": "code",
   "execution_count": null,
   "id": "c7c63c3b",
   "metadata": {},
   "outputs": [],
   "source": [
    "# 2. 예외 처리에 대해 잘못 설명한 것은?  2번\n",
    "# 1) raise는 강제로 예외를 발생시킬 때 사용한다. \n",
    "# 2) catch 절은 예외를 처리하기 위해 사용하는 구문이다.\n",
    "# 3) 다른 예외를 하나의 예외처리 구문으로 처리할 수 있다.\n",
    "# 4) else절은 예외가 발생하지 않을 경우 실행된다."
   ]
  },
  {
   "cell_type": "code",
   "execution_count": null,
   "id": "2e2e4f55",
   "metadata": {},
   "outputs": [],
   "source": [
    "# 3. 다음 중 except 절을 잘못 사용한 것은? 4번\n",
    "# except :\n",
    "# except Exception:\n",
    "# except Exception as e:\n",
    "# except Exception e:"
   ]
  },
  {
   "cell_type": "code",
   "execution_count": null,
   "id": "b71a5013",
   "metadata": {},
   "outputs": [],
   "source": [
    "# 4. 다음 중 예외 처리에 사용하지 않는 구문은?  3번\n",
    "# try\n",
    "# except\n",
    "# with\n",
    "# finally"
   ]
  },
  {
   "cell_type": "code",
   "execution_count": null,
   "id": "6170baa9",
   "metadata": {},
   "outputs": [],
   "source": []
  },
  {
   "cell_type": "code",
   "execution_count": null,
   "id": "2716b191",
   "metadata": {},
   "outputs": [],
   "source": []
  },
  {
   "cell_type": "code",
   "execution_count": null,
   "id": "373125df",
   "metadata": {},
   "outputs": [],
   "source": []
  },
  {
   "cell_type": "code",
   "execution_count": null,
   "id": "98067edd",
   "metadata": {},
   "outputs": [],
   "source": []
  }
 ],
 "metadata": {
  "kernelspec": {
   "display_name": "Python 3 (ipykernel)",
   "language": "python",
   "name": "python3"
  },
  "language_info": {
   "codemirror_mode": {
    "name": "ipython",
    "version": 3
   },
   "file_extension": ".py",
   "mimetype": "text/x-python",
   "name": "python",
   "nbconvert_exporter": "python",
   "pygments_lexer": "ipython3",
   "version": "3.10.9"
  },
  "toc": {
   "base_numbering": 1,
   "nav_menu": {},
   "number_sections": false,
   "sideBar": true,
   "skip_h1_title": false,
   "title_cell": "Table of Contents",
   "title_sidebar": "Contents",
   "toc_cell": false,
   "toc_position": {
    "height": "calc(100% - 180px)",
    "left": "10px",
    "top": "150px",
    "width": "230px"
   },
   "toc_section_display": true,
   "toc_window_display": true
  }
 },
 "nbformat": 4,
 "nbformat_minor": 5
}
