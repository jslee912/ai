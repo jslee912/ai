{
 "cells": [
  {
   "cell_type": "code",
   "execution_count": 2,
   "id": "59f54f8c",
   "metadata": {},
   "outputs": [
    {
     "data": {
      "text/html": [
       "\n",
       "<style>\n",
       "div.container{width:90% !important;} \n",
       "div.cell.code_cell.rendered{width:100%;} \n",
       "div.input_prompt{padding:0px;}\n",
       "div.CodeMirror {font-family:Consolas; font-size:14pt;} \n",
       "div.text_cell_render.rendered_html{font-size:14pt;} \n",
       "div.output {font-size:14pt; font-weight:bold;} \n",
       "div.input {font-family:Consolas; font-size:14pt;} \n",
       "div.prompt {min-width:70px;}\n",
       "div#toc-wrapper{padding-top:120px;} \n",
       "div.text_cell_render ul li{font-size:12pt;padding:5px;} \n",
       "table.dataframe{font-size:12px;}\n",
       "</style>\n"
      ],
      "text/plain": [
       "<IPython.core.display.HTML object>"
      ]
     },
     "metadata": {},
     "output_type": "display_data"
    }
   ],
   "source": [
    "from IPython.display import display, HTML\n",
    "display(HTML(\"\"\"\n",
    "<style>\n",
    "div.container{width:90% !important;} \n",
    "div.cell.code_cell.rendered{width:100%;} \n",
    "div.input_prompt{padding:0px;}\n",
    "div.CodeMirror {font-family:Consolas; font-size:14pt;} \n",
    "div.text_cell_render.rendered_html{font-size:14pt;} \n",
    "div.output {font-size:14pt; font-weight:bold;} \n",
    "div.input {font-family:Consolas; font-size:14pt;} \n",
    "div.prompt {min-width:70px;}\n",
    "div#toc-wrapper{padding-top:120px;} \n",
    "div.text_cell_render ul li{font-size:12pt;padding:5px;} \n",
    "table.dataframe{font-size:12px;}\n",
    "</style>\n",
    "\"\"\"))"
   ]
  },
  {
   "cell_type": "markdown",
   "id": "1d9a5b35",
   "metadata": {},
   "source": [
    "<b><font size=\"6\" color=\"red\">ch07. 객체지향 프로그래밍</font></b>"
   ]
  },
  {
   "cell_type": "code",
   "execution_count": 4,
   "id": "43fa3920",
   "metadata": {},
   "outputs": [
    {
     "name": "stdout",
     "output_type": "stream",
     "text": [
      "홍길동 남자\n",
      "{'name': '홍낄뚱', 'gender': '남자', 'academy': 'MBC'}\n",
      "{'name': '김길숙', 'gender': '여자', 'academy': 'MBC'}\n"
     ]
    }
   ],
   "source": [
    "person1 = {'name':'홍길동', 'gender':'남자', 'academy':'MBC'}\n",
    "person2 = {'name':'김길숙', 'gender':'여자', 'academy':'MBC'}\n",
    "print(person1['name'], person1.get('gender'))\n",
    "person1['name'] = '홍낄뚱'\n",
    "print(person1)\n",
    "print(person2)\n",
    "# person1.my_function()"
   ]
  },
  {
   "cell_type": "code",
   "execution_count": 12,
   "id": "b4859cb8",
   "metadata": {},
   "outputs": [
    {
     "name": "stdout",
     "output_type": "stream",
     "text": [
      "MBC의 김길숙님은 여자입니다.\n",
      "MBC의 홍길동님은 남자입니다.\n",
      "MBC의 홍홍홍님은 여자입니다.\n",
      "MBC의 홍길동님은 남자입니다.\n",
      "<__main__.Person object at 0x000002D787399C60>\n"
     ]
    }
   ],
   "source": [
    "class Person:\n",
    "    academy = 'MBC'  # 클래스 변수 - static과 다르다.\n",
    "    def __init__(this, name, gender):    # self - this와 같다, 안넣으면 error\n",
    "        this.name = name\n",
    "        this.gender = gender\n",
    "    def print_info(self):\n",
    "        print(\"{}의 {}님은 {}입니다.\".format(self.academy, self.name,self.gender))\n",
    "        \n",
    "p1 = Person(\"김길숙\", '여자')  # 객체변수(인스턴스) 생성\n",
    "p1.print_info()\n",
    "p2 = Person(\"홍길동\", '남자')\n",
    "p2.print_info()\n",
    "p1.name = \"홍홍홍\"\n",
    "p1.print_info()\n",
    "p2.print_info()\n",
    "print(p1)"
   ]
  },
  {
   "cell_type": "code",
   "execution_count": null,
   "id": "306127fc",
   "metadata": {},
   "outputs": [],
   "source": [
    "p2.academy = 'SBS'\n",
    "p2.print_info()\n",
    "p1.print_info()"
   ]
  },
  {
   "cell_type": "markdown",
   "id": "86eabe69",
   "metadata": {},
   "source": [
    "# 1절 객체와 클래스\n",
    "```\n",
    "class 클래스명(상속받을 클래스명):\n",
    "    \"독스트링\"\n",
    "    변수나 함수들을 선언\n",
    "```"
   ]
  },
  {
   "cell_type": "code",
   "execution_count": 17,
   "id": "53b8dd68",
   "metadata": {},
   "outputs": [
    {
     "data": {
      "text/plain": [
       "__main__.Person"
      ]
     },
     "execution_count": 17,
     "metadata": {},
     "output_type": "execute_result"
    }
   ],
   "source": [
    "class Person:\n",
    "    \"Person 클래스에 대한 설명... 여러줄 설명하는 독스트링\"\n",
    "    pass\n",
    "#     def __init__(self, name):\n",
    "#         pass\n",
    "p1 = Person()\n",
    "type(p1)"
   ]
  },
  {
   "cell_type": "code",
   "execution_count": 18,
   "id": "503f5c2e",
   "metadata": {},
   "outputs": [
    {
     "name": "stdout",
     "output_type": "stream",
     "text": [
      "<__main__.Person object at 0x000002D78734F940>\n",
      "<__main__.Person object at 0x000002D78734F940>\n"
     ]
    }
   ],
   "source": [
    "print(p1)  # <__main__.Person object at 0x000002D787399CF0> 해시함수가 적용된16진 값\n",
    "print(p1.__str__())   # Object로부터 상속받은 __str__()"
   ]
  },
  {
   "cell_type": "code",
   "execution_count": 19,
   "id": "c2b6128d",
   "metadata": {},
   "outputs": [
    {
     "data": {
      "text/plain": [
       "True"
      ]
     },
     "execution_count": 19,
     "metadata": {},
     "output_type": "execute_result"
    }
   ],
   "source": [
    "isinstance(p1, Person)"
   ]
  },
  {
   "cell_type": "code",
   "execution_count": 20,
   "id": "a7e0c4e4",
   "metadata": {},
   "outputs": [
    {
     "data": {
      "text/plain": [
       "'Person 클래스에 대한 설명... 여러줄 설명'"
      ]
     },
     "execution_count": 20,
     "metadata": {},
     "output_type": "execute_result"
    }
   ],
   "source": [
    "p1.__doc__"
   ]
  },
  {
   "cell_type": "markdown",
   "id": "340a1d3e",
   "metadata": {},
   "source": [
    "# 2절 생성자(`__init__()`)와 소멸자(`__del__()`)\n",
    "\n",
    "- 생성자 : __init__(self, 매개변수1,[매개변수2...]) 객체가 생성될 때 자동 실행\n",
    "         객체 생성시 필요한 코드(인스턴스 변수 생성과 초기화)를 포함한다.\n",
    "- 소멸자 : __del__(self) - 객체가 소멸될 때 자동 실행\n",
    "         객체 소멸시 필요한 코드를 포함\n",
    "         인스턴스(객체)의 레퍼런스 카운트가 0이 될 때 실행"
   ]
  },
  {
   "cell_type": "code",
   "execution_count": 27,
   "id": "f520d97b",
   "metadata": {},
   "outputs": [],
   "source": [
    "class Person:\n",
    "    def __init__(self, name, gender):\n",
    "        self.name = name   # 인스턴스 변수를 초기화\n",
    "        self.gender = gender\n",
    "        print(\"Person형 객체를 생성\")\n",
    "    def __del__(self):\n",
    "        print(\"Person형 객체 소멸\")\n",
    "    def print_info(self):\n",
    "        print(\"{}님은 {}입니다.\".format(self.name, self.gender))\n",
    "    def __str__(self):     # 함수 재정의-오버라이딩\n",
    "        return \"{}님은 {}입니다.\".format(self.name, self.gender)"
   ]
  },
  {
   "cell_type": "code",
   "execution_count": 28,
   "id": "34345e07",
   "metadata": {},
   "outputs": [
    {
     "name": "stdout",
     "output_type": "stream",
     "text": [
      "Person형 객체를 생성\n"
     ]
    }
   ],
   "source": [
    "p1 = Person(\"신사임당\",\"여자\")"
   ]
  },
  {
   "cell_type": "code",
   "execution_count": 29,
   "id": "b6e2c8db",
   "metadata": {},
   "outputs": [
    {
     "name": "stdout",
     "output_type": "stream",
     "text": [
      "신사임당님은 여자입니다.\n"
     ]
    }
   ],
   "source": [
    "p1.print_info()"
   ]
  },
  {
   "cell_type": "code",
   "execution_count": 30,
   "id": "b953a601",
   "metadata": {},
   "outputs": [
    {
     "name": "stdout",
     "output_type": "stream",
     "text": [
      "신사임당님은 여자입니다.\n",
      "신사임당님은 여자입니다.\n"
     ]
    }
   ],
   "source": [
    "print(p1)\n",
    "print(p1.__str__())"
   ]
  },
  {
   "cell_type": "code",
   "execution_count": 31,
   "id": "12951758",
   "metadata": {},
   "outputs": [
    {
     "data": {
      "text/plain": [
       "(__main__.Person, True)"
      ]
     },
     "execution_count": 31,
     "metadata": {},
     "output_type": "execute_result"
    }
   ],
   "source": [
    "type(p1), isinstance(p1, Person)"
   ]
  },
  {
   "cell_type": "code",
   "execution_count": 32,
   "id": "7a0539f5",
   "metadata": {},
   "outputs": [
    {
     "name": "stdout",
     "output_type": "stream",
     "text": [
      "Person형 객체 소멸\n"
     ]
    }
   ],
   "source": [
    "del p1"
   ]
  },
  {
   "cell_type": "code",
   "execution_count": 33,
   "id": "11462fdc",
   "metadata": {},
   "outputs": [
    {
     "name": "stdout",
     "output_type": "stream",
     "text": [
      "Person형 객체를 생성\n"
     ]
    }
   ],
   "source": [
    "p2 = Person(\"홍길동\",\"남자\")"
   ]
  },
  {
   "cell_type": "code",
   "execution_count": 34,
   "id": "12223a98",
   "metadata": {},
   "outputs": [],
   "source": [
    "p3 = p2"
   ]
  },
  {
   "cell_type": "code",
   "execution_count": 35,
   "id": "e5f39880",
   "metadata": {},
   "outputs": [],
   "source": [
    "del p2"
   ]
  },
  {
   "cell_type": "code",
   "execution_count": 36,
   "id": "de87add8",
   "metadata": {},
   "outputs": [
    {
     "name": "stdout",
     "output_type": "stream",
     "text": [
      "Person형 객체 소멸\n"
     ]
    }
   ],
   "source": [
    "del p3"
   ]
  },
  {
   "cell_type": "markdown",
   "id": "0174e8af",
   "metadata": {},
   "source": [
    "**오버라이딩(함수의 재정의)\n",
    "- 파이썬은 **오버로딩(함수의 중복정의) 불가\n",
    "- 생성자함수 **오버로딩(함수의 중복정의) 불가"
   ]
  },
  {
   "cell_type": "code",
   "execution_count": null,
   "id": "0b1622e5",
   "metadata": {},
   "outputs": [],
   "source": [
    "def add(a, b):\n",
    "    return a+b"
   ]
  },
  {
   "cell_type": "code",
   "execution_count": 53,
   "id": "2709160b",
   "metadata": {},
   "outputs": [],
   "source": [
    "class Person:\n",
    "    \n",
    "    # 생성자함수의 오버로딩 불가, 대신 기본값을 갖는 매개변수 이용\n",
    "    def __init__(self, name='홍길동', gender=\"남자\"):\n",
    "        self.name = name   # 인스턴스 변수를 초기화\n",
    "        self.gender = gender\n",
    "        print(\"Person형 객체를 생성\")\n",
    "#     def __init__(self, name):\n",
    "#         self.name = name\n",
    "#         self.gender = \"남자\"\n",
    "        \n",
    "#     def __del__(self):\n",
    "#         print(\"Person형 객체 소멸\")\n",
    "    def print_info(self):\n",
    "        print(\"{}님은 {}입니다.\".format(self.name, self.gender))\n",
    "    def __str__(self):     # 함수 재정의-오버라이딩\n",
    "        return \"{}님은 {}입니다.\".format(self.name, self.gender)"
   ]
  },
  {
   "cell_type": "code",
   "execution_count": 55,
   "id": "4ef5d8b8",
   "metadata": {},
   "outputs": [
    {
     "name": "stdout",
     "output_type": "stream",
     "text": [
      "Person형 객체를 생성\n",
      "Person형 객체를 생성\n",
      "Person형 객체를 생성\n",
      "Person형 객체를 생성\n",
      "Person형 객체를 생성\n",
      "p1= 홍길동님은 남자입니다.\n",
      "p2= 강감찬님은 남자입니다.\n",
      "p3= 홍길동님은 남자입니다.\n",
      "p4= 홍길동님은 여자입니다.\n",
      "p5= 홍이쁨님은 여자입니다.\n"
     ]
    }
   ],
   "source": [
    "p1 = Person(\"홍길동\", \"남자\")\n",
    "p2 = Person(\"강감찬\")\n",
    "p3 = Person()\n",
    "p4 = Person(gender=\"여자\")\n",
    "p5 = Person(gender=\"여자\",name=\"홍이쁨\")\n",
    "print('p1=', p1)\n",
    "print('p2=', p2)\n",
    "print('p3=', p3)\n",
    "print('p4=', p4)\n",
    "print('p5=', p5)\n"
   ]
  },
  {
   "cell_type": "markdown",
   "id": "0a886b5d",
   "metadata": {},
   "source": [
    "# 3절 변수와 메소드(함수)\n",
    "\n",
    "- 인스턴스변수 vs 클래스변수 vs static변수(정적변수)\n",
    "- 인스턴스메소드(self) vs 클래스메소드(cls) vs static메소드()"
   ]
  },
  {
   "cell_type": "code",
   "execution_count": 62,
   "id": "94bd20a6",
   "metadata": {},
   "outputs": [
    {
     "name": "stdout",
     "output_type": "stream",
     "text": [
      "MBC\n",
      "p1객체변수(인스턴스) = MBC의 홍길동님은 남자입니다.\n",
      "p2객체변수(인스턴스) = MBC의 홍길동님은 남자입니다.\n",
      "p1객체변수(인스턴스) = SBS의 홍길동님은 남자입니다.\n",
      "p2객체변수(인스턴스) = 안드로메다의 홍길동님은 남자입니다.\n"
     ]
    }
   ],
   "source": [
    "# 클래스 변수는 클래스 내부에 선언되명, 생성된 모든 인스턴스(객체)에 동일한 값을 가진다.\n",
    "# 인스턴스(객체). 클래스 변수로 수정하면 해당 인스턴스(객체)만 반영\n",
    "# 클래스명.클래스변수로 수정하면 모든 인스턴스에 반영\n",
    "class Person:\n",
    "    academy = 'MBC'     # 클래스변수\n",
    "    def __init__(self, name=\"홍길동\", gender=\"남자\"):   # 생성자함수\n",
    "        self.name = name  \n",
    "        self.gender = gender\n",
    "    def __str__(self):\n",
    "        return \"{}의 {}님은 {}입니다.\".format(self.academy, self.name, self.gender)\n",
    "        \n",
    "print(Person.academy)\n",
    "p1 = Person()\n",
    "p2 = Person()\n",
    "print('p1객체변수(인스턴스) =', p1)\n",
    "print('p2객체변수(인스턴스) =', p2)\n",
    "p1.academy = \"SBS\"         # 인스턴스.클래스변수로 수정하면 해당 인스턴스(객체)만 반영\n",
    "Person.academy = \"안드로메다\"    # 클래스명.클래스변수로 수정하면 모든 인스턴스에 반영\n",
    "print('p1객체변수(인스턴스) =', p1)\n",
    "print('p2객체변수(인스턴스) =', p2)\n",
    "# print(Person.__str__())  # error  "
   ]
  },
  {
   "cell_type": "markdown",
   "id": "1cd5b2a2",
   "metadata": {},
   "source": [
    "※ 인스턴스 메소드 vs 클래스 메소드 vs static 메소드\n",
    "- 인스턴스메소드 : 첫번째 인자에 self를 꼭 명시. 객체를 통해서만 호출할 수 있는 메소드\n",
    "- 클래스메소드 : 메소드 위에 @classmethod를 명시. 첫번째 인자에 clz(cls)를 명시\n",
    "- static메소드 : 메소드 위에 @staticmethod를 명시.  디폴트 인자 없음"
   ]
  },
  {
   "cell_type": "markdown",
   "id": "72c4a53e",
   "metadata": {},
   "source": [
    "```\n",
    "구분\t            클래스 메소드\t                정적 메소드\n",
    "===================================================================\n",
    "데코레이터\t      @classmethod\t              @staticmethod\n",
    "첫 인자\t       cls (클래스) 자동 전달\t       없음\n",
    "접근 가능 대상\t 클래스 변수/메소드\t            아무 것도 없음 (오직 전달된 인자만)\n",
    "주 사용처\t      대체 생성자, 클래스 상태 관리\t   단순 유틸리티 함수\n",
    "```"
   ]
  },
  {
   "cell_type": "code",
   "execution_count": 76,
   "id": "cdbb35d7",
   "metadata": {},
   "outputs": [],
   "source": [
    "class Person:\n",
    "    academy = 'MBC'    # 클래스변수\n",
    "    def __init__(self, name=\"홍길동\", gender=\"남자\"):\n",
    "        self.name = name\n",
    "        self.gender = gender\n",
    "    def print_info(self):    # 인스턴스메소드 : 객체변수.print_info()로 호출\n",
    "        print(\"일반(인스턴스)메소드 - {}의 {}님은 {}입니다\".format(self.academy,\n",
    "                                                     self.name, self.gender))        \n",
    "    def change_info(self,name=\"익명\", gender='여자'):\n",
    "        self.name = name\n",
    "        self.gender = gender\n",
    "        print(\"일반(인스턴스)메소드를 통해 {}로 이름변경. {}로 성별변경\".format(self.name, self.gender))\n",
    "        \n",
    "    @classmethod\n",
    "    def do_(clz):   # clz => Person의미. 클래스 변수를 이용한 로직\n",
    "        clz.academy = 'classAcademy'\n",
    "        print(\"클래스 메소드에서 {}로 클래스변수 변경\".format(clz.academy))        \n",
    "    @classmethod\n",
    "    def done_(clz, academy):   # clz => Person의미. 클래스 변수를 이용한 로직\n",
    "        clz.academy = academy\n",
    "        print(\"클래스 메소드에서 {}로 클래스변수 변경\".format(clz.academy))\n",
    "    @staticmethod\n",
    "    def that_():     # 클래스변수보다는 로직이 우선일 경우\n",
    "        Person.academy = \"staticAcademy\"\n",
    "        print(\"static 메소드에서 {}로 클래스변수 변경\".format(Person.academy))"
   ]
  },
  {
   "cell_type": "code",
   "execution_count": 77,
   "id": "5f4fc2e6",
   "metadata": {},
   "outputs": [
    {
     "name": "stdout",
     "output_type": "stream",
     "text": [
      "일반(인스턴스)메소드 - MBC의 홍길동님은 남자입니다\n"
     ]
    }
   ],
   "source": [
    "p1 = Person()\n",
    "p1.print_info()"
   ]
  },
  {
   "cell_type": "code",
   "execution_count": 78,
   "id": "dfb3877e",
   "metadata": {},
   "outputs": [
    {
     "name": "stdout",
     "output_type": "stream",
     "text": [
      "static 메소드에서 staticAcademy로 클래스변수 변경\n"
     ]
    }
   ],
   "source": [
    "Person.that_()"
   ]
  },
  {
   "cell_type": "code",
   "execution_count": 79,
   "id": "bd52ad99",
   "metadata": {},
   "outputs": [
    {
     "name": "stdout",
     "output_type": "stream",
     "text": [
      "일반(인스턴스)메소드 - staticAcademy의 홍길동님은 남자입니다\n"
     ]
    }
   ],
   "source": [
    "p1.print_info()"
   ]
  },
  {
   "cell_type": "code",
   "execution_count": 80,
   "id": "ff1b55fe",
   "metadata": {},
   "outputs": [
    {
     "name": "stdout",
     "output_type": "stream",
     "text": [
      "일반(인스턴스)메소드를 통해 익명로 이름변경. 여자로 성별변경\n",
      "일반(인스턴스)메소드 - staticAcademy의 익명님은 여자입니다\n"
     ]
    }
   ],
   "source": [
    "p1.change_info()\n",
    "p1.print_info()"
   ]
  },
  {
   "cell_type": "code",
   "execution_count": 81,
   "id": "49df0e8c",
   "metadata": {},
   "outputs": [
    {
     "name": "stdout",
     "output_type": "stream",
     "text": [
      "일반(인스턴스)메소드 - staticAcademy의 홍길동님은 남자입니다\n"
     ]
    }
   ],
   "source": [
    "p2 = Person()\n",
    "p2.print_info()"
   ]
  },
  {
   "cell_type": "code",
   "execution_count": 82,
   "id": "b6fee1e0",
   "metadata": {},
   "outputs": [
    {
     "name": "stdout",
     "output_type": "stream",
     "text": [
      "클래스 메소드에서 classAcademy로 클래스변수 변경\n",
      "일반(인스턴스)메소드 - classAcademy의 익명님은 여자입니다\n",
      "일반(인스턴스)메소드 - classAcademy의 홍길동님은 남자입니다\n"
     ]
    }
   ],
   "source": [
    "Person.do_()\n",
    "p1.print_info()\n",
    "p2.print_info()"
   ]
  },
  {
   "cell_type": "code",
   "execution_count": 83,
   "id": "3d594bd1",
   "metadata": {},
   "outputs": [
    {
     "name": "stdout",
     "output_type": "stream",
     "text": [
      "클래스 메소드에서 SBS로 클래스변수 변경\n",
      "일반(인스턴스)메소드 - SBS의 익명님은 여자입니다\n",
      "일반(인스턴스)메소드 - SBS의 홍길동님은 남자입니다\n"
     ]
    }
   ],
   "source": [
    "Person.done_('SBS')\n",
    "p1.print_info()\n",
    "p2.print_info()"
   ]
  },
  {
   "cell_type": "markdown",
   "id": "b81b6439",
   "metadata": {},
   "source": [
    "# 4절 상속과 재정의\n",
    "- 클래스 재사용\n",
    "- 상속을 이용하면 부모클래스의 모든 속성을 자식클래스로 물려줄 수 있음\n",
    "```\n",
    "class 자식클래스명(부모클래스명):\n",
    "생성자함수를 제외한 모든 멤버\n",
    "```"
   ]
  },
  {
   "cell_type": "code",
   "execution_count": 92,
   "id": "e4018e41",
   "metadata": {},
   "outputs": [],
   "source": [
    "class Person:\n",
    "    def __init__(self, name, gender):\n",
    "        self.name = name   # 인스턴스 변수를 초기화\n",
    "        self.gender = gender\n",
    "        print(\"Person 객체 생성합니다(부모클래스)\")    \n",
    "    def print_info(self):\n",
    "        print(self)\n",
    "    def __str__(self):     # 함수 재정의-오버라이딩\n",
    "        return \"{}님은 {}입니다.\".format(self.name, self.gender)"
   ]
  },
  {
   "cell_type": "code",
   "execution_count": 93,
   "id": "386b8242",
   "metadata": {},
   "outputs": [],
   "source": [
    "class Student(Person):\n",
    "    def __init__(self, name, gender, major):\n",
    "        self.name = name\n",
    "        self.gender = gender\n",
    "        self.major = major\n",
    "        print(\"Student 객체 생성합니다(자식클래스)\")\n",
    "    # 재정의(override) : 부모클래스에서 정의한 함수를 자식클래스에서 다시 정의\n",
    "    def __str__(self):\n",
    "        return \"{}님은 {}입니다. 전공은 {}입니다.\".format(self.name, self.gender, self.major)    "
   ]
  },
  {
   "cell_type": "code",
   "execution_count": 94,
   "id": "34523481",
   "metadata": {},
   "outputs": [
    {
     "name": "stdout",
     "output_type": "stream",
     "text": [
      "Person 객체 생성합니다(부모클래스)\n",
      "홍길동님은 남자입니다.\n",
      "True\n"
     ]
    }
   ],
   "source": [
    "p1 = Person(\"홍길동\", \"남자\")\n",
    "print(p1)\n",
    "print(isinstance(p1, Person))"
   ]
  },
  {
   "cell_type": "code",
   "execution_count": 95,
   "id": "610bd759",
   "metadata": {},
   "outputs": [
    {
     "name": "stdout",
     "output_type": "stream",
     "text": [
      "Student 객체 생성합니다(자식클래스)\n",
      "홍길동님은 남자입니다. 전공은 이종격투기입니다.\n",
      "True\n"
     ]
    }
   ],
   "source": [
    "s1 = Student(\"홍길동\", \"남자\", \"이종격투기\")\n",
    "print(s1)\n",
    "print(isinstance(s1, Student))"
   ]
  },
  {
   "cell_type": "code",
   "execution_count": 96,
   "id": "54847d5c",
   "metadata": {},
   "outputs": [
    {
     "name": "stdout",
     "output_type": "stream",
     "text": [
      "홍길동님은 남자입니다. 전공은 이종격투기입니다.\n"
     ]
    }
   ],
   "source": [
    "s1.print_info()"
   ]
  },
  {
   "cell_type": "code",
   "execution_count": 97,
   "id": "72dade4a",
   "metadata": {},
   "outputs": [
    {
     "name": "stdout",
     "output_type": "stream",
     "text": [
      "True\n",
      "True\n"
     ]
    }
   ],
   "source": [
    "print(isinstance(s1, Student))\n",
    "print(isinstance(s1, Person))"
   ]
  },
  {
   "cell_type": "markdown",
   "id": "a4b59e6b",
   "metadata": {},
   "source": [
    "### super() 이용\n",
    "- super() : \"부모클래스의\"를 의미"
   ]
  },
  {
   "cell_type": "code",
   "execution_count": 98,
   "id": "37662f8a",
   "metadata": {},
   "outputs": [],
   "source": [
    "class Person:\n",
    "    def __init__(self, name, gender):\n",
    "        self.name = name   # 인스턴스 변수를 초기화\n",
    "        self.gender = gender\n",
    "        print(\"Person 객체 생성합니다(부모클래스)\")    \n",
    "    def print_info(self):\n",
    "        print(self)\n",
    "    def __str__(self):     # 함수 재정의-오버라이딩\n",
    "        return \"{}님은 {}입니다\".format(self.name, self.gender)\n",
    "    \n",
    "class Student(Person):\n",
    "    def __init__(self, name, gender, major):\n",
    "        super().__init__(name, gender)\n",
    "        self.major = major\n",
    "        print(\"Student 객체 생성합니다(자식클래스)\")\n",
    "    # 재정의(override) : 부모클래스에서 정의한 함수를 자식클래스에서 다시 정의\n",
    "    def __str__(self):\n",
    "        return super().__str__()+\". 전공은 {}입니다.\".format(self.major)  "
   ]
  },
  {
   "cell_type": "code",
   "execution_count": 101,
   "id": "1b266bc5",
   "metadata": {},
   "outputs": [
    {
     "name": "stdout",
     "output_type": "stream",
     "text": [
      "Person 객체 생성합니다(부모클래스)\n",
      "Student 객체 생성합니다(자식클래스)\n",
      "아무개님은 여자입니다. 전공은 AI입니다.\n",
      "아무개님은 여자입니다. 전공은 AI입니다.\n"
     ]
    }
   ],
   "source": [
    "s2 = Student(\"아무개\",\"여자\",\"AI\")\n",
    "print(s2)\n",
    "s2.print_info()"
   ]
  },
  {
   "cell_type": "markdown",
   "id": "598d1095",
   "metadata": {},
   "source": [
    "### static 변수(정적변수): 여러 객체들 사이에 데이터를 공유하고 싶을 때 사용\n",
    "- static변수 : 팡게 under score2개(__) 붙임. 클래스명._클래스명__static변수명으로 참조\n",
    "- static변수는 클래스 내부에서만 접근하도록 하려는 용도"
   ]
  },
  {
   "cell_type": "code",
   "execution_count": 102,
   "id": "574b79a5",
   "metadata": {},
   "outputs": [],
   "source": [
    "class Student(Person):\n",
    "    'name, gender에 major변수를 갖는 Student 타입. Student객체를 몇번 생성되어 있는지 공유'\n",
    "    __count = 0     # static변수\n",
    "    def __init__(self, name, gender, major):\n",
    "        super().__init__(name, gender)\n",
    "        self.major = major\n",
    "        Student._Student__count +=1   # 객체가 생성될 때마다 __count 1 증가\n",
    "    def __del__(self):\n",
    "        Student._Student__count -=1   # 객체가 소멸될 때마다 __count 1 감소\n",
    "    def __str__(self):\n",
    "        return super().__str__() + \", 전공은 {} - 객체 {} 생성\".format(self.major,\n",
    "                                                        Student._Student__count)\n",
    "    @classmethod\n",
    "    def get_count(cls):     # 클래스변수나 static 변수를 이용하는 로직\n",
    "        # return cls.__count\n",
    "        return Student._Student__count"
   ]
  },
  {
   "cell_type": "code",
   "execution_count": 103,
   "id": "02f853a2",
   "metadata": {},
   "outputs": [
    {
     "name": "stdout",
     "output_type": "stream",
     "text": [
      "Person 객체 생성합니다(부모클래스)\n",
      "홍길동님은 남자입니다, 전공은 컴공 - 객체 1 생성\n",
      "객체 갯수 : 1\n",
      "객체 갯수 : 1\n"
     ]
    }
   ],
   "source": [
    "s1 = Student(\"홍길동\",\"남자\",\"컴공\")\n",
    "print(s1)\n",
    "print(\"객체 갯수 :\",Student.get_count())\n",
    "print(\"객체 갯수 :\",s1.get_count())      # 클래스 메소드는 클래스명.클래스메소드() 추천"
   ]
  },
  {
   "cell_type": "code",
   "execution_count": 104,
   "id": "612b0f8c",
   "metadata": {},
   "outputs": [
    {
     "name": "stdout",
     "output_type": "stream",
     "text": [
      "Person 객체 생성합니다(부모클래스)\n",
      "홍길숙님은 여자입니다, 전공은 컴공 - 객체 2 생성\n",
      "객체 갯수 : 2\n"
     ]
    }
   ],
   "source": [
    "s2 = Student(\"홍길숙\",\"여자\",\"컴공\")\n",
    "print(s2)\n",
    "print(\"객체 갯수 :\",Student.get_count())"
   ]
  },
  {
   "cell_type": "code",
   "execution_count": 105,
   "id": "f8b431e6",
   "metadata": {},
   "outputs": [
    {
     "name": "stdout",
     "output_type": "stream",
     "text": [
      "객체 갯수 : 1\n"
     ]
    }
   ],
   "source": [
    "del s1\n",
    "print(\"객체 갯수 :\",Student.get_count())"
   ]
  },
  {
   "cell_type": "code",
   "execution_count": 106,
   "id": "f7bd007d",
   "metadata": {},
   "outputs": [
    {
     "name": "stdout",
     "output_type": "stream",
     "text": [
      "객체 갯수 : 0\n"
     ]
    }
   ],
   "source": [
    "del s2\n",
    "print(\"객체 갯수 :\",Student.get_count())"
   ]
  },
  {
   "cell_type": "markdown",
   "id": "7c197d6c",
   "metadata": {},
   "source": [
    "# 5절 연습문제\n",
    "### 실습형"
   ]
  },
  {
   "cell_type": "code",
   "execution_count": null,
   "id": "e218af36",
   "metadata": {},
   "outputs": [],
   "source": [
    "# 1. 다음 조건을 만족하는 클래스를 작성하세요\n",
    "# 도형(Shape)클래스와 삼각형(Triangle) 클래스를 만들어야 합니다.\n",
    "\n",
    "# 도형(Shape)클래스\n",
    "# 생성자를 통해 x, y좌표를 초기화할 수 있습니다. x, y좌표의 기본값은 0, 0입니다.\n",
    "# x, y좌표를 이동시킬 수 있는 move 함수가 있습니다.\n",
    "# x, y좌표값 정보를 문자열로 리턴하는 __str__ 함수가 있습니다\n",
    "# 도형의 면적을 구하는 함수(calc_area)가 있습니다. 다만 도형 클래스의  calc_area()는 \n",
    "# 구현되어 있지 않아 호출하면 오류가 발생합니다(파이썬은 추상메소드가 없음. 추상메소드 역할을 구현)\n",
    "# 정적메소드(staticmethod)를 하나 이상 구현합니다.\n",
    "\n",
    "# ‘삼각형(Triangle)클래스는 도형(Shape)클래스이다’관계가 성립해야 합니다\n",
    "# 생성자를 통해, width, height, x, y좌표를 초기화하고 x, y 좌표의 기본값은 0, 0입니다\n",
    "# 삼각형의 면적을 구하는 메소드 calc_area를 재정의합니다\n",
    "# 삼각형의 정보를 문자열로 반환하는 __str__() 함수가 있습니다.\n",
    "# 삼각형 객체가 몇 개가 만들어져 있는지 정보를 저장하는 클래스 변수를 추가하고 \n",
    "# 생성자에서 객체를 만들 때마다 증가시키고 소멸자에서 객체를 소멸시킬 때마다 감소합니다."
   ]
  },
  {
   "cell_type": "code",
   "execution_count": 107,
   "id": "0b6fbfdf",
   "metadata": {},
   "outputs": [],
   "source": [
    "# 1. \n",
    "class Shape:\n",
    "    def __init__(self, x=0, y=0):\n",
    "        self.x = x\n",
    "        self.y = y\n",
    "    def move(self, dx, dy):  # x축으로 얼마 move할지, y축으로 얼마 move할지를 받아 move\n",
    "        self.x += dx\n",
    "        self.y += dy\n",
    "    def __str__(self):\n",
    "        return \"도형의 좌표는 {}, {} 입니다.\".format(self.x, self.y)\n",
    "    def cal_area(self):   # 호출시 강제로 예외발생\n",
    "        raise Exception(\"예외메세지\")\n",
    "    \n",
    "    @staticmethod\n",
    "    def staticmethod_():\n",
    "        return (0, 0)\n",
    "    "
   ]
  },
  {
   "cell_type": "code",
   "execution_count": 110,
   "id": "34bce063",
   "metadata": {},
   "outputs": [],
   "source": [
    "class Triangle(Shape):\n",
    "    count = 0\n",
    "    def __init__(self, width, height, x=0, y=0):\n",
    "        super().__init__(x,y)\n",
    "        self.width = width\n",
    "        self.height = height\n",
    "        Triangle.count +=1\n",
    "        \n",
    "    def __del__(self):\n",
    "        Triangle.count -=1\n",
    "        \n",
    "    def cal_area(self):   # 호출시 강제로 예외발생\n",
    "        return self.width*self.height*0.5\n",
    "    \n",
    "    def __str__(self):\n",
    "        return (f\"Triangle(width={self.width}, heigth={self.height},\"\n",
    "                f\"position=({self.x},{self.y}), area={self.calc_area()})\")\n",
    "    \n",
    "    @classmethod\n",
    "    def get_count(cls):\n",
    "        '''현재 Triangle 객체 개수를 반환'''\n",
    "        return cls.count"
   ]
  },
  {
   "cell_type": "code",
   "execution_count": 112,
   "id": "ea60a0c7",
   "metadata": {},
   "outputs": [
    {
     "ename": "AttributeError",
     "evalue": "'Triangle' object has no attribute 'calc_area'",
     "output_type": "error",
     "traceback": [
      "\u001b[1;31m---------------------------------------------------------------------------\u001b[0m",
      "\u001b[1;31mAttributeError\u001b[0m                            Traceback (most recent call last)",
      "Cell \u001b[1;32mIn[112], line 5\u001b[0m\n\u001b[0;32m      2\u001b[0m t1 \u001b[38;5;241m=\u001b[39m Triangle(\u001b[38;5;241m10\u001b[39m, \u001b[38;5;241m5\u001b[39m)\n\u001b[0;32m      3\u001b[0m t2 \u001b[38;5;241m=\u001b[39m Triangle(\u001b[38;5;241m6\u001b[39m, \u001b[38;5;241m4\u001b[39m, \u001b[38;5;241m2\u001b[39m, \u001b[38;5;241m3\u001b[39m)\n\u001b[1;32m----> 5\u001b[0m \u001b[38;5;28;43mprint\u001b[39;49m\u001b[43m(\u001b[49m\u001b[43mt1\u001b[49m\u001b[43m)\u001b[49m  \u001b[38;5;66;03m# Triangle(width=10, height=5, position=(0, 0), area=25.0)\u001b[39;00m\n\u001b[0;32m      6\u001b[0m \u001b[38;5;28mprint\u001b[39m(t2)\n",
      "Cell \u001b[1;32mIn[110], line 17\u001b[0m, in \u001b[0;36mTriangle.__str__\u001b[1;34m(self)\u001b[0m\n\u001b[0;32m     15\u001b[0m \u001b[38;5;28;01mdef\u001b[39;00m \u001b[38;5;21m__str__\u001b[39m(\u001b[38;5;28mself\u001b[39m):\n\u001b[0;32m     16\u001b[0m     \u001b[38;5;28;01mreturn\u001b[39;00m (\u001b[38;5;124mf\u001b[39m\u001b[38;5;124m\"\u001b[39m\u001b[38;5;124mTriangle(width=\u001b[39m\u001b[38;5;132;01m{\u001b[39;00m\u001b[38;5;28mself\u001b[39m\u001b[38;5;241m.\u001b[39mwidth\u001b[38;5;132;01m}\u001b[39;00m\u001b[38;5;124m, heigth=\u001b[39m\u001b[38;5;132;01m{\u001b[39;00m\u001b[38;5;28mself\u001b[39m\u001b[38;5;241m.\u001b[39mheight\u001b[38;5;132;01m}\u001b[39;00m\u001b[38;5;124m,\u001b[39m\u001b[38;5;124m\"\u001b[39m\n\u001b[1;32m---> 17\u001b[0m             \u001b[38;5;124mf\u001b[39m\u001b[38;5;124m\"\u001b[39m\u001b[38;5;124mposition=(\u001b[39m\u001b[38;5;132;01m{\u001b[39;00m\u001b[38;5;28mself\u001b[39m\u001b[38;5;241m.\u001b[39mx\u001b[38;5;132;01m}\u001b[39;00m\u001b[38;5;124m,\u001b[39m\u001b[38;5;132;01m{\u001b[39;00m\u001b[38;5;28mself\u001b[39m\u001b[38;5;241m.\u001b[39my\u001b[38;5;132;01m}\u001b[39;00m\u001b[38;5;124m), area=\u001b[39m\u001b[38;5;132;01m{\u001b[39;00m\u001b[38;5;28mself\u001b[39m\u001b[38;5;241m.\u001b[39mcalc_area()\u001b[38;5;132;01m}\u001b[39;00m\u001b[38;5;124m)\u001b[39m\u001b[38;5;124m\"\u001b[39m)\n",
      "\u001b[1;31mAttributeError\u001b[0m: 'Triangle' object has no attribute 'calc_area'"
     ]
    }
   ],
   "source": [
    "# 객체 생성\n",
    "t1 = Triangle(10, 5)\n",
    "t2 = Triangle(6, 4, 2, 3)\n",
    "\n",
    "print(t1)  # Triangle(width=10, height=5, position=(0, 0), area=25.0)\n",
    "print(t2)  # Triangle(width=6, height=4, position=(2, 3), area=12.0)\n",
    "\n",
    "# print(\"현재 삼각형 개수:\", Triangle.get_count())  # 2\n",
    "\n",
    "# # 이동\n",
    "# t1.move(3, 2)\n",
    "# print(t1)  # 위치가 (3, 2)로 변경됨\n",
    "\n",
    "# # 원점 확인 (정적 메소드 사용)\n",
    "# print(\"원점:\", Shape.origin())  # (0, 0)\n",
    "\n",
    "# # 객체 삭제\n",
    "# del t1\n",
    "# print(\"현재 삼각형 개수:\", Triangle.get_count())  # 1\n"
   ]
  },
  {
   "cell_type": "markdown",
   "id": "0e6820c1",
   "metadata": {},
   "source": [
    "### 서술형"
   ]
  },
  {
   "cell_type": "code",
   "execution_count": null,
   "id": "0fa09e66",
   "metadata": {},
   "outputs": [],
   "source": [
    "# 1 (1)\n",
    "# 2 (2)\n",
    "# 3 (4)\n",
    "# 4 (1)\n",
    "# 5 (2)\n",
    "# 6 (3)\n",
    "# 7 (3)"
   ]
  },
  {
   "cell_type": "code",
   "execution_count": null,
   "id": "e70e0051",
   "metadata": {},
   "outputs": [],
   "source": [
    "# 8.\n",
    "class Super:\n",
    "    def do_(self, a):\n",
    "        print(\"super.do_ :\")\n",
    "        \n",
    "class Sub(Super):\n",
    "    def do_(self, a):\n",
    "        super().do_(a)\n",
    "        print(\"sub.do_ :\")"
   ]
  },
  {
   "cell_type": "code",
   "execution_count": null,
   "id": "ddf7f3d4",
   "metadata": {},
   "outputs": [],
   "source": [
    "s1 = Sub()\n",
    "s1.do_(10)"
   ]
  },
  {
   "cell_type": "code",
   "execution_count": null,
   "id": "499cd7b9",
   "metadata": {},
   "outputs": [],
   "source": [
    "# 9 (2)\n",
    "class Person:\n",
    "    \"9번 서술형 연습문제\"\n",
    "    def __init__(self, name, gender):\n",
    "        self.name = name\n",
    "        self.gender = gender\n",
    "    def __str__(self):\n",
    "        return \"이름은 \"+self.name\n",
    "    def print_info(self):\n",
    "        print(self.name)\n",
    "p = Person(\"홍길동\", \"남자\")\n",
    "print(p.__dict__) # 객체를 딕셔너리형태로 "
   ]
  },
  {
   "cell_type": "code",
   "execution_count": null,
   "id": "2c08e9f0",
   "metadata": {},
   "outputs": [],
   "source": []
  }
 ],
 "metadata": {
  "kernelspec": {
   "display_name": "Python 3 (ipykernel)",
   "language": "python",
   "name": "python3"
  },
  "language_info": {
   "codemirror_mode": {
    "name": "ipython",
    "version": 3
   },
   "file_extension": ".py",
   "mimetype": "text/x-python",
   "name": "python",
   "nbconvert_exporter": "python",
   "pygments_lexer": "ipython3",
   "version": "3.10.9"
  },
  "toc": {
   "base_numbering": 1,
   "nav_menu": {},
   "number_sections": false,
   "sideBar": true,
   "skip_h1_title": false,
   "title_cell": "Table of Contents",
   "title_sidebar": "Contents",
   "toc_cell": false,
   "toc_position": {
    "height": "calc(100% - 180px)",
    "left": "10px",
    "top": "150px",
    "width": "165px"
   },
   "toc_section_display": true,
   "toc_window_display": true
  }
 },
 "nbformat": 4,
 "nbformat_minor": 5
}
