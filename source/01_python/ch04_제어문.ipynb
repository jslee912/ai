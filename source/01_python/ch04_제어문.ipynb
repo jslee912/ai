{
 "cells": [
  {
   "cell_type": "code",
   "execution_count": 1,
   "id": "83fb51f6",
   "metadata": {},
   "outputs": [
    {
     "data": {
      "text/html": [
       "\n",
       "<style>\n",
       "div.container{width:90% !important;} \n",
       "div.cell.code_cell.rendered{width:100%;} \n",
       "div.input_prompt{padding:0px;}\n",
       "div.CodeMirror {font-family:Consolas; font-size:14pt;} \n",
       "div.text_cell_render.rendered_html{font-size:14pt;} \n",
       "div.output {font-size:14pt; font-weight:bold;} \n",
       "div.input {font-family:Consolas; font-size:14pt;} \n",
       "div.prompt {min-width:70px;}\n",
       "div#toc-wrapper{padding-top:120px;} \n",
       "div.text_cell_render ul li{font-size:12pt;padding:5px;} \n",
       "table.dataframe{font-size:12px;}\n",
       "</style>\n"
      ],
      "text/plain": [
       "<IPython.core.display.HTML object>"
      ]
     },
     "metadata": {},
     "output_type": "display_data"
    }
   ],
   "source": [
    "from IPython.display import display, HTML\n",
    "display(HTML(\"\"\"\n",
    "<style>\n",
    "div.container{width:90% !important;} \n",
    "div.cell.code_cell.rendered{width:100%;} \n",
    "div.input_prompt{padding:0px;}\n",
    "div.CodeMirror {font-family:Consolas; font-size:14pt;} \n",
    "div.text_cell_render.rendered_html{font-size:14pt;} \n",
    "div.output {font-size:14pt; font-weight:bold;} \n",
    "div.input {font-family:Consolas; font-size:14pt;} \n",
    "div.prompt {min-width:70px;}\n",
    "div#toc-wrapper{padding-top:120px;} \n",
    "div.text_cell_render ul li{font-size:12pt;padding:5px;} \n",
    "table.dataframe{font-size:12px;}\n",
    "</style>\n",
    "\"\"\"))"
   ]
  },
  {
   "cell_type": "markdown",
   "id": "23cc8f79",
   "metadata": {},
   "source": [
    "<b><font size=\"6\" color=\"red\">ch04. 제어문</font></b>\n",
    "- 조건문 : if 문\n",
    "- 반복문 : for문(반복횟수), while문(조건이 만족할때까지)\n",
    "**모두 중첩 가능**\n",
    "# 1절 조건문(if)\n",
    "```\n",
    "if 조건1: \n",
    "    조건1이 True일 경우 수행할 명령어들(들여쓰기 중요(일정하게). if절 단독 가능)\n",
    "elif 조건2:\n",
    "    조건1이 False이고, 조건2가 True일 경우 수행할 명령어들\n",
    "else:\n",
    "    모든 조건이 False일 경우 수행할 명령어들(elif나 else는 단독 사용 불가)    \n",
    "```"
   ]
  },
  {
   "cell_type": "code",
   "execution_count": 2,
   "id": "d8e3e81e",
   "metadata": {},
   "outputs": [
    {
     "name": "stdout",
     "output_type": "stream",
     "text": [
      "Enter your score >88\n",
      "분발하세요\n",
      "뭐 그대로 고생하셨어요\n"
     ]
    }
   ],
   "source": [
    "score = int(input('Enter your score >'))\n",
    "if score>=90:\n",
    "    print('참 잘했어요')\n",
    "    print('다음에도 기대할께요')\n",
    "elif score>=60:\n",
    "    print('분발하세요')\n",
    "    print('뭐 그대로 고생하셨어요')\n",
    "else:\n",
    "    print('재시험 응시하셔야 합니다.')\n",
    "    print('화이팅')"
   ]
  },
  {
   "cell_type": "code",
   "execution_count": 3,
   "id": "22a1f220",
   "metadata": {},
   "outputs": [
    {
     "name": "stdout",
     "output_type": "stream",
     "text": [
      "Enter your score >88\n",
      "입력하신 점수88점은 B학점\n",
      "입력하신 점수88점은 B학점\n"
     ]
    }
   ],
   "source": [
    "# ex. 점수를 입력받아 학점출력(A,B,C,D,F, 유효하지 않은 점수)\n",
    "# 입력하신 점수 85점은 B학점\n",
    "# 입력하신 점수 -1점은 유효하지 않는 점수\n",
    "score = int(input('Enter your score >'))\n",
    "if 90 <= score <= 100:\n",
    "    grade = 'A학점'\n",
    "elif 80 <= score < 90:\n",
    "    grade = 'B학점'\n",
    "elif 70 <= score < 80:\n",
    "    grade = 'C학점'\n",
    "elif 60 <= score < 70:\n",
    "    grade = 'D학점'\n",
    "elif 0 <= score < 60:\n",
    "    grade = 'D학점'\n",
    "else:\n",
    "    grade = '유효하지 않은 점수'\n",
    "print('입력하신 점수{}점은 {}'.format(score, grade))\n",
    "print(f'입력하신 점수{score}점은 {grade}')"
   ]
  },
  {
   "cell_type": "markdown",
   "id": "4f8602dd",
   "metadata": {},
   "source": [
    "# 2절 반복문\n",
    "## 2.1 for-in문\n",
    "- C언어(하드웨어제어, OS구현), Python:하드웨어제어\n",
    "- 객체지향:Java, 함수형언어:JS, Python\n",
    "```\n",
    "for 임시변수 in 나열가능한자료:\n",
    "    반복할 문장들\n",
    "else:\n",
    "    나열가능한자료를 다 소요하여 for블록을 다 수행한 후, 최종 한번 실행할 문장들\n",
    "    for문안의 break를 수행할 경우, else블록을 수행하지 않는다. (else는 선택)\n",
    "```"
   ]
  },
  {
   "cell_type": "code",
   "execution_count": 4,
   "id": "19485553",
   "metadata": {},
   "outputs": [
    {
     "name": "stdout",
     "output_type": "stream",
     "text": [
      "5\t4\t3\t2\t1\tDONE\n",
      "END\n"
     ]
    }
   ],
   "source": [
    "for i in range(5,0,-1):\n",
    "    print(i, end='\\t')\n",
    "else:\n",
    "    print('DONE')\n",
    "print('END')"
   ]
  },
  {
   "cell_type": "code",
   "execution_count": 5,
   "id": "91845506",
   "metadata": {},
   "outputs": [
    {
     "name": "stdout",
     "output_type": "stream",
     "text": [
      "0\t1\t2\t3\t4\tEND\n"
     ]
    }
   ],
   "source": [
    "for i in range(10):\n",
    "    if i==5:\n",
    "        break # 현재 반복문을 빠져나가\n",
    "    print(i, end='\\t')\n",
    "else:\n",
    "    print('\\nDONE')\n",
    "print('END')"
   ]
  },
  {
   "cell_type": "code",
   "execution_count": 6,
   "id": "b48a5367",
   "metadata": {},
   "outputs": [
    {
     "name": "stdout",
     "output_type": "stream",
     "text": [
      "1~100까지 짝수들의 합은 2550\n"
     ]
    }
   ],
   "source": [
    "# 1~100까지 짝수들의 합을 계산하고 출력하시오(for문)\n",
    "sum = 0  # 누적변수\n",
    "for i in range(1, 101):\n",
    "    if i%2==0:\n",
    "        sum += i  # sum=sum+i\n",
    "else:\n",
    "    print(\"1~100까지 짝수들의 합은\", sum)"
   ]
  },
  {
   "cell_type": "markdown",
   "id": "dc3e604c",
   "metadata": {},
   "source": [
    "## 2.2 while문\n",
    "```\n",
    "while 조건:\n",
    "    조건이 True일 경우 반복할 문장들\n",
    "else:\n",
    "    조건이 False일 경우 한번 실행할 문장들(else구문 선택사항)\n",
    "    while문내의 break 수행할 경우 else 구문은 실행되지 않음\n",
    "```"
   ]
  },
  {
   "cell_type": "code",
   "execution_count": 7,
   "id": "ada7ee71",
   "metadata": {},
   "outputs": [
    {
     "name": "stdout",
     "output_type": "stream",
     "text": [
      "1~100까지 짝수의 합은 2550\n"
     ]
    }
   ],
   "source": [
    "# 1~100까지 짝수들의 합을 계산하고 출력하시오(while문)\n",
    "sum = 0    # 누적변수\n",
    "i = 1      # i값 초기화\n",
    "while i<=100:\n",
    "    if i%2==0:\n",
    "        sum += i   # sum = sum+i\n",
    "    i += 1\n",
    "else:\n",
    "    print('1~100까지 짝수의 합은', sum)"
   ]
  },
  {
   "cell_type": "code",
   "execution_count": 73,
   "id": "1c5ec64c",
   "metadata": {},
   "outputs": [
    {
     "name": "stdout",
     "output_type": "stream",
     "text": [
      "첫번째 정수를 입력하세요.5\n",
      "두번째 정수를 입력하세요.10\n",
      "5~10까지 홀수들의 합은21\n"
     ]
    }
   ],
   "source": [
    "# ex1. 사용자에세 두 정수를 입력받아, 작은수 부터 큰수 까지 홀수의 합을 누적해서 출력\n",
    "# 두 정수를 입력\n",
    "first = int(input(\"첫번째 정수를 입력하세요.\"))\n",
    "second = int(input(\"두번째 정수를 입력하세요.\"))\n",
    "\n",
    "# 두 정수중 작은 수와 큰수\n",
    "# first에 작은값, second에 큰값\n",
    "if first > second:\n",
    "    # 바꿔\n",
    "#     temp = first\n",
    "#     first = second\n",
    "#     second = temp\n",
    "    first, second = second, first  # 파이썬\n",
    "# 누적\n",
    "sum = 0\n",
    "for i in range(first, second+1):\n",
    "    if i%2:  # (i%2==1) | (i%2==-1):\n",
    "        sum += i\n",
    "print(\"{}~{}까지 홀수들의 합은{}\".format(first, second, sum))"
   ]
  },
  {
   "cell_type": "code",
   "execution_count": 57,
   "id": "e91d208e",
   "metadata": {},
   "outputs": [
    {
     "data": {
      "text/plain": [
       "['비사기꾼']"
      ]
     },
     "execution_count": 57,
     "metadata": {},
     "output_type": "execute_result"
    }
   ],
   "source": [
    "# ex2. 로또번호 6개를 추출후, 정렬하여 출력 [45, 30, 2, 10, 12, 31]=>[2,10,12,30,31,45]\n",
    "import random\n",
    "# random.seed(3)\n",
    "# \"{:.30f}\".format(random.random())    # 0이상 1미만의 실수 난수\n",
    "# random.random()   # 0이상 1미만의 실수 난수\n",
    "random.randint(1,45)  # 1~45의 정수 난수\n",
    "# random.choice(['남자','여자'])  # 남자나 여자를 선택(확률일치)\n",
    "# random.choices(['사기꾼','비사기꾼'], weights=[0.1, 0.9])"
   ]
  },
  {
   "cell_type": "code",
   "execution_count": 70,
   "id": "58ed3c27",
   "metadata": {},
   "outputs": [
    {
     "name": "stdout",
     "output_type": "stream",
     "text": [
      "추출된 로또번호 :  [4, 10, 13, 16, 30, 41]\n"
     ]
    }
   ],
   "source": [
    "import random\n",
    "# set에 1~45 사이의 수 6개 넣기\n",
    "# set을 list로 변환\n",
    "# list의 숫자 정렬\n",
    "numbers = set()\n",
    "while len(numbers)<6:\n",
    "    numbers.add(random.randint(1,45))\n",
    "lottos = list(numbers)\n",
    "lottos.sort()\n",
    "print(\"추출된 로또번호 : \",lottos)"
   ]
  },
  {
   "cell_type": "code",
   "execution_count": 84,
   "id": "503cf2b8",
   "metadata": {},
   "outputs": [
    {
     "name": "stdout",
     "output_type": "stream",
     "text": [
      "[21, 23, 24, 38, 41, 44]\n"
     ]
    }
   ],
   "source": [
    "lotto_lst = [] # 추출된 로또번호를 담을 변수     -- 중복값 발생\n",
    "for i in range(6):\n",
    "    lotto_lst.append(random.randint(1,45))\n",
    "print(sorted(lotto_lst))"
   ]
  },
  {
   "cell_type": "code",
   "execution_count": null,
   "id": "75da5f4a",
   "metadata": {},
   "outputs": [],
   "source": [
    "lotto_lst = [] # list로 구현\n",
    "while len(lottos_lst) < 6:\n",
    "    temp = random.randint(1,45) # 임의의 수를 temp에 저장\n",
    "    if temp in lotto_lst:\n",
    "        pass\n",
    "    else:\n",
    "        lotto_lst.append(temp)\n",
    "print(sorted(lotto_lst))"
   ]
  },
  {
   "cell_type": "code",
   "execution_count": 120,
   "id": "22fafeef",
   "metadata": {},
   "outputs": [
    {
     "name": "stdout",
     "output_type": "stream",
     "text": [
      "6번 로또번호 추출함 : [30, 20, 2, 4, 33, 1]\n",
      "정렬후 : [1, 2, 4, 20, 30, 33]\n"
     ]
    }
   ],
   "source": [
    "lotto_lst = [] # list로 구현\n",
    "cnt = 0 # 임의의 수 발생 횟수\n",
    "while len(lotto_lst) < 6:\n",
    "    temp = random.randint(1,45) # 임의의 수를 temp에 저장\n",
    "    cnt +=1\n",
    "    if temp not in lotto_lst:\n",
    "        lotto_lst.append(temp)\n",
    "print(\"{}번 로또번호 추출함 : {}\".format(cnt,lotto_lst))\n",
    "# 정렬 알고리즘\n",
    "for i in range(0, len(lotto_lst)-1):\n",
    "    for j in range(i+1, len(lotto_lst)):\n",
    "        if lotto_lst[i] > lotto_lst[j]:\n",
    "            lotto_lst[i], lotto_lst[j] = lotto_lst[j], lotto_lst[i] \n",
    "print(\"정렬후 :\", lotto_lst)"
   ]
  },
  {
   "cell_type": "code",
   "execution_count": 150,
   "id": "0bb3532c",
   "metadata": {},
   "outputs": [
    {
     "data": {
      "text/plain": [
       "[22, 24, 26, 36, 41, 43]"
      ]
     },
     "execution_count": 150,
     "metadata": {},
     "output_type": "execute_result"
    }
   ],
   "source": [
    "# 위의 ex2를 set 이용\n",
    "lotto_set = set() # 빈 셋   lotto_set = {}로 선언하면 딕셔너리로 인식됨\n",
    "while len(lotto_set)<6:\n",
    "    lotto_set.add(random.randint(1,45))\n",
    "sorted(lotto_set)"
   ]
  },
  {
   "cell_type": "code",
   "execution_count": 168,
   "id": "7a8c83b3",
   "metadata": {},
   "outputs": [
    {
     "data": {
      "text/plain": [
       "[5, 11, 13, 17, 25, 33]"
      ]
     },
     "execution_count": 168,
     "metadata": {},
     "output_type": "execute_result"
    }
   ],
   "source": [
    "#1~45중 6개 뽑아 정렬\n",
    "sorted(random.sample(range(1,46), 6))"
   ]
  },
  {
   "cell_type": "markdown",
   "id": "5b44e0d0",
   "metadata": {},
   "source": [
    "## 2.3 break, continue\n",
    "- break : 현재 반복문 탈출\n",
    "- continue : 수행중인 반복문을 멈추고 조건절로"
   ]
  },
  {
   "cell_type": "code",
   "execution_count": 172,
   "id": "1e05f617",
   "metadata": {},
   "outputs": [
    {
     "name": "stdout",
     "output_type": "stream",
     "text": [
      "1 2 3 4 6 7 8 9 10 END\n"
     ]
    }
   ],
   "source": [
    "num = 0\n",
    "while num<10:\n",
    "    num += 1\n",
    "    if num ==5:\n",
    "        # break\n",
    "        continue\n",
    "    print(num, end=' ')\n",
    "print('END')"
   ]
  },
  {
   "cell_type": "markdown",
   "id": "72a7da75",
   "metadata": {},
   "source": [
    "# 숫자 찾기 게임\n",
    "```\n",
    "1~100 사이의 정수 맞추기 프로그램\n",
    "(프로그램 안에서random수가 만들어지고, 그 random수 맞추기)\n",
    "1단계 : 숫자를 못 맞추면 UP/DOWN을 출력하고, 맞추면 축하메세지 출력하고, 종료\n",
    "2단계 : 숫자를 못 맞추면 min(0), max(100)를 조정하고, 맞추면 축하메세지 출력하고 붕료\n",
    "3단계 : 2단계의 기회를 5회로 제한. 5회의 기회가 지나면 실패메세지 출력하고 종료.\n",
    "       5회 이내에 맞추면 축하메세지 출력하고 종료\n",
    "       (2단계와 3단계는 연습문제)\n",
    "```"
   ]
  },
  {
   "cell_type": "code",
   "execution_count": 177,
   "id": "be877192",
   "metadata": {
    "collapsed": true
   },
   "outputs": [
    {
     "name": "stdout",
     "output_type": "stream",
     "text": [
      "컴퓨터가 발생한 random 수 : 70\n",
      "1~100 사이의 수를 맞춰 보세요 :50\n",
      "UP ↑\n",
      "1~100 사이의 수를 맞춰 보세요 :75\n",
      "DOWN ↓\n",
      "1~100 사이의 수를 맞춰 보세요 :62\n",
      "UP ↑\n",
      "1~100 사이의 수를 맞춰 보세요 :70\n",
      "축하 축하 맞추셨습니다.\n",
      "BYE\n"
     ]
    }
   ],
   "source": [
    "import random\n",
    "randomNum = random.randint(1,100)\n",
    "print(\"컴퓨터가 발생한 random 수 :\", randomNum)\n",
    "\n",
    "while True:\n",
    "    inputNum = int(input(\"1~100 사이의 수를 맞춰 보세요 :\"))\n",
    "    if (inputNum<1) | (inputNum>100):\n",
    "        print('수의 범위를 벗어났습니다.')\n",
    "    elif randomNum  < inputNum :\n",
    "        print('DOWN ↓')\n",
    "    elif randomNum  > inputNum :\n",
    "        print('UP ↑')  \n",
    "    else:\n",
    "        print(\"축하 축하 맞추셨습니다.\")\n",
    "        break\n",
    "print(\"BYE\")"
   ]
  },
  {
   "cell_type": "code",
   "execution_count": 219,
   "id": "d555d2f7",
   "metadata": {},
   "outputs": [
    {
     "name": "stdout",
     "output_type": "stream",
     "text": [
      "컴퓨터가 발생한 random 수 : 59\n",
      "1~100 사이의 수를 맞춰 보세요 :55\n",
      "UP ↑\n",
      "1~100 사이의 수를 맞춰 보세요 :75\n",
      "DON ↓\n",
      "1~100 사이의 수를 맞춰 보세요 :65\n",
      "DON ↓\n",
      "1~100 사이의 수를 맞춰 보세요 :60\n",
      "DON ↓\n",
      "1~100 사이의 수를 맞춰 보세요 :-1\n",
      "수의 범위를 벗어났습니다\n",
      "1~100 사이의 수를 맞춰 보세요 :59\n",
      "축하 축하 맞추셨습니다\n",
      "BYE\n"
     ]
    }
   ],
   "source": [
    "import random\n",
    "randomNum = random.randint(1, 100)\n",
    "print(\"컴퓨터가 발생한 random 수 :\", randomNum)\n",
    "inputNum = -1\n",
    "while randomNum != inputNum:\n",
    "    inputNum = int(input(\"1~100 사이의 수를 맞춰 보세요 :\"))\n",
    "    if (inputNum<1) | (inputNum>100):\n",
    "        print('수의 범위를 벗어났습니다')\n",
    "    elif randomNum < inputNum :\n",
    "        print('DON ↓')\n",
    "    elif randomNum > inputNum:\n",
    "        print('UP ↑')\n",
    "else:\n",
    "    print(\"축하 축하 맞추셨습니다\")\n",
    "print(\"BYE\")"
   ]
  },
  {
   "cell_type": "markdown",
   "id": "77905fe0",
   "metadata": {},
   "source": [
    "# 3절 중첩루프\n",
    "(반복문 안의 반복문)"
   ]
  },
  {
   "cell_type": "code",
   "execution_count": 184,
   "id": "2fa192e0",
   "metadata": {},
   "outputs": [
    {
     "name": "stdout",
     "output_type": "stream",
     "text": [
      "  2단  \t  3단  \t  4단  \t  5단  \t  6단  \t  7단  \t  8단  \t  9단  \t\n",
      "2x1= 2\t3x1= 3\t4x1= 4\t5x1= 5\t6x1= 6\t7x1= 7\t8x1= 8\t9x1= 9\t\n",
      "2x2= 4\t3x2= 6\t4x2= 8\t5x2=10\t6x2=12\t7x2=14\t8x2=16\t9x2=18\t\n",
      "2x3= 6\t3x3= 9\t4x3=12\t5x3=15\t6x3=18\t7x3=21\t8x3=24\t9x3=27\t\n",
      "2x4= 8\t3x4=12\t4x4=16\t5x4=20\t6x4=24\t7x4=28\t8x4=32\t9x4=36\t\n",
      "2x5=10\t3x5=15\t4x5=20\t5x5=25\t6x5=30\t7x5=35\t8x5=40\t9x5=45\t\n",
      "2x6=12\t3x6=18\t4x6=24\t5x6=30\t6x6=36\t7x6=42\t8x6=48\t9x6=54\t\n",
      "2x7=14\t3x7=21\t4x7=28\t5x7=35\t6x7=42\t7x7=49\t8x7=56\t9x7=63\t\n",
      "2x8=16\t3x8=24\t4x8=32\t5x8=40\t6x8=48\t7x8=56\t8x8=64\t9x8=72\t\n",
      "2x9=18\t3x9=27\t4x9=36\t5x9=45\t6x9=54\t7x9=63\t8x9=72\t9x9=81\t\n"
     ]
    }
   ],
   "source": [
    "# 2~9단 구구단 출력\n",
    "for i in range(2, 10):\n",
    "    print(\"{:^6}\".format(str(i)+'단'), end ='\\t')\n",
    "print() # 개행\n",
    "for i in range(1, 10):\n",
    "    for j in range(2, 10):\n",
    "        print(\"{}x{}={:2}\".format(j, i, i*j), end='\\t')\n",
    "    print()"
   ]
  },
  {
   "cell_type": "code",
   "execution_count": 185,
   "id": "88e829b9",
   "metadata": {},
   "outputs": [
    {
     "name": "stdout",
     "output_type": "stream",
     "text": [
      "0행0열 : 1\t0행1열 : 2\t0행2열 : 3\t0행3열 : 4\t\n",
      "1행0열 : 5\t1행1열 : 6\t1행2열 : 7\t1행3열 : 8\t\n"
     ]
    }
   ],
   "source": [
    "lst_2d = [[1,2,3,4],\n",
    "          [5,6,7,8]]\n",
    "for i in range(len(lst_2d)):    # 행\n",
    "    for j in range(len(lst_2d[i])):   # 열\n",
    "        print(\"{}행{}열 : {}\".format(i,j, lst_2d[i][j]), end='\\t')\n",
    "    print()"
   ]
  },
  {
   "cell_type": "markdown",
   "id": "6c1b89cf",
   "metadata": {},
   "source": [
    "# 4절 중첩루프 탈출"
   ]
  },
  {
   "cell_type": "code",
   "execution_count": 186,
   "id": "584a2310",
   "metadata": {},
   "outputs": [
    {
     "name": "stdout",
     "output_type": "stream",
     "text": [
      "0 1\n",
      "0 2\n",
      "a=1, b=1일때 break함\n",
      "2 1\n",
      "a=2, b=2일때 break함\n",
      "DONE\n"
     ]
    }
   ],
   "source": [
    "for a in range(0,3): # a=0일때 1일때, 2일때\n",
    "    for b in range(1, 3): # b=1일때, 2일때\n",
    "        if a==b:\n",
    "            print(\"a={}, b={}일때 break함\".format(a, b))\n",
    "            break        \n",
    "        print(a,b)\n",
    "      # break를 만나면 오는 곳  \n",
    "print('DONE')    "
   ]
  },
  {
   "cell_type": "code",
   "execution_count": 187,
   "id": "b23da09b",
   "metadata": {},
   "outputs": [
    {
     "name": "stdout",
     "output_type": "stream",
     "text": [
      "0 1\n",
      "0 2\n",
      "DONE\n"
     ]
    }
   ],
   "source": [
    "# 중첩 루프 탈출 방법1. flag 변수 이용\n",
    "flag = False # break를 만나면 True\n",
    "for a in range(0,3): # a=0일때 1일때, 2일때\n",
    "    for b in range(1, 3): # b=1일때, 2일때\n",
    "        if a==b:\n",
    "            flag = True\n",
    "            break        \n",
    "        print(a,b)\n",
    "      # break를 만나면 오는 곳  \n",
    "    if flag:\n",
    "        break\n",
    "print('DONE')   "
   ]
  },
  {
   "cell_type": "code",
   "execution_count": 3,
   "id": "0f4d74d3",
   "metadata": {},
   "outputs": [],
   "source": [
    "# 중첩 루프 탈출 방법2. 예외(Exception)처리 이용 - 9/30일(8장 이후) - 강제 예외 발생\n",
    "# Exception을 상속받은 class\n",
    "class BreakOutLoopException(Exception):\n",
    "    pass"
   ]
  },
  {
   "cell_type": "code",
   "execution_count": 4,
   "id": "37b96d06",
   "metadata": {},
   "outputs": [
    {
     "name": "stdout",
     "output_type": "stream",
     "text": [
      "0 1\n",
      "0 2\n",
      "a=1, b=1일때 raise로 탈출\n",
      "DONE\n"
     ]
    }
   ],
   "source": [
    "try:\n",
    "    for a in range(0,3): # a=0일때 1일때, 2일때\n",
    "        for b in range(1, 3): # b=1일때, 2일때\n",
    "            if a==b:\n",
    "                print(\"a={}, b={}일때 raise로 탈출\".format(a, b))\n",
    "                # 중첩반복문 탈출(강제로 예외발생)  \n",
    "                raise BreakOutLoopException(\"중첩반복문 탈출\")\n",
    "            print(a,b)\n",
    "except:        \n",
    "    print('DONE')    "
   ]
  },
  {
   "cell_type": "markdown",
   "id": "bfcf3ae3",
   "metadata": {},
   "source": [
    "# 5절 연습문제"
   ]
  },
  {
   "cell_type": "code",
   "execution_count": 190,
   "id": "c8780ad4",
   "metadata": {},
   "outputs": [
    {
     "name": "stdout",
     "output_type": "stream",
     "text": [
      "양의 정수를 입력하세요-9\n",
      "inputStr이 정수인지 여부 : False\n"
     ]
    }
   ],
   "source": [
    "# inputStr = input('양의 정수를 입력하세요')\n",
    "# print('inputStr이 0이상 정수인지 여부 :',inputStr.isdigit())"
   ]
  },
  {
   "cell_type": "code",
   "execution_count": 224,
   "id": "5fd72e6f",
   "metadata": {},
   "outputs": [
    {
     "name": "stdout",
     "output_type": "stream",
     "text": [
      "양의 정수를 입력하세요5\n",
      "입력하신 양의 정수는 5이고 홀수입니다\n"
     ]
    }
   ],
   "source": [
    "# 1. 양의 정수를 입력 받아 홀수인지 짝수인지를 판별하는 프로그램을 작성하세요. 양의 정수가 아니면 숫자를 다시 입력 받아야 합니다.\n",
    "\n",
    "inputStr = ''\n",
    "while (inputStr.isdigit() == False) | (inputStr =='0'):\n",
    "    inputStr = input('양의 정수를 입력하세요')\n",
    "inputNum = int(inputStr)\n",
    "even_odd = '홀수' if inputNum%2 else '짝수'\n",
    "# if inputNum%2:\n",
    "#     even_odd = '홀수'\n",
    "# else:\n",
    "#     even_odd ='짝수'\n",
    "print('입력하신 양의 정수는 {}이고 {}입니다'.format(inputNum, even_odd))        "
   ]
  },
  {
   "cell_type": "code",
   "execution_count": 198,
   "id": "693cd17c",
   "metadata": {},
   "outputs": [
    {
     "name": "stdout",
     "output_type": "stream",
     "text": [
      "* * * * * \n",
      "* * * * * \n",
      "* * * * * \n",
      "* * * * * \n",
      "* * * * * \n",
      "\n",
      "* \n",
      "* * \n",
      "* * * \n",
      "* * * * \n",
      "* * * * * \n"
     ]
    }
   ],
   "source": [
    "# 2. 중첩for문을 이용하여 아래 패턴의 별을 출력하는 프로그램을 작성하 세요.\n",
    "# (1)\n",
    "for i in range(0, 5):\n",
    "    for j in range(0, 5):\n",
    "        print(\"* \", end='')\n",
    "    print()\n",
    "print()   \n",
    "\n",
    "# (2)\n",
    "for i in range(0, 5):\n",
    "    for j in range(0, i+1):\n",
    "        print(\"* \", end='')\n",
    "    print()    \n",
    "    "
   ]
  },
  {
   "cell_type": "code",
   "execution_count": 225,
   "id": "b07d0c9e",
   "metadata": {},
   "outputs": [
    {
     "name": "stdout",
     "output_type": "stream",
     "text": [
      " (1) \t (2) \n",
      "*****\t*\n",
      "*****\t**\n",
      "*****\t***\n",
      "*****\t****\n",
      "*****\t*****\n"
     ]
    }
   ],
   "source": [
    "'''2(2)\n",
    "*\n",
    "**\n",
    "***\n",
    "****\n",
    "*****'''\n",
    "print(\"{:^5}\\t{:^5}\".format(\"(1)\", \"(2)\"))\n",
    "for i in range(5):\n",
    "    print('*'*5, end='\\t')\n",
    "    for j in range(i+1):\n",
    "        print('*', end='')\n",
    "    print()\n",
    "# for i in range(5):\n",
    "#     print('*'*(i+1))\n",
    "# star =\"*\"\n",
    "# for j in range(5):\n",
    "#     print(star)\n",
    "#     star += \"*\""
   ]
  },
  {
   "cell_type": "code",
   "execution_count": 203,
   "id": "a9d612c5",
   "metadata": {},
   "outputs": [
    {
     "name": "stdout",
     "output_type": "stream",
     "text": [
      "165\n"
     ]
    }
   ],
   "source": [
    "# 3.다음 코드는 1부터 30까지(30포함) 자연수 중에서 3의 배수의 총 합 을 출력하는 프로그램입니다. 빈칸의 코드를 완성하시오.\n",
    "\n",
    "sum = 0\n",
    "for i in range(1, 31): \n",
    "    if i%3==0:  #if not i%3:\n",
    "        sum = sum + i\n",
    "    else:\n",
    "        pass \n",
    "print(sum)\n"
   ]
  },
  {
   "cell_type": "code",
   "execution_count": 205,
   "id": "d291d4d1",
   "metadata": {},
   "outputs": [
    {
     "name": "stdout",
     "output_type": "stream",
     "text": [
      "1 3 5 7 9 "
     ]
    }
   ],
   "source": [
    "# 4. 다음 코드의 실행결과가 “1 3 5 7 9”가 되도록 빈칸을 완성하시오.\n",
    "num = 0\n",
    "while num <= 10:\n",
    "    if num%2:\n",
    "        print(num, end=' ')\n",
    "    num += 1\n"
   ]
  },
  {
   "cell_type": "code",
   "execution_count": 209,
   "id": "175d74d0",
   "metadata": {},
   "outputs": [
    {
     "name": "stdout",
     "output_type": "stream",
     "text": [
      "1 2 3 \n",
      "4 5 6 7 \n",
      "8 9 \n"
     ]
    }
   ],
   "source": [
    "# 5.다음 2차원 리스트의 모든 값을 출력하는 코드입니다. 빈칸을 완성하시오.\n",
    "list2d =[[1,2,3],[4,5,6,7],[8,9]]\n",
    "for row in list2d:\n",
    "    for data in row:\n",
    "        print(data, end=' ')\n",
    "    print()"
   ]
  },
  {
   "cell_type": "code",
   "execution_count": 226,
   "id": "9465838a",
   "metadata": {},
   "outputs": [
    {
     "name": "stdout",
     "output_type": "stream",
     "text": [
      "1 apple\n",
      "2 banana\n",
      "0 apple\n",
      "1 banana\n"
     ]
    }
   ],
   "source": [
    "# 6.다음 빈칸에 들어갈 함수 이름은?\n",
    "colors = {\"red\":'apple', \"yellow\":'banana'}\n",
    "for i, v in enumerate(colors.values(), start=1):\n",
    "    print(i, v)\n",
    "    \n",
    " # 참고    \n",
    "for i, (key, value) in enumerate(colors.items()):\n",
    "    print(i, value)\n",
    "   "
   ]
  },
  {
   "cell_type": "code",
   "execution_count": 215,
   "id": "1ffd6775",
   "metadata": {},
   "outputs": [
    {
     "name": "stdout",
     "output_type": "stream",
     "text": [
      "1 0\n"
     ]
    }
   ],
   "source": [
    "# 7. 다음 코드의 실행결과는?  1 0\n",
    "\n",
    "for i in range(0,2):\n",
    "    for j in range(0,2):\n",
    "        if i==j:\n",
    "            break\n",
    "        print(i,j)\n",
    "    "
   ]
  },
  {
   "cell_type": "code",
   "execution_count": 216,
   "id": "0fb9ee43",
   "metadata": {},
   "outputs": [
    {
     "name": "stdout",
     "output_type": "stream",
     "text": [
      "0 0\n",
      "1 0\n",
      "1 1\n"
     ]
    }
   ],
   "source": [
    "# 8. 다음 코드의 실행 결과로 출력될 수 없는 것은?   ② 0 1\n",
    "for i in range(0, 2):\n",
    "    for j in range(0, 2):\n",
    "        print(i,j)\n",
    "        if i==j:\n",
    "            break"
   ]
  },
  {
   "cell_type": "code",
   "execution_count": 228,
   "id": "4d7b851d",
   "metadata": {},
   "outputs": [
    {
     "name": "stdout",
     "output_type": "stream",
     "text": [
      "3 5 7 9 \n",
      "[3, 5, 7, 9]\n",
      "\n",
      "3 5 7 9 "
     ]
    }
   ],
   "source": [
    "# 9. 다음 코드의 실행결과는? 3 5 7 9 \n",
    "L = [3,4,5,6,7,8,9,10]\n",
    "for i, data in enumerate(L):\n",
    "    if i%2 == 0:\n",
    "        print(data, end=' ')\n",
    "        \n",
    "# 참고 \n",
    "print()\n",
    "print(L[0::2])    \n",
    "print()\n",
    "for data in L[0::2]:\n",
    "    print(data, end=' ')"
   ]
  },
  {
   "cell_type": "code",
   "execution_count": 229,
   "id": "b3111d3b",
   "metadata": {},
   "outputs": [
    {
     "name": "stdout",
     "output_type": "stream",
     "text": [
      "컴퓨터가 발생한 random 수 : 63\n",
      "1~100 사이의 수를 맞춰 보세요 :50\n",
      "UP ↑\n",
      "51~100 사이의 수를 맞춰 보세요 :75\n",
      "DON ↓\n",
      "51~74 사이의 수를 맞춰 보세요 :62\n",
      "UP ↑\n",
      "63~74 사이의 수를 맞춰 보세요 :63\n",
      "축하 축하 맞추셨습니다\n",
      "BYE\n"
     ]
    }
   ],
   "source": [
    "# 10. 1~100사이의 정수를 맞추는 프로그램을 구현하시오.\n",
    "# 2단계. 입력된 숫자가 틀리면 min~max 사이의 수라고 알려주고 숫자를 맞추면 축하 메시지와 함께 종료합니다.(맞출 때까지 반복)\n",
    "\n",
    "import random\n",
    "randomNum = random.randint(1, 100)\n",
    "print(\"컴퓨터가 발생한 random 수 :\", randomNum)\n",
    "inputNum = -1\n",
    "min_ = 1\n",
    "max_ = 100\n",
    "while randomNum != inputNum:\n",
    "    inputNum = int(input(\"{}~{} 사이의 수를 맞춰 보세요 :\".format(min_,max_)))\n",
    "    if (inputNum<min_) | (inputNum>max_):\n",
    "        print('수의 범위를 벗어났습니다.수의 범위는 {}~{}이고, {}를 입력'.format(min_,max_,inputNum))\n",
    "    elif randomNum < inputNum :\n",
    "        max_ = inputNum - 1       \n",
    "        print('DON ↓')\n",
    "    elif randomNum > inputNum:\n",
    "        min_ = inputNum + 1        \n",
    "        print('UP ↑')\n",
    "else:\n",
    "    print(\"축하 축하 맞추셨습니다\")\n",
    "print(\"BYE\")"
   ]
  },
  {
   "cell_type": "code",
   "execution_count": null,
   "id": "88bd473f",
   "metadata": {},
   "outputs": [],
   "source": [
    "# 10. 숫자 찾기 게임 3단계\n",
    "'''\n",
    "1~100 사이의 정수 맞추기 프로그램\n",
    "(프로그램 안에서 random수가 만들어지고, 그 random수 맞추기)\n",
    "1단계 : 숫자를 못 맞추면 UP/DOWN을 출력하고, 맞추면 축하메세지 출력하고, 종료\n",
    "2단계 : 숫자를 못 맞추면 min(0), max(100)를 조정하고, 맞추면 축하메세지 출력하고 종료\n",
    "3단계 : 2단계의 기회를 5회로 제한. 5회의 기회가 지나면 실패메세지 출력하고 종료.\n",
    "        5회 이내에 맞추면 축하메세지 출력하고 종료\n",
    "    (2단계와 3단계는 연습문제)\n",
    "'''\n",
    "import random\n",
    "randomNum = random.randint(1, 100)\n",
    "fRom, to = 1, 100\n",
    "print(\"컴퓨터가 발생한 random 수 :\", randomNum)\n",
    "for cnt in range(5, 0, -1):\n",
    "    inputNum = int(input(f\"{fRom}~{to} 사이의 수를 맞춰 보세요(남은기회는 {cnt}회):\"))\n",
    "    if (inputNum<fRom) | (inputNum>to):\n",
    "        print('수의 범위를 벗어났습니다')\n",
    "    elif randomNum < inputNum :\n",
    "        print('DOWN ↓')\n",
    "        to = inputNum - 1\n",
    "    elif randomNum > inputNum:\n",
    "        print('UP ↑')\n",
    "        fRom = inputNum + 1\n",
    "    else:\n",
    "        print(\"축하 축하 맞추셨습니다\")\n",
    "        break\n",
    "else:\n",
    "    print('기회를 모두 사용하셨습니다. 실패하셨습니다')\n",
    "print(\"BYE\")"
   ]
  },
  {
   "cell_type": "code",
   "execution_count": null,
   "id": "41657576",
   "metadata": {},
   "outputs": [],
   "source": []
  }
 ],
 "metadata": {
  "kernelspec": {
   "display_name": "Python 3 (ipykernel)",
   "language": "python",
   "name": "python3"
  },
  "language_info": {
   "codemirror_mode": {
    "name": "ipython",
    "version": 3
   },
   "file_extension": ".py",
   "mimetype": "text/x-python",
   "name": "python",
   "nbconvert_exporter": "python",
   "pygments_lexer": "ipython3",
   "version": "3.10.9"
  },
  "toc": {
   "base_numbering": 1,
   "nav_menu": {},
   "number_sections": false,
   "sideBar": true,
   "skip_h1_title": false,
   "title_cell": "Table of Contents",
   "title_sidebar": "Contents",
   "toc_cell": false,
   "toc_position": {
    "height": "calc(100% - 180px)",
    "left": "10px",
    "top": "150px",
    "width": "219px"
   },
   "toc_section_display": true,
   "toc_window_display": true
  }
 },
 "nbformat": 4,
 "nbformat_minor": 5
}
