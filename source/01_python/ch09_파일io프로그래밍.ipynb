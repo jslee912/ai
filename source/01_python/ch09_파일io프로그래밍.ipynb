{
 "cells": [
  {
   "cell_type": "code",
   "execution_count": 73,
   "id": "03008fe7",
   "metadata": {},
   "outputs": [
    {
     "data": {
      "text/html": [
       "\n",
       "<style>\n",
       "div.container{width:90% !important;} \n",
       "div.cell.code_cell.rendered{width:100%;} \n",
       "div.input_prompt{padding:0px;}\n",
       "div.CodeMirror {font-family:Consolas; font-size:14pt;} \n",
       "div.text_cell_render.rendered_html{font-size:14pt;} \n",
       "div.output {font-size:14pt; font-weight:bold;} \n",
       "div.input {font-family:Consolas; font-size:14pt;} \n",
       "div.prompt {min-width:70px;}\n",
       "div#toc-wrapper{padding-top:120px;} \n",
       "div.text_cell_render ul li{font-size:12pt;padding:5px;} \n",
       "table.dataframe{font-size:12px;}\n",
       "</style>\n"
      ],
      "text/plain": [
       "<IPython.core.display.HTML object>"
      ]
     },
     "metadata": {},
     "output_type": "display_data"
    }
   ],
   "source": [
    "from IPython.display import display, HTML\n",
    "display(HTML(\"\"\"\n",
    "<style>\n",
    "div.container{width:90% !important;} \n",
    "div.cell.code_cell.rendered{width:100%;} \n",
    "div.input_prompt{padding:0px;}\n",
    "div.CodeMirror {font-family:Consolas; font-size:14pt;} \n",
    "div.text_cell_render.rendered_html{font-size:14pt;} \n",
    "div.output {font-size:14pt; font-weight:bold;} \n",
    "div.input {font-family:Consolas; font-size:14pt;} \n",
    "div.prompt {min-width:70px;}\n",
    "div#toc-wrapper{padding-top:120px;} \n",
    "div.text_cell_render ul li{font-size:12pt;padding:5px;} \n",
    "table.dataframe{font-size:12px;}\n",
    "</style>\n",
    "\"\"\"))"
   ]
  },
  {
   "cell_type": "markdown",
   "id": "cc397c0f",
   "metadata": {},
   "source": [
    "<b><font size=\"6\" color=\"red\">ch09. 파일 i/o 프로그래밍</font></b>\n",
    "- 파일 : txt, pickle(머신러닝모델저장, 배열저장), csv, json, h5(딥러닝모델저장)\n",
    "   # 1절 txt파일에 데이터저장하고 불러오기"
   ]
  },
  {
   "cell_type": "code",
   "execution_count": 7,
   "id": "3484c889",
   "metadata": {},
   "outputs": [
    {
     "name": "stdout",
     "output_type": "stream",
     "text": [
      "쓰기 가능한지: True\n"
     ]
    }
   ],
   "source": [
    "# mode = 'r' 또는 'rt' : 텍스트 읽기모드로 열기. 파일이 없을 경우 예외 발생\n",
    "# mode = 'w' 또는 'wt' : 텍스트 쓰기모드로 열기. 폴더가 없을 경우 예외 발생\n",
    "                        # 파일이 없으면 생성, 파일이 있으면 덮어씀\n",
    "# mode = 'a' 또는 'at' : 텍스트 쓰기모드로 열기. 폴더가 없을 경우 예외 발생\n",
    "                        # 파일이 없으면 생성, 파일이 있으면 뒤에 append\n",
    "f = open('data/ch09.txt','w')  # encoding='cp949'(win)\n",
    "print('쓰기 가능한지:', f.writable())\n",
    "f.write('안녕\\n 파이썬\\n hello\\n')\n",
    "f.close()"
   ]
  },
  {
   "cell_type": "code",
   "execution_count": 8,
   "id": "67e3c5be",
   "metadata": {},
   "outputs": [
    {
     "name": "stdout",
     "output_type": "stream",
     "text": [
      "쓰기 가능한지:  True\n"
     ]
    }
   ],
   "source": [
    "# with 구문을 사용하면 매번 close()하는 코드가 불필요\n",
    "with open('data/ch09.txt','wt') as f:\n",
    "    print('쓰기 가능한지: ', f.writable())\n",
    "    f.write('Python is easy.\\nPython is smart.\\n')"
   ]
  },
  {
   "cell_type": "code",
   "execution_count": 9,
   "id": "53b06a2a",
   "metadata": {},
   "outputs": [
    {
     "name": "stdout",
     "output_type": "stream",
     "text": [
      "프린트 함수로 파일 쓰기가 가능합니다.-콘솔출력\n"
     ]
    }
   ],
   "source": [
    "with open('data/ch09.txt','a') as file: # cp949\n",
    "    print('프린트 함수로 파일 쓰기가 가능합니다.-파일출력', file=file)\n",
    "    print('프린트 함수로 파일 쓰기가 가능합니다.-콘솔출력')"
   ]
  },
  {
   "cell_type": "markdown",
   "id": "4d884cb8",
   "metadata": {},
   "source": [
    "- 한글 읽기/쓰기\n",
    "    * cp949(한글완성형 확장형) : open 함수의 기본 인코딩(win)\n",
    "    * utf-8(한글조합형) : 주피터노트북에서 열기"
   ]
  },
  {
   "cell_type": "code",
   "execution_count": 3,
   "id": "e7bf6058",
   "metadata": {},
   "outputs": [],
   "source": [
    "with open('data/ch09.txt', 'w',encoding='UTF-8') as f:\n",
    "    # 방법1\n",
    "    f.write('홍길동, 30, 서울\\n')\n",
    "    f.write('김길동, 20, 수원\\n')\n",
    "    # 방법2  -> 비추천\n",
    "    textlist = ['홍길동, 30, 서울\\n', '김길동, 20, 부산\\n']\n",
    "    for line in textlist:\n",
    "        f.write(line)\n",
    "    # 방법3\n",
    "    f.writelines(textlist)    # 리스트를 한꺼번에 write"
   ]
  },
  {
   "cell_type": "code",
   "execution_count": 4,
   "id": "5b89e2e4",
   "metadata": {},
   "outputs": [
    {
     "data": {
      "text/plain": [
       "'홍길동, 30, 서울\\n김길동, 20, 수원\\n홍길동, 30, 서울\\n김길동, 20, 부산\\n홍길동, 30, 서울\\n김길동, 20, 부산\\n'"
      ]
     },
     "execution_count": 4,
     "metadata": {},
     "output_type": "execute_result"
    }
   ],
   "source": [
    "# 파일을 한꺼번에 읽어오기\n",
    "with open('data/ch09.txt','rt',encoding='UTF-8') as f:\n",
    "    filecontent = f.read()\n",
    "filecontent"
   ]
  },
  {
   "cell_type": "code",
   "execution_count": 5,
   "id": "a2497287",
   "metadata": {},
   "outputs": [
    {
     "name": "stdout",
     "output_type": "stream",
     "text": [
      "홍길동, 30, 서울\n",
      "김길동, 20, 수원\n",
      "홍길동, 30, 서울\n",
      "김길동, 20, 부산\n",
      "홍길동, 30, 서울\n",
      "김길동, 20, 부산\n"
     ]
    }
   ],
   "source": [
    "# 파일을 한줄 읽고 출력하고, 한줄 일고 출력,....\n",
    "with open('data/ch09.txt','r',encoding='UTF-8') as txtfile:\n",
    "    line = txtfile.readline()\n",
    "    while line != '':\n",
    "        print(line, end='')   # line에 \\n이 포함되어있어 출력시 개행 제거, end=''안해주면 2번 개행됨\n",
    "        line = txtfile.readline()"
   ]
  },
  {
   "cell_type": "code",
   "execution_count": 6,
   "id": "15c3aaa1",
   "metadata": {},
   "outputs": [
    {
     "name": "stdout",
     "output_type": "stream",
     "text": [
      "['홍길동, 30, 서울\\n', '김길동, 20, 수원\\n', '홍길동, 30, 서울\\n', '김길동, 20, 부산\\n', '홍길동, 30, 서울\\n', '김길동, 20, 부산\\n']\n"
     ]
    }
   ],
   "source": [
    "# 파일을 한꺼번에 여러줄 읽어, 한줄씩 list에 담아 return\n",
    "with open('data/ch09.txt','r',encoding='UTF-8') as txtfile:\n",
    "    lines = txtfile.readlines()\n",
    "print(lines)"
   ]
  },
  {
   "cell_type": "code",
   "execution_count": 7,
   "id": "29289689",
   "metadata": {},
   "outputs": [
    {
     "name": "stdout",
     "output_type": "stream",
     "text": [
      "홍길동, 30, 서울\n",
      "김길동, 20, 수원\n",
      "홍길동, 30, 서울\n",
      "김길동, 20, 부산\n",
      "홍길동, 30, 서울\n",
      "김길동, 20, 부산\n"
     ]
    }
   ],
   "source": [
    "for line in lines:\n",
    "    print(line, end='')"
   ]
  },
  {
   "cell_type": "markdown",
   "id": "705a6ae8",
   "metadata": {},
   "source": [
    "# 2절 피클을 이용한 객체 저장 및 불러오기\n",
    "- 머신러닝 모델저장, 배열저장, 객체저장\n",
    "## 2.1 형식이 있는 텍스트 데이터 불러오기"
   ]
  },
  {
   "cell_type": "code",
   "execution_count": 12,
   "id": "4d36bd1e",
   "metadata": {},
   "outputs": [
    {
     "name": "stdout",
     "output_type": "stream",
     "text": [
      "{'name': '홍길동', 'age': 20, 'email': 'kildong@hong.com', 'address': '서울시 관악구'}\n",
      "{'name': '홍길숙', 'age': 25, 'email': 'kilsuk1@hong.com', 'address': '서울시 영등포구'}\n",
      "{'name': '신길동', 'age': 30, 'email': 'shinkil@hong.com', 'address': '서울시 동작구'}\n"
     ]
    }
   ],
   "source": [
    "with open('data/ch09_member.txt','rt',encoding='UTF-8') as f:\n",
    "    lines = f.readlines()\n",
    "# print(lines)\n",
    "for line in lines:\n",
    "    #print(line)\n",
    "    data = line.split(', ')\n",
    "    #print(data)\n",
    "    name = data[0]\n",
    "    age = int(data[1])\n",
    "    email = data[2]\n",
    "    address = data[3].strip()\n",
    "    print({'name':name,\n",
    "            'age':age,\n",
    "            'email':email,\n",
    "            'address':address})"
   ]
  },
  {
   "cell_type": "code",
   "execution_count": 24,
   "id": "c7aab592",
   "metadata": {},
   "outputs": [],
   "source": [
    "class Member:\n",
    "    def __init__(self, name, age, email, address):\n",
    "        self.name = name\n",
    "        self.age = age\n",
    "        self.email = email\n",
    "        self.address = address\n",
    "    def __str__(self):\n",
    "        return \"{},{},{},{}\".format(self.name, self.age, self.email, self.address)\n",
    "#     def __eq__(self, other):\n",
    "#         #return id(self) == id(other)\n",
    "#         return self.name == other.name and \\\n",
    "#                self.age == other.age and \\\n",
    "#                self.email == other.email and \\\n",
    "#                self.address == other.address\n",
    "    def __eq__(self, other):\n",
    "        return self.__str__() == other.__str__()\n",
    "    def as_dict(self):\n",
    "        '객체를 딕셔너리로 바꿔 return(json파일 저장시 필요)'\n",
    "        return self.__dict__\n",
    "#         return {'name':self.name,\n",
    "#                 'age':self.age,\n",
    "#                 'email':self.email, \n",
    "#                 'address':self.address}"
   ]
  },
  {
   "cell_type": "code",
   "execution_count": 25,
   "id": "64741dd7",
   "metadata": {},
   "outputs": [
    {
     "name": "stdout",
     "output_type": "stream",
     "text": [
      "신길동,30,shinkil@hong.com,서울시 동작구\n",
      "신길동,30,shinkil@hong.com,서울시 동작구\n",
      "True\n",
      "True\n",
      "{'name': '신길동', 'age': 30, 'email': 'shinkil@hong.com', 'address': '서울시 동작구'}\n"
     ]
    }
   ],
   "source": [
    "member1 = Member('신길동',30,'shinkil@hong.com','서울시 동작구')\n",
    "member2 = Member('신길동',30,'shinkil@hong.com','서울시 동작구')\n",
    "print(member1)\n",
    "print(member2)\n",
    "print(member1==member2)\n",
    "print(member1.__eq__(member2))\n",
    "print(member1.__dict__)"
   ]
  },
  {
   "cell_type": "markdown",
   "id": "b56cfc18",
   "metadata": {},
   "source": [
    "## 2.2 피클링\n",
    "- 객체리스트 -> 피클파일로 쓰기\n",
    "- 피클파일 -> 객체리스트로 읽기"
   ]
  },
  {
   "cell_type": "code",
   "execution_count": 32,
   "id": "228e0beb",
   "metadata": {},
   "outputs": [],
   "source": [
    "# ch09_member.txt파일 -> 객체list, 딕셔너리list로 읽어오기\n",
    "member_list = []    # Member객체 list\n",
    "dict_list   = []    # 딕셔너리 list\n",
    "with open('data/ch09_member.txt','r', encoding='UTF-8') as f:\n",
    "    lines = f.readlines()\n",
    "#print(lines)\n",
    "for line in lines:\n",
    "    data = line.split(',')\n",
    "    data = [item.strip() for item in data]\n",
    "   # print(data)\n",
    "    name = data[0]\n",
    "    age = data[1]\n",
    "    email = data[2]\n",
    "    address = data[3]\n",
    "    member = Member(name, age, email, address)\n",
    "    member_list.append(member)\n",
    "    dict_list.append(member.__dict__)    "
   ]
  },
  {
   "cell_type": "code",
   "execution_count": 33,
   "id": "ba9967e5",
   "metadata": {},
   "outputs": [
    {
     "name": "stdout",
     "output_type": "stream",
     "text": [
      "홍길동,20,kildong@hong.com,서울시 관악구\n",
      "홍길숙,25,kilsuk1@hong.com,서울시 영등포구\n",
      "신길동,30,shinkil@hong.com,서울시 동작구\n"
     ]
    }
   ],
   "source": [
    "for member in member_list:    # 객체 list\n",
    "    print(member)"
   ]
  },
  {
   "cell_type": "code",
   "execution_count": 34,
   "id": "b6c784d7",
   "metadata": {},
   "outputs": [],
   "source": [
    "# 피클링(확장자 : pkl,pickle, data)을 이용한 객체를 파일에 저장하기 - 메모장에서 읽을 수 없다.\n",
    "import pickle    # 기본 150개 package에 포함됨\n",
    "with open('data/ch09_member.pkl', 'wb') as f:\n",
    "    pickle.dump(member_list, f)"
   ]
  },
  {
   "cell_type": "code",
   "execution_count": 35,
   "id": "c2b5a487",
   "metadata": {},
   "outputs": [],
   "source": [
    "# 피클링을 이용한 파일을 객체리스트로 읽기\n",
    "with open('data/ch09_member.pkl', 'rb') as f:\n",
    "    load_member_list = pickle.load(f)"
   ]
  },
  {
   "cell_type": "code",
   "execution_count": 36,
   "id": "52eb6f78",
   "metadata": {},
   "outputs": [
    {
     "data": {
      "text/plain": [
       "(2128656925056, 2128656764800)"
      ]
     },
     "execution_count": 36,
     "metadata": {},
     "output_type": "execute_result"
    }
   ],
   "source": [
    "id(member_list), id(load_member_list)"
   ]
  },
  {
   "cell_type": "code",
   "execution_count": 42,
   "id": "f1d03cfb",
   "metadata": {},
   "outputs": [
    {
     "name": "stdout",
     "output_type": "stream",
     "text": [
      "0 번째 비교 : True\n",
      "1 번째 비교 : True\n",
      "2 번째 비교 : True\n"
     ]
    }
   ],
   "source": [
    "for idx in range(len(member_list)):   # len() 대신 zip()\n",
    "    print(idx, '번째 비교 :', (member_list[idx]==load_member_list[idx]))"
   ]
  },
  {
   "cell_type": "code",
   "execution_count": 44,
   "id": "0a5950f9",
   "metadata": {},
   "outputs": [
    {
     "name": "stdout",
     "output_type": "stream",
     "text": [
      "0 번째 비교 : True\n",
      "1 번째 비교 : True\n",
      "2 번째 비교 : True\n"
     ]
    }
   ],
   "source": [
    "# 두 개의 리스트를 동시에 for문\n",
    "for idx, (member, load_member) in enumerate(zip(member_list, load_member_list)):\n",
    "    print(idx,'번째 비교 :', member==load_member)\n"
   ]
  },
  {
   "cell_type": "code",
   "execution_count": 45,
   "id": "eddc32a2",
   "metadata": {},
   "outputs": [
    {
     "data": {
      "text/plain": [
       "[True, True, True]"
      ]
     },
     "execution_count": 45,
     "metadata": {},
     "output_type": "execute_result"
    }
   ],
   "source": [
    "result = []    # 비교결과(True/False)를 append\n",
    "for member, load_member in zip(member_list, load_member_list):\n",
    "    result.append(member==load_member)\n",
    "result"
   ]
  },
  {
   "cell_type": "code",
   "execution_count": 46,
   "id": "d382a379",
   "metadata": {},
   "outputs": [
    {
     "data": {
      "text/plain": [
       "True"
      ]
     },
     "execution_count": 46,
     "metadata": {},
     "output_type": "execute_result"
    }
   ],
   "source": [
    "all(result)   # 모든 요소들이 True인지 여부"
   ]
  },
  {
   "cell_type": "code",
   "execution_count": 47,
   "id": "04ef39eb",
   "metadata": {},
   "outputs": [
    {
     "data": {
      "text/plain": [
       "False"
      ]
     },
     "execution_count": 47,
     "metadata": {},
     "output_type": "execute_result"
    }
   ],
   "source": [
    "all([True, True,True,True,True,True,True, False])"
   ]
  },
  {
   "cell_type": "markdown",
   "id": "c7041b37",
   "metadata": {},
   "source": [
    "# 3절 CSV파일 읽기 /쓰기\n",
    "- CSV파일의 자료를 리스트 데이터로 읽고 쓰기 (3.1과3.2)\n",
    "- CSV파일의 자료를 딕셔너리 데이터로 읽고 쓰기 (3.3과 3.4)\n",
    "## 3.1 reader"
   ]
  },
  {
   "cell_type": "code",
   "execution_count": 52,
   "id": "a7ed49d0",
   "metadata": {},
   "outputs": [
    {
     "data": {
      "text/plain": [
       "[['홍길동', '20', 'kildong@hong.com', '서울시 관악구'],\n",
       " ['김길동', '40', 'kimdong@hong.com', '서울시 영등포구'],\n",
       " ['신길동', '30', 'sindong@hong.com', '서울시 동작구']]"
      ]
     },
     "execution_count": 52,
     "metadata": {},
     "output_type": "execute_result"
    }
   ],
   "source": [
    "import csv\n",
    "with open('data/ch09_member1.csv','r', encoding='UTF-8') as f:\n",
    "    reader = csv.reader(f)\n",
    "    result = list(reader)\n",
    "result"
   ]
  },
  {
   "cell_type": "code",
   "execution_count": 53,
   "id": "7cbc454d",
   "metadata": {},
   "outputs": [
    {
     "name": "stdout",
     "output_type": "stream",
     "text": [
      "['홍길동', '20', 'kildong@hong.com', '서울시 관악구', '']\n",
      "['김길동', '40', 'kimdong@hong.com', '서울시 영등포구', '팀장']\n",
      "['신길동', '30', 'sindong@hong.com', '서울시 동작구', '']\n"
     ]
    }
   ],
   "source": [
    "with open('data/ch09_member1-cp.csv','r') as f:\n",
    "    reader = csv.reader(f)   # 읽은 결과는 문자\n",
    "    for row in reader:\n",
    "        print(row)"
   ]
  },
  {
   "cell_type": "code",
   "execution_count": 55,
   "id": "15151906",
   "metadata": {},
   "outputs": [
    {
     "name": "stdout",
     "output_type": "stream",
     "text": [
      "['홍길동', 20.0, 'kildong@hong.com', '서울시 관악구']\n",
      "['김길동', 40.0, 'kimdong@hong.com', '서울시 영등포구']\n",
      "['신길동', 30.0, 'sindong@hong.com', '서울시 동작구']\n"
     ]
    }
   ],
   "source": [
    "# \"\"(따옴표)가 없는 데이터는 numeric으로 \n",
    "with open('data/ch09_member1.csv','r', encoding='UTF-8') as f:  # 따옴표 있는 자료로\n",
    "    reader = csv.reader(f,   # quoting=csv.QUOTE_NONNUMERIC 자동완성기능 안됨\n",
    "                        quoting=csv.QUOTE_NONNUMERIC)      \n",
    "    for row in reader:\n",
    "        print(row)"
   ]
  },
  {
   "cell_type": "markdown",
   "id": "0d2ed065",
   "metadata": {},
   "source": [
    "## 3.2 writer\n",
    "- list->csv로 저장"
   ]
  },
  {
   "cell_type": "code",
   "execution_count": 56,
   "id": "7a710758",
   "metadata": {},
   "outputs": [],
   "source": [
    "user_list = [['홍길동', 20.0, 'kildong@hong.com', '서울시 관악구'],\n",
    "             ['김길동', 40.0, 'kimdong@hong.com', '서울시 영등포구'],\n",
    "             ['신길동', 30.0, 'sindong@hong.com', '서울시 동작구']]"
   ]
  },
  {
   "cell_type": "code",
   "execution_count": 61,
   "id": "2b5759f2",
   "metadata": {},
   "outputs": [],
   "source": [
    "# newline='' 옵션 빼면 개행이 2번(python 3.10)\n",
    "try:\n",
    "    with open('data/ch09_member2-write.csv','w',newline='') as f:\n",
    "        writer = csv.writer(f)\n",
    "#         for user in user_list:   비추천\n",
    "#             writer.writerow(user)\n",
    "        writer.writerows(user_list)\n",
    "except FileNotFoundError as e:\n",
    "    print(e)"
   ]
  },
  {
   "cell_type": "markdown",
   "id": "7fcf1d8b",
   "metadata": {},
   "source": [
    "## 3.3 DictReader\n",
    "- CSV파일을 딕셔너리 데이터로 읽기"
   ]
  },
  {
   "cell_type": "code",
   "execution_count": 65,
   "id": "6a3d4b97",
   "metadata": {},
   "outputs": [
    {
     "data": {
      "text/plain": [
       "[{'name': '홍길동',\n",
       "  'age': '20',\n",
       "  'email': 'h@h.com',\n",
       "  'address': '서울시 관악구',\n",
       "  'job': None},\n",
       " {'name': '신길동',\n",
       "  'age': '40',\n",
       "  'email': 's@h.com',\n",
       "  'address': '서울시 영등포구',\n",
       "  'job': '팀장'},\n",
       " {'name': '김길동',\n",
       "  'age': '30',\n",
       "  'email': 'k@h.com',\n",
       "  'address': '서울시 동작구',\n",
       "  'job': None}]"
      ]
     },
     "execution_count": 65,
     "metadata": {},
     "output_type": "execute_result"
    }
   ],
   "source": [
    "import csv\n",
    "# header가 있는 csv파일을 딕셔너리로 읽기(ch09_member3.csv)\n",
    "with open('data/ch09_member3.csv', 'r', encoding='UTF-8') as f:\n",
    "    dict_reader = csv.DictReader(f)\n",
    "    result = list(dict_reader)\n",
    "result"
   ]
  },
  {
   "cell_type": "code",
   "execution_count": 66,
   "id": "8b264524",
   "metadata": {},
   "outputs": [
    {
     "name": "stdout",
     "output_type": "stream",
     "text": [
      "{'name': '홍길동', 'age': '20', 'email': 'h@h.com', 'address': '서울시 관악구', 'job': '없음'}\n",
      "{'name': '신길동', 'age': '40', 'email': 's@h.com', 'address': '서울시 영등포구', 'job': '팀장'}\n",
      "{'name': '김길동', 'age': '30', 'email': 'k@h.com', 'address': '서울시 동작구', 'job': '없음'}\n"
     ]
    }
   ],
   "source": [
    "# header가 있는 csv파일을 딕셔너리로 읽기(ch09_member3.csv)\n",
    "with open('data/ch09_member3.csv', 'r', encoding='UTF-8') as f:\n",
    "    dict_reader = csv.DictReader(f, restval='없음')\n",
    "    for row in dict_reader:\n",
    "        print(row)"
   ]
  },
  {
   "cell_type": "code",
   "execution_count": 68,
   "id": "a80a3480",
   "metadata": {},
   "outputs": [
    {
     "data": {
      "text/html": [
       "<div>\n",
       "<style scoped>\n",
       "    .dataframe tbody tr th:only-of-type {\n",
       "        vertical-align: middle;\n",
       "    }\n",
       "\n",
       "    .dataframe tbody tr th {\n",
       "        vertical-align: top;\n",
       "    }\n",
       "\n",
       "    .dataframe thead th {\n",
       "        text-align: right;\n",
       "    }\n",
       "</style>\n",
       "<table border=\"1\" class=\"dataframe\">\n",
       "  <thead>\n",
       "    <tr style=\"text-align: right;\">\n",
       "      <th></th>\n",
       "      <th>name</th>\n",
       "      <th>age</th>\n",
       "      <th>email</th>\n",
       "      <th>address</th>\n",
       "      <th>job</th>\n",
       "    </tr>\n",
       "  </thead>\n",
       "  <tbody>\n",
       "    <tr>\n",
       "      <th>0</th>\n",
       "      <td>홍길동</td>\n",
       "      <td>20</td>\n",
       "      <td>h@h.com</td>\n",
       "      <td>서울시 관악구</td>\n",
       "      <td>NaN</td>\n",
       "    </tr>\n",
       "    <tr>\n",
       "      <th>1</th>\n",
       "      <td>신길동</td>\n",
       "      <td>40</td>\n",
       "      <td>s@h.com</td>\n",
       "      <td>서울시 영등포구</td>\n",
       "      <td>팀장</td>\n",
       "    </tr>\n",
       "    <tr>\n",
       "      <th>2</th>\n",
       "      <td>김길동</td>\n",
       "      <td>30</td>\n",
       "      <td>k@h.com</td>\n",
       "      <td>서울시 동작구</td>\n",
       "      <td>NaN</td>\n",
       "    </tr>\n",
       "  </tbody>\n",
       "</table>\n",
       "</div>"
      ],
      "text/plain": [
       "  name  age    email   address  job\n",
       "0  홍길동   20  h@h.com   서울시 관악구  NaN\n",
       "1  신길동   40  s@h.com  서울시 영등포구   팀장\n",
       "2  김길동   30  k@h.com   서울시 동작구  NaN"
      ]
     },
     "execution_count": 68,
     "metadata": {},
     "output_type": "execute_result"
    }
   ],
   "source": [
    "# csv 파일을 데이터프레임 데이터로 읽기\n",
    "import pandas as pd\n",
    "members = pd.read_csv('data/ch09_member3.csv')    # 기본 인코딩 방식이 utf-8\n",
    "members"
   ]
  },
  {
   "cell_type": "code",
   "execution_count": 69,
   "id": "216a212d",
   "metadata": {},
   "outputs": [
    {
     "data": {
      "text/plain": [
       "pandas.core.frame.DataFrame"
      ]
     },
     "execution_count": 69,
     "metadata": {},
     "output_type": "execute_result"
    }
   ],
   "source": [
    "type(members)"
   ]
  },
  {
   "cell_type": "code",
   "execution_count": 70,
   "id": "76e2d102",
   "metadata": {},
   "outputs": [
    {
     "data": {
      "text/html": [
       "<div>\n",
       "<style scoped>\n",
       "    .dataframe tbody tr th:only-of-type {\n",
       "        vertical-align: middle;\n",
       "    }\n",
       "\n",
       "    .dataframe tbody tr th {\n",
       "        vertical-align: top;\n",
       "    }\n",
       "\n",
       "    .dataframe thead th {\n",
       "        text-align: right;\n",
       "    }\n",
       "</style>\n",
       "<table border=\"1\" class=\"dataframe\">\n",
       "  <thead>\n",
       "    <tr style=\"text-align: right;\">\n",
       "      <th></th>\n",
       "      <th>name</th>\n",
       "      <th>age</th>\n",
       "      <th>email</th>\n",
       "      <th>address</th>\n",
       "      <th>job</th>\n",
       "    </tr>\n",
       "  </thead>\n",
       "  <tbody>\n",
       "    <tr>\n",
       "      <th>0</th>\n",
       "      <td>홍길동</td>\n",
       "      <td>20</td>\n",
       "      <td>h@h.com</td>\n",
       "      <td>서울시 관악구</td>\n",
       "      <td>None</td>\n",
       "    </tr>\n",
       "    <tr>\n",
       "      <th>1</th>\n",
       "      <td>신길동</td>\n",
       "      <td>40</td>\n",
       "      <td>s@h.com</td>\n",
       "      <td>서울시 영등포구</td>\n",
       "      <td>팀장</td>\n",
       "    </tr>\n",
       "    <tr>\n",
       "      <th>2</th>\n",
       "      <td>김길동</td>\n",
       "      <td>30</td>\n",
       "      <td>k@h.com</td>\n",
       "      <td>서울시 동작구</td>\n",
       "      <td>None</td>\n",
       "    </tr>\n",
       "  </tbody>\n",
       "</table>\n",
       "</div>"
      ],
      "text/plain": [
       "  name age    email   address   job\n",
       "0  홍길동  20  h@h.com   서울시 관악구  None\n",
       "1  신길동  40  s@h.com  서울시 영등포구    팀장\n",
       "2  김길동  30  k@h.com   서울시 동작구  None"
      ]
     },
     "execution_count": 70,
     "metadata": {},
     "output_type": "execute_result"
    }
   ],
   "source": [
    "pd.DataFrame(data=result)"
   ]
  },
  {
   "cell_type": "code",
   "execution_count": 71,
   "id": "8775a93d",
   "metadata": {},
   "outputs": [
    {
     "name": "stdout",
     "output_type": "stream",
     "text": [
      "{'Name': '홍길동', 'Age': '20', 'Email': 'kildong@hong.com', 'Address': '서울시 관악구', 'Job': ''}\n",
      "{'Name': '김길동', 'Age': '40', 'Email': 'kimdong@hong.com', 'Address': '서울시 영등포구', 'Job': '팀장'}\n",
      "{'Name': '신길동', 'Age': '30', 'Email': 'sindong@hong.com', 'Address': '서울시 동작구', 'Job': ''}\n"
     ]
    }
   ],
   "source": [
    "# header가 없는 csv파일을 딕셔너리 데이터로 읽기(ch09_member1-cp.csv)\n",
    "with open('data/ch09_member1-cp.csv','r') as f:\n",
    "    dict_reader = csv.DictReader(f, fieldnames=['Name','Age','Email','Address','Job'])\n",
    "    for row in dict_reader:\n",
    "        print(row)"
   ]
  },
  {
   "cell_type": "code",
   "execution_count": 72,
   "id": "329a4949",
   "metadata": {},
   "outputs": [
    {
     "name": "stdout",
     "output_type": "stream",
     "text": [
      "{'Name': '홍길동', 'Age': '20', 'Email': 'kildong@hong.com', 'Address': '서울시 관악구', 'Job': ['']}\n",
      "{'Name': '김길동', 'Age': '40', 'Email': 'kimdong@hong.com', 'Address': '서울시 영등포구', 'Job': ['팀장']}\n",
      "{'Name': '신길동', 'Age': '30', 'Email': 'sindong@hong.com', 'Address': '서울시 동작구', 'Job': ['']}\n"
     ]
    }
   ],
   "source": [
    "# header가 없는 csv파일을 딕셔너리 데이터로 읽기(ch09_member1-cp.csv)\n",
    "with open('data/ch09_member1-cp.csv','r') as f:\n",
    "    dict_reader = csv.DictReader(f, fieldnames=['Name','Age','Email','Address'],\n",
    "                                restkey='Job')\n",
    "    for row in dict_reader:\n",
    "        print(row)"
   ]
  },
  {
   "cell_type": "markdown",
   "id": "1213ae35",
   "metadata": {},
   "source": [
    "## 3.4 DictWriter\n",
    "- 딕셔너리 데이터(딕셔너리 list)를 csv파일로 쓰기"
   ]
  },
  {
   "cell_type": "code",
   "execution_count": 74,
   "id": "ae81029e",
   "metadata": {},
   "outputs": [
    {
     "data": {
      "text/plain": [
       "[{'Name': '신길동',\n",
       "  'Age': '30',\n",
       "  'Email': 'sindong@hong.com',\n",
       "  'Address': '서울시 동작구'},\n",
       " {'Name': '김길동',\n",
       "  'Age': '40',\n",
       "  'Email': 'kimdong@hong.com',\n",
       "  'Address': '서울시 영등포구'},\n",
       " {'Name': '마길동', 'Age': '20', 'Email': 'ma@hong.com', 'Address': '서울시 마포구'}]"
      ]
     },
     "execution_count": 74,
     "metadata": {},
     "output_type": "execute_result"
    }
   ],
   "source": [
    "user1 = {'Name': '신길동', 'Age': '30', 'Email': 'sindong@hong.com', 'Address': '서울시 동작구'}\n",
    "user2 = {'Name': '김길동', 'Age': '40', 'Email': 'kimdong@hong.com', 'Address': '서울시 영등포구'}\n",
    "user3 = {'Name': '마길동', 'Age': '20', 'Email': 'ma@hong.com', 'Address': '서울시 마포구'}\n",
    "user_list = [user1,user2,user3]\n",
    "user_list"
   ]
  },
  {
   "cell_type": "code",
   "execution_count": 75,
   "id": "27d3853c",
   "metadata": {},
   "outputs": [
    {
     "data": {
      "text/plain": [
       "['Name', 'Age', 'Email', 'Address']"
      ]
     },
     "execution_count": 75,
     "metadata": {},
     "output_type": "execute_result"
    }
   ],
   "source": [
    "fieldnames = list(user1.keys())\n",
    "fieldnames"
   ]
  },
  {
   "cell_type": "code",
   "execution_count": 77,
   "id": "197ab9b6",
   "metadata": {},
   "outputs": [],
   "source": [
    "with open('data/ch09_member4.csv','w',encoding='utf-8', newline='') as f:  # 기본스트림\n",
    "    dict_writer = csv.DictWriter(f, fieldnames=fieldnames)                 # 보조스트림\n",
    "    dict_writer.writeheader()   # header한줄 쓰기\n",
    "#     for user in user_list:\n",
    "#         dict_writer.writerow(user)\n",
    "    dict_writer.writerows(user_list)"
   ]
  },
  {
   "cell_type": "markdown",
   "id": "f00f79de",
   "metadata": {},
   "source": [
    "# 4절 JSON 파일에 저장하고 불러오기(dump, load)\n",
    "```\n",
    "[{'title': '국가정보원 화재',' url':'http://~','content':'bllablla....'},\n",
    " {'title': '국가정보원 화재',' url':'http://~','content':'bllablla....'},\n",
    " {'title': '국가정보원 화재',' url':'http://~','content':'bllablla....'}]\n",
    "```\n",
    "## 4.1 JSON dump(파일에 저장)\n",
    "### (1) 딕셔너리 list를 json파일로 저장"
   ]
  },
  {
   "cell_type": "code",
   "execution_count": 78,
   "id": "9ae8afaf",
   "metadata": {},
   "outputs": [
    {
     "data": {
      "text/plain": [
       "[{'Name': '홍길동', 'Age': '30', 'Email': 'hg@hong.com', 'Address': '서울시'},\n",
       " {'Name': '박길동', 'Age': '20', 'Email': 'pg@hong.com', 'Address': '부산시'},\n",
       " {'Name': '신길동', 'Age': '25', 'Email': 'sg@hong.com', 'Address': '대전시'}]"
      ]
     },
     "execution_count": 78,
     "metadata": {},
     "output_type": "execute_result"
    }
   ],
   "source": [
    "# (1) 딕셔너리 list를 json파일로 저장\n",
    "data = [{'Name': '홍길동', 'Age': '30', 'Email': 'hg@hong.com', 'Address': '서울시'},\n",
    "       {'Name': '박길동', 'Age': '20', 'Email': 'pg@hong.com', 'Address': '부산시'},\n",
    "       {'Name': '신길동', 'Age': '25', 'Email': 'sg@hong.com', 'Address': '대전시'}]\n",
    "data"
   ]
  },
  {
   "cell_type": "code",
   "execution_count": 83,
   "id": "24fe3a88",
   "metadata": {},
   "outputs": [],
   "source": [
    "# ensure_ascii 옵션의 역할 : ASCII 코드를 넘어선 문자를 어떻게 처리할 지 \n",
    "# 기본값(True) : ASCII 코드 범위를 넘어선 글자는 유니코드로 저장\n",
    "# False : 비 ASCII 문자는 원래 형태 그대로 저장\n",
    "import json\n",
    "with open('data/ch09_member1.json','w') as jsonfile:\n",
    "    json.dump(data,                # 딕셔너리 리스트\n",
    "             jsonfile,             # 파일 스트림\n",
    "             ensure_ascii=False,   # 비 ASCII코드 문자 처리\n",
    "             indent='  ')          # 들여쓰기 여부"
   ]
  },
  {
   "cell_type": "markdown",
   "id": "a06ec14d",
   "metadata": {},
   "source": [
    "### (2) 객체 list를 json파일로 저장(객체를 딕셔너리로 바꾸는 함수 필요)"
   ]
  },
  {
   "cell_type": "code",
   "execution_count": 106,
   "id": "eeff8c71",
   "metadata": {},
   "outputs": [],
   "source": [
    "class Member:\n",
    "    def __init__(self, name, age, email, address):\n",
    "        self.name = name\n",
    "        self.age = age\n",
    "        self.email = email\n",
    "        self.address = address\n",
    "    def __str__(self):\n",
    "        return \"{},{},{},{}\".format(self.name, self.age, self.email, self.address)\n",
    "    def __eq__(self, other):\n",
    "        return self.__str__() == other.__str__()\n",
    "    def as_dict(self):\n",
    "        '객체를 딕셔너리로 바꿔 return(json파일 저장시 필요)'\n",
    "        return self.__dict__"
   ]
  },
  {
   "cell_type": "code",
   "execution_count": 107,
   "id": "1f7c5dec",
   "metadata": {},
   "outputs": [
    {
     "data": {
      "text/plain": [
       "['홍길동,30,h@h.com,서울', '마길동,25,m@h.com,하남', '박길동,35,p@h.com,대전']"
      ]
     },
     "execution_count": 107,
     "metadata": {},
     "output_type": "execute_result"
    }
   ],
   "source": [
    "member_list = [Member('홍길동',30,'h@h.com','서울'),\n",
    "               Member('마길동',25,'m@h.com','하남'),\n",
    "               Member('박길동',35,'p@h.com','대전'),]\n",
    "[member.__str__() for member in member_list]"
   ]
  },
  {
   "cell_type": "code",
   "execution_count": 108,
   "id": "6de42f14",
   "metadata": {},
   "outputs": [],
   "source": [
    "with open('data/ch09_member2.json','w', encoding='utf-8') as jsonfile:   # r이 default\n",
    "    json.dump(member_list,         # 저장할 리스트(객체 리스트) ==>오류-직렬화하지 않아서\n",
    "             jsonfile,             # 파일 스트림\n",
    "             ensure_ascii=False,   # 비 ASCII코드 문자 처리(메모장에서 읽을 때만 불편함.)\n",
    "             indent='\\t',\n",
    "             default=Member.as_dict)   # 객체를 딕셔너리형태로 return하는 함수"
   ]
  },
  {
   "cell_type": "markdown",
   "id": "48c80046",
   "metadata": {},
   "source": [
    "## 4.2 JSON load(파일 읽기)\n",
    "### (1) json파일을 딕셔너리 리스트로 읽기\n",
    "### (2) json파일을 객체 리스트로 읽기(딕셔너리를 객체로 return하는 함수가 필요)"
   ]
  },
  {
   "cell_type": "code",
   "execution_count": 109,
   "id": "d0d052c8",
   "metadata": {},
   "outputs": [
    {
     "data": {
      "text/plain": [
       "[{'Name': '홍길동', 'Age': '30', 'Email': 'hg@hong.com', 'Address': '서울시'},\n",
       " {'Name': '박길동', 'Age': '20', 'Email': 'pg@hong.com', 'Address': '부산시'},\n",
       " {'Name': '신길동', 'Age': '25', 'Email': 'sg@hong.com', 'Address': '대전시'}]"
      ]
     },
     "execution_count": 109,
     "metadata": {},
     "output_type": "execute_result"
    }
   ],
   "source": [
    "### (1) json파일을 딕셔너리 리스트로 읽기\n",
    "with open('data/ch09_member1.json','r') as jsonfile: \n",
    "    load_data = json.load(jsonfile)\n",
    "load_data"
   ]
  },
  {
   "cell_type": "code",
   "execution_count": 110,
   "id": "945d8ccf",
   "metadata": {},
   "outputs": [
    {
     "data": {
      "text/plain": [
       "(list, dict)"
      ]
     },
     "execution_count": 110,
     "metadata": {},
     "output_type": "execute_result"
    }
   ],
   "source": [
    "type(load_data), type(load_data[0])"
   ]
  },
  {
   "cell_type": "code",
   "execution_count": 112,
   "id": "2f7d8606",
   "metadata": {},
   "outputs": [],
   "source": [
    "### (2) json파일을 객체 리스트로 읽기(딕셔너리를 객체로 return하는 함수가 필요)\n",
    "# {'name': '홍', 'age': '3', 'email': 'h@h', 'address': '설'} => Member('홍',3,'h@h','설')\n",
    "def as_member(dic):\n",
    "#    return Member(dic['name'],dic['age'],dic['email'],dic['address']) # 비추\n",
    "    return Member(dic.get('name'),\n",
    "                  dic.get('age'),\n",
    "                  dic.get('email'),\n",
    "                  dic.get('address')\n",
    "                 )"
   ]
  },
  {
   "cell_type": "code",
   "execution_count": 113,
   "id": "15c665a9",
   "metadata": {},
   "outputs": [
    {
     "name": "stdout",
     "output_type": "stream",
     "text": [
      "홍길동,30,h@h.com,서울\n",
      "마길동,25,m@h.com,하남\n",
      "박길동,35,p@h.com,대전\n"
     ]
    }
   ],
   "source": [
    "with open('data/ch09_member2.json','r',encoding='utf-8') as jsonfile: \n",
    "    load_member_list = json.load(jsonfile,\n",
    "                                 object_hook=as_member)  # 딕셔너리를 객체로 return 함수\n",
    "for load_member in load_member_list:\n",
    "    print(load_member)\n"
   ]
  },
  {
   "cell_type": "code",
   "execution_count": null,
   "id": "815503c8",
   "metadata": {},
   "outputs": [],
   "source": [
    "### (3) 연습문제\n",
    "# 객체리스트->json->객체리스트 해서 같은 객체인지 비교"
   ]
  },
  {
   "cell_type": "code",
   "execution_count": 114,
   "id": "ceb5fa95",
   "metadata": {},
   "outputs": [],
   "source": [
    "# member_list => ch09_member2.json => load_member_list   \n",
    "# member_list 와 load_member_list가 같은 내용인지 검사"
   ]
  },
  {
   "cell_type": "code",
   "execution_count": 120,
   "id": "070c5b42",
   "metadata": {},
   "outputs": [
    {
     "name": "stdout",
     "output_type": "stream",
     "text": [
      "두 객체 리스트의 모든 데이터가 일치하는지 여부: True\n"
     ]
    }
   ],
   "source": [
    "result = [] #list내 객체들끼리 비교 결과\n",
    "for member, load_member in zip(member_list, load_member_list):\n",
    "    #print(member, load_member)\n",
    "    result.append(member == load_member)\n",
    "print('두 객체 리스트의 모든 데이터가 일치하는지 여부:',all(result))"
   ]
  },
  {
   "cell_type": "code",
   "execution_count": 125,
   "id": "59602120",
   "metadata": {},
   "outputs": [
    {
     "data": {
      "text/plain": [
       "(array([3, 6], dtype=int64),)"
      ]
     },
     "execution_count": 125,
     "metadata": {},
     "output_type": "execute_result"
    }
   ],
   "source": [
    "# False인 곳의 index가 궁금?\n",
    "import numpy as np\n",
    "result = np.array([True,True,True,False,True,True,False,True])\n",
    "np.where(result == False)"
   ]
  },
  {
   "cell_type": "code",
   "execution_count": 126,
   "id": "5990eea3",
   "metadata": {},
   "outputs": [
    {
     "data": {
      "text/plain": [
       "{True}"
      ]
     },
     "execution_count": 126,
     "metadata": {},
     "output_type": "execute_result"
    }
   ],
   "source": [
    "result = set()  # 빈 셋/ {}: 빈딕셔너리\n",
    "for member, load_member in zip(member_list, load_member_list):\n",
    "    result.add(member == load_member)\n",
    "result"
   ]
  },
  {
   "cell_type": "code",
   "execution_count": null,
   "id": "bc83dd99",
   "metadata": {},
   "outputs": [],
   "source": []
  },
  {
   "cell_type": "code",
   "execution_count": null,
   "id": "4ddc2194",
   "metadata": {},
   "outputs": [],
   "source": []
  },
  {
   "cell_type": "code",
   "execution_count": null,
   "id": "b49b54f4",
   "metadata": {},
   "outputs": [],
   "source": []
  },
  {
   "cell_type": "code",
   "execution_count": null,
   "id": "cad9c9e4",
   "metadata": {},
   "outputs": [],
   "source": []
  },
  {
   "cell_type": "code",
   "execution_count": null,
   "id": "dceefd7a",
   "metadata": {},
   "outputs": [],
   "source": []
  }
 ],
 "metadata": {
  "kernelspec": {
   "display_name": "Python 3 (ipykernel)",
   "language": "python",
   "name": "python3"
  },
  "language_info": {
   "codemirror_mode": {
    "name": "ipython",
    "version": 3
   },
   "file_extension": ".py",
   "mimetype": "text/x-python",
   "name": "python",
   "nbconvert_exporter": "python",
   "pygments_lexer": "ipython3",
   "version": "3.10.9"
  },
  "toc": {
   "base_numbering": 1,
   "nav_menu": {},
   "number_sections": false,
   "sideBar": true,
   "skip_h1_title": false,
   "title_cell": "Table of Contents",
   "title_sidebar": "Contents",
   "toc_cell": false,
   "toc_position": {
    "height": "calc(100% - 180px)",
    "left": "10px",
    "top": "150px",
    "width": "447px"
   },
   "toc_section_display": true,
   "toc_window_display": true
  }
 },
 "nbformat": 4,
 "nbformat_minor": 5
}
