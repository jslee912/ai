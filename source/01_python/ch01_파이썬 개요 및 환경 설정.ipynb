{
 "cells": [
  {
   "cell_type": "code",
   "execution_count": null,
   "id": "0cc8a751",
   "metadata": {},
   "outputs": [],
   "source": [
    "print(\"test\")"
   ]
  },
  {
   "cell_type": "code",
   "execution_count": null,
   "id": "2b8da1b6",
   "metadata": {},
   "outputs": [],
   "source": [
    "from IPython.display import display, HTML\n",
    "display(HTML(\"\"\"\n",
    "<style>\n",
    "div.container{width:90% !important;} \n",
    "div.cell.code_cell.rendered{width:100%;} \n",
    "div.input_prompt{padding:0px;}\n",
    "div.CodeMirror {font-family:Consolas; font-size:14pt;} \n",
    "div.text_cell_render.rendered_html{font-size:14pt;} \n",
    "div.output {font-size:14pt; font-weight:bold;} \n",
    "div.input {font-family:Consolas; font-size:14pt;} \n",
    "div.prompt {min-width:70px;}\n",
    "div#toc-wrapper{padding-top:120px;} \n",
    "div.text_cell_render ul li{font-size:12pt;padding:5px;} \n",
    "table.dataframe{font-size:12px;}\n",
    "</style>\n",
    "\"\"\"))"
   ]
  },
  {
   "cell_type": "markdown",
   "id": "f4fb3384",
   "metadata": {},
   "source": [
    "<b><font size=\"6\" color=\"red\">ch01. 파이썬 개요 및 환경 설정</font></b>\n",
    "\n",
    "\n",
    "# 1. 마크다운이란?\n",
    "- 코드와 함께 문서화를 할 수 있음\n",
    "- 다양한 문서화 문법 ex) README.md\n",
    "\n",
    "# 2. 주피터 노트북 사용법(큰 제목)\n",
    "- shift+enter : 포커스된 셀이 실행되고, 커서가 다음 셀로 이동\n",
    "- alt+enter : 포커스된 셀이 실행되고, 다음 셀이 생성된 후, 다음 셀로 이동\n",
    "- ctrl+enter : 포커스된 셀이 실행되고, 포커스 이동 없음\n",
    "- enter : 다시 편집 상태로 돌아감."
   ]
  },
  {
   "cell_type": "code",
   "execution_count": null,
   "id": "137a3d64",
   "metadata": {},
   "outputs": [],
   "source": [
    "# 셀 하나하나 파이썬 소스 입력 -> 실행"
   ]
  },
  {
   "cell_type": "code",
   "execution_count": 1,
   "id": "ef229111",
   "metadata": {},
   "outputs": [
    {
     "name": "stdout",
     "output_type": "stream",
     "text": [
      "Hello, Python\n",
      " 홍길동\n"
     ]
    }
   ],
   "source": [
    "# print()를 이용해서 출력 (블럭잡고 ctrl+/ : 블럭주석 토글)\n",
    "# print('Hello, Python')  # 파이썬에서는 쌍따옴표와 홑따옴표는 같은 의미\n",
    "# print('홍길동')\n",
    "print(\"Hello, Python\\n 홍길동\")"
   ]
  },
  {
   "cell_type": "code",
   "execution_count": 4,
   "id": "be87aa55",
   "metadata": {},
   "outputs": [
    {
     "ename": "TypeError",
     "evalue": "'int' object is not callable",
     "output_type": "error",
     "traceback": [
      "\u001b[1;31m---------------------------------------------------------------------------\u001b[0m",
      "\u001b[1;31mTypeError\u001b[0m                                 Traceback (most recent call last)",
      "Cell \u001b[1;32mIn[4], line 3\u001b[0m\n\u001b[0;32m      1\u001b[0m age \u001b[38;5;241m=\u001b[39m \u001b[38;5;241m25\u001b[39m  \u001b[38;5;66;03m# 숫자\u001b[39;00m\n\u001b[0;32m      2\u001b[0m duration \u001b[38;5;241m=\u001b[39m \u001b[38;5;124m\"\u001b[39m\u001b[38;5;124m2\u001b[39m\u001b[38;5;124m\"\u001b[39m  \u001b[38;5;66;03m# 문자\u001b[39;00m\n\u001b[1;32m----> 3\u001b[0m \u001b[38;5;28;43mprint\u001b[39;49m\u001b[43m(\u001b[49m\u001b[43mage\u001b[49m\u001b[43m \u001b[49m\u001b[38;5;241;43m+\u001b[39;49m\u001b[43m \u001b[49m\u001b[38;5;28;43mint\u001b[39;49m\u001b[43m(\u001b[49m\u001b[43mduration\u001b[49m\u001b[43m)\u001b[49m\u001b[43m)\u001b[49m  \u001b[38;5;66;03m# 파이썬에서는 연산시에 인터프리터가 자동형변환을 제공하지 않는다.\u001b[39;00m\n\u001b[0;32m      4\u001b[0m \u001b[38;5;28mprint\u001b[39m(\u001b[38;5;28mstr\u001b[39m(age) \u001b[38;5;241m+\u001b[39m duration)\n",
      "\u001b[1;31mTypeError\u001b[0m: 'int' object is not callable"
     ]
    }
   ],
   "source": [
    "age = 25  # 숫자\n",
    "duration = \"2\"  # 문자\n",
    "print(age + int(duration))  # 파이썬에서는 연산시에 인터프리터가 자동형변환을 제공하지 않는다.\n",
    "print(str(age) + duration)\n",
    "# view 메뉴 -> toggle line Number 선택"
   ]
  },
  {
   "cell_type": "code",
   "execution_count": null,
   "id": "7e963b53",
   "metadata": {},
   "outputs": [],
   "source": [
    "# range(10) ==> [0,1,2,3,4,5,6,7,8,9] 파이썬은 수의 제한이 없다.\n",
    "# for i in range(1000000000000000):  \n",
    "#     print(i)\n",
    "# stop 기능\n",
    "# kernel 메뉴의 restart"
   ]
  },
  {
   "cell_type": "code",
   "execution_count": 7,
   "id": "e042e6d4",
   "metadata": {},
   "outputs": [
    {
     "data": {
      "text/plain": [
       "5"
      ]
     },
     "execution_count": 7,
     "metadata": {},
     "output_type": "execute_result"
    }
   ],
   "source": [
    "print = 5\n",
    "print"
   ]
  },
  {
   "cell_type": "code",
   "execution_count": 3,
   "id": "c3889549",
   "metadata": {},
   "outputs": [
    {
     "ename": "TypeError",
     "evalue": "'int' object is not callable",
     "output_type": "error",
     "traceback": [
      "\u001b[1;31m---------------------------------------------------------------------------\u001b[0m",
      "\u001b[1;31mTypeError\u001b[0m                                 Traceback (most recent call last)",
      "Cell \u001b[1;32mIn[3], line 1\u001b[0m\n\u001b[1;32m----> 1\u001b[0m \u001b[38;5;28;43mprint\u001b[39;49m\u001b[43m(\u001b[49m\u001b[38;5;124;43m'\u001b[39;49m\u001b[38;5;124;43mHello\u001b[39;49m\u001b[38;5;124;43m'\u001b[39;49m\u001b[43m)\u001b[49m\n",
      "\u001b[1;31mTypeError\u001b[0m: 'int' object is not callable"
     ]
    }
   ],
   "source": [
    "print('Hello')  # 커널 재시작 해서 clear"
   ]
  },
  {
   "cell_type": "code",
   "execution_count": 5,
   "id": "5881a111",
   "metadata": {},
   "outputs": [],
   "source": [
    "# 1. 실수로 할당된 print 변수를 삭제\n",
    "del print\n",
    "# 2. 실수롱 할당된 print 변수를 삭제 : kernel 재시작\n"
   ]
  },
  {
   "cell_type": "code",
   "execution_count": 6,
   "id": "8fb5646a",
   "metadata": {},
   "outputs": [
    {
     "name": "stdout",
     "output_type": "stream",
     "text": [
      "Hello\n"
     ]
    }
   ],
   "source": [
    "print('Hello')"
   ]
  },
  {
   "cell_type": "markdown",
   "id": "4fb6e785",
   "metadata": {},
   "source": [
    "# 3. ESC 키 누르고\n",
    "- dd : 셀 삭제\n",
    "- a : 위에 셀 추가\n",
    "- b : 아래 셀 추가\n",
    "- m : 마크다운 셀로 변경\n",
    "- y : 코드셀로 변경\n",
    "- h : 핫키(단축키) 안내\n",
    "- o : 해당 셀의 실행 결과 접기/펴기"
   ]
  },
  {
   "cell_type": "code",
   "execution_count": 8,
   "id": "87b0cbbf",
   "metadata": {},
   "outputs": [
    {
     "name": "stdout",
     "output_type": "stream",
     "text": [
      " C 드라이브의 볼륨에는 이름이 없습니다.\n",
      " 볼륨 일련 번호: A014-DCD6\n",
      "\n",
      " C:\\AI\\source\\01_python 디렉터리\n",
      "\n",
      "2025-09-12  오전 10:52    <DIR>          .\n",
      "2025-09-12  오전 10:52    <DIR>          ..\n",
      "2025-09-11  오후 05:28    <DIR>          .ipynb_checkpoints\n",
      "2025-09-12  오전 10:52             7,760 ch01_파이썬 개요 및 환경 설정.ipynb\n",
      "               1개 파일               7,760 바이트\n",
      "               3개 디렉터리  156,976,906,240 바이트 남음\n"
     ]
    }
   ],
   "source": [
    "# !주피터 노트북에서 cmd명령어 수행(해당 운영체제의 터미널 명령어)\n",
    "!dir"
   ]
  },
  {
   "cell_type": "code",
   "execution_count": 9,
   "id": "9dd64ea1",
   "metadata": {},
   "outputs": [
    {
     "name": "stdout",
     "output_type": "stream",
     "text": [
      " C 드라이브의 볼륨에는 이름이 없습니다.\n",
      " 볼륨 일련 번호: A014-DCD6\n",
      "\n",
      " C:\\AI\\source\\01_python 디렉터리\n",
      "\n",
      "2025-09-12  오전 10:52    <DIR>          .\n",
      "2025-09-12  오전 10:52    <DIR>          ..\n",
      "2025-09-11  오후 05:28    <DIR>          .ipynb_checkpoints\n",
      "2025-09-12  오전 10:52             7,760 ch01_파이썬 개요 및 환경 설정.ipynb\n",
      "               1개 파일               7,760 바이트\n",
      "               3개 디렉터리  156,976,955,392 바이트 남음\n"
     ]
    }
   ],
   "source": [
    "# 매직 명령어(주피터 노트북 자체 명령어 - 우분투명령어)\n",
    "%ls"
   ]
  }
 ],
 "metadata": {
  "kernelspec": {
   "display_name": "Python 3 (ipykernel)",
   "language": "python",
   "name": "python3"
  },
  "language_info": {
   "codemirror_mode": {
    "name": "ipython",
    "version": 3
   },
   "file_extension": ".py",
   "mimetype": "text/x-python",
   "name": "python",
   "nbconvert_exporter": "python",
   "pygments_lexer": "ipython3",
   "version": "3.10.9"
  },
  "toc": {
   "base_numbering": 1,
   "nav_menu": {},
   "number_sections": false,
   "sideBar": true,
   "skip_h1_title": false,
   "title_cell": "Table of Contents",
   "title_sidebar": "Contents",
   "toc_cell": false,
   "toc_position": {},
   "toc_section_display": true,
   "toc_window_display": true
  }
 },
 "nbformat": 4,
 "nbformat_minor": 5
}
