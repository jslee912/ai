{
 "cells": [
  {
   "cell_type": "code",
   "execution_count": 1,
   "id": "28a7d8fb",
   "metadata": {},
   "outputs": [
    {
     "data": {
      "text/html": [
       "\n",
       "<style>\n",
       "div.container{width:90% !important;} \n",
       "div.cell.code_cell.rendered{width:100%;} \n",
       "div.input_prompt{padding:0px;}\n",
       "div.CodeMirror {font-family:Consolas; font-size:14pt;} \n",
       "div.text_cell_render.rendered_html{font-size:14pt;} \n",
       "div.output {font-size:14pt; font-weight:bold;} \n",
       "div.input {font-family:Consolas; font-size:14pt;} \n",
       "div.prompt {min-width:70px;}\n",
       "div#toc-wrapper{padding-top:120px;} \n",
       "div.text_cell_render ul li{font-size:12pt;padding:5px;} \n",
       "table.dataframe{font-size:12px;}\n",
       "</style>\n"
      ],
      "text/plain": [
       "<IPython.core.display.HTML object>"
      ]
     },
     "metadata": {},
     "output_type": "display_data"
    }
   ],
   "source": [
    "from IPython.display import display, HTML\n",
    "display(HTML(\"\"\"\n",
    "<style>\n",
    "div.container{width:90% !important;} \n",
    "div.cell.code_cell.rendered{width:100%;} \n",
    "div.input_prompt{padding:0px;}\n",
    "div.CodeMirror {font-family:Consolas; font-size:14pt;} \n",
    "div.text_cell_render.rendered_html{font-size:14pt;} \n",
    "div.output {font-size:14pt; font-weight:bold;} \n",
    "div.input {font-family:Consolas; font-size:14pt;} \n",
    "div.prompt {min-width:70px;}\n",
    "div#toc-wrapper{padding-top:120px;} \n",
    "div.text_cell_render ul li{font-size:12pt;padding:5px;} \n",
    "table.dataframe{font-size:12px;}\n",
    "</style>\n",
    "\"\"\"))"
   ]
  },
  {
   "cell_type": "markdown",
   "id": "9b933fe0",
   "metadata": {},
   "source": [
    "<b><font size=\"6\" color=\"red\">ch05. 함수</font></b>\n",
    "- 반복해서 사용할 코드를 묶어 놓고 그것에 이름을 붙인 것\n",
    "- 오버로딩 불가(같은 이름의 함수는 덮어씀)\n",
    "- 함수정의\n",
    "```\n",
    "def 함수명([매개변수1, 매개변수2, ...]):\n",
    "    명령어1\n",
    "    명령어2.....\n",
    "```\n",
    "# 1절 함수의 정의 및 사용\n",
    "## 1.1 함수 정의"
   ]
  },
  {
   "cell_type": "code",
   "execution_count": 2,
   "id": "e4a2d498",
   "metadata": {},
   "outputs": [],
   "source": [
    "def my_message(x, msg):  # msg를 x번 출력하는 함수 정의\n",
    "    for i in range(x):\n",
    "        print(i, msg)    "
   ]
  },
  {
   "cell_type": "code",
   "execution_count": 3,
   "id": "29ac2e0f",
   "metadata": {},
   "outputs": [
    {
     "name": "stdout",
     "output_type": "stream",
     "text": [
      "0 Hello\n",
      "1 Hello\n",
      "2 Hello\n"
     ]
    }
   ],
   "source": [
    "# 함수 사용  == 함수 호출\n",
    "my_message(3, 'Hello')"
   ]
  },
  {
   "cell_type": "code",
   "execution_count": 4,
   "id": "cf3c2e2f",
   "metadata": {},
   "outputs": [
    {
     "name": "stdout",
     "output_type": "stream",
     "text": [
      "0 Hello\n",
      "1 Hello\n",
      "0 Python\n",
      "1 Python\n",
      "2 Python\n"
     ]
    }
   ],
   "source": [
    "# 함수 이름 변경(함수 복사)\n",
    "my_msg = my_message\n",
    "my_message(2, 'Hello')\n",
    "my_msg(3, 'Python')"
   ]
  },
  {
   "cell_type": "code",
   "execution_count": 5,
   "id": "bb8c01bf",
   "metadata": {},
   "outputs": [
    {
     "data": {
      "text/plain": [
       "(function, function)"
      ]
     },
     "execution_count": 5,
     "metadata": {},
     "output_type": "execute_result"
    }
   ],
   "source": [
    "type(my_msg), type(my_message)"
   ]
  },
  {
   "cell_type": "code",
   "execution_count": 6,
   "id": "005c4543",
   "metadata": {},
   "outputs": [
    {
     "name": "stdout",
     "output_type": "stream",
     "text": [
      "Hello\n",
      "Hello\n"
     ]
    }
   ],
   "source": [
    "print('Hello')   # 파이썬 내장 함수(import 하지 않고 사용할 수 있는 함수)\n",
    "print = 5\n",
    "# print('Hello')\n",
    "del print\n",
    "print('Hello')"
   ]
  },
  {
   "cell_type": "code",
   "execution_count": 7,
   "id": "0524fda0",
   "metadata": {},
   "outputs": [
    {
     "name": "stdout",
     "output_type": "stream",
     "text": [
      "0 Hello\n",
      "1 Hello\n",
      "2 Hello\n"
     ]
    }
   ],
   "source": [
    "my_message(3,'Hello')"
   ]
  },
  {
   "cell_type": "code",
   "execution_count": 8,
   "id": "82c99cc6",
   "metadata": {},
   "outputs": [
    {
     "name": "stdout",
     "output_type": "stream",
     "text": [
      "0 Hello\n",
      "1 Hello\n"
     ]
    }
   ],
   "source": [
    "my_message=5\n",
    "my_msg(2,'Hello')"
   ]
  },
  {
   "cell_type": "code",
   "execution_count": 9,
   "id": "0bd8b86e",
   "metadata": {},
   "outputs": [
    {
     "ename": "TypeError",
     "evalue": "'int' object is not callable",
     "output_type": "error",
     "traceback": [
      "\u001b[1;31m---------------------------------------------------------------------------\u001b[0m",
      "\u001b[1;31mTypeError\u001b[0m                                 Traceback (most recent call last)",
      "Cell \u001b[1;32mIn[9], line 1\u001b[0m\n\u001b[1;32m----> 1\u001b[0m \u001b[43mmy_message\u001b[49m\u001b[43m(\u001b[49m\u001b[38;5;241;43m2\u001b[39;49m\u001b[43m,\u001b[49m\u001b[38;5;124;43m'\u001b[39;49m\u001b[38;5;124;43mHello\u001b[39;49m\u001b[38;5;124;43m'\u001b[39;49m\u001b[43m)\u001b[49m\n",
      "\u001b[1;31mTypeError\u001b[0m: 'int' object is not callable"
     ]
    }
   ],
   "source": [
    "my_message(2,'Hello')"
   ]
  },
  {
   "cell_type": "code",
   "execution_count": 11,
   "id": "5cae742b",
   "metadata": {},
   "outputs": [
    {
     "ename": "NameError",
     "evalue": "name 'my_message' is not defined",
     "output_type": "error",
     "traceback": [
      "\u001b[1;31m---------------------------------------------------------------------------\u001b[0m",
      "\u001b[1;31mNameError\u001b[0m                                 Traceback (most recent call last)",
      "Cell \u001b[1;32mIn[11], line 1\u001b[0m\n\u001b[1;32m----> 1\u001b[0m \u001b[38;5;28;01mdel\u001b[39;00m my_message\n\u001b[0;32m      2\u001b[0m my_message(\u001b[38;5;241m2\u001b[39m,\u001b[38;5;124m'\u001b[39m\u001b[38;5;124mHello\u001b[39m\u001b[38;5;124m'\u001b[39m)\n",
      "\u001b[1;31mNameError\u001b[0m: name 'my_message' is not defined"
     ]
    }
   ],
   "source": [
    "del my_message        # 변수 및 함수 제거하여도\n",
    "my_message(2,'Hello') # 사용자 정의함수, 라이브러리 함수는 del하면 사용불가"
   ]
  },
  {
   "cell_type": "code",
   "execution_count": 12,
   "id": "75d56a21",
   "metadata": {},
   "outputs": [],
   "source": [
    "# 함수 중복 정의 불가(오버로딩 불가)\n",
    "def my_hello():\n",
    "    print('Hello Python')\n",
    "    print('Hello world')\n",
    "def my_hello(cnt):        # cnt번 출력\n",
    "    for i in range(cnt):\n",
    "        print('Hello, Python', end='\\t')\n",
    "        print('Hello, World')"
   ]
  },
  {
   "cell_type": "code",
   "execution_count": 13,
   "id": "bcca5be6",
   "metadata": {
    "collapsed": true
   },
   "outputs": [
    {
     "ename": "TypeError",
     "evalue": "my_hello() missing 1 required positional argument: 'cnt'",
     "output_type": "error",
     "traceback": [
      "\u001b[1;31m---------------------------------------------------------------------------\u001b[0m",
      "\u001b[1;31mTypeError\u001b[0m                                 Traceback (most recent call last)",
      "Cell \u001b[1;32mIn[13], line 1\u001b[0m\n\u001b[1;32m----> 1\u001b[0m \u001b[43mmy_hello\u001b[49m\u001b[43m(\u001b[49m\u001b[43m)\u001b[49m\n",
      "\u001b[1;31mTypeError\u001b[0m: my_hello() missing 1 required positional argument: 'cnt'"
     ]
    }
   ],
   "source": [
    "my_hello()   # 함수의 오버로딩을 허용하지 않는다."
   ]
  },
  {
   "cell_type": "code",
   "execution_count": 14,
   "id": "b65e4371",
   "metadata": {},
   "outputs": [
    {
     "name": "stdout",
     "output_type": "stream",
     "text": [
      "Hello, Python\tHello, World\n",
      "Hello, Python\tHello, World\n"
     ]
    }
   ],
   "source": [
    "my_hello(2)"
   ]
  },
  {
   "cell_type": "code",
   "execution_count": 15,
   "id": "18138cad",
   "metadata": {},
   "outputs": [
    {
     "data": {
      "text/plain": [
       "<function __main__.my_hello(cnt)>"
      ]
     },
     "execution_count": 15,
     "metadata": {},
     "output_type": "execute_result"
    }
   ],
   "source": [
    "my_hello"
   ]
  },
  {
   "cell_type": "code",
   "execution_count": 16,
   "id": "3cc6ae81",
   "metadata": {},
   "outputs": [
    {
     "data": {
      "text/plain": [
       "'__main__'"
      ]
     },
     "execution_count": 16,
     "metadata": {},
     "output_type": "execute_result"
    }
   ],
   "source": [
    "__name__"
   ]
  },
  {
   "cell_type": "code",
   "execution_count": 17,
   "id": "8a26121a",
   "metadata": {},
   "outputs": [
    {
     "name": "stdout",
     "output_type": "stream",
     "text": [
      "Hello, Python\tHello, World\n",
      "Hello, Python\tHello, World\n"
     ]
    }
   ],
   "source": [
    "if __name__ == '__main__':\n",
    "    my_hello(2)"
   ]
  },
  {
   "cell_type": "code",
   "execution_count": 1,
   "id": "bf1829b3",
   "metadata": {},
   "outputs": [],
   "source": [
    "import ch05 # ch05 모듈이 해석되서 메모리 로드"
   ]
  },
  {
   "cell_type": "code",
   "execution_count": 2,
   "id": "b1b66e77",
   "metadata": {},
   "outputs": [
    {
     "name": "stdout",
     "output_type": "stream",
     "text": [
      "ch05\n",
      "Hello, Python\tHello, World\n",
      "Hello, Python\tHello, World\n",
      "Hello, Python\tHello, World\n"
     ]
    }
   ],
   "source": [
    "ch05.my_hello(3)"
   ]
  },
  {
   "cell_type": "code",
   "execution_count": 3,
   "id": "90bc7859",
   "metadata": {},
   "outputs": [],
   "source": [
    "from ch05 import my_hello  # ch05모듈안의 my_hello만 메모리 로드"
   ]
  },
  {
   "cell_type": "code",
   "execution_count": 4,
   "id": "43153c2d",
   "metadata": {},
   "outputs": [
    {
     "name": "stdout",
     "output_type": "stream",
     "text": [
      "ch05\n",
      "Hello, Python\tHello, World\n",
      "Hello, Python\tHello, World\n",
      "Hello, Python\tHello, World\n"
     ]
    }
   ],
   "source": [
    "my_hello(3)"
   ]
  },
  {
   "cell_type": "code",
   "execution_count": 9,
   "id": "87d8f256",
   "metadata": {},
   "outputs": [],
   "source": [
    "def my_function():\n",
    "    '''\n",
    "    함수의 첫 라인에 독스트링을 포함할 수 있습니다\n",
    "    독스트링은 함수의 설명서를 달아주는 역할\n",
    "    주석보다 많은 기능(함수 호출시 shift+tab으로 독스트링을 볼 수 있음)\n",
    "    '''\n",
    "    pass"
   ]
  },
  {
   "cell_type": "code",
   "execution_count": 10,
   "id": "011680e1",
   "metadata": {},
   "outputs": [
    {
     "name": "stdout",
     "output_type": "stream",
     "text": [
      "\n",
      "    함수의 첫 라인에 독스트링을 포함할 수 있습니다\n",
      "    독스트링은 함수의 설명서를 달아주는 역할\n",
      "    주석보다 많은 기능(함수 호출시 shift+tab으로 독스트링을 볼 수 있음)\n",
      "    \n"
     ]
    }
   ],
   "source": [
    "print(my_function.__doc__)"
   ]
  },
  {
   "cell_type": "code",
   "execution_count": 11,
   "id": "bd710d7b",
   "metadata": {},
   "outputs": [],
   "source": [
    "def fibonacci(n):\n",
    "    '''\n",
    "    매개변수로 들어온 n값 미만의 피보나치 수열를 출력하는 함수\n",
    "    ex. n= 10 : 0 1 1 2 3 5 8\n",
    "        n=100 : 0 1 1 2 3 5 8 13 21 34 55 89 \n",
    "    '''\n",
    "    a, b = 0, 1  # 함수 내에 선언한 변수 : 지역변수 (반: 전역변수)\n",
    "    while a < n:\n",
    "        print(a, end=' ')\n",
    "        a, b = b, a+b\n",
    "    print() # 개행"
   ]
  },
  {
   "cell_type": "code",
   "execution_count": 13,
   "id": "adaea756",
   "metadata": {},
   "outputs": [
    {
     "name": "stdout",
     "output_type": "stream",
     "text": [
      "0 1 1 2 3 5 8 13 21 34 55 89 144 233 377 610 987 1597 2584 4181 6765 \n"
     ]
    }
   ],
   "source": [
    "fibonacci(10000)"
   ]
  },
  {
   "cell_type": "code",
   "execution_count": 14,
   "id": "260177db",
   "metadata": {},
   "outputs": [
    {
     "ename": "NameError",
     "evalue": "name 'a' is not defined",
     "output_type": "error",
     "traceback": [
      "\u001b[1;31m---------------------------------------------------------------------------\u001b[0m",
      "\u001b[1;31mNameError\u001b[0m                                 Traceback (most recent call last)",
      "Cell \u001b[1;32mIn[14], line 1\u001b[0m\n\u001b[1;32m----> 1\u001b[0m \u001b[43ma\u001b[49m,b\n",
      "\u001b[1;31mNameError\u001b[0m: name 'a' is not defined"
     ]
    }
   ],
   "source": [
    "a,b  # 지역변수는 함수내에서만 사용가능"
   ]
  },
  {
   "cell_type": "markdown",
   "id": "53d3366e",
   "metadata": {},
   "source": [
    "## 1.3 지역변수(local var) 와 전역변수(global var)"
   ]
  },
  {
   "cell_type": "code",
   "execution_count": 15,
   "id": "cc6f16c9",
   "metadata": {},
   "outputs": [
    {
     "name": "stdout",
     "output_type": "stream",
     "text": [
      "함수안 : 100\n",
      "함수밖 : 100\n"
     ]
    }
   ],
   "source": [
    "global_var = 100\n",
    "def func1():\n",
    "    print('함수안 :', global_var)    # 지역심볼테이블>전역심볼테이블>시스템변수\n",
    "func1()\n",
    "print('함수밖 :', global_var)"
   ]
  },
  {
   "cell_type": "code",
   "execution_count": 17,
   "id": "c9543320",
   "metadata": {},
   "outputs": [
    {
     "name": "stdout",
     "output_type": "stream",
     "text": [
      "함수안 : 200\n"
     ]
    }
   ],
   "source": [
    "def func2():\n",
    "    local_var = 200 # 지역 변수(함수내에서 할당)\n",
    "    print('함수안 :', local_var)\n",
    "func2()"
   ]
  },
  {
   "cell_type": "code",
   "execution_count": 18,
   "id": "dbf91a2f",
   "metadata": {
    "collapsed": true
   },
   "outputs": [
    {
     "ename": "NameError",
     "evalue": "name 'local_var' is not defined",
     "output_type": "error",
     "traceback": [
      "\u001b[1;31m---------------------------------------------------------------------------\u001b[0m",
      "\u001b[1;31mNameError\u001b[0m                                 Traceback (most recent call last)",
      "Cell \u001b[1;32mIn[18], line 1\u001b[0m\n\u001b[1;32m----> 1\u001b[0m \u001b[38;5;28mprint\u001b[39m(\u001b[38;5;124m'\u001b[39m\u001b[38;5;124m함수밖에서 지역변수 :\u001b[39m\u001b[38;5;124m'\u001b[39m, \u001b[43mlocal_var\u001b[49m)\n",
      "\u001b[1;31mNameError\u001b[0m: name 'local_var' is not defined"
     ]
    }
   ],
   "source": [
    "# print('함수밖에서 지역변수 :', local_var)  # error"
   ]
  },
  {
   "cell_type": "code",
   "execution_count": 6,
   "id": "e2eed037",
   "metadata": {},
   "outputs": [
    {
     "name": "stdout",
     "output_type": "stream",
     "text": [
      "지역변수 g_var : 200\n",
      "전역변수 g_var : 100\n"
     ]
    }
   ],
   "source": [
    "g_var = 100  # 전역변수\n",
    "def func3():\n",
    "    g_var = 200  # 지역변수(함수내에서 할당)\n",
    "    print('지역변수 g_var :', g_var)\n",
    "func3()\n",
    "print('전역변수 g_var :', g_var)"
   ]
  },
  {
   "cell_type": "code",
   "execution_count": 8,
   "id": "ccf6d8e4",
   "metadata": {},
   "outputs": [
    {
     "name": "stdout",
     "output_type": "stream",
     "text": [
      "지역변수 g_var : 200\n",
      "전역변수 g_var : 100\n"
     ]
    }
   ],
   "source": [
    "# 렉시컬 특성 : 변수가 어디서 선언되었는지에 따라\n",
    "# 변수의 범위가 정해짐(지역 vs 전역)\n",
    "g_var = 100  # 전역변수\n",
    "def func3():  \n",
    "    print('지역변수 g_var :', g_var)   # local variable 'g_var' referenced before assignment  \n",
    "    g_var = 200  # 지역변수(함수내에서 할당)\n",
    "func3()\n",
    "print('전역변수 g_var :', g_var)"
   ]
  },
  {
   "cell_type": "code",
   "execution_count": 9,
   "id": "675313f6",
   "metadata": {},
   "outputs": [
    {
     "name": "stdout",
     "output_type": "stream",
     "text": [
      "전역변수 g_var : 100\n",
      "전역변수 g_var : 200\n"
     ]
    }
   ],
   "source": [
    "# 렉시컬 특성\n",
    "g_var = 100  # 전역변수\n",
    "def func3():\n",
    "    global g_var  # 함수내에서의 g_var는 전역변수를 쓰겠다.\n",
    "    print('전역변수 g_var :', g_var)\n",
    "    g_var = 200  # 전역변수에 200할당\n",
    "    \n",
    "func3()\n",
    "print('전역변수 g_var :', g_var)"
   ]
  },
  {
   "cell_type": "code",
   "execution_count": 22,
   "id": "9431bee3",
   "metadata": {},
   "outputs": [
    {
     "name": "stdout",
     "output_type": "stream",
     "text": [
      "전역변수 g_var : 200\n",
      "전역변수 g_var : 200\n"
     ]
    }
   ],
   "source": [
    "# 렉시컬 특성\n",
    "g_var = 100  # 전역변수\n",
    "def func3():\n",
    "    global g_var1 # 함수 안에서 global 키워드로 전역변수를 선언할 수 있다.\n",
    "    g_var1 = 200  \n",
    "    print('전역변수 g_var :', g_var1)\n",
    "func3()\n",
    "print('전역변수 g_var :', g_var1)"
   ]
  },
  {
   "cell_type": "markdown",
   "id": "14fa9a34",
   "metadata": {},
   "source": [
    "## 1.4 값에 의한 호출\n",
    "- 함수에 인수로 전달되는 변수가 스칼라변수(문자, 숫자, 논리형)일 때"
   ]
  },
  {
   "cell_type": "code",
   "execution_count": 23,
   "id": "422069ba",
   "metadata": {},
   "outputs": [
    {
     "data": {
      "text/plain": [
       "2327705905072"
      ]
     },
     "execution_count": 23,
     "metadata": {},
     "output_type": "execute_result"
    }
   ],
   "source": [
    "foo = 'a'  # 전역변수\n",
    "id(foo)"
   ]
  },
  {
   "cell_type": "code",
   "execution_count": 24,
   "id": "88cb01b8",
   "metadata": {},
   "outputs": [
    {
     "name": "stdout",
     "output_type": "stream",
     "text": [
      "Before : a 의 주소는  2327705905072\n",
      "After : aaa 의 주소는  2327789832112\n"
     ]
    }
   ],
   "source": [
    "def func1(f): # 매개변수는 지역 변수\n",
    "    print('Before :', f, '의 주소는 ', id(f))\n",
    "    f = f*3\n",
    "    print('After :', f, '의 주소는 ', id(f))\n",
    "func1(foo)"
   ]
  },
  {
   "cell_type": "code",
   "execution_count": 26,
   "id": "13593cd0",
   "metadata": {},
   "outputs": [
    {
     "name": "stdout",
     "output_type": "stream",
     "text": [
      "foo= a 의 주소는 2327705905072\n"
     ]
    }
   ],
   "source": [
    "print('foo=', foo,'의 주소는', id(foo))"
   ]
  },
  {
   "cell_type": "markdown",
   "id": "154621c8",
   "metadata": {},
   "source": [
    "## 1.5 참조에 의한 호출\n",
    "- 함수에 인수로 전달되는 변수가 리스트, 튜플, 셋, 딕셔너리, 기타 객체일 경우"
   ]
  },
  {
   "cell_type": "code",
   "execution_count": 27,
   "id": "21426219",
   "metadata": {},
   "outputs": [
    {
     "data": {
      "text/plain": [
       "2327821694016"
      ]
     },
     "execution_count": 27,
     "metadata": {},
     "output_type": "execute_result"
    }
   ],
   "source": [
    "L = [1,2,3,4,5]\n",
    "id(L)"
   ]
  },
  {
   "cell_type": "code",
   "execution_count": 29,
   "id": "4f5ef93d",
   "metadata": {},
   "outputs": [
    {
     "name": "stdout",
     "output_type": "stream",
     "text": [
      "Before: [1, 2, 3, 4, 5, 6] 의 주소는  2327821694016\n",
      "After : [1, 2, 3, 4, 5, 6, 6] 의 주소는  2327821694016\n"
     ]
    }
   ],
   "source": [
    "def func2(f):  #매개변수는 지역변수\n",
    "    print('Before:', f, '의 주소는 ', id(f))\n",
    "    f.append(6)\n",
    "    print('After :', f, '의 주소는 ', id(f))\n",
    "func2(L)"
   ]
  },
  {
   "cell_type": "code",
   "execution_count": 30,
   "id": "7b916792",
   "metadata": {},
   "outputs": [
    {
     "name": "stdout",
     "output_type": "stream",
     "text": [
      "L= [1, 2, 3, 4, 5, 6, 6] 의 주소는 2327821694016\n"
     ]
    }
   ],
   "source": [
    "print('L=', L,'의 주소는', id(L))"
   ]
  },
  {
   "cell_type": "markdown",
   "id": "51d53350",
   "metadata": {},
   "source": [
    "# 2절 함수의 실행결과를 반환하는 return"
   ]
  },
  {
   "cell_type": "code",
   "execution_count": 10,
   "id": "eea82e9c",
   "metadata": {},
   "outputs": [],
   "source": [
    "def fibonacci_print(n):\n",
    "    '매개변수로 들어온 n값 미만의 피보나치 수열를 출력하는 함수'\n",
    "    a, b = 0, 1  # 함수 내에 선언한 변수 : 지역변수 (반: 전역변수)\n",
    "    while a < n:\n",
    "        print(a, end=' ')\n",
    "        a, b = b, a+b\n",
    "    print() # 개행\n",
    "def fibonacci(n):\n",
    "    \"n미만의 피보나치수열을 리스트로 return\"\n",
    "    result = [] # 피보나치수열을 append할 리스트\n",
    "    a, b = 0, 1\n",
    "    while a<n:\n",
    "        result.append(a) # 리스트에 append\n",
    "        a, b = b, a+b\n",
    "    return result"
   ]
  },
  {
   "cell_type": "code",
   "execution_count": 41,
   "id": "7c2a3df3",
   "metadata": {},
   "outputs": [
    {
     "name": "stdout",
     "output_type": "stream",
     "text": [
      "[0, 1, 1, 2, 3, 5, 8]\n",
      "<class 'list'>\n"
     ]
    }
   ],
   "source": [
    "x = fibonacci(10)\n",
    "print(x)\n",
    "print(type(x))"
   ]
  },
  {
   "cell_type": "code",
   "execution_count": 42,
   "id": "74e1c2cc",
   "metadata": {},
   "outputs": [
    {
     "name": "stdout",
     "output_type": "stream",
     "text": [
      "0 1 1 2 3 5 8 \n",
      "x= None\n",
      "<class 'NoneType'>\n"
     ]
    }
   ],
   "source": [
    "x = fibonacci_print(10)\n",
    "print('x=', x)\n",
    "print(type(x))"
   ]
  },
  {
   "cell_type": "markdown",
   "id": "5b80aa6c",
   "metadata": {},
   "source": [
    "### 여러개 값 return\n",
    "- 여러개 값을 갖는 튜플로 return (여러개 값을 return 하는 것이 아니라 한개의 튜플로 return하는 것)"
   ]
  },
  {
   "cell_type": "code",
   "execution_count": 37,
   "id": "7798aa66",
   "metadata": {},
   "outputs": [],
   "source": [
    "def swap(a,b):\n",
    "    '매개변수의 순서를 바꿔서 return'\n",
    "    return b, a    # return (b,a)로 자동으로 변환된다."
   ]
  },
  {
   "cell_type": "code",
   "execution_count": 38,
   "id": "9d9118df",
   "metadata": {},
   "outputs": [
    {
     "name": "stdout",
     "output_type": "stream",
     "text": [
      "함수 실행 전 x, y = 5 10\n",
      "함수 실행 후 x, y = 10 5\n"
     ]
    }
   ],
   "source": [
    "x, y = 5, 10    # x=5; y=10  # 한 줄에 여러 문장이 있을 때 문자을 구분하기 위한 세미콜론\n",
    "print('함수 실행 전 x, y =', x, y)\n",
    "x, y = swap(x, y)\n",
    "print('함수 실행 후 x, y =', x, y)"
   ]
  },
  {
   "cell_type": "markdown",
   "id": "284a7d19",
   "metadata": {},
   "source": [
    "# 3절 함수의 매개변수 ★\n",
    "## 3.1 기본값을 갖는 매개변수"
   ]
  },
  {
   "cell_type": "code",
   "execution_count": 45,
   "id": "c9d9f435",
   "metadata": {},
   "outputs": [],
   "source": [
    "def make_url(ip, port=80):   # 순서인수 > 기본값을 갖는 매개변수, 기본값으로 변수가 지정될 수도 있다.\n",
    "    return \"http://{}:{}\".format(ip, port)"
   ]
  },
  {
   "cell_type": "code",
   "execution_count": 44,
   "id": "a3edc2d0",
   "metadata": {},
   "outputs": [
    {
     "name": "stdout",
     "output_type": "stream",
     "text": [
      "http://localhost:8090\n",
      "http://www.naver.com:80\n",
      "http://localhost:9090\n"
     ]
    }
   ],
   "source": [
    "print(make_url(\"localhost\",8090))\n",
    "print(make_url(\"www.naver.com\"))\n",
    "print(make_url(port=9090, ip=\"localhost\"))"
   ]
  },
  {
   "cell_type": "code",
   "execution_count": 46,
   "id": "5a81ce53",
   "metadata": {
    "collapsed": true
   },
   "outputs": [
    {
     "ename": "SyntaxError",
     "evalue": "non-default argument follows default argument (1955334081.py, line 1)",
     "output_type": "error",
     "traceback": [
      "\u001b[1;36m  Cell \u001b[1;32mIn[46], line 1\u001b[1;36m\u001b[0m\n\u001b[1;33m    def make_url(port=80, ip):\u001b[0m\n\u001b[1;37m                          ^\u001b[0m\n\u001b[1;31mSyntaxError\u001b[0m\u001b[1;31m:\u001b[0m non-default argument follows default argument\n"
     ]
    }
   ],
   "source": [
    "# def make_url(port=80, ip):   # 순서인수 > 기본값을 갖는 매개변수 순으로 배치 ==> error\n",
    "#     return \"http://{}:{}\".format(ip, port)"
   ]
  },
  {
   "cell_type": "markdown",
   "id": "a0f13d9f",
   "metadata": {},
   "source": [
    "## 3.2 기본변수를 갖는 매개변수\n",
    "- 기본변수가 스칼라변수(문자, 숫자, 논리형)일 때\n",
    "- 기본변수가 리스트, 셋, 딕셔너리, 기타 객체일 때"
   ]
  },
  {
   "cell_type": "code",
   "execution_count": 50,
   "id": "39e20c53",
   "metadata": {},
   "outputs": [],
   "source": [
    "i = 80\n",
    "# 기본변수가 스칼라변수일 때 : 함수가 정의되는 시점으로 기본값 셋팅\n",
    "def make_url(ip, port=i):  \n",
    "    return \"http://{}:{}\".format(ip, port)"
   ]
  },
  {
   "cell_type": "code",
   "execution_count": 51,
   "id": "6a2c53d6",
   "metadata": {},
   "outputs": [
    {
     "data": {
      "text/plain": [
       "'http://localhost:80'"
      ]
     },
     "execution_count": 51,
     "metadata": {},
     "output_type": "execute_result"
    }
   ],
   "source": [
    "i = 90\n",
    "make_url(\"localhost\")"
   ]
  },
  {
   "cell_type": "code",
   "execution_count": 54,
   "id": "f9c44896",
   "metadata": {},
   "outputs": [
    {
     "name": "stdout",
     "output_type": "stream",
     "text": [
      "[10]\n"
     ]
    }
   ],
   "source": [
    "list_ = []\n",
    "# 기본변수가 리스트, 셋, 딕셔너리, 객체일 때 : 함수가 실행되는 시점으로 기본값 셋팅\n",
    "def func3(a, L=list_):\n",
    "    L.append(a)\n",
    "    return L\n",
    "print(func3(10))"
   ]
  },
  {
   "cell_type": "code",
   "execution_count": 55,
   "id": "7895ce76",
   "metadata": {},
   "outputs": [
    {
     "name": "stdout",
     "output_type": "stream",
     "text": [
      "[10, 20]\n"
     ]
    }
   ],
   "source": [
    "print(func3(20))"
   ]
  },
  {
   "cell_type": "code",
   "execution_count": 56,
   "id": "d215be61",
   "metadata": {},
   "outputs": [
    {
     "name": "stdout",
     "output_type": "stream",
     "text": [
      "list_= [10, 20]\n"
     ]
    }
   ],
   "source": [
    "print('list_=',list_)"
   ]
  },
  {
   "cell_type": "code",
   "execution_count": 57,
   "id": "f5540aa5",
   "metadata": {},
   "outputs": [
    {
     "name": "stdout",
     "output_type": "stream",
     "text": [
      "[10, 20, 50]\n"
     ]
    }
   ],
   "source": [
    "print(func3(50))"
   ]
  },
  {
   "cell_type": "code",
   "execution_count": 58,
   "id": "4becec3c",
   "metadata": {},
   "outputs": [
    {
     "name": "stdout",
     "output_type": "stream",
     "text": [
      "[10]\n",
      "[10]\n",
      "[10]\n",
      "[1, 2, 3, 10]\n"
     ]
    }
   ],
   "source": [
    "# 실행할 때마다 L을 공유하는게 싫으면\n",
    "def func3(a, L=None):\n",
    "    if L is None:\n",
    "        L = []\n",
    "    L.append(a)\n",
    "    return L\n",
    "print(func3(10))\n",
    "print(func3(10))\n",
    "print(func3(10))\n",
    "print(func3(10, [1,2,3]))\n"
   ]
  },
  {
   "cell_type": "markdown",
   "id": "c23abcfb",
   "metadata": {},
   "source": [
    "## 3.3 순서인수, 키워드 인수\n",
    "- 순서인수 : 함수에 정의된 순서대로 전달방식\n",
    "- 키워드인수 : 인수의 이름을 명시하는 방식\n",
    "- 함수 정의시 순서인수와 키워드 인수가 같이 올 때는 순서인수 > 키워드인수 순으로"
   ]
  },
  {
   "cell_type": "code",
   "execution_count": 59,
   "id": "c66ddcf5",
   "metadata": {},
   "outputs": [],
   "source": [
    "def func3(a, L=None):\n",
    "    if L is None:\n",
    "        L = []\n",
    "    L.append(a)\n",
    "    return L"
   ]
  },
  {
   "cell_type": "code",
   "execution_count": 62,
   "id": "09814a23",
   "metadata": {},
   "outputs": [
    {
     "name": "stdout",
     "output_type": "stream",
     "text": [
      "[10]\n",
      "[10, 20]\n"
     ]
    }
   ],
   "source": [
    "lst = []\n",
    "print(func3(10, lst))      # 순서인수 : 함수 정의된 순서대로 전달하는 방식\n",
    "print(func3(L=lst, a=20))  # 키워드인수 : 인수의 이름을 명시하여 전달하는 방식"
   ]
  },
  {
   "cell_type": "markdown",
   "id": "fdb46225",
   "metadata": {},
   "source": [
    "## 3.4 튜플매개변수를 이용한 가변인수 설정\n",
    "- 가변인수 : 매개변수의 갯수가 가변"
   ]
  },
  {
   "cell_type": "code",
   "execution_count": 65,
   "id": "49c01896",
   "metadata": {},
   "outputs": [],
   "source": [
    "# 파이썬은 함수의 중복정의(오버로딩)을 지원하지 않음\n",
    "def add(a, b):\n",
    "    return a+b\n",
    "def add(a, b, c):\n",
    "    return a+b+c"
   ]
  },
  {
   "cell_type": "code",
   "execution_count": 66,
   "id": "978acdd8",
   "metadata": {
    "collapsed": true
   },
   "outputs": [
    {
     "ename": "TypeError",
     "evalue": "add() missing 1 required positional argument: 'c'",
     "output_type": "error",
     "traceback": [
      "\u001b[1;31m---------------------------------------------------------------------------\u001b[0m",
      "\u001b[1;31mTypeError\u001b[0m                                 Traceback (most recent call last)",
      "Cell \u001b[1;32mIn[66], line 1\u001b[0m\n\u001b[1;32m----> 1\u001b[0m \u001b[43madd\u001b[49m\u001b[43m(\u001b[49m\u001b[38;5;241;43m3\u001b[39;49m\u001b[43m,\u001b[49m\u001b[38;5;241;43m5\u001b[39;49m\u001b[43m)\u001b[49m\n",
      "\u001b[1;31mTypeError\u001b[0m: add() missing 1 required positional argument: 'c'"
     ]
    }
   ],
   "source": [
    "add(3,5)"
   ]
  },
  {
   "cell_type": "code",
   "execution_count": 77,
   "id": "0753ad28",
   "metadata": {},
   "outputs": [],
   "source": [
    "# args앞에 * : args가 튜플로 전달받는다.\n",
    "def add(*args):\n",
    "    # print('args =', args)\n",
    "    '전달받은 매개변수들의 합을 return. 매개변수가 없는 경우 0을 return'\n",
    "    sum = 0  # 누적변수\n",
    "    for num in args:\n",
    "        sum += num   # sum =sum+num\n",
    "    return sum"
   ]
  },
  {
   "cell_type": "code",
   "execution_count": 78,
   "id": "f47d605c",
   "metadata": {},
   "outputs": [
    {
     "name": "stdout",
     "output_type": "stream",
     "text": [
      "0\n",
      "1\n",
      "4\n",
      "55\n"
     ]
    }
   ],
   "source": [
    "print(add())\n",
    "print(add(1))\n",
    "print(add(1, 3))\n",
    "print(add(1,2,3,4,5,6,7,8,9,10))"
   ]
  },
  {
   "cell_type": "code",
   "execution_count": 81,
   "id": "bbe32a13",
   "metadata": {},
   "outputs": [
    {
     "data": {
      "text/plain": [
       "'Python-web-JavaScript-DBMS'"
      ]
     },
     "execution_count": 81,
     "metadata": {},
     "output_type": "execute_result"
    }
   ],
   "source": [
    "subject = ('Python','web','JavaScript','DBMS')\n",
    "'-'.join(subject)"
   ]
  },
  {
   "cell_type": "code",
   "execution_count": 82,
   "id": "0ad47dcd",
   "metadata": {},
   "outputs": [],
   "source": [
    "# 튜플 매개변수와 일반 매개변수가 같이 있을 때\n",
    "def concat(*subject, sep):\n",
    "    return sep.join(subject)"
   ]
  },
  {
   "cell_type": "code",
   "execution_count": 86,
   "id": "d1bc6538",
   "metadata": {
    "collapsed": true
   },
   "outputs": [
    {
     "ename": "TypeError",
     "evalue": "concat() missing 1 required keyword-only argument: 'sep'",
     "output_type": "error",
     "traceback": [
      "\u001b[1;31m---------------------------------------------------------------------------\u001b[0m",
      "\u001b[1;31mTypeError\u001b[0m                                 Traceback (most recent call last)",
      "Cell \u001b[1;32mIn[86], line 1\u001b[0m\n\u001b[1;32m----> 1\u001b[0m \u001b[43mconcat\u001b[49m\u001b[43m(\u001b[49m\u001b[38;5;124;43m'\u001b[39;49m\u001b[38;5;124;43mPython\u001b[39;49m\u001b[38;5;124;43m'\u001b[39;49m\u001b[43m,\u001b[49m\u001b[38;5;124;43m'\u001b[39;49m\u001b[38;5;124;43mweb\u001b[39;49m\u001b[38;5;124;43m'\u001b[39;49m\u001b[43m,\u001b[49m\u001b[38;5;124;43m'\u001b[39;49m\u001b[38;5;124;43mJavaScript\u001b[39;49m\u001b[38;5;124;43m'\u001b[39;49m\u001b[43m,\u001b[49m\u001b[38;5;124;43m'\u001b[39;49m\u001b[38;5;124;43mDBMS\u001b[39;49m\u001b[38;5;124;43m'\u001b[39;49m\u001b[43m,\u001b[49m\u001b[38;5;124;43m'\u001b[39;49m\u001b[38;5;124;43m-\u001b[39;49m\u001b[38;5;124;43m'\u001b[39;49m\u001b[43m)\u001b[49m\n",
      "\u001b[1;31mTypeError\u001b[0m: concat() missing 1 required keyword-only argument: 'sep'"
     ]
    }
   ],
   "source": [
    "concat('Python','web','JavaScript','DBMS','-')"
   ]
  },
  {
   "cell_type": "code",
   "execution_count": 87,
   "id": "8cf9c2b4",
   "metadata": {},
   "outputs": [
    {
     "data": {
      "text/plain": [
       "'Python-web-JavaScript-DBMS'"
      ]
     },
     "execution_count": 87,
     "metadata": {},
     "output_type": "execute_result"
    }
   ],
   "source": [
    "# 해결책1 : 매개변수 이름을 지정해서 호출\n",
    "concat('Python','web','JavaScript','DBMS',sep='-')"
   ]
  },
  {
   "cell_type": "code",
   "execution_count": 88,
   "id": "dd0b618e",
   "metadata": {},
   "outputs": [
    {
     "name": "stdout",
     "output_type": "stream",
     "text": [
      "Python~web~JavaScript~DBMS~-\n",
      "Python-web-JavaScript-DBMS\n"
     ]
    }
   ],
   "source": [
    "# 해결책2 : 기본값을 갖는 키워드 인수 사용\n",
    "def concat(*subject, sep='~'):   # 튜플매개변수 > 키워드인수\n",
    "    return sep.join(subject)\n",
    "print(concat('Python','web','JavaScript','DBMS','-'))\n",
    "print(concat('Python','web','JavaScript','DBMS',sep='-'))  # print()"
   ]
  },
  {
   "cell_type": "code",
   "execution_count": 89,
   "id": "ad05e5b1",
   "metadata": {},
   "outputs": [
    {
     "name": "stdout",
     "output_type": "stream",
     "text": [
      "python=web=js\n"
     ]
    }
   ],
   "source": [
    "print('python','web','js',sep='=')"
   ]
  },
  {
   "cell_type": "code",
   "execution_count": 90,
   "id": "e187ecd8",
   "metadata": {},
   "outputs": [],
   "source": [
    "# 해결책3 : sep을 순서인수로 앞으로 (추천)\n",
    "def concat(sep, *subject):  \n",
    "    return sep.join(subject)"
   ]
  },
  {
   "cell_type": "code",
   "execution_count": 91,
   "id": "4637f52e",
   "metadata": {},
   "outputs": [
    {
     "data": {
      "text/plain": [
       "'Python~web~DBMS~MLDL'"
      ]
     },
     "execution_count": 91,
     "metadata": {},
     "output_type": "execute_result"
    }
   ],
   "source": [
    "concat('~','Python','web','DBMS','MLDL')"
   ]
  },
  {
   "cell_type": "markdown",
   "id": "f679d585",
   "metadata": {},
   "source": [
    "## 3.5 딕셔너리 매개변수\n",
    "- 딕셔너리 인수 : 여러개의 키워드 인수를 딕셔너리 형태로 받아서 가변인수로 처리"
   ]
  },
  {
   "cell_type": "code",
   "execution_count": 117,
   "id": "bde1a7ae",
   "metadata": {},
   "outputs": [],
   "source": [
    "def func5(**args):     # args : 딕셔너리로 전달받음\n",
    "   print('이름 :',args.get('name','몰라'))\n",
    "   print('나이 :',args.get('age',30))\n",
    "   print('전화 :',args.get('tel','없음'))\n",
    "   print('주소 :',args.get('address','서울 관악'))"
   ]
  },
  {
   "cell_type": "code",
   "execution_count": 120,
   "id": "2145acd8",
   "metadata": {},
   "outputs": [],
   "source": [
    "def func5(**args):\n",
    "    '''딕셔너리 매개변수로 받아 address 키가 없으면 서울시 관악구로 추가하고 키~값을 출력\n",
    "    '''\n",
    "    print(args)\n",
    "    print(type(args))\n",
    "    if 'address' not in args:   # args에 address 키가 없으면 if문 True\n",
    "        # args['address'] = '서울시 관악구'        \n",
    "        # args.update({'address':'서울시 관악구'})\n",
    "        args.update(address='서울시 관악구')\n",
    "    for key, value in args.items():\n",
    "        print(\"{} : {}\".format(key, value))"
   ]
  },
  {
   "cell_type": "code",
   "execution_count": 119,
   "id": "0f74ce87",
   "metadata": {},
   "outputs": [
    {
     "name": "stdout",
     "output_type": "stream",
     "text": [
      "이름 : 몰라\n",
      "나이 : 40\n",
      "전화 : 010-9999-9999\n",
      "주소 : 서울 구로구\n"
     ]
    }
   ],
   "source": [
    "func5(nam='홍길동', \n",
    "      age=40, \n",
    "      tel='010-9999-9999', \n",
    "      address='서울 구로구')"
   ]
  },
  {
   "cell_type": "markdown",
   "id": "40ac0b8e",
   "metadata": {},
   "source": [
    "## 3.6 함수 정의시 매개변수의 순서\n",
    "- 순서인수 > 튜플인수(*) > 키워드인수(기본값) > 딕셔너리인수(**)"
   ]
  },
  {
   "cell_type": "code",
   "execution_count": 121,
   "id": "62bffae3",
   "metadata": {},
   "outputs": [],
   "source": [
    "# 순서인수 > 튜플인수 > 딕셔너리인수\n",
    "def func6(a, b, *c, **d):\n",
    "    print('순서인수 a = ', a)\n",
    "    print('순서인수 b = ', b)\n",
    "    print('튜플인수 c = ', c)\n",
    "    print('딕셔너리인수 d = ', d)"
   ]
  },
  {
   "cell_type": "code",
   "execution_count": 123,
   "id": "fb6f77a4",
   "metadata": {},
   "outputs": [
    {
     "name": "stdout",
     "output_type": "stream",
     "text": [
      "순서인수 a =  10\n",
      "순서인수 b =  20\n",
      "튜플인수 c =  (1, 2, 3, 4, 5, 6, 7, 8, 9, 'a', 'b', True)\n",
      "딕셔너리인수 d =  {'name': '홍', 'age': 30, 'address': '신림'}\n"
     ]
    }
   ],
   "source": [
    "func6(10,20,1,2,3,4,5,6,7,8,9,'a','b',True,name='홍', age=30, address='신림')"
   ]
  },
  {
   "cell_type": "code",
   "execution_count": 126,
   "id": "eb0bced5",
   "metadata": {},
   "outputs": [],
   "source": [
    "# 순서인수 > 튜플인수(*) > 키워드인수(기본값) > 딕셔너리인수(**)\n",
    "def func7(a, b, c, *d, e=10, **f):\n",
    "    print('순서인수 a = ', a)\n",
    "    print('순서인수 b = ', b)\n",
    "    print('순서인수 c = ', c)\n",
    "    print('튜플인수 d = ', d)\n",
    "    print('키워드인수(기본값 10) e = ', e)\n",
    "    print('딕셔너리인수 f = ', f)"
   ]
  },
  {
   "cell_type": "code",
   "execution_count": 128,
   "id": "c62f44c6",
   "metadata": {},
   "outputs": [
    {
     "name": "stdout",
     "output_type": "stream",
     "text": [
      "순서인수 a =  10\n",
      "순서인수 b =  20\n",
      "순서인수 c =  30\n",
      "튜플인수 d =  ()\n",
      "키워드인수(기본값 10) e =  100\n",
      "딕셔너리인수 f =  {}\n"
     ]
    }
   ],
   "source": [
    "func7(10,20,30, e=100)"
   ]
  },
  {
   "cell_type": "code",
   "execution_count": 127,
   "id": "655d2a17",
   "metadata": {},
   "outputs": [
    {
     "name": "stdout",
     "output_type": "stream",
     "text": [
      "순서인수 a =  10\n",
      "순서인수 b =  20\n",
      "순서인수 c =  30\n",
      "튜플인수 d =  ()\n",
      "키워드인수(기본값 10) e =  10\n",
      "딕셔너리인수 f =  {}\n"
     ]
    }
   ],
   "source": [
    "func7(10,20,30)"
   ]
  },
  {
   "cell_type": "code",
   "execution_count": 129,
   "id": "2df4e5cd",
   "metadata": {},
   "outputs": [
    {
     "name": "stdout",
     "output_type": "stream",
     "text": [
      "순서인수 a =  10\n",
      "순서인수 b =  20\n",
      "순서인수 c =  30\n",
      "튜플인수 d =  (1, 2, 3, 4, 5)\n",
      "키워드인수(기본값 10) e =  100\n",
      "딕셔너리인수 f =  {'shape': 'rect', 'width': 20, 'height': 30}\n"
     ]
    }
   ],
   "source": [
    "func7(10,20,30,1,2,3,4,5,e=100, shape='rect', width=20, height=30)"
   ]
  },
  {
   "cell_type": "markdown",
   "id": "8fed8feb",
   "metadata": {},
   "source": [
    "## 3.7 인수의 언패킹\n",
    "### 튜플인수 언패킹\n",
    "- 언패킹 : 함수 호출시 매개변수 앞에 * 붙임\n",
    "- 패킹 : 함수 정의시 매개변수 앞에 * 붙임(튜플매개변수)"
   ]
  },
  {
   "cell_type": "code",
   "execution_count": 135,
   "id": "617dbb84",
   "metadata": {},
   "outputs": [],
   "source": [
    "def add(*args):\n",
    "#    print(args)\n",
    "    sum = 0\n",
    "    for num in args:\n",
    "        sum += num\n",
    "    return sum"
   ]
  },
  {
   "cell_type": "code",
   "execution_count": 136,
   "id": "a2290ca9",
   "metadata": {},
   "outputs": [
    {
     "data": {
      "text/plain": [
       "6"
      ]
     },
     "execution_count": 136,
     "metadata": {},
     "output_type": "execute_result"
    }
   ],
   "source": [
    "add(1,2,3)"
   ]
  },
  {
   "cell_type": "code",
   "execution_count": 138,
   "id": "e6c12c3c",
   "metadata": {},
   "outputs": [
    {
     "data": {
      "text/plain": [
       "6"
      ]
     },
     "execution_count": 138,
     "metadata": {},
     "output_type": "execute_result"
    }
   ],
   "source": [
    "numbers = (1,2,3)\n",
    "add(*numbers)   # 언패킹"
   ]
  },
  {
   "cell_type": "markdown",
   "id": "4ebda62c",
   "metadata": {},
   "source": [
    "### 딕셔너리 인수 언패킹\n",
    "- 언패킹 : 함수 호출시 매개변수 앞에 ** 붙임\n",
    "- 패킹 : 함수 정의시 매개변수 앞에 ** 붙임(튜플매개변수)"
   ]
  },
  {
   "cell_type": "code",
   "execution_count": 140,
   "id": "a2a66a0a",
   "metadata": {},
   "outputs": [],
   "source": [
    "def func8(**data):\n",
    "    print(data)\n",
    "    for item in data.items():\n",
    "        print(item)"
   ]
  },
  {
   "cell_type": "code",
   "execution_count": 141,
   "id": "26fddfa8",
   "metadata": {},
   "outputs": [
    {
     "name": "stdout",
     "output_type": "stream",
     "text": [
      "{'shape': 'rect', 'width': 40, 'height': 30}\n",
      "('shape', 'rect')\n",
      "('width', 40)\n",
      "('height', 30)\n"
     ]
    }
   ],
   "source": [
    "func8(shape='rect', width=40, height=30)"
   ]
  },
  {
   "cell_type": "code",
   "execution_count": 143,
   "id": "3f1e6887",
   "metadata": {},
   "outputs": [
    {
     "name": "stdout",
     "output_type": "stream",
     "text": [
      "{'shape': 'rect', 'width': 40, 'height': 30}\n",
      "('shape', 'rect')\n",
      "('width', 40)\n",
      "('height', 30)\n"
     ]
    }
   ],
   "source": [
    "info = {'shape':'rect', 'width':40, 'height':30}\n",
    "func8(**info)"
   ]
  },
  {
   "cell_type": "markdown",
   "id": "aaf0b8e1",
   "metadata": {},
   "source": [
    "# 4절 람다식\n",
    "- return  한 줄짜리 작은 익명함수\n",
    "## 4.1 람다식 연습"
   ]
  },
  {
   "cell_type": "code",
   "execution_count": 3,
   "id": "7baaacf9",
   "metadata": {},
   "outputs": [
    {
     "name": "stdout",
     "output_type": "stream",
     "text": [
      "8\n",
      "<class 'function'>\n"
     ]
    }
   ],
   "source": [
    "def add(a, b):    # 함수를 추상화하고 표현하는 기호, 그리스 문자 11번째 글자(Λ, λ)\n",
    "    return a+b\n",
    "print(add(3, 5))\n",
    "print(type(add))"
   ]
  },
  {
   "cell_type": "code",
   "execution_count": 4,
   "id": "27756b96",
   "metadata": {},
   "outputs": [
    {
     "name": "stdout",
     "output_type": "stream",
     "text": [
      "8\n",
      "<class 'function'>\n"
     ]
    }
   ],
   "source": [
    "add2 = lambda a, b : a + b\n",
    "print(add2(3, 5))\n",
    "print(type(add2))"
   ]
  },
  {
   "cell_type": "code",
   "execution_count": 6,
   "id": "e79fc80f",
   "metadata": {},
   "outputs": [
    {
     "data": {
      "text/plain": [
       "('홀수', '짝수')"
      ]
     },
     "execution_count": 6,
     "metadata": {},
     "output_type": "execute_result"
    }
   ],
   "source": [
    "# ex1. 매개변수로 들어온 값이 짝수인지 홀수인지 return하는 함수를 람다식으로 만들어보세요.\n",
    "# def even_odd_chk(num):\n",
    "#     if num%2:\n",
    "#         result = '홀수'\n",
    "#     else:\n",
    "#         result = '짝수'    \n",
    "#    return result\n",
    "# even_odd_chk(5), even_odd_chk(-4)\n",
    "#    result = '홀수' if num%2 else '짝수'\n",
    "#    return '홀수' if num%2 else '짝수'\n",
    "\n",
    "even_odd_chk = lambda num : '홀수' if num%2 else '짝수'\n",
    "even_odd_chk(5), even_odd_chk(-4)"
   ]
  },
  {
   "cell_type": "code",
   "execution_count": 8,
   "id": "102c391c",
   "metadata": {},
   "outputs": [
    {
     "data": {
      "text/plain": [
       "(4, 4)"
      ]
     },
     "execution_count": 8,
     "metadata": {},
     "output_type": "execute_result"
    }
   ],
   "source": [
    "# ex2. 두 매개변수의 차이를 return하는 함수를 람다식으로 만들어보세요.\n",
    "\n",
    "value2 = lambda a, b : a-b if a>b else b-a\n",
    "\n",
    "diff = lambda a, b : a-b if a>b else b-a\n",
    "diff(5, 1),diff(1, 5)"
   ]
  },
  {
   "cell_type": "code",
   "execution_count": 7,
   "id": "e928601b",
   "metadata": {},
   "outputs": [
    {
     "data": {
      "text/plain": [
       "4"
      ]
     },
     "execution_count": 7,
     "metadata": {},
     "output_type": "execute_result"
    }
   ],
   "source": [
    "def value2(a, b):\n",
    "    if a>b:\n",
    "        result = a - b\n",
    "    else:\n",
    "        result = b - a\n",
    "    return result\n",
    "value2(5,1)    "
   ]
  },
  {
   "cell_type": "code",
   "execution_count": 9,
   "id": "96d073f8",
   "metadata": {},
   "outputs": [
    {
     "data": {
      "text/plain": [
       "(1000, 'negative', 0)"
      ]
     },
     "execution_count": 9,
     "metadata": {},
     "output_type": "execute_result"
    }
   ],
   "source": [
    "# ex3. 매개변수로 잔액을 받아, 잔액이 0이상이면 잔액을 return, 음수면 'negative'를 return\n",
    "ex3 = lambda balance : balance if balance>=0 else 'negative'\n",
    "ex3(1000), ex3(-100), ex3(0)"
   ]
  },
  {
   "cell_type": "code",
   "execution_count": 12,
   "id": "432b93df",
   "metadata": {},
   "outputs": [
    {
     "data": {
      "text/plain": [
       "('A팀', 'B팀')"
      ]
     },
     "execution_count": 12,
     "metadata": {},
     "output_type": "execute_result"
    }
   ],
   "source": [
    "# ex4. 점수를 입력받아 80점이상은 'A팀', 60점이상은 'B팀', 60점미만은 '재시험'\n",
    "    # 100점초과, 0점미만은 '유효하지 않음'을 return\n",
    "    \n",
    "def levelchk(score):\n",
    "    if 80<=score<=100:\n",
    "        return 'A팀'\n",
    "    elif 60<=score<80:\n",
    "        return 'B팀'\n",
    "    elif 0<=score<60:\n",
    "        return '재시험'\n",
    "    else:\n",
    "        return '유효하지 않음'\n",
    "ex4 = lambda score : 'A팀' if 80<=score<=100 else \\\n",
    "                     'B팀' if 60<=score<80 else \\\n",
    "                     '재시험' if 0<=score<60 else \\\n",
    "                     '유효하지 않음'\n",
    "levelchk(85), ex4(60)\n"
   ]
  },
  {
   "cell_type": "code",
   "execution_count": 14,
   "id": "33e33f80",
   "metadata": {},
   "outputs": [
    {
     "data": {
      "text/plain": [
       "('B학점', '유효하지 않은 점수')"
      ]
     },
     "execution_count": 14,
     "metadata": {},
     "output_type": "execute_result"
    }
   ],
   "source": [
    "# 점수를 입력받아 학점을 return\n",
    "score_grade = lambda score : 'A학점' if 90<=score<=100 else \\\n",
    "                             'B학점' if 80<=score<90 else \\\n",
    "                             'C학점' if 70<=score<80 else \\\n",
    "                             'D학점' if 60<=score<70 else \\\n",
    "                             'F학점' if 0<=score<60 else \\\n",
    "                             \"유효하지 않은 점수\"\n",
    "score_grade(88), score_grade(120)"
   ]
  },
  {
   "cell_type": "code",
   "execution_count": 16,
   "id": "5af6f88c",
   "metadata": {},
   "outputs": [
    {
     "data": {
      "text/plain": [
       "(-1, 2)"
      ]
     },
     "execution_count": 16,
     "metadata": {},
     "output_type": "execute_result"
    }
   ],
   "source": [
    "# ex5. safe_index 함수를 람다식으로\n",
    "\n",
    "def safe_index(lst, item, start=0):    \n",
    "    return lst.index(item, start) if item in lst[start:] else -1\n",
    "#     if item in lst[start:]:\n",
    "#         return lst.index(item, start) # start번째부터 item이 있는 index를 반환\n",
    "#     else:\n",
    "#         return -1\n",
    "ex5 = lambda lst, item, start=0 : lst.index(item, start) if item in lst[start:] else -1\n",
    "\n",
    "i = 3\n",
    "lst = [i,2,3]\n",
    "safe_index(lst, 4), ex5(lst, 3, 1)"
   ]
  },
  {
   "cell_type": "code",
   "execution_count": 17,
   "id": "851440d1",
   "metadata": {},
   "outputs": [
    {
     "data": {
      "text/plain": [
       "[25, 15, 100, 4.0]"
      ]
     },
     "execution_count": 17,
     "metadata": {},
     "output_type": "execute_result"
    }
   ],
   "source": [
    "#  람다식도 list에 들어갈 수 있음\n",
    "add = lambda a, b : a + b\n",
    "sub = lambda a, b : a - b\n",
    "mul = lambda a, b : a * b\n",
    "div = lambda a, b : a / b  if b else '두번째 인자가 0이면 못 나눠요'\n",
    "operations = [add, sub, mul, div]    # 사칙연산 함수들\n",
    "\n",
    "def act_operations(a, b, operations=operations):   # a,b의 연산 결과를 return\n",
    "    result = []\n",
    "    for op in operations:   # [add, sub, mul, div]    \n",
    "        result.append(op(a, b))\n",
    "    return result\n",
    "act_operations(20, 5)"
   ]
  },
  {
   "cell_type": "code",
   "execution_count": 18,
   "id": "51d9f520",
   "metadata": {},
   "outputs": [
    {
     "data": {
      "text/plain": [
       "[64, 82]"
      ]
     },
     "execution_count": 18,
     "metadata": {},
     "output_type": "execute_result"
    }
   ],
   "source": [
    "act_operations(8, 2, [lambda x,y : x**y, lambda x,y : 10*x+y])"
   ]
  },
  {
   "cell_type": "code",
   "execution_count": 19,
   "id": "ce564dd5",
   "metadata": {},
   "outputs": [
    {
     "data": {
      "text/plain": [
       "53"
      ]
     },
     "execution_count": 19,
     "metadata": {},
     "output_type": "execute_result"
    }
   ],
   "source": [
    "(lambda x,y : 10*x+y)(5,3)"
   ]
  },
  {
   "cell_type": "code",
   "execution_count": 20,
   "id": "f6794709",
   "metadata": {},
   "outputs": [
    {
     "data": {
      "text/plain": [
       "5"
      ]
     },
     "execution_count": 20,
     "metadata": {},
     "output_type": "execute_result"
    }
   ],
   "source": [
    "operations.append(lambda x, y : x**y)\n",
    "len(operations)"
   ]
  },
  {
   "cell_type": "code",
   "execution_count": 21,
   "id": "8b9e5103",
   "metadata": {},
   "outputs": [
    {
     "data": {
      "text/plain": [
       "[10, 6, 16, 4.0, 64]"
      ]
     },
     "execution_count": 21,
     "metadata": {},
     "output_type": "execute_result"
    }
   ],
   "source": [
    "act_operations(8, 2)  # 기본값을 갖는 변수(기본 변수)가 리스트면 기본값은 호출할 시점"
   ]
  },
  {
   "cell_type": "markdown",
   "id": "4b963b8b",
   "metadata": {},
   "source": [
    "## 4.2 함수의 매개변수(인수)에 람다식 사용\n",
    "- 람다식을 사용하는 곳 : 함수의 매개변수 > return 문\n",
    "### (1) map"
   ]
  },
  {
   "cell_type": "code",
   "execution_count": 24,
   "id": "cceda2a6",
   "metadata": {},
   "outputs": [],
   "source": [
    "def map_template(func, L=[]):\n",
    "    result = []\n",
    "    for item in L:\n",
    "        result.append(func(item))\n",
    "    return result"
   ]
  },
  {
   "cell_type": "code",
   "execution_count": 25,
   "id": "d0d2ebf5",
   "metadata": {},
   "outputs": [
    {
     "data": {
      "text/plain": [
       "[2, 4, 6, 8, 10, 12, 14, 16, 18]"
      ]
     },
     "execution_count": 25,
     "metadata": {},
     "output_type": "execute_result"
    }
   ],
   "source": [
    "list_data = [1,2,3,4,5,6,7,8,9]\n",
    "# def x_2(x):\n",
    "#     return x*2\n",
    "x_2 = lambda x : x*2\n",
    "map_template(x_2, list_data)"
   ]
  },
  {
   "cell_type": "code",
   "execution_count": 26,
   "id": "d4bb0f87",
   "metadata": {},
   "outputs": [
    {
     "data": {
      "text/plain": [
       "[2, 4, 6, 8, 10, 12, 14, 16, 18]"
      ]
     },
     "execution_count": 26,
     "metadata": {},
     "output_type": "execute_result"
    }
   ],
   "source": [
    "map_template(lambda x:x*2, list_data)"
   ]
  },
  {
   "cell_type": "code",
   "execution_count": 27,
   "id": "0165375b",
   "metadata": {},
   "outputs": [
    {
     "data": {
      "text/plain": [
       "[2, 4, 6, 8, 10, 12, 14, 16, 18]"
      ]
     },
     "execution_count": 27,
     "metadata": {},
     "output_type": "execute_result"
    }
   ],
   "source": [
    "# 리스트 컴프리헨션\n",
    "[item*2 for item in list_data]"
   ]
  },
  {
   "cell_type": "code",
   "execution_count": 29,
   "id": "173af320",
   "metadata": {},
   "outputs": [
    {
     "data": {
      "text/plain": [
       "[2, 4, 6, 8, 10, 12, 14, 16, 18]"
      ]
     },
     "execution_count": 29,
     "metadata": {},
     "output_type": "execute_result"
    }
   ],
   "source": [
    "list(map(lambda x:x*2, list_data))"
   ]
  },
  {
   "cell_type": "code",
   "execution_count": 30,
   "id": "d829526d",
   "metadata": {},
   "outputs": [
    {
     "name": "stdout",
     "output_type": "stream",
     "text": [
      "2 4 6 8 10 12 14 16 18 "
     ]
    }
   ],
   "source": [
    "for data in map(lambda x:x*2, list_data):\n",
    "    print(data, end=' ')"
   ]
  },
  {
   "cell_type": "code",
   "execution_count": 32,
   "id": "0739f75c",
   "metadata": {},
   "outputs": [
    {
     "name": "stdout",
     "output_type": "stream",
     "text": [
      "5000 5000 6000 1000 5000 5000 6000 1000 "
     ]
    }
   ],
   "source": [
    "''' \n",
    "예제1. \n",
    "prices = ['5,000', '5000', '6,000', '1000','5,000', '5000', '6,000','1000']를 \n",
    "[5000,5000,6000,1000]식으로 바꾸시오.\n",
    "'''\n",
    "prices = ['5,000', '5000', '6,000', '1000','5,000', '5000', '6,000','1000']\n",
    "# prices_int = [5000,5000,6000,1000]\n",
    "# 컴마 없애기 replace()\n",
    "\n",
    "def toint(value) :\n",
    "   return int(value.replace(',', ''))\n",
    "\n",
    "prices_int = map(lambda value : int(value.replace(',', '')), prices)\n",
    "for price in prices_int:\n",
    "    print(price, end=' ')"
   ]
  },
  {
   "cell_type": "code",
   "execution_count": null,
   "id": "1180c622",
   "metadata": {},
   "outputs": [],
   "source": [
    "'''\n",
    "예제2. : members1을 members2로 바꾸는\n",
    "members1 = [{'name':'홍길동', 'birth':'2000-01-01'},\n",
    "           {'name':'신길동',  'birth':'1995-12-18'},]를\n",
    "members2 = [{'name':'홍길동', 'year':2000, 'month':1,'day':1},\n",
    "            {'name':'신길동', 'year':1995, 'month':12, 'day':18},] 변환\n",
    "'''"
   ]
  },
  {
   "cell_type": "code",
   "execution_count": 38,
   "id": "a25011f8",
   "metadata": {},
   "outputs": [
    {
     "data": {
      "text/plain": [
       "({'year': 2025, 'month': 1, 'day': 1}, {'year': 1995, 'month': 12, 'day': 12})"
      ]
     },
     "execution_count": 38,
     "metadata": {},
     "output_type": "execute_result"
    }
   ],
   "source": [
    "# '2025-01-01' => {'year':2000, 'month':1,'day':1} \n",
    "def split_date(date):\n",
    "    split_date = date.split('-')\n",
    "    return {\n",
    "        'year': int(split_date[0]),\n",
    "        'month':int(split_date[1]),\n",
    "        'day':int(split_date[2])\n",
    "    }\n",
    "split_date('2025-01-01'), split_date('1995-12-12')"
   ]
  },
  {
   "cell_type": "code",
   "execution_count": 39,
   "id": "fc4386ff",
   "metadata": {},
   "outputs": [
    {
     "data": {
      "text/plain": [
       "({'year': 2025, 'month': 1, 'day': 1}, {'year': 1995, 'month': 12, 'day': 12})"
      ]
     },
     "execution_count": 39,
     "metadata": {},
     "output_type": "execute_result"
    }
   ],
   "source": [
    "# '2025-01-01' => {'year':2000, 'month':1,'day':1} \n",
    "def split_date(date):\n",
    "    return {\n",
    "        'year': int(date.split('-')[0]),\n",
    "        'month':int(date.split('-')[1]),\n",
    "        'day':int(date.split('-')[2])\n",
    "    }\n",
    "split_date('2025-01-01'), split_date('1995-12-12')"
   ]
  },
  {
   "cell_type": "code",
   "execution_count": 41,
   "id": "b993f87d",
   "metadata": {},
   "outputs": [
    {
     "data": {
      "text/plain": [
       "{'year': 2025, 'month': 1, 'day': 1}"
      ]
     },
     "execution_count": 41,
     "metadata": {},
     "output_type": "execute_result"
    }
   ],
   "source": [
    "# {'birth':'2025-01-01'} => {'year':2000, 'month':1,'day':1} \n",
    "def split_date(data):\n",
    "    return {\n",
    "        'year': int(data['birth'].split('-')[0]),\n",
    "        'month':int(data['birth'].split('-')[1]),\n",
    "        'day':int(data['birth'].split('-')[2])\n",
    "    }\n",
    "split_date({'birth':'2025-01-01'})"
   ]
  },
  {
   "cell_type": "code",
   "execution_count": 43,
   "id": "3769020a",
   "metadata": {},
   "outputs": [
    {
     "data": {
      "text/plain": [
       "{'name': '홍길동', 'year': 2000, 'month': 1, 'day': 1}"
      ]
     },
     "execution_count": 43,
     "metadata": {},
     "output_type": "execute_result"
    }
   ],
   "source": [
    "# {'name':'홍길동', 'birth':'2000-01-01'} => {'name':'홍길동', 'year':2000, 'month':1,'day':1}\n",
    "def member_preprocessing(member):\n",
    "    return {\n",
    "        'name' : member.get('name','이름없음'),            #member['name'],\n",
    "        'year' : int(member.get('birth').split('-')[0]),  #int(member['birth'].split('-')[0]),\n",
    "        'month': int(member.get('birth').split('-')[1]),\n",
    "        'day'  : int(member.get('birth').split('-')[2])\n",
    "    }\n",
    "member_preprocessing({'name':'홍길동', 'birth':'2000-01-01'})"
   ]
  },
  {
   "cell_type": "code",
   "execution_count": 45,
   "id": "dea0fa14",
   "metadata": {},
   "outputs": [],
   "source": [
    "members1 = [{'name':'홍길동', 'birth':'2000-01-01'},\n",
    "            {'name':'신길동', 'birth':'1995-12-18'},]"
   ]
  },
  {
   "cell_type": "code",
   "execution_count": 46,
   "id": "b48b21f8",
   "metadata": {},
   "outputs": [
    {
     "data": {
      "text/plain": [
       "[{'name': '홍길동', 'year': 2000, 'month': 1, 'day': 1},\n",
       " {'name': '신길동', 'year': 1995, 'month': 12, 'day': 18}]"
      ]
     },
     "execution_count": 46,
     "metadata": {},
     "output_type": "execute_result"
    }
   ],
   "source": [
    "members2 = list(map(lambda member : {\n",
    "                            'name' : member.get('name','이름없음'),            \n",
    "                            'year' : int(member.get('birth').split('-')[0]),  \n",
    "                            'month': int(member.get('birth').split('-')[1]),\n",
    "                            'day'  : int(member.get('birth').split('-')[2])\n",
    "                        }, members1\n",
    "                   )\n",
    "               )\n",
    "members2"
   ]
  },
  {
   "cell_type": "code",
   "execution_count": 47,
   "id": "05482294",
   "metadata": {},
   "outputs": [
    {
     "data": {
      "text/plain": [
       "[{'name': '홍길동', 'birth': '2000-01-01'},\n",
       " {'name': '신길동', 'birth': '1995-12-18'}]"
      ]
     },
     "execution_count": 47,
     "metadata": {},
     "output_type": "execute_result"
    }
   ],
   "source": [
    "''' \n",
    "예제3. members2를 members1로 전환\n",
    "'''\n",
    "members1"
   ]
  },
  {
   "cell_type": "code",
   "execution_count": 49,
   "id": "f6fa826b",
   "metadata": {},
   "outputs": [
    {
     "data": {
      "text/plain": [
       "'2000-01-01'"
      ]
     },
     "execution_count": 49,
     "metadata": {},
     "output_type": "execute_result"
    }
   ],
   "source": [
    "#  {'year':2000, 'month':1,'day':1} => '2000-01-01'\n",
    "def join_date(data):\n",
    "#     month = data.get('month')\n",
    "#     day   = data.get('day')\n",
    "#     if month<10:\n",
    "#         month = '0'+str(month)\n",
    "     return \"{}-{:02}-{:02}\".format(data.get('year'), data.get('month'), data.get('day'))\n",
    "join_date({'year':2000, 'month':1,'day':1})"
   ]
  },
  {
   "cell_type": "code",
   "execution_count": null,
   "id": "f10f7d69",
   "metadata": {},
   "outputs": [],
   "source": [
    "#  {'year':2000, 'month':1,'day':1} => '2000-01-01'\n",
    "def join_date(data):\n",
    "    return \"{year}-{month:02}-{day:02}\".format(year=data.get('year'), \n",
    "                                               month=data.get('month'), \n",
    "                                               day=data.get('day'))\n",
    "join_date({'year':2000, 'month':1,'day':1})"
   ]
  },
  {
   "cell_type": "code",
   "execution_count": 50,
   "id": "3c582510",
   "metadata": {},
   "outputs": [
    {
     "data": {
      "text/plain": [
       "'2000-01-01'"
      ]
     },
     "execution_count": 50,
     "metadata": {},
     "output_type": "execute_result"
    }
   ],
   "source": [
    "#  {'year':2000, 'month':1,'day':1} => '2000-01-01'\n",
    "def join_date(data):\n",
    "    return \"{year}-{month:02}-{day:02}\".format(**data)\n",
    "join_date({'year':2000, 'month':1,'day':1})"
   ]
  },
  {
   "cell_type": "code",
   "execution_count": 51,
   "id": "60b2894a",
   "metadata": {},
   "outputs": [
    {
     "data": {
      "text/plain": [
       "{'birth': '2000-01-01'}"
      ]
     },
     "execution_count": 51,
     "metadata": {},
     "output_type": "execute_result"
    }
   ],
   "source": [
    "#  {'year':2000, 'month':1,'day':1} => {'birth':'2000-01-01'}\n",
    "def join_date(data):\n",
    "    return {\"birth\" : \"{year}-{month:02}-{day:02}\".format(**data)}\n",
    "join_date({'year':2000, 'month':1,'day':1})"
   ]
  },
  {
   "cell_type": "code",
   "execution_count": 52,
   "id": "6d87ec57",
   "metadata": {},
   "outputs": [
    {
     "data": {
      "text/plain": [
       "{'name': 'hong', 'birth': '2000-01-01'}"
      ]
     },
     "execution_count": 52,
     "metadata": {},
     "output_type": "execute_result"
    }
   ],
   "source": [
    "#  {'name':'hong', year':2000, 'month':1,'day':1} => {'name':'hong', birth':'2025-01-01'}      딕셔너리->딕셔너리\n",
    "def member_preprocessing(member):\n",
    "    return {\n",
    "        \"name\": member.get('name'),\n",
    "        \"birth\" : \"{year}-{month:02}-{day:02}\".format(**member)\n",
    "    }\n",
    "member_preprocessing({'name':'hong', 'year':2000, 'month':1,'day':1})"
   ]
  },
  {
   "cell_type": "code",
   "execution_count": 54,
   "id": "1e877d1b",
   "metadata": {},
   "outputs": [
    {
     "data": {
      "text/plain": [
       "[{'name': '홍길동', 'birth': '2000-01-01'},\n",
       " {'name': '신길동', 'birth': '1995-12-18'}]"
      ]
     },
     "execution_count": 54,
     "metadata": {},
     "output_type": "execute_result"
    }
   ],
   "source": [
    "list(map(lambda member : {\n",
    "    \"name\": member.get('name'),\n",
    "    \"birth\" : \"{year}-{month:02}-{day:02}\".format(**member)\n",
    "    }, members2))"
   ]
  },
  {
   "cell_type": "markdown",
   "id": "82bcad0e",
   "metadata": {},
   "source": [
    "### (2) filter"
   ]
  },
  {
   "cell_type": "code",
   "execution_count": 55,
   "id": "cb398e22",
   "metadata": {},
   "outputs": [],
   "source": [
    "def filter_template(func, L=[]):   # func 특정한 조건에 만족하면 true를 반환\n",
    "    result = []\n",
    "    for item in L:\n",
    "        if func(item):\n",
    "            result.append(item)\n",
    "    return result"
   ]
  },
  {
   "cell_type": "code",
   "execution_count": 58,
   "id": "a8589445",
   "metadata": {},
   "outputs": [
    {
     "data": {
      "text/plain": [
       "[1, 3, 5, 7, 9]"
      ]
     },
     "execution_count": 58,
     "metadata": {},
     "output_type": "execute_result"
    }
   ],
   "source": [
    "list_data = [1,2,3,4,5,6,7,8,9]\n",
    "def odd_chk(value):\n",
    "    return value%2\n",
    "#     if value%2:\n",
    "#         return True\n",
    "#     else:\n",
    "#         return False\n",
    "filter_template(lambda value : value%2!=0, list_data)"
   ]
  },
  {
   "cell_type": "code",
   "execution_count": 59,
   "id": "2dd65ef5",
   "metadata": {},
   "outputs": [
    {
     "data": {
      "text/plain": [
       "[1, 3, 5, 7, 9]"
      ]
     },
     "execution_count": 59,
     "metadata": {},
     "output_type": "execute_result"
    }
   ],
   "source": [
    "# 리스트컴프리헨션\n",
    "[value for value in list_data if value%2!=0]"
   ]
  },
  {
   "cell_type": "code",
   "execution_count": 60,
   "id": "04e5b4ae",
   "metadata": {},
   "outputs": [
    {
     "data": {
      "text/plain": [
       "[1, 3, 5, 7, 9]"
      ]
     },
     "execution_count": 60,
     "metadata": {},
     "output_type": "execute_result"
    }
   ],
   "source": [
    "list(filter(lambda value : value%2!=0, list_data))"
   ]
  },
  {
   "cell_type": "code",
   "execution_count": 61,
   "id": "94d1ec0c",
   "metadata": {},
   "outputs": [
    {
     "data": {
      "text/plain": [
       "[1, 3.0, 100, -2.0]"
      ]
     },
     "execution_count": 61,
     "metadata": {},
     "output_type": "execute_result"
    }
   ],
   "source": [
    "# 예제 : 다음 리스트에서 소수점 이하가 0인 수만 추출하시오.(filter/리스트컴프리헨션)\n",
    "L = [1, 1.2, 1.5, 3.0, 10.5, 100, -2.0, -12.2]\n",
    "list(filter(lambda x : x%1.0==0, L))"
   ]
  },
  {
   "cell_type": "code",
   "execution_count": 62,
   "id": "a88712a1",
   "metadata": {},
   "outputs": [
    {
     "data": {
      "text/plain": [
       "[1, 3.0, 100, -2.0]"
      ]
     },
     "execution_count": 62,
     "metadata": {},
     "output_type": "execute_result"
    }
   ],
   "source": [
    "[item for item in L if item%1==0]"
   ]
  },
  {
   "cell_type": "markdown",
   "id": "1277576b",
   "metadata": {},
   "source": [
    "### (3) sort"
   ]
  },
  {
   "cell_type": "code",
   "execution_count": 63,
   "id": "bb15b5ff",
   "metadata": {},
   "outputs": [
    {
     "data": {
      "text/plain": [
       "[10, 6, 3, 1]"
      ]
     },
     "execution_count": 63,
     "metadata": {},
     "output_type": "execute_result"
    }
   ],
   "source": [
    "p = [10,3,6,1]\n",
    "p.sort(reverse=True)\n",
    "p"
   ]
  },
  {
   "cell_type": "code",
   "execution_count": 64,
   "id": "0c8591a5",
   "metadata": {},
   "outputs": [
    {
     "data": {
      "text/plain": [
       "[(1, 'one'), (2, 'two'), (3, 'three'), (4, 'four')]"
      ]
     },
     "execution_count": 64,
     "metadata": {},
     "output_type": "execute_result"
    }
   ],
   "source": [
    "# 무조건 0번째 item을 기준으로 오름차순 정렬\n",
    "pairs = [(2, 'two'),(1,'one'),(3,'three'),(4,'four')]\n",
    "pairs.sort()\n",
    "pairs"
   ]
  },
  {
   "cell_type": "code",
   "execution_count": 66,
   "id": "d551c109",
   "metadata": {},
   "outputs": [
    {
     "data": {
      "text/plain": [
       "[(2, 'two'), (3, 'three'), (1, 'one'), (4, 'four')]"
      ]
     },
     "execution_count": 66,
     "metadata": {},
     "output_type": "execute_result"
    }
   ],
   "source": [
    "# 1번째 item 기준으로 내림차순 정렬\n",
    "pairs.sort(key=lambda data:data[1], reverse=True)\n",
    "pairs"
   ]
  },
  {
   "cell_type": "code",
   "execution_count": 76,
   "id": "3c206eef",
   "metadata": {},
   "outputs": [
    {
     "name": "stdout",
     "output_type": "stream",
     "text": [
      "[[1, 100], [9, 9], [10, 200, 2]]\n",
      "[[10, 200, 2], [1, 100], [9, 9]]\n"
     ]
    }
   ],
   "source": [
    "# 0번 item이 큰 순(오름차순)\n",
    "number_2d = [[9,9],[1,100],[10,200,2]]\n",
    "number_2d.sort()\n",
    "print(number_2d)\n",
    "\n",
    "# 합이 큰순으로 정렬\n",
    "\n",
    "number_2d.sort(key=lambda items: sum(items), reverse=True)\n",
    "print(number_2d)"
   ]
  },
  {
   "cell_type": "code",
   "execution_count": 72,
   "id": "3ce9a03d",
   "metadata": {},
   "outputs": [],
   "source": [
    "students = [{'name':'홍','score':99},\n",
    "           {'name':'김','score':50},\n",
    "           {'name':'박','score':77},\n",
    "           {'score':100}, ]\n",
    "# students.sort(name)"
   ]
  },
  {
   "cell_type": "code",
   "execution_count": 74,
   "id": "4885691c",
   "metadata": {},
   "outputs": [
    {
     "data": {
      "text/plain": [
       "'홍'"
      ]
     },
     "execution_count": 74,
     "metadata": {},
     "output_type": "execute_result"
    }
   ],
   "source": [
    "name_select = lambda data : data.get('name','')\n",
    "name_select({'name':'홍', 'score':99})"
   ]
  },
  {
   "cell_type": "code",
   "execution_count": 77,
   "id": "e102d463",
   "metadata": {},
   "outputs": [
    {
     "data": {
      "text/plain": [
       "[{'name': '김', 'score': 50},\n",
       " {'name': '박', 'score': 77},\n",
       " {'name': '홍', 'score': 99},\n",
       " {'score': 100}]"
      ]
     },
     "execution_count": 77,
     "metadata": {},
     "output_type": "execute_result"
    }
   ],
   "source": [
    "# students를 name순으로 정렬(ㄱㄴㄷ순)\n",
    "students.sort(key=lambda data : data.get('name','힣'))     # 홍 김 박 None\n",
    "students"
   ]
  },
  {
   "cell_type": "code",
   "execution_count": 78,
   "id": "a94b040f",
   "metadata": {},
   "outputs": [
    {
     "data": {
      "text/plain": [
       "[{'score': 100},\n",
       " {'name': '홍', 'score': 99},\n",
       " {'name': '박', 'score': 77},\n",
       " {'name': '김', 'score': 50}]"
      ]
     },
     "execution_count": 78,
     "metadata": {},
     "output_type": "execute_result"
    }
   ],
   "source": [
    "# students를 score 큰 순 정렬\n",
    "students.sort(key=lambda data : data.get('score',0), reverse=True)\n",
    "students"
   ]
  },
  {
   "cell_type": "code",
   "execution_count": null,
   "id": "c6c6391c",
   "metadata": {},
   "outputs": [],
   "source": [
    "# 예제 : books 정렬()"
   ]
  },
  {
   "cell_type": "code",
   "execution_count": 80,
   "id": "affeb37c",
   "metadata": {},
   "outputs": [],
   "source": [
    "books = \\\n",
    "   [{'no':1, 'title':'더트릭컬', 'writer':'폴빠','price':'19,800'},\n",
    "    {'no':2, 'title':'흔한남매', 'writer':'백난도', 'price':'15,120'},\n",
    "    {'no':3, 'title':'단 한 번의 삶', 'writer':'김영하', 'price':'15,120'},\n",
    "    {'no':4, 'title':'가격잘못', 'writer':'홍길동', 'price':'ㅁ'},\n",
    "    {'no':5, 'title':'가격이숫자', 'writer':'백난도', 'price':30200},\n",
    "    {'no':6, 'title':'가격이없음', 'writer':'이길동'},] "
   ]
  },
  {
   "cell_type": "code",
   "execution_count": 81,
   "id": "247698a1",
   "metadata": {},
   "outputs": [
    {
     "data": {
      "text/plain": [
       "[{'no': 1, 'title': '더트릭컬', 'writer': '폴빠', 'price': '19,800'},\n",
       " {'no': 2, 'title': '흔한남매', 'writer': '백난도', 'price': '15,120'},\n",
       " {'no': 3, 'title': '단 한 번의 삶', 'writer': '김영하', 'price': '15,120'},\n",
       " {'no': 4, 'title': '가격잘못', 'writer': '홍길동', 'price': 'ㅁ'},\n",
       " {'no': 5, 'title': '가격이숫자', 'writer': '백난도', 'price': 30200},\n",
       " {'no': 6, 'title': '가격이없음', 'writer': '이길동'}]"
      ]
     },
     "execution_count": 81,
     "metadata": {},
     "output_type": "execute_result"
    }
   ],
   "source": [
    "books"
   ]
  },
  {
   "cell_type": "code",
   "execution_count": 82,
   "id": "5f45015e",
   "metadata": {},
   "outputs": [
    {
     "data": {
      "text/plain": [
       "[{'no': 1, 'title': '더트릭컬', 'writer': '폴빠', 'price': '19,800'},\n",
       " {'no': 2, 'title': '흔한남매', 'writer': '백난도', 'price': '15,120'},\n",
       " {'no': 3, 'title': '단 한 번의 삶', 'writer': '김영하', 'price': '15,120'},\n",
       " {'no': 4, 'title': '가격잘못', 'writer': '홍길동', 'price': 'ㅁ'},\n",
       " {'no': 5, 'title': '가격이숫자', 'writer': '백난도', 'price': 30200},\n",
       " {'no': 6, 'title': '가격이없음', 'writer': '이길동'}]"
      ]
     },
     "execution_count": 82,
     "metadata": {},
     "output_type": "execute_result"
    }
   ],
   "source": [
    "# no기준으로 sort\n",
    "books.sort(key = lambda book : book['no'])\n",
    "books"
   ]
  },
  {
   "cell_type": "code",
   "execution_count": 83,
   "id": "84c88222",
   "metadata": {},
   "outputs": [
    {
     "data": {
      "text/plain": [
       "[{'no': 5, 'title': '가격이숫자', 'writer': '백난도', 'price': 30200},\n",
       " {'no': 6, 'title': '가격이없음', 'writer': '이길동'},\n",
       " {'no': 4, 'title': '가격잘못', 'writer': '홍길동', 'price': 'ㅁ'},\n",
       " {'no': 3, 'title': '단 한 번의 삶', 'writer': '김영하', 'price': '15,120'},\n",
       " {'no': 1, 'title': '더트릭컬', 'writer': '폴빠', 'price': '19,800'},\n",
       " {'no': 2, 'title': '흔한남매', 'writer': '백난도', 'price': '15,120'}]"
      ]
     },
     "execution_count": 83,
     "metadata": {},
     "output_type": "execute_result"
    }
   ],
   "source": [
    "# title기준으로 sort\n",
    "books.sort(key = lambda book : book['title'])\n",
    "books"
   ]
  },
  {
   "cell_type": "code",
   "execution_count": 86,
   "id": "bea63e7b",
   "metadata": {},
   "outputs": [
    {
     "ename": "TypeError",
     "evalue": "'<' not supported between instances of 'str' and 'int'",
     "output_type": "error",
     "traceback": [
      "\u001b[1;31m---------------------------------------------------------------------------\u001b[0m",
      "\u001b[1;31mTypeError\u001b[0m                                 Traceback (most recent call last)",
      "Cell \u001b[1;32mIn[86], line 2\u001b[0m\n\u001b[0;32m      1\u001b[0m \u001b[38;5;66;03m# price기준으로 sort\u001b[39;00m\n\u001b[1;32m----> 2\u001b[0m \u001b[43mbooks\u001b[49m\u001b[38;5;241;43m.\u001b[39;49m\u001b[43msort\u001b[49m\u001b[43m(\u001b[49m\u001b[43mkey\u001b[49m\u001b[43m \u001b[49m\u001b[38;5;241;43m=\u001b[39;49m\u001b[43m \u001b[49m\u001b[38;5;28;43;01mlambda\u001b[39;49;00m\u001b[43m \u001b[49m\u001b[43mbook\u001b[49m\u001b[43m \u001b[49m\u001b[43m:\u001b[49m\u001b[43m \u001b[49m\u001b[43mbook\u001b[49m\u001b[38;5;241;43m.\u001b[39;49m\u001b[43mget\u001b[49m\u001b[43m(\u001b[49m\u001b[38;5;124;43m'\u001b[39;49m\u001b[38;5;124;43mprice\u001b[39;49m\u001b[38;5;124;43m'\u001b[39;49m\u001b[43m,\u001b[49m\u001b[38;5;241;43m0\u001b[39;49m\u001b[43m)\u001b[49m\u001b[43m)\u001b[49m\n\u001b[0;32m      3\u001b[0m books\n",
      "\u001b[1;31mTypeError\u001b[0m: '<' not supported between instances of 'str' and 'int'"
     ]
    }
   ],
   "source": [
    "# price기준으로 sort\n",
    "books.sort(key = lambda book : book.get('price',0))\n",
    "books"
   ]
  },
  {
   "cell_type": "code",
   "execution_count": 96,
   "id": "02917429",
   "metadata": {},
   "outputs": [
    {
     "name": "stdout",
     "output_type": "stream",
     "text": [
      "12000 30200 0 0\n"
     ]
    }
   ],
   "source": [
    "# 30200=>30200, '12,000'=>12000,'5000'=>5000, 'ㅁ'=>0, None => 0\n",
    "def parse_int(price):\n",
    "    if isinstance(price, str) and price.replace(',','').isdigit():\n",
    "        return int(price.replace(',',''))\n",
    "    elif isinstance(price, int):\n",
    "        return price\n",
    "    else:\n",
    "        return 0\n",
    "\n",
    "parse_int = lambda price: \\\n",
    "            int(price.replace(',','')) \\\n",
    "                if isinstance(price, str) and price.replace(',','').isdigit() else \\\n",
    "            price if isinstance(price, int) else 0\n",
    "            \n",
    "print(parse_int('12,000'),parse_int(30200),parse_int('ㅁ'),parse_int(None))"
   ]
  },
  {
   "cell_type": "code",
   "execution_count": 98,
   "id": "b0acc1f0",
   "metadata": {},
   "outputs": [
    {
     "data": {
      "text/plain": [
       "0"
      ]
     },
     "execution_count": 98,
     "metadata": {},
     "output_type": "execute_result"
    }
   ],
   "source": [
    "# {'no': 5, 'title':'가격이 숫자', 'writer':'백난도','price':'12,000'} => 12000\n",
    "parse_int = lambda book : \\\n",
    "            int(book.get('price').replace(',','')) \\\n",
    "                if isinstance(book.get('price'), str) and \\\n",
    "                            book.get('price').replace(',','').isdigit() else \\\n",
    "            book.get('price') if isinstance(book.get('price'), int) else 0\n",
    "\n",
    "parse_int({'no': 5, 'title':'가격이 숫자', 'writer':'백난도','price':'ㅁ'})"
   ]
  },
  {
   "cell_type": "code",
   "execution_count": 99,
   "id": "e71f2ac4",
   "metadata": {},
   "outputs": [
    {
     "data": {
      "text/plain": [
       "[{'no': 5, 'title': '가격이숫자', 'writer': '백난도', 'price': 30200},\n",
       " {'no': 1, 'title': '더트릭컬', 'writer': '폴빠', 'price': '19,800'},\n",
       " {'no': 3, 'title': '단 한 번의 삶', 'writer': '김영하', 'price': '15,120'},\n",
       " {'no': 2, 'title': '흔한남매', 'writer': '백난도', 'price': '15,120'},\n",
       " {'no': 6, 'title': '가격이없음', 'writer': '이길동'},\n",
       " {'no': 4, 'title': '가격잘못', 'writer': '홍길동', 'price': 'ㅁ'}]"
      ]
     },
     "execution_count": 99,
     "metadata": {},
     "output_type": "execute_result"
    }
   ],
   "source": [
    "# sort본과 copy본을 모두 보관하고 싶으면 복제\n",
    "copyBooks = books.copy()  # 복제\n",
    "copyBooks.sort(key=lambda book : \\\n",
    "            int(book.get('price').replace(',','')) \\\n",
    "                if isinstance(book.get('price'), str) and \\\n",
    "                            book.get('price').replace(',','').isdigit() else \\\n",
    "            book.get('price') if isinstance(book.get('price'), int) else 0,\n",
    "               reverse=True)\n",
    "copyBooks"
   ]
  },
  {
   "cell_type": "markdown",
   "id": "21d347a5",
   "metadata": {},
   "source": [
    "# 5절 파이썬 내장함수\n",
    "- import 하지 않고 바로 사용 가능한 함수\n",
    "- 키워드(if, while,...)처럼 간주되므로, 식별자(변수명, 함수명, 클래스명)로 사용하는 것을 피한다."
   ]
  },
  {
   "cell_type": "code",
   "execution_count": 2,
   "id": "127da1f5",
   "metadata": {},
   "outputs": [],
   "source": [
    "a = 10"
   ]
  },
  {
   "cell_type": "code",
   "execution_count": 3,
   "id": "522cf285",
   "metadata": {
    "collapsed": true
   },
   "outputs": [
    {
     "data": {
      "text/plain": [
       "{'__name__': '__main__',\n",
       " '__doc__': 'Automatically created module for IPython interactive environment',\n",
       " '__package__': None,\n",
       " '__loader__': None,\n",
       " '__spec__': None,\n",
       " '__builtin__': <module 'builtins' (built-in)>,\n",
       " '__builtins__': <module 'builtins' (built-in)>,\n",
       " '_ih': ['', 'globals() # 전역변수 리스트', 'a = 10', 'globals() # 전역변수 리스트'],\n",
       " '_oh': {1: {...}},\n",
       " '_dh': [WindowsPath('C:/AI/source/01_python')],\n",
       " 'In': ['', 'globals() # 전역변수 리스트', 'a = 10', 'globals() # 전역변수 리스트'],\n",
       " 'Out': {1: {...}},\n",
       " 'get_ipython': <bound method InteractiveShell.get_ipython of <ipykernel.zmqshell.ZMQInteractiveShell object at 0x000001A55E70F730>>,\n",
       " 'exit': <IPython.core.autocall.ZMQExitAutocall at 0x1a55e71fee0>,\n",
       " 'quit': <IPython.core.autocall.ZMQExitAutocall at 0x1a55e71fee0>,\n",
       " 'open': <function io.open(file, mode='r', buffering=-1, encoding=None, errors=None, newline=None, closefd=True, opener=None)>,\n",
       " '_': {...},\n",
       " '__': '',\n",
       " '___': '',\n",
       " '_i': 'a = 10',\n",
       " '_ii': 'globals() # 전역변수 리스트',\n",
       " '_iii': '',\n",
       " '_i1': 'globals() # 전역변수 리스트',\n",
       " '_1': {...},\n",
       " '_i2': 'a = 10',\n",
       " 'a': 10,\n",
       " '_i3': 'globals() # 전역변수 리스트'}"
      ]
     },
     "execution_count": 3,
     "metadata": {},
     "output_type": "execute_result"
    }
   ],
   "source": [
    "globals() # 전역변수 리스트"
   ]
  },
  {
   "cell_type": "code",
   "execution_count": 4,
   "id": "d6bb8060",
   "metadata": {},
   "outputs": [
    {
     "data": {
      "text/plain": [
       "False"
      ]
     },
     "execution_count": 4,
     "metadata": {},
     "output_type": "execute_result"
    }
   ],
   "source": [
    "all([True, True, True, False])   #모든 요소가 다 True인지 여부"
   ]
  },
  {
   "cell_type": "markdown",
   "id": "45fd5cb2",
   "metadata": {},
   "source": [
    "# 6절 연습문제"
   ]
  },
  {
   "cell_type": "markdown",
   "id": "8a1ffed6",
   "metadata": {},
   "source": [
    "### 실습형"
   ]
  },
  {
   "cell_type": "code",
   "execution_count": 8,
   "id": "82f99470",
   "metadata": {},
   "outputs": [
    {
     "data": {
      "text/plain": [
       "(99, 1)"
      ]
     },
     "execution_count": 8,
     "metadata": {},
     "output_type": "execute_result"
    }
   ],
   "source": [
    "# 1. 함수의 인자로 리스트를 받은 후 리스트 내에 있는 모든 정수값에 대한 최대값과 최소값을 리턴하는 함수를 작성하세요.\n",
    "# def get_max_min(data_list):\n",
    "#     if not data_list:\n",
    "#         raise ValueError(\"data_list는 비어있으면 안됩니다.\")   \n",
    "#     return max(data_list), min(data_list)\n",
    "\n",
    "get_max_min = lambda data_list: (max(data_list), min(data_list)) if data_list else (None, None)\n",
    "\n",
    "get_max_min([1,2,3,4,5,6,7,8,9,11,55,88,99])"
   ]
  },
  {
   "cell_type": "code",
   "execution_count": null,
   "id": "5d2f184f",
   "metadata": {},
   "outputs": [],
   "source": [
    "# 실습형1.최대값 최소값을 리턴=============== 풀이\n",
    "def get_max_min(data_list):\n",
    "    return max(data_list), min(data_list)\n",
    "get_max_min = lambda data_list : (max(data_list), min(data_list)) # 람다식으로 바꾸면 반드시 튜플로\n",
    "\n",
    "def get_max_min(data_list): # 메일받은 내용\n",
    "    return {\"최대값\": max(data_list), \"최소값\": min(data_list)}\n",
    "\n",
    "def get_max_min(data_list): # 약간 수정된 메일받은 내용\n",
    "    import sys\n",
    "    # 최소값은 큰값으로 초기화, 최대값은 작은값으로 초기화하는 경우\n",
    "    min_, max_ = sys.maxsize, -sys.maxsize \n",
    "    print(min_, max_)\n",
    "    # 최소, 최대값을 무조건 0번째 값으로 초기화하는 경우\n",
    "    min_, max_ = data_list[0], data_list[0]\n",
    "    for data in data_list:\n",
    "        if data==round(data):  # 정수만\n",
    "            if min_< data:\n",
    "                min_ = data\n",
    "            if max_ > data:\n",
    "                max_ = data\n",
    "    return {\"최대정수\": max_, \"최소정수\": min_}\n",
    "\n",
    "get_max_min([-99.1, 1,0,3,4,5,6,-3.9, 10])"
   ]
  },
  {
   "cell_type": "code",
   "execution_count": null,
   "id": "97824e2c",
   "metadata": {},
   "outputs": [],
   "source": [
    "# 실습형1.최대값 최소값을 리턴==> 업데이트\n",
    "def get_max_min(data_list):\n",
    "    return max(data_list), min(data_list)\n",
    "\n",
    "get_max_min = lambda data_list : (max(data_list), min(data_list)) # 람다식으로 바꾸면 반드시 튜플로\n",
    "\n",
    "def get_max_min(data_list): # 메일받은 내용\n",
    "    return {\"최대값\": max(data_list), \"최소값\": min(data_list)}\n",
    "\n",
    "def get_max_min(data_list): # 약간 수정된 메일받은 내용    \n",
    "    # 최소값은 큰값으로, 최대값은 작은값으로 초기화\n",
    "    import sys\n",
    "    min_, max_ = sys.maxsize, -sys.maxsize\n",
    "    print(min_, max_)\n",
    "    for data in data_list:\n",
    "        if data==round(data):\n",
    "            if min_> data:\n",
    "                min_ = data\n",
    "            if max_ < data:\n",
    "                max_ = data\n",
    "    return {\"최대정수\": max_, \"최소정수\": min_}\n",
    "\n",
    "get_max_min([-99.1,0,-3.9, 10])"
   ]
  },
  {
   "cell_type": "code",
   "execution_count": 21,
   "id": "7255a7cb",
   "metadata": {},
   "outputs": [
    {
     "data": {
      "text/plain": [
       "'표   준'"
      ]
     },
     "execution_count": 21,
     "metadata": {},
     "output_type": "execute_result"
    }
   ],
   "source": [
    "# 2. 체질량 지수(Body Mass Index, BMI)는 체중과 키를 이용해 비만도를 나타내는 지수로 아래의 수식에 의해 계산됩니다. \n",
    "#    함수의 인자로 체중(kg)과 신장(m)를 입력받은 후 BMI값에 따라 ‘마른 체형‘, ‘표준‘, ‘비만‘, ‘고도비만‘ 중 하나의 상태를 출력하는 함수를 구현해 보세요.\n",
    "#    getBMI(kg, m):\n",
    "#    BMI지수 = 체중(kg) / 신장(m)의 제곱\n",
    "#    BMI<18.5 : 마른체형\n",
    "#    18.5<=BMI<25 : 표준\n",
    "#    25<=BMI<30 : 비만\n",
    "#    BMI >=30 : 고도비만\n",
    "\n",
    "# def getBMI(kg, m):\n",
    "#     BMI_v = kg / (m**2)\n",
    "#     if BMI_v < 18.5 :\n",
    "#         return \"마른체형\"\n",
    "#     elif 18.5<=BMI_v<25 :\n",
    "#         return \"표준\"\n",
    "#     elif 25<=BMI_v<30 : \n",
    "#         return \"비만\"\n",
    "#     else : \n",
    "#         return \"고도비만\"\n",
    "\n",
    "getBMI = lambda kg, m:(\n",
    "    \"마른체형\" if (kg / (m**2)) < 18.5 else\n",
    "    \"표   준\" if (kg / (m**2)) < 25 else\n",
    "    \"비   만\" if (kg / (m**2)) < 30 else\n",
    "    \"고도비만\" \n",
    ")\n",
    "    \n",
    "getBMI(68,1.65)"
   ]
  },
  {
   "cell_type": "code",
   "execution_count": null,
   "id": "c4884093",
   "metadata": {},
   "outputs": [],
   "source": [
    "# 실습형2. 체중과 키를 입력받아 BMI지수에 따른 비만도 상태 출력  ====풀이\n",
    "def getBMI(kg, m):\n",
    "    bmi = kg / (m*m)\n",
    "    if bmi<18.5:\n",
    "        print('마른체형')\n",
    "    elif 18.5 <= bmi < 25.0:\n",
    "        print('표준')\n",
    "    elif 25.0 <= bmi < 30.0:\n",
    "        print('비만')\n",
    "    else:\n",
    "        print('고도비만')\n",
    "\n",
    "# 메일받은 내용\n",
    "get_bmi = lambda w, h: \"저체중\" if bmi(w, h) < 18.5 else \"정상\" if bmi(w, h) < 25 else \"과체중\" if bmi(w, h) < 30 else \"비만\"\n",
    "        \n",
    "getBMI(70, 1.75), getBMI(50, 1.6), getBMI(48, 1.65)"
   ]
  },
  {
   "cell_type": "code",
   "execution_count": 5,
   "id": "934763db",
   "metadata": {},
   "outputs": [
    {
     "data": {
      "text/plain": [
       "{'넓이': 6.0, '둘레': 12.0}"
      ]
     },
     "execution_count": 5,
     "metadata": {},
     "output_type": "execute_result"
    }
   ],
   "source": [
    "# 실습형 3: 직각삼각형 w,h로 area, perimeter(넓이, 둘레)\n",
    "# 직각삼각형의 밑변과 높이를 입력받은 후 삼각형의 면적과 둘레를 계산하는 함수를 작성하세요.\n",
    "# 리턴값은 면적과 둘레를 return하도록 구현하세요\n",
    "# math.sqrt() : 제곱근을 구하는 함수이용 (ex)math.sqrt(25) : 5.0\n",
    "\n",
    "import math\n",
    "def get_trianle(w, h):\n",
    "    area = w * h * 0.5\n",
    "    # math.sqrt() : 제곱근\n",
    "    perimeter = w + h + math.sqrt(w*w + h*h)\n",
    "#    return area, perimeter\n",
    "    return{'넓이':area, '둘레':perimeter}\n",
    "\n",
    "def get_triangle(width, height): # 메일받은 내용\n",
    "    return {\"넓이\":width*height*0.5, \"둘레\":width+height+math.sqrt((width**2)+(height**2))}\n",
    "\n",
    "get_trianle(3,4)"
   ]
  },
  {
   "cell_type": "code",
   "execution_count": 23,
   "id": "93f742df",
   "metadata": {},
   "outputs": [
    {
     "name": "stdout",
     "output_type": "stream",
     "text": [
      "55\n",
      "15\n"
     ]
    }
   ],
   "source": [
    "# 4. 함수의 인자로 시작과 끝 숫자가 주어질 때 시작부터 끝까지의 모든 정수값의 합을 리턴하는 함 수를 작성하세요(시작값과 끝값 포함).\n",
    "def mysum(fRom, end):\n",
    "    return sum(range(fRom, end+1))\n",
    "print(mysum(1,10))\n",
    "print(mysum(1,5))"
   ]
  },
  {
   "cell_type": "code",
   "execution_count": null,
   "id": "92ef8ec0",
   "metadata": {},
   "outputs": [],
   "source": [
    "#=============================풀이===============================\n",
    "# 실습형 4.fRom부터 end까지 모든 정수의 합 리턴 (변수명으로 from은 못 오고 frOm으로 함)\n",
    "def mysum(fRom, end):\n",
    "    sum = 0\n",
    "    for i in range(fRom, end+1):\n",
    "        sum += i\n",
    "    return sum\n",
    "\n",
    "def mysum(fRom, end): # 메일받은 내용\n",
    "    return sum(range(fRom, end+1))\n",
    "\n",
    "mysum = lambda fRom, end : sum(range(fRom, end+1))\n",
    "\n",
    "def mysum(fRom,end): # 메일받은 내용\n",
    "    large = abs(end - fRom)    \n",
    "    # 시작값과 끝 값을 짝지은 후 같은 값들의 묶음들의 갯수만큼 곱\n",
    "    # 단 정수들의 갯수가 홀수일 땐 중앙값을 찾아 추가로 더함\n",
    "     # ex1 1~4 (1+4)+(2+3)\n",
    "    if large%2:\n",
    "        sum_ = (fRom + end) * ((large // 2)+1)\n",
    "    # ex1 1~5 (1+5)+(2+4)+(3)\n",
    "    else:\n",
    "         sum_ = (fRom + end) * (large // 2)+((fRom + end)//2)            \n",
    "    return sum_\n",
    "\n",
    "mysum(10, 12) # 10+11+12의 결과"
   ]
  },
  {
   "cell_type": "code",
   "execution_count": 26,
   "id": "f6d16666",
   "metadata": {},
   "outputs": [
    {
     "name": "stdout",
     "output_type": "stream",
     "text": [
      "['Seo', 'Dae', 'Kwa', 'Jej']\n"
     ]
    },
    {
     "data": {
      "text/plain": [
       "['Seo', 'Dae', 'Kwa', 'Jej']"
      ]
     },
     "execution_count": 26,
     "metadata": {},
     "output_type": "execute_result"
    }
   ],
   "source": [
    "# 5. 함수의 인자로 문자열을 포함하는 리스트가 입력될 때 각 문자열의 첫 세글자로만 구성된 리스 트를 리턴하는 함수와 람다식을 작성하세요.\n",
    "#    예를 들어 함수의 입력으로 [‘Seoul’, ‘Daegu’, ‘Kwangju’, ‘Jeju’]가 입력될 때 함수의 리턴값은 [‘Seo’, ‘Dae’, ‘Kwa’,’Jej’]\n",
    "add_lst = ['Seoul', 'Daegu', 'Kwangju', 'Jeju']    \n",
    "\n",
    "def get_abbrs(lst):   \n",
    "    return [abbr[:3] for abbr in lst]\n",
    "\n",
    "print(get_abbrs(add_lst))\n",
    "\n",
    "get_abbrs(add_lst)"
   ]
  },
  {
   "cell_type": "code",
   "execution_count": null,
   "id": "d7c66b17",
   "metadata": {},
   "outputs": [],
   "source": [
    "#==================풀이===================================\n",
    "# 실습형 5. 문자열 리스트가 입력될 때 첫 세글자로만 구성된 리스트 return\n",
    "test = ['Seoul', 'Deagu', 'Kwangju', 'Jeju']\n",
    "def get_abbrs(list_):\n",
    "    return [x[:3] for x in list_]\n",
    "\n",
    "def get_addrs(list_): # 많은 메일을 받은 내용 : 위의 리스트컴프리헨션 추천\n",
    "    answer = []\n",
    "    for l in list_:\n",
    "        answer.append(l[:3])\n",
    "    return answer\n",
    "\n",
    "def get_abbrs(list_): # 메일 받은 내용(약간 수정)\n",
    "    return [\"{:.3}\".format(city) for city in list_]\n",
    "\n",
    "print(get_abbrs(test)) # 일반 함수 이용\n",
    "print((lambda l : [x[:3] for x in l])(test)) #람다식 이용"
   ]
  },
  {
   "cell_type": "code",
   "execution_count": 28,
   "id": "d0a49aaa",
   "metadata": {},
   "outputs": [
    {
     "data": {
      "text/plain": [
       "125"
      ]
     },
     "execution_count": 28,
     "metadata": {},
     "output_type": "execute_result"
    }
   ],
   "source": [
    "# 6. 다음 코드를 람다 함수 형태로 수정할 때 알맞은 코드를 작성하시오.\n",
    "# def f(x, y):\n",
    "#     return x ** y\n",
    "# f(5,3)\n",
    "f = lambda x, y : x**y\n",
    "f(5,3)"
   ]
  },
  {
   "cell_type": "code",
   "execution_count": 33,
   "id": "71ad1ec9",
   "metadata": {},
   "outputs": [
    {
     "data": {
      "text/plain": [
       "[1, 4, 9, 16, 25]"
      ]
     },
     "execution_count": 33,
     "metadata": {},
     "output_type": "execute_result"
    }
   ],
   "source": [
    "# 7. ex = [1,2,3,4,5]를 [1,4,9,16,25]의 결과를 얻을 수 있도록 람다함수와 map()함수를 사용하여 구현하고 리스트 컴프리헨션으로 구현하시오.\n",
    "ex = [1,2,3,4,5]\n",
    "# list(map(lambda x:x*x, ex))\n",
    "\n",
    "[x*x for x in ex]"
   ]
  },
  {
   "cell_type": "code",
   "execution_count": 35,
   "id": "ad359654",
   "metadata": {},
   "outputs": [
    {
     "name": "stdout",
     "output_type": "stream",
     "text": [
      "1 2 3\n",
      "[1, 2, 3]\n"
     ]
    }
   ],
   "source": [
    "# 8. 다음 코드를 각각 실행하면 서로 다른 결과가 나온다. 이런 결과가 나오는 이유를 서술하시오.\n",
    "a = [1,2,3]\n",
    "print(*a)   # *가 언패킹 연산자라서 리스트 안의 요소들을 풀어서 print() 함수에 개별 인자로 전달하기 때문에 print(1,2,3)과 동일한 결과\n",
    "            # print() 의 기본 동작은 여러 인자를 공백으로 구분해서 출력하기 때문에 1 2 3이 출력됨\n",
    "print(a)    # 리스트 자체를 출력 [1, 2, 3]과 같이 출력됨\n",
    "\n"
   ]
  },
  {
   "cell_type": "code",
   "execution_count": null,
   "id": "b15ff15d",
   "metadata": {},
   "outputs": [],
   "source": [
    "# 실습형 8.=================풀이==================\n",
    "a = [1,2,3]\n",
    "print(*a)\n",
    "print(a)\n",
    "answer = '''\n",
    "별표(asterisk, *)는 함수의 인자(argument)로 사용될 때,\n",
    "시퀀스형 자료형의 각각의 값(element)을 하나의 값(element)으로\n",
    "넣어주게 된다(언패킹)\n",
    "그러므로 print(*a)의 의미는 사실 print(a[0], a[1], a[2])으로\n",
    "나타나게 된다\n",
    "'''"
   ]
  },
  {
   "cell_type": "code",
   "execution_count": 36,
   "id": "e7b85e8b",
   "metadata": {},
   "outputs": [
    {
     "data": {
      "text/plain": [
       "'2024-9-6'"
      ]
     },
     "execution_count": 36,
     "metadata": {},
     "output_type": "execute_result"
    }
   ],
   "source": [
    "# 9. 다음 코드의 실행 결과는?\n",
    "date_info={'year':2024, 'month':9, 'day':6}\n",
    "result = '{year}-{month}-{day}'.format(**date_info)\n",
    "result        # 결과    '2024-9-6'"
   ]
  },
  {
   "cell_type": "code",
   "execution_count": 39,
   "id": "f4b03c47",
   "metadata": {},
   "outputs": [
    {
     "data": {
      "text/plain": [
       "False"
      ]
     },
     "execution_count": 39,
     "metadata": {},
     "output_type": "execute_result"
    }
   ],
   "source": [
    "# 10. 입력받은 n개의 벡터(리스트나 튜플, 셋등)들의 크기가 같은지 여부를 reutrn하는 \n",
    "# vector_size_check(*vector _var) 를 한 줄의 코드(리스트 컴프리헨션 이용)로 작성하시오.\n",
    "# **튜플을 매개변수로 받는 경우는 내가 만든것보다 전달받은 데이터일 확률이 높다.\n",
    "# set을 이용해서 => 각 요소의 길이를 len()으로 구해서 다시 set으로 만들어서 set의 길이 확인\n",
    "\n",
    "# def vector_size_check(*vector_var):\n",
    "#     lengths = {len(v) for v in vector_var}\n",
    "#     return len(lengths) == 1\n",
    "# vector_var = {[1,2],{10,20},{'name':'홍','age':30},(1,),{1,55},[33,44]}\n",
    "vector_size_check = lambda *vector_var: len({len(v) for v in vector_var}) == 1\n",
    "\n",
    "vector_size_check([1,2],{10,20},{'name':'홍','age':30},(1,),{1,55},[33,44]) # 각방의 길이가 같은지 구하는 함수"
   ]
  },
  {
   "cell_type": "code",
   "execution_count": null,
   "id": "27f45394",
   "metadata": {},
   "outputs": [],
   "source": [
    "# 실습형 10=========================풀이===================\n",
    "# 입력받은 n개의 벡터(리스트, 튜플, 셋, 딕셔너리)의 크기가 같은지를 return하는 함수\n",
    "def vector_size_check(*vector_var):\n",
    "    # print(vector_var)\n",
    "    result = set()\n",
    "    for vector in vector_var:\n",
    "        result.add(len(vector)) # len(vector_var)이 아니고 vector 하나하나의 len\n",
    "    return len(result)==1\n",
    "\n",
    "def vector_size_check(*vector_var):\n",
    "    return len(set([len(vector) for vector in vector_var]))==1\n",
    "\n",
    "def vector_size_check(*vector_var): # 메일 받은 내용\n",
    "    return True if len(set([len(vec) for vec in vector_var])) == 1 else False\n",
    "\n",
    "print(vector_size_check([1,2], {10,20}, {'name':'홍', 'age':30}, (1,2)))\n",
    "print(vector_size_check([1,2], {10,20}, {'name':'홍', 'age':30}, (1,)))"
   ]
  },
  {
   "cell_type": "code",
   "execution_count": 41,
   "id": "ea8a7a93",
   "metadata": {},
   "outputs": [
    {
     "data": {
      "text/plain": [
       "[6, 12, 18]"
      ]
     },
     "execution_count": 41,
     "metadata": {},
     "output_type": "execute_result"
    }
   ],
   "source": [
    "# 11. 다음과 같은 결과를 얻기 위해 하나의 스칼라값을 리스트나 튜플, 셋등 벡터에 곱하는 코드를 작성하시오.\n",
    "# (단 입력되는 벡터의 크기는 일정하지 않음)\n",
    "scalar_vector_product = lambda scalar, vector: [scalar * e for e in vector]\n",
    "scalar_vector_product(5, [1,2,3,4])  # 결과 [5,10,15,20]\n",
    "scalar_vector_product(3, [2,4,6]) "
   ]
  },
  {
   "cell_type": "code",
   "execution_count": null,
   "id": "108651f4",
   "metadata": {},
   "outputs": [],
   "source": [
    "# 실습형 11 =========================풀이====================\n",
    "def scalar_vector_product(num, vector):\n",
    "    return [num*vec for vec in vector]\n",
    "\n",
    "def scalar_vector_product(x, lst): # 메일 받은 내용\n",
    "    return (map(lambda num : num*x, lst)) \n",
    "\n",
    "scalar_vector_product = lambda num, vector : [num*v for v in vector]\n",
    "\n",
    "scalar_vector_product(10, [1,2,3,4])"
   ]
  },
  {
   "cell_type": "markdown",
   "id": "ed1e10d6",
   "metadata": {},
   "source": [
    "### 서술형"
   ]
  },
  {
   "cell_type": "code",
   "execution_count": 43,
   "id": "1de7fddd",
   "metadata": {},
   "outputs": [
    {
     "data": {
      "text/plain": [
       "[(4, 'a'), (3, 'b'), (2, 'c'), (1, 'd')]"
      ]
     },
     "execution_count": 43,
     "metadata": {},
     "output_type": "execute_result"
    }
   ],
   "source": [
    "# 1. 다음 코드의 실행 결과는?\n",
    "pairs = [(1, 'd'),(2,'c'),(3,'b'),(4,'a')]\n",
    "pairs.sort(key=lambda pair:pair[1])\n",
    "pairs\n",
    "# ② [(4, 'a'), (3, 'b'), (2, 'c'), (1, 'd')]"
   ]
  },
  {
   "cell_type": "code",
   "execution_count": 4,
   "id": "2a28d91c",
   "metadata": {},
   "outputs": [
    {
     "name": "stdout",
     "output_type": "stream",
     "text": [
      "612613"
     ]
    },
    {
     "data": {
      "text/plain": [
       "'\\n- 오류가 발생하는 라인 : 3번라인\\n- 문제 해결을 위한 코드 : a변수 초기화 문장\\n- 코드 수정 후 실행 결과 : func()의 지역변수 a의 값과 sub()의 지역변수의 값이 연속해서 출력되는 것이 2번 반복된다.'"
      ]
     },
     "execution_count": 4,
     "metadata": {},
     "output_type": "execute_result"
    }
   ],
   "source": [
    "# 2. 함수 영역과 변수들의 참조 영역에 따른 동작을 보여주기 위한 문제, 오류가 발생하는 라인을 찾고 문제를 해결하기 위한 코드를 작성하며, 실행결과를 쓰세요.\n",
    "a = 10\n",
    "def sub() :\n",
    "    global a       # 문제해결을 위한 코드\n",
    "    a += 1     \n",
    "    print(a, end='')\n",
    "    \n",
    "def func():\n",
    "    for i in range(2):\n",
    "        a = 5\n",
    "        a += 1\n",
    "        print(a, end='')\n",
    "        sub()\n",
    "a += 1\n",
    "func()    # 결과 : 611611\n",
    "\n",
    "'''\n",
    "- 오류가 발생하는 라인 : 3번라인\n",
    "- 문제 해결을 위한 코드 : a변수 초기화 문장\n",
    "- 코드 수정 후 실행 결과 : func()의 지역변수 a의 값과 sub()의 지역변수의 값이 연속해서 출력되는 것이 2번 반복된다.'''"
   ]
  },
  {
   "cell_type": "code",
   "execution_count": 2,
   "id": "193e7364",
   "metadata": {},
   "outputs": [
    {
     "name": "stdout",
     "output_type": "stream",
     "text": [
      "6(func함수에서 출력) 11(sub함수에서 출력) 6(func함수에서 출력) 12(sub함수에서 출력) "
     ]
    }
   ],
   "source": [
    "# 서술형 2. \n",
    "a = 10 # 전역변수\n",
    "def sub():\n",
    "    global a # 문제해결을 위한 코드\n",
    "    a += 1\n",
    "    print(a, end='(sub함수에서 출력) ')\n",
    "def func():\n",
    "    for i in range(2):\n",
    "        a = 5 # 지역변수\n",
    "        a += 1\n",
    "        print(a, end='(func함수에서 출력) ')\n",
    "        sub()\n",
    "func()\n",
    "answer ='''\n",
    "오류가 발생하는 라인 : 원래 3줄(a += 1부분)\n",
    "a = a+1 : a에 값을 할당하면 지역변수가 됨\n",
    "          지역변수 a+1를 계산할 수 없음\n",
    "문제해결을 위해 : 에러나는 줄 앞에 global a 선언\n",
    "'''"
   ]
  },
  {
   "cell_type": "code",
   "execution_count": 48,
   "id": "5d5057c7",
   "metadata": {},
   "outputs": [
    {
     "name": "stdout",
     "output_type": "stream",
     "text": [
      "100\n"
     ]
    }
   ],
   "source": [
    "# 3. 다음 구문을 실행한 결과는?\n",
    "var = 100\n",
    "def func(var):\n",
    "    var = 200\n",
    "func(var)\n",
    "print(var)   #  100"
   ]
  },
  {
   "cell_type": "code",
   "execution_count": 49,
   "id": "a00b3714",
   "metadata": {},
   "outputs": [
    {
     "data": {
      "text/plain": [
       "5"
      ]
     },
     "execution_count": 49,
     "metadata": {},
     "output_type": "execute_result"
    }
   ],
   "source": [
    "# 4. 다음 구문을 실행한 결과는?\n",
    "def my_func(func, *args):\n",
    "    return func(*args)\n",
    "import numpy as np\n",
    "my_func(np.add, 2, 3)\n",
    "# 결과 5"
   ]
  },
  {
   "cell_type": "code",
   "execution_count": 50,
   "id": "de3a4eb0",
   "metadata": {},
   "outputs": [
    {
     "data": {
      "text/plain": [
       "9"
      ]
     },
     "execution_count": 50,
     "metadata": {},
     "output_type": "execute_result"
    }
   ],
   "source": [
    "# 5. 다음 구문을 실행한 결과는?\n",
    "\n",
    "def my_func(func, *args):\n",
    "    return func(*args)\n",
    "my_func(lambda a, b: a**b, 3, 2)\n",
    "\n",
    "#결과 9"
   ]
  },
  {
   "cell_type": "code",
   "execution_count": null,
   "id": "91af5e12",
   "metadata": {},
   "outputs": [],
   "source": [
    "# 6. 파이썬 함수에 대한 설명 중 잘못된 것은?\n",
    "\n",
    "# ① 파이썬의 함수는 중복 정의해 사용할 수 있다."
   ]
  },
  {
   "cell_type": "code",
   "execution_count": 5,
   "id": "d7f9ec7f",
   "metadata": {},
   "outputs": [
    {
     "name": "stdout",
     "output_type": "stream",
     "text": [
      "(1) [10]\n",
      "(2) [10, 20]\n",
      "(3) [30]\n"
     ]
    }
   ],
   "source": [
    "# 7. 다음과 같은 구문이 있을 경우 오류가 발생하는 함수 호출은?\n",
    "list_=[]\n",
    "def func(a, L=None):\n",
    "    if L is None:\n",
    "        L=[]\n",
    "    L.append(a)\n",
    "    return L\n",
    "print('(1)',func(10, list_))\n",
    "print('(2)',func(20, L=list_))\n",
    "print('(3)',func(a=30))"
   ]
  },
  {
   "cell_type": "code",
   "execution_count": null,
   "id": "03fde6ca",
   "metadata": {},
   "outputs": [],
   "source": []
  },
  {
   "cell_type": "code",
   "execution_count": null,
   "id": "5808989b",
   "metadata": {},
   "outputs": [],
   "source": []
  }
 ],
 "metadata": {
  "kernelspec": {
   "display_name": "Python 3 (ipykernel)",
   "language": "python",
   "name": "python3"
  },
  "language_info": {
   "codemirror_mode": {
    "name": "ipython",
    "version": 3
   },
   "file_extension": ".py",
   "mimetype": "text/x-python",
   "name": "python",
   "nbconvert_exporter": "python",
   "pygments_lexer": "ipython3",
   "version": "3.10.9"
  },
  "toc": {
   "base_numbering": 1,
   "nav_menu": {},
   "number_sections": false,
   "sideBar": true,
   "skip_h1_title": false,
   "title_cell": "Table of Contents",
   "title_sidebar": "Contents",
   "toc_cell": false,
   "toc_position": {
    "height": "calc(100% - 180px)",
    "left": "10px",
    "top": "150px",
    "width": "180px"
   },
   "toc_section_display": true,
   "toc_window_display": true
  }
 },
 "nbformat": 4,
 "nbformat_minor": 5
}
