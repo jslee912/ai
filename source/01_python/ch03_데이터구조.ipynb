{
 "cells": [
  {
   "cell_type": "code",
   "execution_count": 1,
   "id": "ad5852a2",
   "metadata": {},
   "outputs": [
    {
     "data": {
      "text/html": [
       "\n",
       "<style>\n",
       "div.container{width:90% !important;} \n",
       "div.cell.code_cell.rendered{width:100%;} \n",
       "div.input_prompt{padding:0px;}\n",
       "div.CodeMirror {font-family:Consolas; font-size:14pt;} \n",
       "div.text_cell_render.rendered_html{font-size:14pt;} \n",
       "div.output {font-size:14pt; font-weight:bold;} \n",
       "div.input {font-family:Consolas; font-size:14pt;} \n",
       "div.prompt {min-width:70px;}\n",
       "div#toc-wrapper{padding-top:120px;} \n",
       "div.text_cell_render ul li{font-size:12pt;padding:5px;} \n",
       "table.dataframe{font-size:12px;}\n",
       "</style>\n"
      ],
      "text/plain": [
       "<IPython.core.display.HTML object>"
      ]
     },
     "metadata": {},
     "output_type": "display_data"
    }
   ],
   "source": [
    "from IPython.display import display, HTML\n",
    "display(HTML(\"\"\"\n",
    "<style>\n",
    "div.container{width:90% !important;} \n",
    "div.cell.code_cell.rendered{width:100%;} \n",
    "div.input_prompt{padding:0px;}\n",
    "div.CodeMirror {font-family:Consolas; font-size:14pt;} \n",
    "div.text_cell_render.rendered_html{font-size:14pt;} \n",
    "div.output {font-size:14pt; font-weight:bold;} \n",
    "div.input {font-family:Consolas; font-size:14pt;} \n",
    "div.prompt {min-width:70px;}\n",
    "div#toc-wrapper{padding-top:120px;} \n",
    "div.text_cell_render ul li{font-size:12pt;padding:5px;} \n",
    "table.dataframe{font-size:12px;}\n",
    "</style>\n",
    "\"\"\"))"
   ]
  },
  {
   "cell_type": "markdown",
   "id": "867672ee",
   "metadata": {},
   "source": [
    "<b><font size=\"6\" color=\"red\">ch03. 데이터구조</font></b>\n",
    "- 리스트[1,2,'a'], 튜플{1,2}, 딕셔너리{\"name\":\"홍\", \"score\":99}, 셋{10,20}  => 배열은 동일 자료형의 집합\n",
    "\n",
    "# 1절 리스트\n",
    "## 1.1 리스트 만들기\n",
    "- []를 이용해서 만들며, 여러개 값(여러 타입)을 하나의 변수에 저장/관리할 수 있음\n",
    "- list()함수 이용도 가능(배열을 리스트로 변환)\n",
    "- 인덱스 : 각 요소의 위치, 인덱스는 0부터 시작. 맨마지막 인덱스는 -1\n",
    "- 슬라이싱({from:to:step]) : 부분 데이터셋 추출\n",
    "- 인덱스와 슬라이싱을 이용해서 쓰기와 읽기 지원"
   ]
  },
  {
   "cell_type": "code",
   "execution_count": 3,
   "id": "a4c1232c",
   "metadata": {},
   "outputs": [
    {
     "data": {
      "text/plain": [
       "list"
      ]
     },
     "execution_count": 3,
     "metadata": {},
     "output_type": "execute_result"
    }
   ],
   "source": [
    "fruit = 'banana'   # 스칼라 데이터\n",
    "fruits = ['banana', 'apple', 'orange', 'grape']\n",
    "type(fruits)"
   ]
  },
  {
   "cell_type": "code",
   "execution_count": 8,
   "id": "a888235e",
   "metadata": {},
   "outputs": [
    {
     "name": "stdout",
     "output_type": "stream",
     "text": [
      "['banana', 'apple', 'orange', 'grape']\n",
      "banana\n",
      "grape\n"
     ]
    }
   ],
   "source": [
    "print(fruits)\n",
    "print(fruits[0])   # 인덱싱을 이용한 읽기\n",
    "print(fruits[3])\n",
    "#print(fruits[4])   # 없는 인덱싱시 에러"
   ]
  },
  {
   "cell_type": "code",
   "execution_count": 9,
   "id": "f392c671",
   "metadata": {},
   "outputs": [
    {
     "name": "stdout",
     "output_type": "stream",
     "text": [
      "['mango', 'apple', 'orange', 'grape']\n"
     ]
    }
   ],
   "source": [
    "fruits[0] = 'mango'  # 인덱싱을 이용한 쓰기\n",
    "print(fruits)"
   ]
  },
  {
   "cell_type": "code",
   "execution_count": 12,
   "id": "400e5639",
   "metadata": {},
   "outputs": [
    {
     "name": "stdout",
     "output_type": "stream",
     "text": [
      "x = mango\n",
      "y = apple\n",
      "z = orange\n"
     ]
    }
   ],
   "source": [
    "fruits = ['mango', 'apple', 'orange']\n",
    "x, y,z = ['mango', 'apple', 'orange']\n",
    "print(\"x = {}\".format(x))\n",
    "print(f\"y = {y}\")\n",
    "print(f\"z = {z}\")"
   ]
  },
  {
   "cell_type": "code",
   "execution_count": 14,
   "id": "48f0537d",
   "metadata": {},
   "outputs": [
    {
     "data": {
      "text/plain": [
       "range(0, 10)"
      ]
     },
     "execution_count": 14,
     "metadata": {},
     "output_type": "execute_result"
    }
   ],
   "source": [
    "# range(from, to, by)  : from부터 to앞까지 by씩 증가하는 나열 가능한 자료\n",
    "       # 숫자를 순차적으로 사용할 수 있게\n",
    "       # from 생략시 0, by 생략시 1\n",
    "range(10)  # [0,1,2,3,4,5,6,7,8,9]와 같다. range(0, 10, 1)"
   ]
  },
  {
   "cell_type": "code",
   "execution_count": 15,
   "id": "0cea5122",
   "metadata": {},
   "outputs": [
    {
     "data": {
      "text/plain": [
       "[0, 1, 2, 3, 4, 5, 6, 7, 8, 9]"
      ]
     },
     "execution_count": 15,
     "metadata": {},
     "output_type": "execute_result"
    }
   ],
   "source": [
    "list(range(10))"
   ]
  },
  {
   "cell_type": "code",
   "execution_count": 17,
   "id": "684a25d0",
   "metadata": {},
   "outputs": [
    {
     "data": {
      "text/plain": [
       "[10, 8, 6, 4, 2, 0]"
      ]
     },
     "execution_count": 17,
     "metadata": {},
     "output_type": "execute_result"
    }
   ],
   "source": [
    "list(range(10,-1, -1))\n",
    "list(range(10,-1, -2))"
   ]
  },
  {
   "cell_type": "code",
   "execution_count": 20,
   "id": "33ca69e3",
   "metadata": {},
   "outputs": [
    {
     "name": "stdout",
     "output_type": "stream",
     "text": [
      "0\n",
      "1\n",
      "2\n"
     ]
    }
   ],
   "source": [
    "# for i in [0,1,2,3,4,5,6,7,8,9]:\n",
    "for i in range(3):\n",
    "    print(i)"
   ]
  },
  {
   "cell_type": "code",
   "execution_count": 21,
   "id": "0950f4a8",
   "metadata": {},
   "outputs": [
    {
     "name": "stdout",
     "output_type": "stream",
     "text": [
      "0\n",
      "1\n",
      "2\n"
     ]
    }
   ],
   "source": [
    "for i in [0,1,2]:\n",
    "    print(i)"
   ]
  },
  {
   "cell_type": "code",
   "execution_count": 25,
   "id": "4bb09cbe",
   "metadata": {},
   "outputs": [
    {
     "name": "stdout",
     "output_type": "stream",
     "text": [
      "0번째 과일은 mango\n",
      "1번째 과일은 apple\n",
      "2번째 과일은 orange\n"
     ]
    }
   ],
   "source": [
    "fruits = ['mango','apple','orange']\n",
    "# print(\"{}번째 과일은 {}\".format(0, fruits[0]))\n",
    "# print(\"{}번째 과일은 {}\".format(0, fruits[1]))\n",
    "# print(\"{}번째 과일은 {}\".format(0, fruits[2]))\n",
    "for idx in range(len(fruits)):\n",
    "    print(\"{}번째 과일은 {}\".format(idx, fruits[idx]))"
   ]
  },
  {
   "cell_type": "code",
   "execution_count": 27,
   "id": "67cd1666",
   "metadata": {},
   "outputs": [
    {
     "data": {
      "text/plain": [
       "[(0, 'mango'), (1, 'apple'), (2, 'orange')]"
      ]
     },
     "execution_count": 27,
     "metadata": {},
     "output_type": "execute_result"
    }
   ],
   "source": [
    "list(enumerate(fruits))"
   ]
  },
  {
   "cell_type": "code",
   "execution_count": 29,
   "id": "2d9073be",
   "metadata": {},
   "outputs": [
    {
     "name": "stdout",
     "output_type": "stream",
     "text": [
      "0번째 과일은 mango\n",
      "1번째 과일은 apple\n",
      "2번째 과일은 orange\n"
     ]
    }
   ],
   "source": [
    "for i, fruit in enumerate(fruits):   # [(0, 'mango'), (1, 'apple'), (2, 'orange')]:\n",
    "    print(f\"{i}번째 과일은 {fruit}\")"
   ]
  },
  {
   "cell_type": "code",
   "execution_count": 31,
   "id": "1e09f232",
   "metadata": {},
   "outputs": [
    {
     "name": "stdout",
     "output_type": "stream",
     "text": [
      "mango입니다.\n",
      "apple입니다.\n",
      "orange입니다.\n"
     ]
    }
   ],
   "source": [
    "for fruit in fruits:\n",
    "    print(f\"{fruit}입니다.\")"
   ]
  },
  {
   "cell_type": "code",
   "execution_count": 38,
   "id": "ee541a28",
   "metadata": {},
   "outputs": [
    {
     "data": {
      "text/plain": [
       "('2', 5)"
      ]
     },
     "execution_count": 38,
     "metadata": {},
     "output_type": "execute_result"
    }
   ],
   "source": [
    "# 리스트는 여러 타입의 데이터를 담을 수 있음. 배열은 동일 자료형\n",
    "numbers = [0, True, \"2\",[2,3],[4,5,6]]\n",
    "numbers[2], numbers[4][1]"
   ]
  },
  {
   "cell_type": "code",
   "execution_count": 39,
   "id": "cd58cffa",
   "metadata": {},
   "outputs": [
    {
     "name": "stdout",
     "output_type": "stream",
     "text": [
      "[[1, 2, 3, 4, 5], [10, 20, 30, 40, 50], [1, 3, 5, 7, 9], [2, 4, 6, 8, 10]]\n"
     ]
    }
   ],
   "source": [
    "# 2차원 리스트\n",
    "numbers = [1,2,3,4,5]\n",
    "         #  0열 1열 2열 3열 4열\n",
    "numbers_2d = [[1,2,3,4,5],        # 0행\n",
    "              [10,20,30,40,50],   # 1행\n",
    "              [1,3,5,7,9],        # 2행\n",
    "              [2,4,6,8,10]]       # 3행\n",
    "print(numbers_2d)"
   ]
  },
  {
   "cell_type": "code",
   "execution_count": 40,
   "id": "201bb5ff",
   "metadata": {
    "collapsed": true
   },
   "outputs": [
    {
     "data": {
      "text/plain": [
       "50"
      ]
     },
     "execution_count": 40,
     "metadata": {},
     "output_type": "execute_result"
    }
   ],
   "source": [
    "# 특정행, 특정열 데이터 인덱싱\n",
    "numbers_2d[1][4]  # numbers_2d[1,4]  error"
   ]
  },
  {
   "cell_type": "code",
   "execution_count": 42,
   "id": "9f1a1522",
   "metadata": {
    "collapsed": true
   },
   "outputs": [
    {
     "name": "stdout",
     "output_type": "stream",
     "text": [
      "4 5\n"
     ]
    }
   ],
   "source": [
    "print(len(numbers_2d),len(numbers_2d[0]))"
   ]
  },
  {
   "cell_type": "code",
   "execution_count": 46,
   "id": "dfc80636",
   "metadata": {},
   "outputs": [
    {
     "name": "stdout",
     "output_type": "stream",
     "text": [
      "1\t2\t3\t4\t5\t\n",
      "10\t20\t30\t40\t50\t\n",
      "1\t3\t5\t7\t9\t\n",
      "2\t4\t6\t8\t10\t\n"
     ]
    }
   ],
   "source": [
    "for row in numbers_2d:\n",
    "    for item in row:\n",
    "        print(item, end='\\t')\n",
    "    print()                   # print(end='\\n')"
   ]
  },
  {
   "cell_type": "code",
   "execution_count": 49,
   "id": "e66a2636",
   "metadata": {},
   "outputs": [
    {
     "name": "stdout",
     "output_type": "stream",
     "text": [
      "0행0열 : 1\t0행1열 : 2\t0행2열 : 3\t0행3열 : 4\t0행4열 : 5\t\n",
      "1행0열 : 10\t1행1열 : 20\t1행2열 : 30\t1행3열 : 40\t1행4열 : 50\t\n",
      "2행0열 : 1\t2행1열 : 3\t2행2열 : 5\t2행3열 : 7\t2행4열 : 9\t\n",
      "3행0열 : 2\t3행1열 : 4\t3행2열 : 6\t3행3열 : 8\t3행4열 : 10\t\n"
     ]
    }
   ],
   "source": [
    "for i in range(len(numbers_2d)):          # i : 행\n",
    "    for j in range(len(numbers_2d[i])):   # j : 열\n",
    "        print(f\"{i}행{j}열 : {numbers_2d[i][j]}\", end=\"\\t\")\n",
    "    print()"
   ]
  },
  {
   "cell_type": "code",
   "execution_count": 50,
   "id": "dd148568",
   "metadata": {},
   "outputs": [
    {
     "data": {
      "text/plain": [
       "(4, 5, 5, 5)"
      ]
     },
     "execution_count": 50,
     "metadata": {},
     "output_type": "execute_result"
    }
   ],
   "source": [
    "len(numbers_2d),len(numbers_2d[0]),len(numbers_2d[1]),len(numbers_2d[2])"
   ]
  },
  {
   "cell_type": "code",
   "execution_count": 57,
   "id": "8f07806f",
   "metadata": {},
   "outputs": [
    {
     "data": {
      "text/plain": [
       "([(0, [1, 2, 3, 4, 5]),\n",
       "  (1, [10, 20, 30, 40, 50]),\n",
       "  (2, [1, 3, 5, 7, 9]),\n",
       "  (3, [2, 4, 6, 8, 10])],\n",
       " [(0, 1), (1, 2), (2, 3), (3, 4), (4, 5)])"
      ]
     },
     "execution_count": 57,
     "metadata": {},
     "output_type": "execute_result"
    }
   ],
   "source": [
    "list(enumerate(numbers_2d)) , list(enumerate(numbers_2d[0]))"
   ]
  },
  {
   "cell_type": "code",
   "execution_count": 55,
   "id": "cef91b62",
   "metadata": {},
   "outputs": [
    {
     "name": "stdout",
     "output_type": "stream",
     "text": [
      "0행0열 : 1\t0행1열 : 2\t0행2열 : 3\t0행3열 : 4\t0행4열 : 5\t\n",
      "1행0열 : 10\t1행1열 : 20\t1행2열 : 30\t1행3열 : 40\t1행4열 : 50\t\n",
      "2행0열 : 1\t2행1열 : 3\t2행2열 : 5\t2행3열 : 7\t2행4열 : 9\t\n",
      "3행0열 : 2\t3행1열 : 4\t3행2열 : 6\t3행3열 : 8\t3행4열 : 10\t\n"
     ]
    }
   ],
   "source": [
    "for i, row in enumerate(numbers_2d):          # i : 행\n",
    "    for j,item in enumerate(numbers_2d[i]):   # j : 열\n",
    "        print(\"{}행{}열 : {}\".format(i, j, numbers_2d[i][j]), end=\"\\t\")\n",
    "    print()"
   ]
  },
  {
   "cell_type": "markdown",
   "id": "f7d8744c",
   "metadata": {},
   "source": [
    "## 1.2 기본 정보 조회"
   ]
  },
  {
   "cell_type": "code",
   "execution_count": 59,
   "id": "3456ef21",
   "metadata": {},
   "outputs": [],
   "source": [
    "numbers = [1,12,3,4,5]\n",
    "numbers_2d = [[100,0,1],\n",
    "             [9,100,100],\n",
    "             [59,100,130]]"
   ]
  },
  {
   "cell_type": "code",
   "execution_count": 60,
   "id": "4a0ff634",
   "metadata": {},
   "outputs": [
    {
     "data": {
      "text/plain": [
       "(5, 3)"
      ]
     },
     "execution_count": 60,
     "metadata": {},
     "output_type": "execute_result"
    }
   ],
   "source": [
    "# item 수\n",
    "len(numbers), len(numbers_2d)"
   ]
  },
  {
   "cell_type": "code",
   "execution_count": 63,
   "id": "9cda27ad",
   "metadata": {},
   "outputs": [
    {
     "data": {
      "text/plain": [
       "(1, [9, 100, 100], 12, [100, 0, 1])"
      ]
     },
     "execution_count": 63,
     "metadata": {},
     "output_type": "execute_result"
    }
   ],
   "source": [
    "# 최소값, 최대값\n",
    "# 2차원 list의 최소/최대값 : 부분 리스트 중 첫요소가 가장 작은/큰 값\n",
    "\n",
    "min(numbers), min(numbers_2d), max(numbers), max(numbers_2d)"
   ]
  },
  {
   "cell_type": "code",
   "execution_count": 64,
   "id": "eda8fd56",
   "metadata": {},
   "outputs": [
    {
     "data": {
      "text/plain": [
       "('apple', 'orange')"
      ]
     },
     "execution_count": 64,
     "metadata": {},
     "output_type": "execute_result"
    }
   ],
   "source": [
    "# list의 데이터가 문자일 경우  ascii 코드값으로 min과 max적용\n",
    "fruits = ['mango','apple','orange']\n",
    "min(fruits), max(fruits)"
   ]
  },
  {
   "cell_type": "code",
   "execution_count": 71,
   "id": "4a48d3da",
   "metadata": {},
   "outputs": [
    {
     "name": "stdout",
     "output_type": "stream",
     "text": [
      "오름차순 정렬 : [1, 3, 4, 5, 12]\n",
      "내림차순 정렬 : [12, 5, 4, 3, 1]\n",
      "합 :  25\n",
      "평균 :  5.0\n",
      "sorted 함수 사용시 리스트의 내용이 바뀌지 않음: [1, 12, 3, 4, 5]\n"
     ]
    }
   ],
   "source": [
    "# 정렬하기 - 동일 자료형이어야한다.\n",
    "numbers = [1,12,3,4,5]\n",
    "print(\"오름차순 정렬 :\", sorted(numbers))\n",
    "print(\"내림차순 정렬 :\", sorted(numbers,reverse=True))\n",
    "print(\"합 : \", sum(numbers))\n",
    "print(\"평균 : \",sum(numbers)/len(numbers))\n",
    "print(\"sorted 함수 사용시 리스트의 내용이 바뀌지 않음:\", numbers)"
   ]
  },
  {
   "cell_type": "markdown",
   "id": "2e626a1f",
   "metadata": {},
   "source": [
    "## 1.3 요소추가\n",
    "\n",
    "- `+` : 두 리스트 연결\n",
    "- `*` : 리스트를 곱한 수만큼 반복\n",
    "- `append()` : 요소 맨 뒤에 추가\n",
    "- `extend(리스트)` : 리스트를 요소별로 맨 뒤에 추가\n",
    "- `insert(idx, 값)` : idx번째 인덱스 위치에 값 추가"
   ]
  },
  {
   "cell_type": "code",
   "execution_count": 72,
   "id": "56e7f85b",
   "metadata": {},
   "outputs": [
    {
     "data": {
      "text/plain": [
       "[1, 2, 3, 1, 2, 3]"
      ]
     },
     "execution_count": 72,
     "metadata": {},
     "output_type": "execute_result"
    }
   ],
   "source": [
    "numbers = [1, 2, 3]\n",
    "numbers = numbers + numbers  # 리스트 연결\n",
    "numbers"
   ]
  },
  {
   "cell_type": "code",
   "execution_count": 75,
   "id": "ac642163",
   "metadata": {},
   "outputs": [
    {
     "name": "stdout",
     "output_type": "stream",
     "text": [
      "[1, 2, 3, 1, 2, 3, 1, 2, 3]\n",
      "[1, 2, 3, 1, 2, 3, 1, 2, 3]\n"
     ]
    }
   ],
   "source": [
    "numbers = [1, 2, 3]\n",
    "print(numbers*3)        # 곱한 수만큼 반복\n",
    "print(3*numbers)"
   ]
  },
  {
   "cell_type": "code",
   "execution_count": 82,
   "id": "5b01c30f",
   "metadata": {},
   "outputs": [
    {
     "data": {
      "text/plain": [
       "[1, 2, 3, 4, [5, 6, 7], 4]"
      ]
     },
     "execution_count": 82,
     "metadata": {},
     "output_type": "execute_result"
    }
   ],
   "source": [
    "numbers.append(4)   # 맨 뒤에 4 추가\n",
    "numbers"
   ]
  },
  {
   "cell_type": "code",
   "execution_count": 83,
   "id": "a6d417d2",
   "metadata": {},
   "outputs": [
    {
     "data": {
      "text/plain": [
       "[1, 2, 3, 4, [5, 6, 7], 4, [5, 6, 7]]"
      ]
     },
     "execution_count": 83,
     "metadata": {},
     "output_type": "execute_result"
    }
   ],
   "source": [
    "numbers.append([5,6,7]) # 맨 뒤에 [5,6,7]요소 추가\n",
    "numbers"
   ]
  },
  {
   "cell_type": "code",
   "execution_count": 87,
   "id": "41127b9c",
   "metadata": {},
   "outputs": [
    {
     "data": {
      "text/plain": [
       "[1, 2, 3, 4, 5, 6]"
      ]
     },
     "execution_count": 87,
     "metadata": {},
     "output_type": "execute_result"
    }
   ],
   "source": [
    "numbers = [1, 2, 3]  \n",
    "numbers.extend([4,5,6]) # 맨 뒤에 요소별로 4, 5, 6 각각 추가\n",
    "numbers"
   ]
  },
  {
   "cell_type": "code",
   "execution_count": 88,
   "id": "d72c8b14",
   "metadata": {},
   "outputs": [
    {
     "data": {
      "text/plain": [
       "['a', 'b', 'c', 'd']"
      ]
     },
     "execution_count": 88,
     "metadata": {},
     "output_type": "execute_result"
    }
   ],
   "source": [
    "lst = ['a','b','c']\n",
    "lst.append('d')\n",
    "lst"
   ]
  },
  {
   "cell_type": "code",
   "execution_count": 90,
   "id": "68d4bd38",
   "metadata": {},
   "outputs": [
    {
     "data": {
      "text/plain": [
       "['a', 'b', 'c', 'd', 'hello']"
      ]
     },
     "execution_count": 90,
     "metadata": {},
     "output_type": "execute_result"
    }
   ],
   "source": [
    "lst.append('hello')\n",
    "lst"
   ]
  },
  {
   "cell_type": "code",
   "execution_count": 91,
   "id": "1bd0758f",
   "metadata": {},
   "outputs": [
    {
     "data": {
      "text/plain": [
       "['a', 'b', 'c', 'd', 'hello', 'h', 'e', 'l', 'l', 'o']"
      ]
     },
     "execution_count": 91,
     "metadata": {},
     "output_type": "execute_result"
    }
   ],
   "source": [
    "lst.extend('hello')\n",
    "lst"
   ]
  },
  {
   "cell_type": "code",
   "execution_count": 93,
   "id": "f33e630d",
   "metadata": {},
   "outputs": [
    {
     "data": {
      "text/plain": [
       "[1, 'xx', 2, 3, 4, 5]"
      ]
     },
     "execution_count": 93,
     "metadata": {},
     "output_type": "execute_result"
    }
   ],
   "source": [
    "numbers = [1, 2, 3, 4, 5]\n",
    "numbers.insert(1,'xx')    # 1번째 인덱스에 'xx'추가, 데이터가 많아지면 속도차이가 많이 난다.\n",
    "numbers"
   ]
  },
  {
   "cell_type": "markdown",
   "id": "6cd9ec4f",
   "metadata": {},
   "source": [
    "## 1.4 인덱싱과 요소 갯수\n",
    "- 변수[index]: 인덱스를 이용한 접근\n",
    "- index(찾을데이터) : 해당 찾을 데이터가 있는 요소의 index를 반환\n",
    "- 리스트는 find()가 없고 index()만 존재\n",
    "- 찾을 데이터 in list변수 : 찾을 데이터가 리스트변수의 요소인지 여부\n",
    "- count(찾을데이터): 리스트에서 해당 찾을 데이터의 갯수 반환"
   ]
  },
  {
   "cell_type": "code",
   "execution_count": 109,
   "id": "34f723f2",
   "metadata": {},
   "outputs": [
    {
     "data": {
      "text/plain": [
       "(2, 1)"
      ]
     },
     "execution_count": 109,
     "metadata": {},
     "output_type": "execute_result"
    }
   ],
   "source": [
    "numbers = [1, 2, 3,[1,2,3], 1, 2, 3]\n",
    "numbers.count(2), numbers.count([1,2,3])"
   ]
  },
  {
   "cell_type": "code",
   "execution_count": 100,
   "id": "0a5bec94",
   "metadata": {},
   "outputs": [
    {
     "data": {
      "text/plain": [
       "0"
      ]
     },
     "execution_count": 100,
     "metadata": {},
     "output_type": "execute_result"
    }
   ],
   "source": [
    "numbers.count(5)"
   ]
  },
  {
   "cell_type": "code",
   "execution_count": 101,
   "id": "e61c0102",
   "metadata": {},
   "outputs": [
    {
     "name": "stdout",
     "output_type": "stream",
     "text": [
      "True\n",
      "False\n"
     ]
    }
   ],
   "source": [
    "print(2 in numbers) # 2가 numbes의 요소인지 여부\n",
    "print(5 in numbers) "
   ]
  },
  {
   "cell_type": "code",
   "execution_count": 104,
   "id": "972e6bc2",
   "metadata": {},
   "outputs": [
    {
     "data": {
      "text/plain": [
       "1"
      ]
     },
     "execution_count": 104,
     "metadata": {},
     "output_type": "execute_result"
    }
   ],
   "source": [
    "numbers.index(2)   # 없는 요소면 error발생, count()나 in연산자로 확인 후 사용할 것. # in연산자가 더 많이 쓰인다."
   ]
  },
  {
   "cell_type": "code",
   "execution_count": 105,
   "id": "5d9cee1b",
   "metadata": {},
   "outputs": [
    {
     "name": "stdout",
     "output_type": "stream",
     "text": [
      "5가 요소에 포함되어있지 않습니다\n"
     ]
    }
   ],
   "source": [
    "if 5 in numbers:                  \n",
    "    print(numbers.index(5))\n",
    "else:\n",
    "    print('5가 요소에 포함되어있지 않습니다')"
   ]
  },
  {
   "cell_type": "code",
   "execution_count": 106,
   "id": "ebfab3f8",
   "metadata": {},
   "outputs": [
    {
     "name": "stdout",
     "output_type": "stream",
     "text": [
      "5가 요소에 포함되어있지 않습니다\n"
     ]
    }
   ],
   "source": [
    "if numbers.count(5):\n",
    "    print(numbers.index(5))\n",
    "else:\n",
    "    print('5가 요소에 포함되어있지 않습니다')"
   ]
  },
  {
   "cell_type": "code",
   "execution_count": 118,
   "id": "01f304d7",
   "metadata": {},
   "outputs": [],
   "source": [
    "def safe_index(lst, item):    \n",
    "    \"\"\"첫번째 매개변수 lst에서 item 요소가 있는 index를 반환.\n",
    "    item 요소가 없으면 -1 반환\"\"\"\n",
    "    if item in lst:\n",
    "        return lst.index(item)\n",
    "    return -1"
   ]
  },
  {
   "cell_type": "code",
   "execution_count": 120,
   "id": "bb985bce",
   "metadata": {},
   "outputs": [
    {
     "data": {
      "text/plain": [
       "1"
      ]
     },
     "execution_count": 120,
     "metadata": {},
     "output_type": "execute_result"
    }
   ],
   "source": [
    "safe_index(numbers, 2)"
   ]
  },
  {
   "cell_type": "code",
   "execution_count": 6,
   "id": "0320ccf4",
   "metadata": {},
   "outputs": [
    {
     "data": {
      "text/plain": [
       "(1, -1)"
      ]
     },
     "execution_count": 6,
     "metadata": {},
     "output_type": "execute_result"
    }
   ],
   "source": [
    "from lst import safe_index # lst.py(모듈)안의 safe_index를 메모리에 load\n",
    "numbers = [1,2,3]\n",
    "safe_index(numbers, 2), safe_index(numbers, 5)"
   ]
  },
  {
   "cell_type": "code",
   "execution_count": 7,
   "id": "14928dee",
   "metadata": {
    "collapsed": true
   },
   "outputs": [
    {
     "ename": "IndexError",
     "evalue": "list index out of range",
     "output_type": "error",
     "traceback": [
      "\u001b[1;31m---------------------------------------------------------------------------\u001b[0m",
      "\u001b[1;31mIndexError\u001b[0m                                Traceback (most recent call last)",
      "Cell \u001b[1;32mIn[7], line 1\u001b[0m\n\u001b[1;32m----> 1\u001b[0m \u001b[43mnumbers\u001b[49m\u001b[43m[\u001b[49m\u001b[38;5;241;43m5\u001b[39;49m\u001b[43m]\u001b[49m\n",
      "\u001b[1;31mIndexError\u001b[0m: list index out of range"
     ]
    }
   ],
   "source": [
    "numbers[5]  # 벗어난 인덱싱 시 에러"
   ]
  },
  {
   "cell_type": "code",
   "execution_count": 8,
   "id": "6bdb10fc",
   "metadata": {},
   "outputs": [
    {
     "data": {
      "text/plain": [
       "[3]"
      ]
     },
     "execution_count": 8,
     "metadata": {},
     "output_type": "execute_result"
    }
   ],
   "source": [
    "numbers[2:5] # 벗어난 인덱스로 슬라이싱 시 에러가 안 남"
   ]
  },
  {
   "cell_type": "markdown",
   "id": "8493f3e4",
   "metadata": {},
   "source": [
    "## 1.5 원하는 요소 추출\n",
    "1. 리스트 슬라이싱\n",
    "    - [from:to:step] from번째부터 to앞까지 step씩 증가하는 index값을 추출\n",
    "    *from 생략시 처음, to생략시 끝, step 생약시 1\n",
    "    - 인덱스의 벗어난 값도 에러나지 않음\n",
    "    - 인덱스는 음수 가능\n",
    "2. <font color=\"red\"> **리스트 컴프리헨션** </font>: 원하는 조건의 데이터 추출"
   ]
  },
  {
   "cell_type": "code",
   "execution_count": 13,
   "id": "98f554ca",
   "metadata": {},
   "outputs": [
    {
     "name": "stdout",
     "output_type": "stream",
     "text": [
      "[20, 19, 18, 13, 12, 10, 9, 5, 3, 1]\n",
      "[1, 5, 10, 13, 19]\n",
      "[5, 9, 10, 12, 13, 18, 19, 20]\n"
     ]
    }
   ],
   "source": [
    "numbers = [1,3,5,9,10,12,13,18,19,20]\n",
    "print(numbers[::-1])  #거꾸로 출\n",
    "print(numbers[0::2])  # 짝수  index 값 출력\n",
    "print(numbers[2:100])  # 인덱스를 벗어난 슬라이싱 가능"
   ]
  },
  {
   "cell_type": "code",
   "execution_count": 11,
   "id": "2e3d6e25",
   "metadata": {},
   "outputs": [
    {
     "data": {
      "text/plain": [
       "[1, 3, 5, 9, 10, 12, 13, 18, 19, 20]"
      ]
     },
     "execution_count": 11,
     "metadata": {},
     "output_type": "execute_result"
    }
   ],
   "source": [
    "# 모든 데이터 출력\n",
    "numbers = [1,3,5,9,10,12,13,18,19,20]\n",
    "# for data in numbers:\n",
    "#     print(data, end=\"\\t\")\n",
    "[data for data in numbers]"
   ]
  },
  {
   "cell_type": "code",
   "execution_count": 12,
   "id": "3541cbcb",
   "metadata": {},
   "outputs": [
    {
     "name": "stdout",
     "output_type": "stream",
     "text": [
      "10 12 18 20 "
     ]
    }
   ],
   "source": [
    "# 짝수 데이터 추출\n",
    "# for data in numbers:\n",
    "#     if data%2==0:\n",
    "#         print(data, end=\" \")\n",
    "[data for data in numbers if data%2==0]        "
   ]
  },
  {
   "cell_type": "code",
   "execution_count": 22,
   "id": "3287d598",
   "metadata": {},
   "outputs": [
    {
     "data": {
      "text/plain": [
       "[10, 12, 13, 18, 19, 20]"
      ]
     },
     "execution_count": 22,
     "metadata": {},
     "output_type": "execute_result"
    }
   ],
   "source": [
    "# ex1. numbers에서 10이상인 요소만 추출\n",
    "[item for item in numbers if item>=10]  "
   ]
  },
  {
   "cell_type": "code",
   "execution_count": 23,
   "id": "f858711b",
   "metadata": {},
   "outputs": [
    {
     "data": {
      "text/plain": [
       "['orange', 'apple', 'mango']"
      ]
     },
     "execution_count": 23,
     "metadata": {},
     "output_type": "execute_result"
    }
   ],
   "source": [
    "# ex2. fruits에서 과일의 글자가 5글자 이상인 과일만 추출\n",
    "fruits = ['orange','apple','mango','kiwi']\n",
    "[fruit for fruit in fruits if len(fruit)>=5]"
   ]
  },
  {
   "cell_type": "code",
   "execution_count": 24,
   "id": "f718ddba",
   "metadata": {},
   "outputs": [
    {
     "data": {
      "text/plain": [
       "[6, 5, 5, 4]"
      ]
     },
     "execution_count": 24,
     "metadata": {},
     "output_type": "execute_result"
    }
   ],
   "source": [
    "# ex2-1. fruits 리스트의 과일 글자수\n",
    "[len(fruit) for fruit in fruits]  "
   ]
  },
  {
   "cell_type": "code",
   "execution_count": 25,
   "id": "f9d288d3",
   "metadata": {},
   "outputs": [
    {
     "data": {
      "text/plain": [
       "[9, 16, 25]"
      ]
     },
     "execution_count": 25,
     "metadata": {},
     "output_type": "execute_result"
    }
   ],
   "source": [
    "# ex3. 3이상인 요소들의 제곱을 추출\n",
    "L = [1,2,3,4,5]\n",
    "[l**2 for l in L if l>=3] "
   ]
  },
  {
   "cell_type": "code",
   "execution_count": 21,
   "id": "fb5fcf2d",
   "metadata": {},
   "outputs": [
    {
     "data": {
      "text/plain": [
       "[2, 4, 6, 8, 10]"
      ]
     },
     "execution_count": 21,
     "metadata": {},
     "output_type": "execute_result"
    }
   ],
   "source": [
    "# ex4. 리스트 요소의 값의 2배를 추출\n",
    "[data*2 for data in L] "
   ]
  },
  {
   "cell_type": "markdown",
   "id": "63b581d3",
   "metadata": {},
   "source": [
    "## 1.6 요소 수정하기\n",
    "- 인덱스, 슬라이싱을 이용해서 수정"
   ]
  },
  {
   "cell_type": "code",
   "execution_count": 28,
   "id": "3974b31c",
   "metadata": {},
   "outputs": [
    {
     "data": {
      "text/plain": [
       "[0, 1, 222, 3, 4, 5, 6, 7, 8, 9]"
      ]
     },
     "execution_count": 28,
     "metadata": {},
     "output_type": "execute_result"
    }
   ],
   "source": [
    "numbers = [0,1,2,3,4,5,6,7,8,9]\n",
    "numbers[2] = 222\n",
    "numbers"
   ]
  },
  {
   "cell_type": "code",
   "execution_count": 29,
   "id": "085382b4",
   "metadata": {},
   "outputs": [
    {
     "data": {
      "text/plain": [
       "['xx', 'xx', 'xx', 'xx', 'xx', 'xx', 'xx', 'xx', 222, 3, 4, 5, 6, 7, 8, 9]"
      ]
     },
     "execution_count": 29,
     "metadata": {},
     "output_type": "execute_result"
    }
   ],
   "source": [
    "# 슬라이싱(step부분 미포함)을 이용하여 부분 리스트를 통째로 수정\n",
    "numbers[0:2] = ['xx','xx','xx','xx','xx','xx','xx','xx']\n",
    "numbers"
   ]
  },
  {
   "cell_type": "code",
   "execution_count": 31,
   "id": "1bf431ba",
   "metadata": {},
   "outputs": [
    {
     "name": "stdout",
     "output_type": "stream",
     "text": [
      "수정전 : [0, 0, 0, 0, 0, 0, 0, 0, 0, 0]\n",
      "수정전 : [9, 0, 9, 0, 9, 0, 9, 0, 9, 0]\n"
     ]
    }
   ],
   "source": [
    "# 슬라이싱(step부분 포함)을 이용하여 부분 수정시 요소 갯수 맞아야함\n",
    "numbers = [0]*10\n",
    "print('수정전 :', numbers)\n",
    "numbers[0::2] = [9,9,9,9,9]\n",
    "print('수정전 :', numbers)"
   ]
  },
  {
   "cell_type": "code",
   "execution_count": 32,
   "id": "4c6fede8",
   "metadata": {
    "collapsed": true
   },
   "outputs": [
    {
     "ename": "ValueError",
     "evalue": "attempt to assign sequence of size 2 to extended slice of size 5",
     "output_type": "error",
     "traceback": [
      "\u001b[1;31m---------------------------------------------------------------------------\u001b[0m",
      "\u001b[1;31mValueError\u001b[0m                                Traceback (most recent call last)",
      "Cell \u001b[1;32mIn[32], line 1\u001b[0m\n\u001b[1;32m----> 1\u001b[0m numbers[::\u001b[38;5;241m2\u001b[39m] \u001b[38;5;241m=\u001b[39m [\u001b[38;5;241m1\u001b[39m,\u001b[38;5;241m1\u001b[39m]\n",
      "\u001b[1;31mValueError\u001b[0m: attempt to assign sequence of size 2 to extended slice of size 5"
     ]
    }
   ],
   "source": [
    "numbers[::2] = [1,1]   # 5개 있어야하는데 2개만 줘서"
   ]
  },
  {
   "cell_type": "markdown",
   "id": "dd86a143",
   "metadata": {},
   "source": [
    "## 1.7 요소 삭제\n",
    "- pop() : 가장 마지막 인덱스의 요소가 반환되고 삭제\n",
    "- pop(idx) : idx 번째 요소가 반환되고 삭제\n",
    "- remove(data) : list안의 data가 삭제 , 없는 데이터 삭제하려고 하면 error\n",
    "- del 리스트변수[idx] : idx번째 요소가 삭제(반환 안됨)"
   ]
  },
  {
   "cell_type": "code",
   "execution_count": 38,
   "id": "ea16e514",
   "metadata": {},
   "outputs": [
    {
     "name": "stdout",
     "output_type": "stream",
     "text": [
      "삭제한 데이터 : 5\n",
      "삭제 후 numbers : [1, 2, 3, 4]\n",
      "1번째 삭제한 데이터 : 2\n",
      "1번째 삭제 후 numbers : [1, 3, 4]\n",
      "데이터 1 삭제\n",
      "데이터 1 삭제 후 numbers : [3, 4]\n",
      "del numbers[1]\n",
      "[3]\n"
     ]
    }
   ],
   "source": [
    "numbers = [1,2,3,4,5]\n",
    "print('삭제한 데이터 :', numbers.pop())\n",
    "print('삭제 후 numbers :', numbers)\n",
    "print('1번째 삭제한 데이터 :', numbers.pop(1))\n",
    "print('1번째 삭제 후 numbers :', numbers)\n",
    "print('데이터 1 삭제')\n",
    "numbers.remove(1)\n",
    "print('데이터 1 삭제 후 numbers :', numbers)\n",
    "print('del numbers[1]') \n",
    "del numbers[1]\n",
    "print(numbers)"
   ]
  },
  {
   "cell_type": "code",
   "execution_count": 40,
   "id": "6da60892",
   "metadata": {},
   "outputs": [
    {
     "name": "stdout",
     "output_type": "stream",
     "text": [
      "해당 데이터는 없는 item입니다.\n"
     ]
    }
   ],
   "source": [
    "# numbers.remove(9)\n",
    "if 9 in numbers:\n",
    "    numbers.remove(9)\n",
    "else:\n",
    "    print(\"해당 데이터는 없는 item입니다.\")"
   ]
  },
  {
   "cell_type": "code",
   "execution_count": 41,
   "id": "ae3e332c",
   "metadata": {},
   "outputs": [
    {
     "data": {
      "text/plain": [
       "[]"
      ]
     },
     "execution_count": 41,
     "metadata": {},
     "output_type": "execute_result"
    }
   ],
   "source": [
    "numbers.clear()  # 모든 요소를 삭제, 변수를 삭제하려면 del()\n",
    "numbers"
   ]
  },
  {
   "cell_type": "markdown",
   "id": "7f7132e7",
   "metadata": {},
   "source": [
    "## 1.8 정렬하기"
   ]
  },
  {
   "cell_type": "code",
   "execution_count": 49,
   "id": "be5ad5d8",
   "metadata": {},
   "outputs": [
    {
     "name": "stdout",
     "output_type": "stream",
     "text": [
      "numbers는 변경하지 않고, 정렬결과 : [0, 5, 6, 8, 9]\n",
      "numbers : [9, 5, 0, 8, 6]\n"
     ]
    }
   ],
   "source": [
    "numbers = [9,5,0,8,6]\n",
    "print(\"numbers는 변경하지 않고, 정렬결과 :\", sorted(numbers))\n",
    "print(\"numbers :\", numbers)"
   ]
  },
  {
   "cell_type": "code",
   "execution_count": 50,
   "id": "3e8a09ae",
   "metadata": {},
   "outputs": [
    {
     "data": {
      "text/plain": [
       "[0, 5, 6, 8, 9]"
      ]
     },
     "execution_count": 50,
     "metadata": {},
     "output_type": "execute_result"
    }
   ],
   "source": [
    "numbers.sort() # numbers 자체가 오름차순 정렬한 결과로 바뀜\n",
    "numbers"
   ]
  },
  {
   "cell_type": "code",
   "execution_count": 51,
   "id": "4d798a3f",
   "metadata": {},
   "outputs": [
    {
     "data": {
      "text/plain": [
       "[9, 8, 6, 5, 0]"
      ]
     },
     "execution_count": 51,
     "metadata": {},
     "output_type": "execute_result"
    }
   ],
   "source": [
    "numbers.sort(reverse=True) # numbers 자체가 내림차순 정렬한 결과로 바뀜\n",
    "numbers"
   ]
  },
  {
   "cell_type": "code",
   "execution_count": 53,
   "id": "b0da730b",
   "metadata": {},
   "outputs": [
    {
     "data": {
      "text/plain": [
       "[0, 5, 6, 8, 9]"
      ]
     },
     "execution_count": 53,
     "metadata": {},
     "output_type": "execute_result"
    }
   ],
   "source": [
    "numbers.reverse()   # 리스트를 역순으로 변경\n",
    "# numbers = numbers[::-1]\n",
    "numbers"
   ]
  },
  {
   "cell_type": "markdown",
   "id": "8788e6ac",
   "metadata": {},
   "source": [
    "## 1.9 리스트 복제"
   ]
  },
  {
   "cell_type": "code",
   "execution_count": 54,
   "id": "c94580ad",
   "metadata": {},
   "outputs": [
    {
     "name": "stdout",
     "output_type": "stream",
     "text": [
      "원본i=10, 복사본cp_i=10 / 원본주소 = 2791725728272, 복사본주소=2791725728272\n",
      "원본i=10, 복사본cp_i=99 / 원본주소 = 2791725728272, 복사본주소=2791725731120\n"
     ]
    }
   ],
   "source": [
    "# 스칼라 데이터의 복제\n",
    "i = 10\n",
    "cp_i = i\n",
    "print(f\"원본i={i}, 복사본cp_i={cp_i} / 원본주소 = {id(i)}, 복사본주소={id(cp_i)}\")\n",
    "cp_i = 99\n",
    "print(f\"원본i={i}, 복사본cp_i={cp_i} / 원본주소 = {id(i)}, 복사본주소={id(cp_i)}\")"
   ]
  },
  {
   "cell_type": "code",
   "execution_count": 55,
   "id": "504a0172",
   "metadata": {},
   "outputs": [
    {
     "name": "stdout",
     "output_type": "stream",
     "text": [
      "원본 주소 : 2789686616960\n",
      "복사본 주소 : 2789686616960\n"
     ]
    }
   ],
   "source": [
    "# 데이터 구조의 복제는 할당으로는 않된다.(딕셔너리, 셋, 배열, 시리즈, 데이터프레임에서도 발생)\n",
    "numbers = [5,6,1,9]\n",
    "new_numbers = numbers   # 할당\n",
    "print('원본 주소 :', id(numbers))\n",
    "print('복제본 주소 :', id(new_numbers))\n",
    "new_numbers[0] = 999\n",
    "print('원본 내용 :', numbers)\n",
    "print('복제본 내용 :', new_numbers)\n",
    "print('원본 주소 :', id(numbers))\n",
    "print('복제본 주소 :', id(new_numbers))"
   ]
  },
  {
   "cell_type": "code",
   "execution_count": 57,
   "id": "2e0225bd",
   "metadata": {},
   "outputs": [
    {
     "name": "stdout",
     "output_type": "stream",
     "text": [
      "원본 내용 : [1, 5, 6, 9]\n",
      "복제본 내용 : [1, 5, 6, 9]\n",
      "원본 주소 : 2789686833792\n",
      "복제본 주소 : 2789686833792\n"
     ]
    }
   ],
   "source": [
    "# 할당(얕은 복사)\n",
    "numbers = [5,6,1,9]\n",
    "new_numbers = numbers\n",
    "new_numbers.sort()\n",
    "print('원본 내용 :', numbers)\n",
    "print('복제본 내용 :', new_numbers)\n",
    "print('원본 주소 :', id(numbers))\n",
    "print('복제본 주소 :', id(new_numbers))"
   ]
  },
  {
   "cell_type": "code",
   "execution_count": 59,
   "id": "07cfe212",
   "metadata": {},
   "outputs": [
    {
     "name": "stdout",
     "output_type": "stream",
     "text": [
      "원본 내용 : [5, 6, 1, 9]\n",
      "복제본 내용 : [1, 5, 6, 9]\n",
      "원본 주소 : 2789686827136\n",
      "복제본 주소 : 2789658179968\n"
     ]
    }
   ],
   "source": [
    "# 리스트 복제(깊은 복사)\n",
    "numbers = [5,6,1,9]\n",
    "new_numbers = numbers.copy()  # numbers를 복제(깊은 복사)\n",
    "# new_numbers = sorted(numbers) # sort()보다 속도가 많이 느리다. \n",
    "new_numbers.sort(reverse=True)  # 내림차순 정렬\n",
    "print('원본 내용 :', numbers)\n",
    "print('복제본 내용 :', new_numbers)\n",
    "print('원본 주소 :', id(numbers))\n",
    "print('복제본 주소 :', id(new_numbers))"
   ]
  },
  {
   "cell_type": "code",
   "execution_count": 60,
   "id": "4a491072",
   "metadata": {},
   "outputs": [
    {
     "name": "stdout",
     "output_type": "stream",
     "text": [
      "정렬전 :  ['서울', '대전', '대구', '부산', '하남', '수원', '제주']\n",
      "정렬후 :  ['대구', '대전', '부산', '서울', '수원', '제주', '하남']\n"
     ]
    }
   ],
   "source": [
    "city = ['서울','대전','대구','부산','하남','수원','제주']\n",
    "temp = city.copy()\n",
    "temp.sort()\n",
    "print(\"정렬전 : \", city)\n",
    "print(\"정렬후 : \", temp)"
   ]
  },
  {
   "cell_type": "code",
   "execution_count": 61,
   "id": "c047670f",
   "metadata": {},
   "outputs": [
    {
     "name": "stdout",
     "output_type": "stream",
     "text": [
      "정렬전 :  ['서울', '대전', '대구', '부산', '하남', '수원', '제주']\n",
      "정렬후 :  []\n"
     ]
    }
   ],
   "source": [
    "temp.clear()\n",
    "print(\"정렬전 : \", city)\n",
    "print(\"정렬후 : \", temp)"
   ]
  },
  {
   "cell_type": "markdown",
   "id": "a06c74ac",
   "metadata": {},
   "source": [
    "# 2절 튜플\n",
    "- 리스트([])와 유사하지만 읽기전용, 수정이 필요없는 데이터에서 사용\n",
    "- 수정이 불가하므로, 튜플에서 데이터 수정, 추가, 삭제 불가\n",
    "- 제공되는 함수도 많지 않음(변경 불가하므로 복제가 의미없다.)\n",
    "- ()이용해서 생성"
   ]
  },
  {
   "cell_type": "code",
   "execution_count": 64,
   "id": "1148b356",
   "metadata": {},
   "outputs": [
    {
     "name": "stdout",
     "output_type": "stream",
     "text": [
      "<class 'tuple'>\n",
      "('서울', '대전', '대구', '부산', '하남')\n"
     ]
    }
   ],
   "source": [
    "# city = ('서울','대전','대구','부산','하남')\n",
    "# 파이썬은 여러개의 값이 전달될 때 튜플 타입으로 전달\n",
    "# a, b = 10, 20   #(10,20) 으로 인식\n",
    "city = '서울','대전','대구','부산','하남'   # 자동적으로 튜플로 인식\n",
    "print(type(city))\n",
    "print(city)"
   ]
  },
  {
   "cell_type": "code",
   "execution_count": 66,
   "id": "b2661908",
   "metadata": {},
   "outputs": [
    {
     "data": {
      "text/plain": [
       "'서울,대전,대구,부산,하남'"
      ]
     },
     "execution_count": 66,
     "metadata": {},
     "output_type": "execute_result"
    }
   ],
   "source": [
    "# 매개변수로 list가 오는 함수는 tuple 매개변수로 함수 사용 가능\n",
    "\",\".join(city)   "
   ]
  },
  {
   "cell_type": "code",
   "execution_count": 67,
   "id": "9f28b602",
   "metadata": {},
   "outputs": [
    {
     "data": {
      "text/plain": [
       "1"
      ]
     },
     "execution_count": 67,
     "metadata": {},
     "output_type": "execute_result"
    }
   ],
   "source": [
    "from lst import safe_index\n",
    "safe_index(city, '대전')"
   ]
  },
  {
   "cell_type": "code",
   "execution_count": 68,
   "id": "1824c3a5",
   "metadata": {},
   "outputs": [
    {
     "name": "stdout",
     "output_type": "stream",
     "text": [
      "<class 'list'>\n",
      "['서울']\n",
      "1\n"
     ]
    }
   ],
   "source": [
    "l = ['서울']   # 요소가 하나 있는 리스트\n",
    "print(type(l))\n",
    "print(l)\n",
    "print(len(l))"
   ]
  },
  {
   "cell_type": "code",
   "execution_count": 72,
   "id": "a32d8a71",
   "metadata": {},
   "outputs": [
    {
     "name": "stdout",
     "output_type": "stream",
     "text": [
      "<class 'str'>\n",
      "서울seoul\n",
      "7\n"
     ]
    }
   ],
   "source": [
    "city =('서울')  # 요소가 하나 있는 튜플 =>  str\n",
    "print(type(city))\n",
    "print(city)\n",
    "print(len(city))"
   ]
  },
  {
   "cell_type": "code",
   "execution_count": 73,
   "id": "660ce33e",
   "metadata": {},
   "outputs": [
    {
     "name": "stdout",
     "output_type": "stream",
     "text": [
      "<class 'tuple'>\n",
      "('서울',)\n",
      "1\n"
     ]
    }
   ],
   "source": [
    "city =('서울',)  # 요소가 하나 있는 튜플(o)\n",
    "print(type(city))\n",
    "print(city)\n",
    "print(len(city))"
   ]
  },
  {
   "cell_type": "code",
   "execution_count": 74,
   "id": "4c295fff",
   "metadata": {},
   "outputs": [
    {
     "data": {
      "text/plain": [
       "(1, 3, 6)"
      ]
     },
     "execution_count": 74,
     "metadata": {},
     "output_type": "execute_result"
    }
   ],
   "source": [
    "numbers = (1,2,3)\n",
    "# numbers.append(4) 수정하기 위한 함수는 제공되지 않음\n",
    "min(numbers), max(numbers),sum(numbers)"
   ]
  },
  {
   "cell_type": "code",
   "execution_count": 75,
   "id": "59eeb715",
   "metadata": {},
   "outputs": [
    {
     "data": {
      "text/plain": [
       "1"
      ]
     },
     "execution_count": 75,
     "metadata": {},
     "output_type": "execute_result"
    }
   ],
   "source": [
    "numbers.count(2)"
   ]
  },
  {
   "cell_type": "code",
   "execution_count": 76,
   "id": "5832e107",
   "metadata": {},
   "outputs": [
    {
     "data": {
      "text/plain": [
       "2"
      ]
     },
     "execution_count": 76,
     "metadata": {},
     "output_type": "execute_result"
    }
   ],
   "source": [
    "numbers.index(3)"
   ]
  },
  {
   "cell_type": "code",
   "execution_count": 77,
   "id": "f159dc02",
   "metadata": {},
   "outputs": [
    {
     "name": "stdout",
     "output_type": "stream",
     "text": [
      "해당 데이터 없음\n"
     ]
    }
   ],
   "source": [
    "# numbers.index(4)\n",
    "if 4 in numbers:\n",
    "    numbers.index(4)\n",
    "else:\n",
    "    print('해당 데이터 없음')"
   ]
  },
  {
   "cell_type": "code",
   "execution_count": 78,
   "id": "56a332eb",
   "metadata": {},
   "outputs": [
    {
     "data": {
      "text/plain": [
       "-1"
      ]
     },
     "execution_count": 78,
     "metadata": {},
     "output_type": "execute_result"
    }
   ],
   "source": [
    "safe_index(numbers, 4)"
   ]
  },
  {
   "cell_type": "code",
   "execution_count": null,
   "id": "1d871b4f",
   "metadata": {},
   "outputs": [],
   "source": []
  }
 ],
 "metadata": {
  "kernelspec": {
   "display_name": "Python 3 (ipykernel)",
   "language": "python",
   "name": "python3"
  },
  "language_info": {
   "codemirror_mode": {
    "name": "ipython",
    "version": 3
   },
   "file_extension": ".py",
   "mimetype": "text/x-python",
   "name": "python",
   "nbconvert_exporter": "python",
   "pygments_lexer": "ipython3",
   "version": "3.10.9"
  },
  "toc": {
   "base_numbering": 1,
   "nav_menu": {},
   "number_sections": false,
   "sideBar": true,
   "skip_h1_title": false,
   "title_cell": "Table of Contents",
   "title_sidebar": "Contents",
   "toc_cell": false,
   "toc_position": {
    "height": "calc(100% - 180px)",
    "left": "10px",
    "top": "150px",
    "width": "165px"
   },
   "toc_section_display": true,
   "toc_window_display": true
  }
 },
 "nbformat": 4,
 "nbformat_minor": 5
}
