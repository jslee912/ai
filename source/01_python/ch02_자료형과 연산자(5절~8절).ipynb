{
 "cells": [
  {
   "cell_type": "code",
   "execution_count": 10,
   "id": "a18e46dd",
   "metadata": {},
   "outputs": [
    {
     "data": {
      "text/html": [
       "\n",
       "<style>\n",
       "div.container{width:90% !important;} \n",
       "div.cell.code_cell.rendered{width:100%;} \n",
       "div.input_prompt{padding:0px;}\n",
       "div.CodeMirror {font-family:Consolas; font-size:14pt;} \n",
       "div.text_cell_render.rendered_html{font-size:14pt;} \n",
       "div.output {font-size:14pt; font-weight:bold;} \n",
       "div.input {font-family:Consolas; font-size:14pt;} \n",
       "div.prompt {min-width:70px;}\n",
       "div#toc-wrapper{padding-top:120px;} \n",
       "div.text_cell_render ul li{font-size:12pt;padding:5px;} \n",
       "table.dataframe{font-size:12px;}\n",
       "</style>\n"
      ],
      "text/plain": [
       "<IPython.core.display.HTML object>"
      ]
     },
     "metadata": {},
     "output_type": "display_data"
    }
   ],
   "source": [
    "from IPython.display import display, HTML\n",
    "display(HTML(\"\"\"\n",
    "<style>\n",
    "div.container{width:90% !important;} \n",
    "div.cell.code_cell.rendered{width:100%;} \n",
    "div.input_prompt{padding:0px;}\n",
    "div.CodeMirror {font-family:Consolas; font-size:14pt;} \n",
    "div.text_cell_render.rendered_html{font-size:14pt;} \n",
    "div.output {font-size:14pt; font-weight:bold;} \n",
    "div.input {font-family:Consolas; font-size:14pt;} \n",
    "div.prompt {min-width:70px;}\n",
    "div#toc-wrapper{padding-top:120px;} \n",
    "div.text_cell_render ul li{font-size:12pt;padding:5px;} \n",
    "table.dataframe{font-size:12px;}\n",
    "</style>\n",
    "\"\"\"))"
   ]
  },
  {
   "cell_type": "markdown",
   "id": "0d6579fa",
   "metadata": {},
   "source": [
    "<b><font size=\"6\" color=\"red\">ch02. 자료형과 연산자</font></b>\n",
    "\n",
    "# 5절. 연산자\n",
    "## 5.1 산술연산자: +,-,*,/(결과 float), //(몫), %(나머지), **(제곱)"
   ]
  },
  {
   "cell_type": "code",
   "execution_count": 8,
   "id": "8121a596",
   "metadata": {},
   "outputs": [
    {
     "name": "stdout",
     "output_type": "stream",
     "text": [
      "10*5승 = 100000\n",
      "5/2(결과 실수) = 2.5\n",
      "5//2(몫) = 2\n",
      "5%2(나머지) = 1\n"
     ]
    }
   ],
   "source": [
    "print(\"10*5승 =\", 10**5)\n",
    "print(\"5/2(결과 실수) =\", 5/2)\n",
    "print(\"5//2(몫) =\", 5//2)\n",
    "print(\"5%2(나머지) =\", 5%2)"
   ]
  },
  {
   "cell_type": "code",
   "execution_count": 7,
   "id": "2cc0d624",
   "metadata": {},
   "outputs": [
    {
     "name": "stdout",
     "output_type": "stream",
     "text": [
      "4**2 = 16.0\n"
     ]
    }
   ],
   "source": [
    "# 정수끼리 연산은 결과가 정수 (단 / 제외)\n",
    "# 정수와 실수, 실수끼리 연산 결과는 실수\n",
    "print(\"4**2 =\", 4**2.0)"
   ]
  },
  {
   "cell_type": "code",
   "execution_count": 11,
   "id": "e03aa98b",
   "metadata": {},
   "outputs": [
    {
     "name": "stdout",
     "output_type": "stream",
     "text": [
      "정수를 입력하세요:8\n",
      "입력하신 수는 8, 2로 나눈 나머지는0라서 짝수를 입력하셨습니다.\n"
     ]
    }
   ],
   "source": [
    "# quiz1. 정수를 입력받아 짝수인지 홀수인지 여부를 출력\n",
    "num = int(input(\"정수를 입력하세요:\"))\n",
    "result = num % 2  # 결과는 -1, 0, 1 중에 하나\n",
    "if result:\n",
    "    temp = \"홀수\"\n",
    "else:\n",
    "    temp = \"짝수\"\n",
    "print(f\"입력하신 수는 {num}, 2로 나눈 나머지는{result}라서 {temp}를 입력하셨습니다.\")"
   ]
  },
  {
   "cell_type": "code",
   "execution_count": 23,
   "id": "e0c8d6df",
   "metadata": {},
   "outputs": [
    {
     "name": "stdout",
     "output_type": "stream",
     "text": [
      "정수를 입력하세요:66\n",
      "입력하신 수는 66, 5로 나눈 나머지는1라서 5의 배수가 아닌 수를 입력하셨습니다.\n"
     ]
    }
   ],
   "source": [
    "# quiz2. 정수를 입력받아 5의 배수인지 여부를 출력\n",
    "\n",
    "# num2 = int(input(\"정수를 입력하세요:\"))\n",
    "# result = num2 % 5   \n",
    "# if result:\n",
    "#     temp = \"5의 배수가 아닌 수\"\n",
    "# else:\n",
    "#     temp = \"5의 배수\"\n",
    "# print(f\"입력하신 수는 {num2}, 5로 나눈 나머지는{result}라서 {temp}를 입력하셨습니다.\")\n",
    "\n",
    "num = int(input(\"정수를 입력하세요:\"))\n",
    "if num%5:\n",
    "    print(\"5의 배수가 아닙니다\")\n",
    "else:\n",
    "    print(\"5의 배수입니다\")"
   ]
  },
  {
   "cell_type": "code",
   "execution_count": 24,
   "id": "ee98ee42",
   "metadata": {},
   "outputs": [
    {
     "name": "stdout",
     "output_type": "stream",
     "text": [
      "국어점수를 입력하세요:99\n",
      "영어점수를 입력하세요:100\n",
      "수학점수를 입력하세요:99\n",
      "국어 :  99 \t 영어 : 100 \t 수학 :  99\n",
      "총점 : 298 \t 평균 :  99.3\n"
     ]
    }
   ],
   "source": [
    "# quiz3. 국어, 영어, 수학 점수를 입력받아 다음셀에서 다음과 같이 출력하도록 구현하시오.\n",
    "# 국어: 99   영어:100    수학: 99\n",
    "# 총점:298   평균: 99.3\n",
    "\n",
    "kor = int(input(\"국어점수를 입력하세요:\"))\n",
    "eng = int(input(\"영어점수를 입력하세요:\"))\n",
    "math = int(input(\"수학점수를 입력하세요:\"))\n",
    "tot = kor + eng + math\n",
    "avg = tot/3\n",
    "print(\"국어 : {:3d} \\t 영어 : {:3d} \\t 수학 : {:3d}\".format(kor,eng,math))\n",
    "print(\"총점 : {:3d} \\t 평균 : {:5.1f}\".format(tot,avg))"
   ]
  },
  {
   "cell_type": "markdown",
   "id": "4caaa899",
   "metadata": {},
   "source": [
    "## 5.2 할당연산자 : =, +=, -=, /=, *=, //=, %="
   ]
  },
  {
   "cell_type": "code",
   "execution_count": 32,
   "id": "213e849c",
   "metadata": {},
   "outputs": [
    {
     "name": "stdout",
     "output_type": "stream",
     "text": [
      "a = 15\n"
     ]
    }
   ],
   "source": [
    "a = 10\n",
    "a += 5  # a = a + 5\n",
    "print(f\"a = {a}\")"
   ]
  },
  {
   "cell_type": "code",
   "execution_count": 33,
   "id": "13f47686",
   "metadata": {},
   "outputs": [
    {
     "name": "stdout",
     "output_type": "stream",
     "text": [
      "5빼기 :  10\n",
      "10 배 :  100\n",
      "5나눈 몫 :  20\n"
     ]
    }
   ],
   "source": [
    "a -= 5   # a = a - 5\n",
    "print(\"5빼기 : \",a)   # 10\n",
    "a *= 10   # a = a * 10\n",
    "print(\"10 배 : \",a)     # 100\n",
    "a //= 5   # a = a // 5\n",
    "print(\"5나눈 몫 : \",a) #  20"
   ]
  },
  {
   "cell_type": "markdown",
   "id": "9c89f448",
   "metadata": {},
   "source": [
    "## 5.3 논리연산자 : &, and, |, or, not\n",
    "- or와 and 연산자가 2개씩인 이유?"
   ]
  },
  {
   "cell_type": "code",
   "execution_count": 35,
   "id": "07e5d173",
   "metadata": {},
   "outputs": [
    {
     "name": "stdout",
     "output_type": "stream",
     "text": [
      "True\n",
      "0\n",
      "1100\n"
     ]
    }
   ],
   "source": [
    "# & : 논리연산자, 비트연산자 2개의 피연산자가 모두 논리값이어야 논리연산한다.\n",
    "print((10>3) & (10>5)     # 논리연산자 True & True  - 자바는 비교연산자가 우선순위가 높지만 파이썬은 비트연산자 우선순위가 높다\n",
    "print(12 & 1)              # 비트연산    1 1 0 0  (12)\n",
    "                           #            0 0 0 1  (1)\n",
    "                           #        & : 0 0 0 0 \n",
    "print(\"{:4b}\".format(12))"
   ]
  },
  {
   "cell_type": "code",
   "execution_count": 41,
   "id": "7547fd22",
   "metadata": {
    "scrolled": true
   },
   "outputs": [
    {
     "name": "stdout",
     "output_type": "stream",
     "text": [
      "True\n",
      "0\n"
     ]
    }
   ],
   "source": [
    "# and : 논리연산자,  무조건 논리연산, False로 판별되는 첫번째 항의 결과 반환\n",
    "                    # 모든 항이 True면, 마지막항의 결과 반환\n",
    "print((10>3) and (10>5))    \n",
    "print(0 and 1) "
   ]
  },
  {
   "cell_type": "code",
   "execution_count": 46,
   "id": "4b67dc74",
   "metadata": {},
   "outputs": [
    {
     "name": "stdout",
     "output_type": "stream",
     "text": [
      "논리연산(연산자 앞뒤에 논리형일 때): True\n",
      "비트연산(연산자 앞이나 뒤에 숫자일 때): 3\n"
     ]
    }
   ],
   "source": [
    "# | : 논리연산, 비트연산\n",
    "# print(\"홍길동\" | 1 )   # string과 숫자는 연산 X\n",
    "result = True | False   #\n",
    "print('논리연산(연산자 앞뒤에 논리형일 때):',result)\n",
    "result = False | 3   # 0000 (0)\n",
    "                     # 0011 (3) 비트연산\n",
    "print('비트연산(연산자 앞이나 뒤에 숫자일 때):',result)"
   ]
  },
  {
   "cell_type": "code",
   "execution_count": 48,
   "id": "f5252582",
   "metadata": {},
   "outputs": [
    {
     "name": "stdout",
     "output_type": "stream",
     "text": [
      "[]\n",
      "Hong\n"
     ]
    }
   ],
   "source": [
    "# or : 논리연산. 참으로 판별되는 첫번째 항의 결과 반환\n",
    "# 모든 항이 거짓이면 마지막항의 결과 반환\n",
    "print(False or 0 or '' or None or [])\n",
    "print(False or 0 or 'Hong' or None or [])"
   ]
  },
  {
   "cell_type": "code",
   "execution_count": 49,
   "id": "b4cf05a9",
   "metadata": {},
   "outputs": [
    {
     "data": {
      "text/plain": [
       "False"
      ]
     },
     "execution_count": 49,
     "metadata": {},
     "output_type": "execute_result"
    }
   ],
   "source": [
    "# not 연산자\n",
    "not 10>5"
   ]
  },
  {
   "cell_type": "markdown",
   "id": "b0d59bc9",
   "metadata": {},
   "source": [
    "## 5.4 비교연산자: >, >=, <, <=, ==(같다), !=(다르다)\n",
    "- 우선순위가 낮다."
   ]
  },
  {
   "cell_type": "code",
   "execution_count": 50,
   "id": "0f20e45c",
   "metadata": {},
   "outputs": [
    {
     "name": "stdout",
     "output_type": "stream",
     "text": [
      "True\n",
      "False\n",
      "True\n",
      "True\n"
     ]
    }
   ],
   "source": [
    "# 비교연산자는 이항,삼항,사항,....다항연산자\n",
    "x = 95\n",
    "print((90<=x) & (x<=100))\n",
    "print(x<=90 & x<=100)  # 자바에서는 비교연산 먼저하고 논리연산 나중에 하지만 파이썬은 90&x 먼저 수행\n",
    "print(90 <= x <= 100)  # 파이썬은 다항연산 가능\n",
    "print(90 <= x <= 100 > 0) "
   ]
  },
  {
   "cell_type": "code",
   "execution_count": 55,
   "id": "7a3566c6",
   "metadata": {},
   "outputs": [
    {
     "name": "stdout",
     "output_type": "stream",
     "text": [
      "True\n",
      "False\n",
      "False\n"
     ]
    }
   ],
   "source": [
    "# 비교연산자의 우선순위가 비트연산자(|,&)의 우선순위보다 낮다.\n",
    "print((10>5) & (10>7))\n",
    "print(10>5 & 10>7)   # ()가 없으면 우선순위가 높은 5&10부터 실행 #0101 & 1010\n",
    "print(10 > 0 > 7)"
   ]
  },
  {
   "cell_type": "code",
   "execution_count": 58,
   "id": "65456df6",
   "metadata": {},
   "outputs": [
    {
     "name": "stdout",
     "output_type": "stream",
     "text": [
      "True\n",
      "True\n"
     ]
    }
   ],
   "source": [
    "address = '목동'\n",
    "age = 29\n",
    "print((address=='목동') & (age<=30))\n",
    "# print(address=='목동' & age<=30)\n",
    "print(address=='목동' and age<=30)  # java에서는 and가 &&"
   ]
  },
  {
   "cell_type": "code",
   "execution_count": 60,
   "id": "156b7164",
   "metadata": {},
   "outputs": [
    {
     "data": {
      "text/plain": [
       "True"
      ]
     },
     "execution_count": 60,
     "metadata": {},
     "output_type": "execute_result"
    }
   ],
   "source": [
    "# 문자는 ASCII 코드 순으로 비교 : 특수문자 < 숫자문자 < 대문자 < 소문자(abc순)\n",
    "\"scott\" < \"tiger\""
   ]
  },
  {
   "cell_type": "code",
   "execution_count": 59,
   "id": "006cf5c9",
   "metadata": {},
   "outputs": [
    {
     "data": {
      "text/plain": [
       "True"
      ]
     },
     "execution_count": 59,
     "metadata": {},
     "output_type": "execute_result"
    }
   ],
   "source": [
    "\"김길동\" < \"홍길동\""
   ]
  },
  {
   "cell_type": "markdown",
   "id": "15cceb91",
   "metadata": {},
   "source": [
    "## 5.5 비트연산 : &,|,^(XOR),~(반대)\n",
    "- ^ 연산자 때문에 AI의 겨울이 도래했다.  비트연산은 하드웨어 제어할 때 쓴다.\n",
    "'''\n",
    "    x     y     x&y     x|y     x^y     ~x\n",
    "    ---------------------------------------\n",
    "    0     0      0       0       0\n",
    "    0     1      0       1       1\n",
    "    1     0      0       1       1\n",
    "    1     1      1       1       0\n",
    "    \n",
    "    \n",
    "    \n",
    "'''"
   ]
  },
  {
   "cell_type": "code",
   "execution_count": 6,
   "id": "55934f61",
   "metadata": {},
   "outputs": [
    {
     "name": "stdout",
     "output_type": "stream",
     "text": [
      "  a = 15 : 1111\n",
      "  b =  2 : 0010\n",
      "a&b =  2 : 0010\n",
      "a|b = 15 : 1111\n",
      "a^b = 13 : 1101\n",
      " ~a = -16 : -10000\n"
     ]
    }
   ],
   "source": [
    "a = 15   # 1111(8+4+2+1)\n",
    "b =  2   # 0010\n",
    "print(\"  a = {0:2} : {0:04b}\".format(a))\n",
    "print(\"  b = {0:2} : {0:04b}\".format(b))\n",
    "print(\"a&b = {0:2} : {0:04b}\".format(a&b))\n",
    "print(\"a|b = {0:2} : {0:04b}\".format(a|b))\n",
    "print(\"a^b = {0:2} : {0:04b}\".format(a^b))\n",
    "print(\" ~a = {0:2} : {0:04b}\".format(~a))"
   ]
  },
  {
   "cell_type": "markdown",
   "id": "716e0931",
   "metadata": {},
   "source": [
    "# 6절. 문자열 다루기\n",
    "- 문자열변수[from:to:step] : 일부 문자 추출\n",
    "- len(문자열변수) : 문자수,    파이썬은 문자와 문자열을 구분하지 않는다.\n",
    "===============================아래부터 문자함수\n",
    "- upper() : 대문자로\n",
    "- lower() : 소문자로\n",
    "- title() : 각 어절의 앞글자만 대문자로\n",
    "- capitalize() : 첫문자만 대문자로\n",
    "- count(\"찾을문자\") : \"찾을문자\"가 몇개 들어있는지 갯수 반환\n",
    "- find(\"찾을문자\") : \"찾을문자\"가 왼쪽부터 몇번째에 있는지 index를 반환 (없으면 -1)\n",
    "- rfind(\"찾을문자\") : \"찾을문자\"가 오른쪽부터 몇번째에 있는지 index를 반환  (없으면 -1)\n",
    "\n",
    "cf. index(\"찾을문자\") : \"찾을문자\"가 왼쪽부터 몇번째에 있는지 index를 반환 (없으면 -에러)\n",
    "\n",
    "- startswith(\"특정문자\") : \"특정문자\"로 시작하는지 여부 반환\n",
    "- endswith(\"특정문자\") : \"특정문자\"로 끝나는지 여부 반환\n",
    "=======================================\n",
    "- strip() : 문자열의 좌우공백제거(trim)\n",
    "- lstrip() : 왼쪽 공백 제거\n",
    "- rstrip() : 오른쪽 공백 제거\n",
    "- <span style=\"color:red\"> **split() : 문자열을 공백이나 다른 문자 기준으로 나누어 리스트로 반환**</span>\n",
    "- isdigit() : 문자열이 숫자문자열인지 여부 반환\n",
    "- islower() : 문자열이 소문자인지 여부 반환\n",
    "- isupper() : 문자열이 대문자인지 여부 반환\n",
    "- replace(oldStr, newStr): oldStr을 newStr로 변경"
   ]
  },
  {
   "cell_type": "code",
   "execution_count": 8,
   "id": "6e6727ba",
   "metadata": {},
   "outputs": [
    {
     "data": {
      "text/plain": [
       "1000"
      ]
     },
     "execution_count": 8,
     "metadata": {},
     "output_type": "execute_result"
    }
   ],
   "source": [
    "int(\"1,000\".replace(\",\",\"\")) # 실제 데이터는 몇 만줄 이상인데 거기서 ,를 찾아서 바꾸기는 비효율적\n",
    "# import re\n",
    "# re.sub(\",\",\"\")"
   ]
  },
  {
   "cell_type": "code",
   "execution_count": 11,
   "id": "642650c3",
   "metadata": {},
   "outputs": [
    {
     "data": {
      "text/plain": [
       "('python is easy. python is smart. python', 39)"
      ]
     },
     "execution_count": 11,
     "metadata": {},
     "output_type": "execute_result"
    }
   ],
   "source": [
    "temp = \"python is easy. python is smart. python\"\n",
    "temp, len(temp)"
   ]
  },
  {
   "cell_type": "code",
   "execution_count": 26,
   "id": "db98993a",
   "metadata": {},
   "outputs": [
    {
     "name": "stdout",
     "output_type": "stream",
     "text": [
      "대문자로: PYTHON IS EASY. PYTHON IS SMART. PYTHON\n",
      "소문자로: python is easy. python is smart. python\n",
      "title(): Python Is Easy. Python Is Smart. Python\n",
      "capitalize(): Python is easy. python is smart. python\n",
      "C 몇번 나오는지 : 0\n",
      "python이 몇번 나오는지 : 2\n",
      "대소문자 구분없이 python이 몇번 : 3\n",
      "대소문자 구분없이 python이 몇번 : 3\n",
      "대소문자 구분없이 python이 몇번 : 3\n",
      "python이 나오는 첫 index 위치 : 0\n",
      "python이 나오는 마지막 index 위치 : 33\n",
      "C가 나오는 첫 index 위치 : -1\n",
      "python이 나오는 첫 index 위치 : 0\n",
      "python으로 시작하는지 여부 :  True\n",
      "대소문자 구분없이 python으로 시작하는 여부 : True\n",
      "python으로 끝나는지 여부 : True\n",
      "n으로 끝나는지 여부 : True\n",
      "python을 R로 변경 : R is easy. Python is smart. R\n",
      "python is easy. Python is smart. python\n"
     ]
    }
   ],
   "source": [
    "temp = \"python is easy. Python is smart. python\"\n",
    "     #  01234567890123456789012345678901234567890123456789 \n",
    "print(\"대문자로:\", temp.upper())\n",
    "print(\"소문자로:\", temp.lower())\n",
    "print(\"title():\", temp.title())\n",
    "print(\"capitalize():\", temp.capitalize())\n",
    "print(\"C 몇번 나오는지 :\", temp.count(\"C\"))\n",
    "print(\"python이 몇번 나오는지 :\", temp.count(\"python\"))\n",
    "print(\"대소문자 구분없이 python이 몇번 :\", temp.lower().count(\"python\"))\n",
    "print(\"대소문자 구분없이 python이 몇번 :\", temp.upper().count(\"PYTHON\"))\n",
    "print(\"대소문자 구분없이 python이 몇번 :\", temp.title().count(\"Python\"))\n",
    "print(\"python이 나오는 첫 index 위치 :\", temp.find(\"python\"))\n",
    "print(\"python이 나오는 마지막 index 위치 :\", temp.rfind(\"python\"))\n",
    "print(\"C가 나오는 첫 index 위치 :\", temp.find(\"C\"))  # 찾을 문자가 없을 경우 -1\n",
    "print(\"python이 나오는 첫 index 위치 :\", temp.index(\"python\"))\n",
    "# print(\"java가 나오는 첫 index 위치 :\", temp.index(\"java\"))  # 찾을 문자가 없을 경우 에러  # 이런 코드로 에러나면 시스템 셧다운됨 \n",
    "print(\"python으로 시작하는지 여부 : \", temp.startswith(\"python\"))\n",
    "print(\"대소문자 구분없이 python으로 시작하는 여부 :\",  temp.lower().startswith(\"python\"))\n",
    "print(\"python으로 끝나는지 여부 :\",  temp.endswith(\"python\"))      \n",
    "print(\"n으로 끝나는지 여부 :\",  temp.endswith(\"n\"))   \n",
    "print(\"python을 R로 변경 :\",  temp.replace(\"python\", \"R\"))   \n",
    "print(temp)"
   ]
  },
  {
   "cell_type": "code",
   "execution_count": 32,
   "id": "ac0d01a5",
   "metadata": {},
   "outputs": [
    {
     "name": "stdout",
     "output_type": "stream",
     "text": [
      "좌우 공백제거 : [python is easy]\n",
      "왼쪽 공백제거 : [python is easy    ]\n",
      "오른쪽 공백제거 : [     python is easy]\n",
      "isdigit(숫자문자)인지 여부 : False\n",
      "replace후 isdigit : True\n",
      "대문자인지 여부 : False\n",
      "소문자인지 여부 : True\n"
     ]
    }
   ],
   "source": [
    "temp = \"     python is easy    \"\n",
    "notdigit = \"1,000\"\n",
    "print(\"좌우 공백제거 : [{}]\".format(temp.strip()))\n",
    "print(\"왼쪽 공백제거 : [{}]\".format(temp.lstrip()))\n",
    "print(\"오른쪽 공백제거 : [{}]\".format(temp.rstrip()))\n",
    "print(\"isdigit(숫자문자)인지 여부 :\", notdigit.isdigit())\n",
    "print(\"replace후 isdigit :\", notdigit.replace(\",\",\"\").isdigit())\n",
    "print(\"대문자인지 여부 :\", temp.isupper())\n",
    "print(\"소문자인지 여부 :\", temp.islower())"
   ]
  },
  {
   "cell_type": "code",
   "execution_count": 35,
   "id": "854dc6e5",
   "metadata": {},
   "outputs": [
    {
     "name": "stdout",
     "output_type": "stream",
     "text": [
      "space 단위로 names를 분리(list로 반환) : ['홍길동', '김길동', '박길동', '주길동', '고길동']\n",
      "홍길동 김길동\n"
     ]
    }
   ],
   "source": [
    "names = \" 홍길동 김길동      박길동  주길동 고길동\"\n",
    "name_list = names.split()\n",
    "print(\"space 단위로 names를 분리(list로 반환) :\", name_list)\n",
    "print(name_list[0], name_list[1])"
   ]
  },
  {
   "cell_type": "code",
   "execution_count": 40,
   "id": "51384f16",
   "metadata": {},
   "outputs": [
    {
     "name": "stdout",
     "output_type": "stream",
     "text": [
      "['2025', '09', '17']\n",
      "년도:  2025\n",
      "  월:  09\n",
      "  일:  17\n"
     ]
    }
   ],
   "source": [
    "date_str = \"2025-09-17\"\n",
    "date_list = date_str.split('-')\n",
    "print(date_list)\n",
    "print(\"년도: \", date_list[0])\n",
    "print(\"  월: \", date_list[1])\n",
    "print(\"  일: \", date_list[2])"
   ]
  },
  {
   "cell_type": "code",
   "execution_count": 42,
   "id": "2e11399a",
   "metadata": {},
   "outputs": [
    {
     "data": {
      "text/plain": [
       "('A', 'B', 'C')"
      ]
     },
     "execution_count": 42,
     "metadata": {},
     "output_type": "execute_result"
    }
   ],
   "source": [
    "str_ = \"ABC\"\n",
    "str_ = [\"A\",\"B\",\"C\"]\n",
    "str_[0], str_[1], str_[2]"
   ]
  },
  {
   "cell_type": "code",
   "execution_count": 52,
   "id": "82b3626d",
   "metadata": {},
   "outputs": [
    {
     "name": "stdout",
     "output_type": "stream",
     "text": [
      "분리된 temp:  ['Python', '웹(HTML/CSS/JS)', 'Oracle/MySQL(DBMS)', 'DL/ML(M/DNN/CNN/RNN)', 'LLM(RAG)']\n",
      "join temp :  Python/웹(HTML/CSS/JS)/Oracle/MySQL(DBMS)/DL/ML(M/DNN/CNN/RNN)/LLM(RAG)\n"
     ]
    }
   ],
   "source": [
    "# ' -'을 \"/\"로 바꾸기  (replace 쓰지 않고)\n",
    "temp = \"Python - 웹(HTML/CSS/JS) - Oracle/MySQL(DBMS) - DL/ML(M/DNN/CNN/RNN) - LLM(RAG)\"\n",
    "# temp.replace(\" - \",\"/\")     # JS는 첫 번째 한개 밖에 못 바꾼다.\n",
    "# split()와 join() 이용하여 replace역할\n",
    "splited_temp = temp.split(\" - \")\n",
    "print(\"분리된 temp: \",splited_temp)\n",
    "joined_temp = \"/\".join(splited_temp) # \"/\"로 매개변수 list를 연결\n",
    "print(\"join temp : \", joined_temp)"
   ]
  },
  {
   "cell_type": "code",
   "execution_count": 54,
   "id": "a78cc4ac",
   "metadata": {
    "collapsed": true
   },
   "outputs": [
    {
     "data": {
      "text/plain": [
       "['__add__',\n",
       " '__class__',\n",
       " '__contains__',\n",
       " '__delattr__',\n",
       " '__dir__',\n",
       " '__doc__',\n",
       " '__eq__',\n",
       " '__format__',\n",
       " '__ge__',\n",
       " '__getattribute__',\n",
       " '__getitem__',\n",
       " '__getnewargs__',\n",
       " '__gt__',\n",
       " '__hash__',\n",
       " '__init__',\n",
       " '__init_subclass__',\n",
       " '__iter__',\n",
       " '__le__',\n",
       " '__len__',\n",
       " '__lt__',\n",
       " '__mod__',\n",
       " '__mul__',\n",
       " '__ne__',\n",
       " '__new__',\n",
       " '__reduce__',\n",
       " '__reduce_ex__',\n",
       " '__repr__',\n",
       " '__rmod__',\n",
       " '__rmul__',\n",
       " '__setattr__',\n",
       " '__sizeof__',\n",
       " '__str__',\n",
       " '__subclasshook__',\n",
       " 'capitalize',\n",
       " 'casefold',\n",
       " 'center',\n",
       " 'count',\n",
       " 'encode',\n",
       " 'endswith',\n",
       " 'expandtabs',\n",
       " 'find',\n",
       " 'format',\n",
       " 'format_map',\n",
       " 'index',\n",
       " 'isalnum',\n",
       " 'isalpha',\n",
       " 'isascii',\n",
       " 'isdecimal',\n",
       " 'isdigit',\n",
       " 'isidentifier',\n",
       " 'islower',\n",
       " 'isnumeric',\n",
       " 'isprintable',\n",
       " 'isspace',\n",
       " 'istitle',\n",
       " 'isupper',\n",
       " 'join',\n",
       " 'ljust',\n",
       " 'lower',\n",
       " 'lstrip',\n",
       " 'maketrans',\n",
       " 'partition',\n",
       " 'removeprefix',\n",
       " 'removesuffix',\n",
       " 'replace',\n",
       " 'rfind',\n",
       " 'rindex',\n",
       " 'rjust',\n",
       " 'rpartition',\n",
       " 'rsplit',\n",
       " 'rstrip',\n",
       " 'split',\n",
       " 'splitlines',\n",
       " 'startswith',\n",
       " 'strip',\n",
       " 'swapcase',\n",
       " 'title',\n",
       " 'translate',\n",
       " 'upper',\n",
       " 'zfill']"
      ]
     },
     "execution_count": 54,
     "metadata": {},
     "output_type": "execute_result"
    }
   ],
   "source": [
    "# 문자열을 다룰 수 있는 함수들 목록\n",
    "dir(str)"
   ]
  },
  {
   "cell_type": "markdown",
   "id": "2203ae38",
   "metadata": {},
   "source": [
    "# 7절. 시간, 날짜 다루기\n",
    "- 파이썬은 날짜, 시간, 날짜+시간 모두 저장 가능"
   ]
  },
  {
   "cell_type": "code",
   "execution_count": 55,
   "id": "aaae4186",
   "metadata": {},
   "outputs": [
    {
     "data": {
      "text/plain": [
       "'C:\\\\Users\\\\Admin\\\\anaconda3\\\\lib\\\\datetime.py'"
      ]
     },
     "execution_count": 55,
     "metadata": {},
     "output_type": "execute_result"
    }
   ],
   "source": [
    "import datetime  # 모듈\n",
    "datetime.__file__"
   ]
  },
  {
   "cell_type": "code",
   "execution_count": 2,
   "id": "8c400f65",
   "metadata": {},
   "outputs": [],
   "source": [
    "# datetime모듈(datetime.py) 안의 datetime, date, time만 메모리에 load\n",
    "from datetime import datetime, date, time"
   ]
  },
  {
   "cell_type": "markdown",
   "id": "94bb6687",
   "metadata": {},
   "source": [
    "## 7.1 시간과 날짜"
   ]
  },
  {
   "cell_type": "code",
   "execution_count": 3,
   "id": "30d8e269",
   "metadata": {},
   "outputs": [
    {
     "data": {
      "text/plain": [
       "datetime.datetime(2025, 9, 11, 9, 30)"
      ]
     },
     "execution_count": 3,
     "metadata": {},
     "output_type": "execute_result"
    }
   ],
   "source": [
    "# 특정 시점을 갖는 datetime 객체 생성\n",
    "thatday = datetime(2025, 9, 11, 9, 30)\n",
    "thatday"
   ]
  },
  {
   "cell_type": "code",
   "execution_count": 6,
   "id": "28e7bb7f",
   "metadata": {},
   "outputs": [
    {
     "name": "stdout",
     "output_type": "stream",
     "text": [
      "25년09월11일(Thursday) 09:30:00\n",
      "25년09월11일(Thursday) 09:30:00\n",
      "Thu Sep 11 09:30:00 2025\n"
     ]
    }
   ],
   "source": [
    "# 날짜를 문자열로 전환\n",
    "print(\"{:%y년%m월%d일(%A) %H:%M:%S}\".format(thatday))\n",
    "print(thatday.strftime(\"%y년%m월%d일(%A) %H:%M:%S\"))\n",
    "print(thatday.ctime()) # ctime(): 사람이 읽기 쉬운 형태로 convert"
   ]
  },
  {
   "cell_type": "code",
   "execution_count": 20,
   "id": "a700791b",
   "metadata": {},
   "outputs": [
    {
     "name": "stdout",
     "output_type": "stream",
     "text": [
      "2025-09-17 14:31:43.731938\n",
      "Wed Sep 17 14:31:43 2025\n",
      "25년 09월 17일 PM 02:31:43\n"
     ]
    }
   ],
   "source": [
    "# 지금을 저장하는 datetime 객체 생성\n",
    "now = datetime.now() # 프로그램을 실행하는 시점\n",
    "print(now)\n",
    "print(now.ctime())\n",
    "print(now.strftime(\"%y년 %m월 %d일 %p %I:%M:%S\"))"
   ]
  },
  {
   "cell_type": "code",
   "execution_count": 14,
   "id": "be0b74ec",
   "metadata": {},
   "outputs": [
    {
     "name": "stdout",
     "output_type": "stream",
     "text": [
      "6 days, 4:56:22.797878\n",
      "6\n"
     ]
    }
   ],
   "source": [
    "diff = now-thatday\n",
    "print(diff)\n",
    "print(diff.days)"
   ]
  },
  {
   "cell_type": "markdown",
   "id": "87c91bf2",
   "metadata": {},
   "source": [
    "## 7.2 날짜"
   ]
  },
  {
   "cell_type": "code",
   "execution_count": 17,
   "id": "7a10604f",
   "metadata": {},
   "outputs": [
    {
     "data": {
      "text/plain": [
       "datetime.date(2025, 9, 11)"
      ]
     },
     "execution_count": 17,
     "metadata": {},
     "output_type": "execute_result"
    }
   ],
   "source": [
    "# 특정한 날짜를 갖는 date 객체 생성\n",
    "someday = date(2025, 9 , 11)   # 오직 년월일만 넣어야한다. 시간을 넣으면 오류\n",
    "someday"
   ]
  },
  {
   "cell_type": "code",
   "execution_count": 19,
   "id": "0723e1e8",
   "metadata": {},
   "outputs": [
    {
     "name": "stdout",
     "output_type": "stream",
     "text": [
      "2025-09-11\n",
      "2025년 09월 11일 00:00\n"
     ]
    }
   ],
   "source": [
    "print(someday)\n",
    "print(someday.strftime(\"%Y년 %m월 %d일 %H:%M\"))"
   ]
  },
  {
   "cell_type": "code",
   "execution_count": 21,
   "id": "bd86933e",
   "metadata": {},
   "outputs": [
    {
     "name": "stdout",
     "output_type": "stream",
     "text": [
      "True\n"
     ]
    }
   ],
   "source": [
    "# 오늘을 갖는 date 객체 생성\n",
    "today1 = date.today()\n",
    "today2 = datetime.now().date()  # 시간 제외한 날짜만\n",
    "print(today1 == today2)"
   ]
  },
  {
   "cell_type": "code",
   "execution_count": 23,
   "id": "8f38e2dd",
   "metadata": {},
   "outputs": [
    {
     "name": "stdout",
     "output_type": "stream",
     "text": [
      "2025년 09월 17일 00:00\n",
      "2025년 09월 17일 00:00\n"
     ]
    }
   ],
   "source": [
    "print(today1.strftime(\"%Y년 %m월 %d일 %H:%M\"))\n",
    "print(today2.strftime(\"%Y년 %m월 %d일 %H:%M\"))"
   ]
  },
  {
   "cell_type": "code",
   "execution_count": 24,
   "id": "52890623",
   "metadata": {},
   "outputs": [
    {
     "name": "stdout",
     "output_type": "stream",
     "text": [
      "-6 days, 0:00:00\n",
      "-6\n"
     ]
    }
   ],
   "source": [
    "diff = someday - today1\n",
    "print(diff)\n",
    "print(diff.days)"
   ]
  },
  {
   "cell_type": "markdown",
   "id": "9054cba7",
   "metadata": {},
   "source": [
    "## 7.3 시간"
   ]
  },
  {
   "cell_type": "code",
   "execution_count": 25,
   "id": "33c3ca64",
   "metadata": {},
   "outputs": [
    {
     "data": {
      "text/plain": [
       "datetime.time(14, 39)"
      ]
     },
     "execution_count": 25,
     "metadata": {},
     "output_type": "execute_result"
    }
   ],
   "source": [
    "# 특정한 시간을 저장하는 time 객체 생성\n",
    "t = time(14, 39, 0)\n",
    "t"
   ]
  },
  {
   "cell_type": "code",
   "execution_count": 28,
   "id": "197d4c73",
   "metadata": {
    "scrolled": true
   },
   "outputs": [
    {
     "name": "stdout",
     "output_type": "stream",
     "text": [
      "1900년 01월 01일 PM 02:39\n",
      " PM 02:39\n"
     ]
    }
   ],
   "source": [
    "print(t.strftime(\"%Y년 %m월 %d일 %p %I:%M\"))\n",
    "print(t.strftime(\" %p %I:%M\"))"
   ]
  },
  {
   "cell_type": "code",
   "execution_count": 30,
   "id": "c45fd52a",
   "metadata": {},
   "outputs": [
    {
     "name": "stdout",
     "output_type": "stream",
     "text": [
      "14:44:21.632495\n"
     ]
    }
   ],
   "source": [
    "# 현재시간\n",
    "nowtime=datetime.now().time()\n",
    "print(nowtime)"
   ]
  },
  {
   "cell_type": "code",
   "execution_count": null,
   "id": "33926266",
   "metadata": {},
   "outputs": [],
   "source": [
    "da"
   ]
  },
  {
   "cell_type": "markdown",
   "id": "ddb589af",
   "metadata": {},
   "source": [
    "# 8절. 연습문제"
   ]
  },
  {
   "cell_type": "code",
   "execution_count": 65,
   "id": "ef8021fd",
   "metadata": {},
   "outputs": [
    {
     "name": "stdout",
     "output_type": "stream",
     "text": [
      "홍길동님의 나이는 23살 입니다.\n",
      "홍길동님의 나이는 23살 입니다.\n"
     ]
    }
   ],
   "source": [
    "# 1.[출력형식 : 홍길동님의 나이는 23살입니다]\n",
    "name = \"홍길동\"\n",
    "age = 23\n",
    "print(\"{}님의 나이는 {}살 입니다.\".format(name, age))\n",
    "print(f\"{name}님의 나이는 {age}살 입니다.\")"
   ]
  },
  {
   "cell_type": "code",
   "execution_count": 67,
   "id": "d6bcf84d",
   "metadata": {},
   "outputs": [
    {
     "name": "stdout",
     "output_type": "stream",
     "text": [
      "정수를 입력하세요:23\n",
      "정수를 입력하세요:0\n",
      "x + y = 23 \n",
      "x - y = 23 \n",
      "x * y = 0 \n",
      "떼끼\n"
     ]
    }
   ],
   "source": [
    "# 2. 두 정수를 입력받아 두 수의 덧셈, 뺄셈, 곱셈, 나눗셈, 몫, 나머지를 출력\n",
    "x = int(input(\"정수를 입력하세요:\"))\n",
    "y = int(input(\"정수를 입력하세요:\"))\n",
    "print(\"x + y = {} \".format(x+y))\n",
    "print(\"x - y = {} \".format(x-y))\n",
    "print(\"x * y = {} \".format(x*y))\n",
    "if y !=0:\n",
    "    print(\"x / y = {} \".format(x/y))\n",
    "    print(\"x // y= {} \".format(x//y))\n",
    "    print(\"x % y = {} \".format(x%y))\n",
    "else:\n",
    "    print(\"y가 0이라서 나눗셈 불가\")"
   ]
  },
  {
   "cell_type": "code",
   "execution_count": 45,
   "id": "c4d0f42e",
   "metadata": {},
   "outputs": [
    {
     "name": "stdout",
     "output_type": "stream",
     "text": [
      "Wrld Hello\n",
      "['Wrld', 'Hello']\n"
     ]
    }
   ],
   "source": [
    "# 3. 문자열의 분리하기와 합치기 기능을 이용하여 ‘Hello World’가 할당된 변수를 이용하여 ‘World Hello’로 출력하세요\n",
    "message = \"Hello Wrld\"\n",
    "message_sp = message.split()\n",
    "message_sp.reverse()\n",
    "result = \" \".join(message_sp)\n",
    "print(result)\n",
    "print(message_sp)"
   ]
  },
  {
   "cell_type": "code",
   "execution_count": 52,
   "id": "c670341b",
   "metadata": {},
   "outputs": [
    {
     "data": {
      "text/plain": [
       "'bcdefa'"
      ]
     },
     "execution_count": 52,
     "metadata": {},
     "output_type": "execute_result"
    }
   ],
   "source": [
    "# 4. x = 'abcdef' 를 이용하여 ‘bcdefa’로 출력하세요(문자 슬라이싱이용).\n",
    "x = 'abcdef'\n",
    "result = x[1:]+x[0]\n",
    "result\n",
    "print(x[1:], x[0]"
   ]
  },
  {
   "cell_type": "code",
   "execution_count": 53,
   "id": "122499b1",
   "metadata": {},
   "outputs": [
    {
     "data": {
      "text/plain": [
       "'fedcba'"
      ]
     },
     "execution_count": 53,
     "metadata": {},
     "output_type": "execute_result"
    }
   ],
   "source": [
    "# 5. x = ‘abcdef’를 이용하여 ‘fedcba’로 출력하세요\n",
    "x = 'abcdef'\n",
    "result = x[::-1]\n",
    "result "
   ]
  },
  {
   "cell_type": "code",
   "execution_count": 55,
   "id": "bbee0258",
   "metadata": {},
   "outputs": [
    {
     "name": "stdout",
     "output_type": "stream",
     "text": [
      "오늘의 온도를 섭씨로 입력하세요.25\n",
      "77\n"
     ]
    }
   ],
   "source": [
    "# 6. 오늘의 온도를 섭씨온도로 입력받아 화씨 온도로 변환하는 프로그램을 작성하세요. \n",
    "#    화씨 온도는 소수점이 있을 경우만  두번째 자리까지 출력되고,\n",
    "#    소수점이하 값이 없는 경우 소수점을 출력하지 않도록 합니다.(다음은 섭씨와 화씨의 변환 공식입니다. C는 섭씨, F는 화씨)\n",
    "\n",
    "today_temp = float(input(\"오늘의 온도를 섭씨로 입력하세요.\"))\n",
    "F = (today_temp *1.8) + 32\n",
    "if F.is_integer():   # 소수점 이하가 없는 경우\n",
    "    print(int(F))\n",
    "else:                # 소수점 이하가 있는 경우\n",
    "    print(\"{.2f}\".format(F))\n",
    "    \n",
    "c = int(input(\"섭씨 온도를 입력하세요\"))  \n",
    "f = (c*1.8)+32\n",
    "# print(\"입력하신 섭씨 {}도는 화씨온도 {:.2f}도 입니다.\".format(c,f))\n",
    "# if f%1==0:\n",
    "# if f\n",
    "#     print(\"입력하신 섭씨 {}도는 화씨온도 {:.0f}도입니다.\".format(c,f))    \n"
   ]
  },
  {
   "cell_type": "code",
   "execution_count": null,
   "id": "0846eba2",
   "metadata": {},
   "outputs": [],
   "source": [
    "# 7. 다음 중 변수 선언으로 잘못된 것을 모두 고르시오?\n",
    "# (1)for      (2)10th       (3)Student.name     (4)_1234\n",
    "# (1)예약어    (2)숫자로시작   (3).연산자 사용"
   ]
  },
  {
   "cell_type": "code",
   "execution_count": 57,
   "id": "7e40b3cb",
   "metadata": {},
   "outputs": [
    {
     "name": "stdout",
     "output_type": "stream",
     "text": [
      "SeounSeoul\n",
      "Seou n Seoul\n"
     ]
    }
   ],
   "source": [
    "# 8. 다음의 코드의 실행결과는?\n",
    "text = \"Seoul A001 - programming with python\"\n",
    "print(text[:4]+text[-1]+text.split()[0])    # SeounSeoul\n",
    "print(text[:4],  text[-1], text.split()[0]) # Seou n Seoul"
   ]
  },
  {
   "cell_type": "code",
   "execution_count": 59,
   "id": "41a3d05e",
   "metadata": {},
   "outputs": [
    {
     "name": "stdout",
     "output_type": "stream",
     "text": [
      "4\n",
      "4.0\n",
      "64\n"
     ]
    }
   ],
   "source": [
    "# 9. 다음 중 파이썬 3.x 버전에서 연산식과 그 결과의 출력이 잘못된 것은?\n",
    "# (1)수식 8//2 결과 4     (2)수식 8/2  결과 4    (3)수식 8 **2 결과 64 \n",
    "# (2)수식 8/2  결과 4.0\n",
    "print(8//2)\n",
    "print(8/2)\n",
    "print(8**2)"
   ]
  },
  {
   "cell_type": "code",
   "execution_count": 60,
   "id": "f9296216",
   "metadata": {
    "collapsed": true
   },
   "outputs": [
    {
     "ename": "TypeError",
     "evalue": "unsupported operand type(s) for +: 'int' and 'str'",
     "output_type": "error",
     "traceback": [
      "\u001b[1;31m---------------------------------------------------------------------------\u001b[0m",
      "\u001b[1;31mTypeError\u001b[0m                                 Traceback (most recent call last)",
      "Cell \u001b[1;32mIn[60], line 4\u001b[0m\n\u001b[0;32m      2\u001b[0m x \u001b[38;5;241m=\u001b[39m \u001b[38;5;241m5\u001b[39m\n\u001b[0;32m      3\u001b[0m y \u001b[38;5;241m=\u001b[39m \u001b[38;5;124m\"\u001b[39m\u001b[38;5;124mJohn\u001b[39m\u001b[38;5;124m\"\u001b[39m\n\u001b[1;32m----> 4\u001b[0m \u001b[38;5;28mprint\u001b[39m(\u001b[43mx\u001b[49m\u001b[43m \u001b[49m\u001b[38;5;241;43m+\u001b[39;49m\u001b[43m \u001b[49m\u001b[43my\u001b[49m)\n",
      "\u001b[1;31mTypeError\u001b[0m: unsupported operand type(s) for +: 'int' and 'str'"
     ]
    }
   ],
   "source": [
    "# 10. 아래 프로그램의 결과는?  ==> TypeError \n",
    "\n",
    "x = 5\n",
    "y = \"John\"\n",
    "print(x + y)"
   ]
  },
  {
   "cell_type": "code",
   "execution_count": 64,
   "id": "5983f171",
   "metadata": {},
   "outputs": [
    {
     "name": "stdout",
     "output_type": "stream",
     "text": [
      "나라\n"
     ]
    }
   ],
   "source": [
    "# 11. split()함수를 이용하여 str_의 값 중 ＂나라＂를 출력하는 프로그램을 완성하시오.\n",
    "str_ = \"우리 나라 대한 민국\"\n",
    "str_split = str_.split() \n",
    "print(str_split[1])"
   ]
  },
  {
   "cell_type": "code",
   "execution_count": null,
   "id": "455c27d0",
   "metadata": {},
   "outputs": [],
   "source": []
  }
 ],
 "metadata": {
  "celltoolbar": "Tags",
  "kernelspec": {
   "display_name": "Python 3 (ipykernel)",
   "language": "python",
   "name": "python3"
  },
  "language_info": {
   "codemirror_mode": {
    "name": "ipython",
    "version": 3
   },
   "file_extension": ".py",
   "mimetype": "text/x-python",
   "name": "python",
   "nbconvert_exporter": "python",
   "pygments_lexer": "ipython3",
   "version": "3.10.9"
  },
  "toc": {
   "base_numbering": 1,
   "nav_menu": {},
   "number_sections": false,
   "sideBar": true,
   "skip_h1_title": false,
   "title_cell": "Table of Contents",
   "title_sidebar": "Contents",
   "toc_cell": false,
   "toc_position": {
    "height": "calc(100% - 180px)",
    "left": "10px",
    "top": "150px",
    "width": "357px"
   },
   "toc_section_display": true,
   "toc_window_display": true
  }
 },
 "nbformat": 4,
 "nbformat_minor": 5
}
