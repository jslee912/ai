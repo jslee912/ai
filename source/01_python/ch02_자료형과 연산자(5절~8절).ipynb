{
 "cells": [
  {
   "cell_type": "code",
   "execution_count": 3,
   "id": "f60d99cb",
   "metadata": {},
   "outputs": [
    {
     "data": {
      "text/html": [
       "\n",
       "<style>\n",
       "div.container{width:90% !important;} \n",
       "div.cell.code_cell.rendered{width:100%;} \n",
       "div.input_prompt{padding:0px;}\n",
       "div.CodeMirror {font-family:Consolas; font-size:14pt;} \n",
       "div.text_cell_render.rendered_html{font-size:14pt;} \n",
       "div.output {font-size:14pt; font-weight:bold;} \n",
       "div.input {font-family:Consolas; font-size:14pt;} \n",
       "div.prompt {min-width:70px;}\n",
       "div#toc-wrapper{padding-top:120px;} \n",
       "div.text_cell_render ul li{font-size:12pt;padding:5px;} \n",
       "table.dataframe{font-size:12px;}\n",
       "</style>\n"
      ],
      "text/plain": [
       "<IPython.core.display.HTML object>"
      ]
     },
     "metadata": {},
     "output_type": "display_data"
    }
   ],
   "source": [
    "from IPython.display import display, HTML\n",
    "display(HTML(\"\"\"\n",
    "<style>\n",
    "div.container{width:90% !important;} \n",
    "div.cell.code_cell.rendered{width:100%;} \n",
    "div.input_prompt{padding:0px;}\n",
    "div.CodeMirror {font-family:Consolas; font-size:14pt;} \n",
    "div.text_cell_render.rendered_html{font-size:14pt;} \n",
    "div.output {font-size:14pt; font-weight:bold;} \n",
    "div.input {font-family:Consolas; font-size:14pt;} \n",
    "div.prompt {min-width:70px;}\n",
    "div#toc-wrapper{padding-top:120px;} \n",
    "div.text_cell_render ul li{font-size:12pt;padding:5px;} \n",
    "table.dataframe{font-size:12px;}\n",
    "</style>\n",
    "\"\"\"))"
   ]
  },
  {
   "cell_type": "markdown",
   "id": "79696616",
   "metadata": {},
   "source": [
    "<b><font size=\"6\" color=\"red\">ch02. 자료형과 연산자</font></b>\n",
    "\n",
    "# 5절. 연산자\n",
    "## 5.1 산술연산자: +,-,*,/(결과 float), //(몫), %(나머지), **(제곱)"
   ]
  },
  {
   "cell_type": "code",
   "execution_count": 8,
   "id": "e99ed5b0",
   "metadata": {},
   "outputs": [
    {
     "name": "stdout",
     "output_type": "stream",
     "text": [
      "10*5승 = 100000\n",
      "5/2(결과 실수) = 2.5\n",
      "5//2(몫) = 2\n",
      "5%2(나머지) = 1\n"
     ]
    }
   ],
   "source": [
    "print(\"10*5승 =\", 10**5)\n",
    "print(\"5/2(결과 실수) =\", 5/2)\n",
    "print(\"5//2(몫) =\", 5//2)\n",
    "print(\"5%2(나머지) =\", 5%2)"
   ]
  },
  {
   "cell_type": "code",
   "execution_count": 7,
   "id": "857cec93",
   "metadata": {},
   "outputs": [
    {
     "name": "stdout",
     "output_type": "stream",
     "text": [
      "4**2 = 16.0\n"
     ]
    }
   ],
   "source": [
    "# 정수끼리 연산은 결과가 정수 (단 / 제외)\n",
    "# 정수와 실수, 실수끼리 연산 결과는 실수\n",
    "print(\"4**2 =\", 4**2.0)"
   ]
  },
  {
   "cell_type": "code",
   "execution_count": 11,
   "id": "36f04337",
   "metadata": {},
   "outputs": [
    {
     "name": "stdout",
     "output_type": "stream",
     "text": [
      "정수를 입력하세요:8\n",
      "입력하신 수는 8, 2로 나눈 나머지는0라서 짝수를 입력하셨습니다.\n"
     ]
    }
   ],
   "source": [
    "# quiz1. 정수를 입력받아 짝수인지 홀수인지 여부를 출력\n",
    "num = int(input(\"정수를 입력하세요:\"))\n",
    "result = num % 2  # 결과는 -1, 0, 1 중에 하나\n",
    "if result:\n",
    "    temp = \"홀수\"\n",
    "else:\n",
    "    temp = \"짝수\"\n",
    "print(f\"입력하신 수는 {num}, 2로 나눈 나머지는{result}라서 {temp}를 입력하셨습니다.\")"
   ]
  },
  {
   "cell_type": "code",
   "execution_count": 23,
   "id": "19e02a27",
   "metadata": {},
   "outputs": [
    {
     "name": "stdout",
     "output_type": "stream",
     "text": [
      "정수를 입력하세요:66\n",
      "입력하신 수는 66, 5로 나눈 나머지는1라서 5의 배수가 아닌 수를 입력하셨습니다.\n"
     ]
    }
   ],
   "source": [
    "# quiz2. 정수를 입력받아 5의 배수인지 여부를 출력\n",
    "\n",
    "# num2 = int(input(\"정수를 입력하세요:\"))\n",
    "# result = num2 % 5   \n",
    "# if result:\n",
    "#     temp = \"5의 배수가 아닌 수\"\n",
    "# else:\n",
    "#     temp = \"5의 배수\"\n",
    "# print(f\"입력하신 수는 {num2}, 5로 나눈 나머지는{result}라서 {temp}를 입력하셨습니다.\")\n",
    "\n",
    "num = int(input(\"정수를 입력하세요:\"))\n",
    "if num%5:\n",
    "    print(\"5의 배수가 아닙니다\")\n",
    "else:\n",
    "    print(\"5의 배수입니다\")"
   ]
  },
  {
   "cell_type": "code",
   "execution_count": 24,
   "id": "a8563a3d",
   "metadata": {},
   "outputs": [
    {
     "name": "stdout",
     "output_type": "stream",
     "text": [
      "국어점수를 입력하세요:99\n",
      "영어점수를 입력하세요:100\n",
      "수학점수를 입력하세요:99\n",
      "국어 :  99 \t 영어 : 100 \t 수학 :  99\n",
      "총점 : 298 \t 평균 :  99.3\n"
     ]
    }
   ],
   "source": [
    "# quiz3. 국어, 영어, 수학 점수를 입력받아 다음셀에서 다음과 같이 출력하도록 구현하시오.\n",
    "# 국어: 99   영어:100    수학: 99\n",
    "# 총점:298   평균: 99.3\n",
    "\n",
    "kor = int(input(\"국어점수를 입력하세요:\"))\n",
    "eng = int(input(\"영어점수를 입력하세요:\"))\n",
    "math = int(input(\"수학점수를 입력하세요:\"))\n",
    "tot = kor + eng + math\n",
    "avg = tot/3\n",
    "print(\"국어 : {:3d} \\t 영어 : {:3d} \\t 수학 : {:3d}\".format(kor,eng,math))\n",
    "print(\"총점 : {:3d} \\t 평균 : {:5.1f}\".format(tot,avg))"
   ]
  },
  {
   "cell_type": "markdown",
   "id": "0460f926",
   "metadata": {},
   "source": [
    "## 5.2 할당연산자 : =, +=, -=, /=, *=, //=, %="
   ]
  },
  {
   "cell_type": "code",
   "execution_count": 32,
   "id": "7a5f071d",
   "metadata": {},
   "outputs": [
    {
     "name": "stdout",
     "output_type": "stream",
     "text": [
      "a = 15\n"
     ]
    }
   ],
   "source": [
    "a = 10\n",
    "a += 5  # a = a + 5\n",
    "print(f\"a = {a}\")"
   ]
  },
  {
   "cell_type": "code",
   "execution_count": 33,
   "id": "ce488eed",
   "metadata": {},
   "outputs": [
    {
     "name": "stdout",
     "output_type": "stream",
     "text": [
      "5빼기 :  10\n",
      "10 배 :  100\n",
      "5나눈 몫 :  20\n"
     ]
    }
   ],
   "source": [
    "a -= 5   # a = a - 5\n",
    "print(\"5빼기 : \",a)   # 10\n",
    "a *= 10   # a = a * 10\n",
    "print(\"10 배 : \",a)     # 100\n",
    "a //= 5   # a = a // 5\n",
    "print(\"5나눈 몫 : \",a) #  20"
   ]
  },
  {
   "cell_type": "markdown",
   "id": "ef85749f",
   "metadata": {},
   "source": [
    "## 5.3 논리연산자 : &, and, |, or, not\n",
    "- or와 and 연산자가 2개씩인 이유?"
   ]
  },
  {
   "cell_type": "code",
   "execution_count": 35,
   "id": "a4f7098b",
   "metadata": {},
   "outputs": [
    {
     "name": "stdout",
     "output_type": "stream",
     "text": [
      "True\n",
      "0\n",
      "1100\n"
     ]
    }
   ],
   "source": [
    "# & : 논리연산자, 비트연산자 2개의 피연산자가 모두 논리값이어야 논리연산한다.\n",
    "print((10>3) & (10>5)     # 논리연산자 True & True  - 자바는 비교연산자가 우선순위가 높지만 파이썬은 비트연산자 우선순위가 높다\n",
    "print(12 & 1)              # 비트연산    1 1 0 0  (12)\n",
    "                           #            0 0 0 1  (1)\n",
    "                           #        & : 0 0 0 0 \n",
    "print(\"{:4b}\".format(12))"
   ]
  },
  {
   "cell_type": "code",
   "execution_count": 41,
   "id": "824140a8",
   "metadata": {
    "scrolled": true
   },
   "outputs": [
    {
     "name": "stdout",
     "output_type": "stream",
     "text": [
      "True\n",
      "0\n"
     ]
    }
   ],
   "source": [
    "# and : 논리연산자,  무조건 논리연산, False로 판별되는 첫번째 항의 결과 반환\n",
    "                    # 모든 항이 True면, 마지막항의 결과 반환\n",
    "print((10>3) and (10>5))    \n",
    "print(0 and 1) "
   ]
  },
  {
   "cell_type": "code",
   "execution_count": 46,
   "id": "9dc453cf",
   "metadata": {},
   "outputs": [
    {
     "name": "stdout",
     "output_type": "stream",
     "text": [
      "논리연산(연산자 앞뒤에 논리형일 때): True\n",
      "비트연산(연산자 앞이나 뒤에 숫자일 때): 3\n"
     ]
    }
   ],
   "source": [
    "# | : 논리연산, 비트연산\n",
    "# print(\"홍길동\" | 1 )   # string과 숫자는 연산 X\n",
    "result = True | False   #\n",
    "print('논리연산(연산자 앞뒤에 논리형일 때):',result)\n",
    "result = False | 3   # 0000 (0)\n",
    "                     # 0011 (3) 비트연산\n",
    "print('비트연산(연산자 앞이나 뒤에 숫자일 때):',result)"
   ]
  },
  {
   "cell_type": "code",
   "execution_count": 48,
   "id": "7e6b740d",
   "metadata": {},
   "outputs": [
    {
     "name": "stdout",
     "output_type": "stream",
     "text": [
      "[]\n",
      "Hong\n"
     ]
    }
   ],
   "source": [
    "# or : 논리연산. 참으로 판별되는 첫번째 항의 결과 반환\n",
    "# 모든 항이 거짓이면 마지막항의 결과 반환\n",
    "print(False or 0 or '' or None or [])\n",
    "print(False or 0 or 'Hong' or None or [])"
   ]
  },
  {
   "cell_type": "code",
   "execution_count": 49,
   "id": "b6a118eb",
   "metadata": {},
   "outputs": [
    {
     "data": {
      "text/plain": [
       "False"
      ]
     },
     "execution_count": 49,
     "metadata": {},
     "output_type": "execute_result"
    }
   ],
   "source": [
    "# not 연산자\n",
    "not 10>5"
   ]
  },
  {
   "cell_type": "markdown",
   "id": "49348ea2",
   "metadata": {},
   "source": [
    "## 5.4 비교연산자: >, >=, <, <=, ==(같다), !=(다르다)\n",
    "- 우선순위가 낮다."
   ]
  },
  {
   "cell_type": "code",
   "execution_count": 50,
   "id": "42d26a7d",
   "metadata": {},
   "outputs": [
    {
     "name": "stdout",
     "output_type": "stream",
     "text": [
      "True\n",
      "False\n",
      "True\n",
      "True\n"
     ]
    }
   ],
   "source": [
    "# 비교연산자는 이항,삼항,사항,....다항연산자\n",
    "x = 95\n",
    "print((90<=x) & (x<=100))\n",
    "print(x<=90 & x<=100)  # 자바에서는 비교연산 먼저하고 논리연산 나중에 하지만 파이썬은 90&x 먼저 수행\n",
    "print(90 <= x <= 100)  # 파이썬은 다항연산 가능\n",
    "print(90 <= x <= 100 > 0) "
   ]
  },
  {
   "cell_type": "code",
   "execution_count": 55,
   "id": "49d2dea5",
   "metadata": {},
   "outputs": [
    {
     "name": "stdout",
     "output_type": "stream",
     "text": [
      "True\n",
      "False\n",
      "False\n"
     ]
    }
   ],
   "source": [
    "# 비교연산자의 우선순위가 비트연산자(|,&)의 우선순위보다 낮다.\n",
    "print((10>5) & (10>7))\n",
    "print(10>5 & 10>7)   # ()가 없으면 우선순위가 높은 5&10부터 실행 #0101 & 1010\n",
    "print(10 > 0 > 7)"
   ]
  },
  {
   "cell_type": "code",
   "execution_count": 58,
   "id": "341c0be4",
   "metadata": {},
   "outputs": [
    {
     "name": "stdout",
     "output_type": "stream",
     "text": [
      "True\n",
      "True\n"
     ]
    }
   ],
   "source": [
    "address = '목동'\n",
    "age = 29\n",
    "print((address=='목동') & (age<=30))\n",
    "# print(address=='목동' & age<=30)\n",
    "print(address=='목동' and age<=30)  # java에서는 and가 &&"
   ]
  },
  {
   "cell_type": "code",
   "execution_count": 60,
   "id": "5f6fff0f",
   "metadata": {},
   "outputs": [
    {
     "data": {
      "text/plain": [
       "True"
      ]
     },
     "execution_count": 60,
     "metadata": {},
     "output_type": "execute_result"
    }
   ],
   "source": [
    "# 문자는 ASCII 코드 순으로 비교 : 특수문자 < 숫자문자 < 대문자 < 소문자(abc순)\n",
    "\"scott\" < \"tiger\""
   ]
  },
  {
   "cell_type": "code",
   "execution_count": 59,
   "id": "2e80df9f",
   "metadata": {},
   "outputs": [
    {
     "data": {
      "text/plain": [
       "True"
      ]
     },
     "execution_count": 59,
     "metadata": {},
     "output_type": "execute_result"
    }
   ],
   "source": [
    "\"김길동\" < \"홍길동\""
   ]
  },
  {
   "cell_type": "markdown",
   "id": "8db30d5e",
   "metadata": {},
   "source": [
    "## 5.5 비트연산 : &,|,^(XOR),~(반대)"
   ]
  },
  {
   "cell_type": "code",
   "execution_count": null,
   "id": "09e83cd6",
   "metadata": {},
   "outputs": [],
   "source": []
  },
  {
   "cell_type": "code",
   "execution_count": null,
   "id": "1362dab0",
   "metadata": {},
   "outputs": [],
   "source": []
  }
 ],
 "metadata": {
  "kernelspec": {
   "display_name": "Python 3 (ipykernel)",
   "language": "python",
   "name": "python3"
  },
  "language_info": {
   "codemirror_mode": {
    "name": "ipython",
    "version": 3
   },
   "file_extension": ".py",
   "mimetype": "text/x-python",
   "name": "python",
   "nbconvert_exporter": "python",
   "pygments_lexer": "ipython3",
   "version": "3.10.9"
  },
  "toc": {
   "base_numbering": 1,
   "nav_menu": {},
   "number_sections": false,
   "sideBar": true,
   "skip_h1_title": false,
   "title_cell": "Table of Contents",
   "title_sidebar": "Contents",
   "toc_cell": false,
   "toc_position": {
    "height": "calc(100% - 180px)",
    "left": "10px",
    "top": "150px",
    "width": "181px"
   },
   "toc_section_display": true,
   "toc_window_display": true
  }
 },
 "nbformat": 4,
 "nbformat_minor": 5
}
