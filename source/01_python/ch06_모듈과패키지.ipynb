{
 "cells": [
  {
   "cell_type": "code",
   "execution_count": 2,
   "id": "339cf423",
   "metadata": {},
   "outputs": [
    {
     "data": {
      "text/html": [
       "\n",
       "<style>\n",
       "div.container{width:90% !important;} \n",
       "div.cell.code_cell.rendered{width:100%;} \n",
       "div.input_prompt{padding:0px;}\n",
       "div.CodeMirror {font-family:Consolas; font-size:14pt;} \n",
       "div.text_cell_render.rendered_html{font-size:14pt;} \n",
       "div.output {font-size:14pt; font-weight:bold;} \n",
       "div.input {font-family:Consolas; font-size:14pt;} \n",
       "div.prompt {min-width:70px;}\n",
       "div#toc-wrapper{padding-top:120px;} \n",
       "div.text_cell_render ul li{font-size:12pt;padding:5px;} \n",
       "table.dataframe{font-size:12px;}\n",
       "</style>\n"
      ],
      "text/plain": [
       "<IPython.core.display.HTML object>"
      ]
     },
     "metadata": {},
     "output_type": "display_data"
    }
   ],
   "source": [
    "from IPython.display import display, HTML\n",
    "display(HTML(\"\"\"\n",
    "<style>\n",
    "div.container{width:90% !important;} \n",
    "div.cell.code_cell.rendered{width:100%;} \n",
    "div.input_prompt{padding:0px;}\n",
    "div.CodeMirror {font-family:Consolas; font-size:14pt;} \n",
    "div.text_cell_render.rendered_html{font-size:14pt;} \n",
    "div.output {font-size:14pt; font-weight:bold;} \n",
    "div.input {font-family:Consolas; font-size:14pt;} \n",
    "div.prompt {min-width:70px;}\n",
    "div#toc-wrapper{padding-top:120px;} \n",
    "div.text_cell_render ul li{font-size:12pt;padding:5px;} \n",
    "table.dataframe{font-size:12px;}\n",
    "</style>\n",
    "\"\"\"))"
   ]
  },
  {
   "cell_type": "markdown",
   "id": "e7783bac",
   "metadata": {},
   "source": [
    "<b><font size=\"6\" color=\"red\">ch06. 모듈과 패키지</font></b>\n",
    "# 1절 파이썬 표준 모듈 사용\n",
    "- 모듈 : 함수, 변수, 클래스 등을 담고 있는 파이썬 코드 파일(*.py)\n",
    "- python.org : 파이썬 표준 모듈 200여개는 파이썬 인터프리터와 함께 install 됨(sys, re, datetime, time, ...)\n",
    "- miniconda는 python.org버전보다 조금 더 많은 모듈을 install(무료, 가볍다)\n",
    "- anaconda는 1500여개 이상의 패키지 install 됨(정확한 갯수는 버전마다 상이)"
   ]
  },
  {
   "cell_type": "code",
   "execution_count": 2,
   "id": "fefb8b4d",
   "metadata": {},
   "outputs": [
    {
     "data": {
      "text/plain": [
       "'Thu Sep 25 14:27:08 2025'"
      ]
     },
     "execution_count": 2,
     "metadata": {},
     "output_type": "execute_result"
    }
   ],
   "source": [
    "# 1. import 모듈명 : 모듈안의 함수, 클래스, 변수를 모듈명.함수명()... 사용\n",
    "import time\n",
    "time.ctime()"
   ]
  },
  {
   "cell_type": "code",
   "execution_count": 3,
   "id": "2a0cf4db",
   "metadata": {},
   "outputs": [
    {
     "data": {
      "text/plain": [
       "1758778036.3812613"
      ]
     },
     "execution_count": 3,
     "metadata": {},
     "output_type": "execute_result"
    }
   ],
   "source": [
    "time.time()  # 1970.01.01부터 지금까지의 밀리세컨드값. 유닉스가 망가진날-유닉스타임"
   ]
  },
  {
   "cell_type": "markdown",
   "id": "743d5c08",
   "metadata": {},
   "source": []
  },
  {
   "cell_type": "code",
   "execution_count": 4,
   "id": "4fffeba1",
   "metadata": {},
   "outputs": [],
   "source": [
    "del time # time 모듈을 메모리에서 unload"
   ]
  },
  {
   "cell_type": "code",
   "execution_count": 5,
   "id": "eae03186",
   "metadata": {},
   "outputs": [
    {
     "data": {
      "text/plain": [
       "'Thu Sep 25 14:50:23 2025'"
      ]
     },
     "execution_count": 5,
     "metadata": {},
     "output_type": "execute_result"
    }
   ],
   "source": [
    "# 2. from 모듈(A) import 함수|클래스|변수(B) : A모듈안의 B만 로드\n",
    "#    from 패키지(A) import 모듈(B): A패키지안의 B모듈을 로드\n",
    "#    from 패키지(A).모듈명(B) import 함수명(C): A패키지안의 .B모듈안의 C함수만 로드\n",
    "\n",
    "from time import ctime, time\n",
    "ctime()"
   ]
  },
  {
   "cell_type": "code",
   "execution_count": 6,
   "id": "372bfdaf",
   "metadata": {},
   "outputs": [
    {
     "data": {
      "text/plain": [
       "1758779431.955742"
      ]
     },
     "execution_count": 6,
     "metadata": {},
     "output_type": "execute_result"
    }
   ],
   "source": [
    "time()"
   ]
  },
  {
   "cell_type": "code",
   "execution_count": 10,
   "id": "04df3807",
   "metadata": {
    "collapsed": true
   },
   "outputs": [
    {
     "ename": "NameError",
     "evalue": "name 'ctime' is not defined",
     "output_type": "error",
     "traceback": [
      "\u001b[1;31m---------------------------------------------------------------------------\u001b[0m",
      "\u001b[1;31mNameError\u001b[0m                                 Traceback (most recent call last)",
      "Cell \u001b[1;32mIn[10], line 1\u001b[0m\n\u001b[1;32m----> 1\u001b[0m \u001b[38;5;28;01mdel\u001b[39;00m ctime\n\u001b[0;32m      2\u001b[0m \u001b[38;5;28;01mdel\u001b[39;00m time\n",
      "\u001b[1;31mNameError\u001b[0m: name 'ctime' is not defined"
     ]
    }
   ],
   "source": [
    "del ctime\n",
    "del time"
   ]
  },
  {
   "cell_type": "code",
   "execution_count": 12,
   "id": "812953a0",
   "metadata": {},
   "outputs": [
    {
     "data": {
      "text/plain": [
       "'Thu Sep 25 14:55:38 2025'"
      ]
     },
     "execution_count": 12,
     "metadata": {},
     "output_type": "execute_result"
    }
   ],
   "source": [
    "# 3. import A as B     -A 모듈을 B이름으로 메모리 로드\n",
    "import time as t\n",
    "t.ctime()"
   ]
  },
  {
   "cell_type": "code",
   "execution_count": 13,
   "id": "6fce94df",
   "metadata": {},
   "outputs": [
    {
     "data": {
      "text/plain": [
       "1758779745.1259294"
      ]
     },
     "execution_count": 13,
     "metadata": {},
     "output_type": "execute_result"
    }
   ],
   "source": [
    "t.time()"
   ]
  },
  {
   "cell_type": "code",
   "execution_count": 14,
   "id": "b496f111",
   "metadata": {},
   "outputs": [],
   "source": [
    "del t"
   ]
  },
  {
   "cell_type": "code",
   "execution_count": 16,
   "id": "13160fe2",
   "metadata": {},
   "outputs": [
    {
     "data": {
      "text/plain": [
       "'Thu Sep 25 15:00:32 2025'"
      ]
     },
     "execution_count": 16,
     "metadata": {},
     "output_type": "execute_result"
    }
   ],
   "source": [
    "# 4. from 모듈명 import 함수명 as 별칭\n",
    "#    from 패키지명 import 모듈명 as 별칭\n",
    "#    from 패키지명.모듈명 import 함수명 as 별칭\n",
    "from time import ctime as ct, time as ti\n",
    "ct()"
   ]
  },
  {
   "cell_type": "code",
   "execution_count": 17,
   "id": "8d5c22f9",
   "metadata": {},
   "outputs": [
    {
     "data": {
      "text/plain": [
       "1758780040.6785674"
      ]
     },
     "execution_count": 17,
     "metadata": {},
     "output_type": "execute_result"
    }
   ],
   "source": [
    "ti()"
   ]
  },
  {
   "cell_type": "code",
   "execution_count": 18,
   "id": "7f121aea",
   "metadata": {},
   "outputs": [],
   "source": [
    "import time"
   ]
  },
  {
   "cell_type": "code",
   "execution_count": 19,
   "id": "dc23e5c6",
   "metadata": {},
   "outputs": [
    {
     "name": "stdout",
     "output_type": "stream",
     "text": [
      "['_STRUCT_TM_ITEMS', '__doc__', '__loader__', '__name__', '__package__', '__spec__', 'altzone', 'asctime', 'ctime', 'daylight', 'get_clock_info', 'gmtime', 'localtime', 'mktime', 'monotonic', 'monotonic_ns', 'perf_counter', 'perf_counter_ns', 'process_time', 'process_time_ns', 'sleep', 'strftime', 'strptime', 'struct_time', 'thread_time', 'thread_time_ns', 'time', 'time_ns', 'timezone', 'tzname']\n"
     ]
    }
   ],
   "source": [
    "print(dir(time)) # time 내의 함수, 변수, 클래스 등의"
   ]
  },
  {
   "cell_type": "markdown",
   "id": "c1304ed9",
   "metadata": {},
   "source": [
    "# 2절 사용자 정의 모듈\n",
    "- 함수나 클래스 등을 파이썬 파일에 저장해서 모듈을 만들고 재사용할 수 있음.\n",
    "- 모듈을 가져오는 순서 (1)표준모듈  (2)sys.path변수에 저장된 경로"
   ]
  },
  {
   "cell_type": "code",
   "execution_count": 22,
   "id": "ee98c3e9",
   "metadata": {},
   "outputs": [
    {
     "name": "stdout",
     "output_type": "stream",
     "text": [
      "['C:\\\\AI\\\\source\\\\01_python', 'C:\\\\Users\\\\Admin\\\\anaconda3\\\\python310.zip', 'C:\\\\Users\\\\Admin\\\\anaconda3\\\\DLLs', 'C:\\\\Users\\\\Admin\\\\anaconda3\\\\lib', 'C:\\\\Users\\\\Admin\\\\anaconda3', '', 'C:\\\\Users\\\\Admin\\\\anaconda3\\\\lib\\\\site-packages', 'C:\\\\Users\\\\Admin\\\\anaconda3\\\\lib\\\\site-packages\\\\win32', 'C:\\\\Users\\\\Admin\\\\anaconda3\\\\lib\\\\site-packages\\\\win32\\\\lib', 'C:\\\\Users\\\\Admin\\\\anaconda3\\\\lib\\\\site-packages\\\\Pythonwin', 'C:\\\\AI\\\\source\\\\pylib', 'C:\\\\AI\\\\source\\\\pylib']\n"
     ]
    }
   ],
   "source": [
    "import sys\n",
    "# sys.path.pop()  # 맨 끝 index 데이터 제거\n",
    "sys.path.append(r'C:\\AI\\source\\pylib')\n",
    "print(sys.path)"
   ]
  },
  {
   "cell_type": "code",
   "execution_count": 23,
   "id": "0508bd71",
   "metadata": {},
   "outputs": [],
   "source": [
    "# 1. import 모듈명\n",
    "import fibonacci"
   ]
  },
  {
   "cell_type": "code",
   "execution_count": 24,
   "id": "bce960fb",
   "metadata": {},
   "outputs": [
    {
     "data": {
      "text/plain": [
       "[0, 1, 1, 2, 3, 5, 8]"
      ]
     },
     "execution_count": 24,
     "metadata": {},
     "output_type": "execute_result"
    }
   ],
   "source": [
    "fibonacci.fibonacci(10)"
   ]
  },
  {
   "cell_type": "code",
   "execution_count": 25,
   "id": "a143b53a",
   "metadata": {},
   "outputs": [
    {
     "name": "stdout",
     "output_type": "stream",
     "text": [
      "0 1 1 2 3 5 8 \n"
     ]
    }
   ],
   "source": [
    "fibonacci.fibonacci_print(11)"
   ]
  },
  {
   "cell_type": "code",
   "execution_count": 26,
   "id": "892afc59",
   "metadata": {},
   "outputs": [],
   "source": [
    "del fibonacci"
   ]
  },
  {
   "cell_type": "code",
   "execution_count": 27,
   "id": "79c3fba4",
   "metadata": {},
   "outputs": [],
   "source": [
    "# 2. from 모듈명 import 함수명\n",
    "from fibonacci import fibonacci_print, fibonacci"
   ]
  },
  {
   "cell_type": "code",
   "execution_count": 28,
   "id": "49b803c5",
   "metadata": {},
   "outputs": [
    {
     "name": "stdout",
     "output_type": "stream",
     "text": [
      "0 1 1 2 3 5 8 \n"
     ]
    }
   ],
   "source": [
    "fibonacci_print(10)"
   ]
  },
  {
   "cell_type": "code",
   "execution_count": 29,
   "id": "af57a9bb",
   "metadata": {},
   "outputs": [
    {
     "data": {
      "text/plain": [
       "[0, 1, 1, 2, 3, 5, 8, 13, 21, 34, 55, 89]"
      ]
     },
     "execution_count": 29,
     "metadata": {},
     "output_type": "execute_result"
    }
   ],
   "source": [
    "fibonacci(100)"
   ]
  },
  {
   "cell_type": "code",
   "execution_count": 30,
   "id": "f9cc5773",
   "metadata": {},
   "outputs": [],
   "source": [
    "del fibonacci,fibonacci_print"
   ]
  },
  {
   "cell_type": "code",
   "execution_count": 31,
   "id": "1a45a0e2",
   "metadata": {},
   "outputs": [
    {
     "data": {
      "text/plain": [
       "[0, 1, 1, 2, 3, 5, 8]"
      ]
     },
     "execution_count": 31,
     "metadata": {},
     "output_type": "execute_result"
    }
   ],
   "source": [
    "# 3. import 모듈명 as 별칭\n",
    "import fibonacci as fi\n",
    "fi.fibonacci(10)"
   ]
  },
  {
   "cell_type": "code",
   "execution_count": 32,
   "id": "5f308e02",
   "metadata": {},
   "outputs": [
    {
     "name": "stdout",
     "output_type": "stream",
     "text": [
      "0 1 1 2 3 5 8 \n"
     ]
    }
   ],
   "source": [
    "fi.fibonacci_print(10)"
   ]
  },
  {
   "cell_type": "code",
   "execution_count": 33,
   "id": "06efd560",
   "metadata": {},
   "outputs": [],
   "source": [
    "# 4. from 모듈명 import 함수명 as 별칭\n",
    "# from fibonacci import fibonacci as fibo\n",
    "# from fibonacci import fibonacci_print as fibo_p\n",
    "from fibonacci import fibonacci as fibo, fibonacci_print as fibo_p"
   ]
  },
  {
   "cell_type": "code",
   "execution_count": 34,
   "id": "a9c56af6",
   "metadata": {},
   "outputs": [
    {
     "data": {
      "text/plain": [
       "[0, 1, 1, 2, 3, 5, 8]"
      ]
     },
     "execution_count": 34,
     "metadata": {},
     "output_type": "execute_result"
    }
   ],
   "source": [
    "fibo(10)"
   ]
  },
  {
   "cell_type": "code",
   "execution_count": 36,
   "id": "f234c702",
   "metadata": {},
   "outputs": [
    {
     "name": "stdout",
     "output_type": "stream",
     "text": [
      "0 1 1 2 3 5 8 13 21 34 55 89 \n"
     ]
    }
   ],
   "source": [
    "fibo_p(100)"
   ]
  },
  {
   "cell_type": "markdown",
   "id": "ee140f3f",
   "metadata": {},
   "source": [
    "# 3절 패키지\n",
    "- 모듈이 들어있는 폴더(`__init__.py`)"
   ]
  },
  {
   "cell_type": "code",
   "execution_count": 42,
   "id": "aad55101",
   "metadata": {
    "scrolled": true
   },
   "outputs": [
    {
     "data": {
      "text/plain": [
       "['C:\\\\AI\\\\source\\\\01_python',\n",
       " 'C:\\\\Users\\\\Admin\\\\anaconda3\\\\python310.zip',\n",
       " 'C:\\\\Users\\\\Admin\\\\anaconda3\\\\DLLs',\n",
       " 'C:\\\\Users\\\\Admin\\\\anaconda3\\\\lib',\n",
       " 'C:\\\\Users\\\\Admin\\\\anaconda3',\n",
       " '',\n",
       " 'C:\\\\Users\\\\Admin\\\\anaconda3\\\\lib\\\\site-packages',\n",
       " 'C:\\\\Users\\\\Admin\\\\anaconda3\\\\lib\\\\site-packages\\\\win32',\n",
       " 'C:\\\\Users\\\\Admin\\\\anaconda3\\\\lib\\\\site-packages\\\\win32\\\\lib',\n",
       " 'C:\\\\Users\\\\Admin\\\\anaconda3\\\\lib\\\\site-packages\\\\Pythonwin',\n",
       " 'C:\\\\AI\\\\source\\\\pylib']"
      ]
     },
     "execution_count": 42,
     "metadata": {},
     "output_type": "execute_result"
    }
   ],
   "source": [
    "import sys\n",
    "sys.path"
   ]
  },
  {
   "cell_type": "code",
   "execution_count": 38,
   "id": "f3e540d4",
   "metadata": {},
   "outputs": [
    {
     "data": {
      "text/plain": [
       "'C:\\\\AI\\\\source\\\\pylib'"
      ]
     },
     "execution_count": 38,
     "metadata": {},
     "output_type": "execute_result"
    }
   ],
   "source": [
    "sys.path.pop() "
   ]
  },
  {
   "cell_type": "code",
   "execution_count": 43,
   "id": "49eb0dc4",
   "metadata": {},
   "outputs": [],
   "source": [
    "# 상위패키지를 import한다고 하위패키지가 import되지 않습니다.\n",
    "import sample_pac"
   ]
  },
  {
   "cell_type": "code",
   "execution_count": 44,
   "id": "b026f981",
   "metadata": {},
   "outputs": [
    {
     "name": "stdout",
     "output_type": "stream",
     "text": [
      "sample_pac안의 test()입니다.\n"
     ]
    }
   ],
   "source": [
    "sample_pac.test()"
   ]
  },
  {
   "cell_type": "code",
   "execution_count": 45,
   "id": "dd926389",
   "metadata": {},
   "outputs": [
    {
     "name": "stdout",
     "output_type": "stream",
     "text": [
      "ab 패키지를 import 합니다.\n"
     ]
    }
   ],
   "source": [
    "import sample_pac.ab   # ab/__init__.py"
   ]
  },
  {
   "cell_type": "code",
   "execution_count": 46,
   "id": "06ccafd4",
   "metadata": {},
   "outputs": [
    {
     "name": "stdout",
     "output_type": "stream",
     "text": [
      "sample_pac.ab.a모듈의 hello\n"
     ]
    }
   ],
   "source": [
    "from sample_pac.ab import *  # __init__.py의 __all__ 속성만 로드\n",
    "a.hello()"
   ]
  },
  {
   "cell_type": "code",
   "execution_count": 48,
   "id": "ef55155f",
   "metadata": {},
   "outputs": [
    {
     "name": "stdout",
     "output_type": "stream",
     "text": [
      "sample_pac.ab.b모듈의 world\n"
     ]
    }
   ],
   "source": [
    "# b.world()  # __all__ 에 a만 지정해서 b는 따로 import해야함.\n",
    "from sample_pac.ab.b import world\n",
    "world()"
   ]
  },
  {
   "cell_type": "code",
   "execution_count": 50,
   "id": "3b9459ec",
   "metadata": {},
   "outputs": [
    {
     "name": "stdout",
     "output_type": "stream",
     "text": [
      "sample_pac/cd패키지 안의 c모듈 안의 nice\n",
      "sample_pac.ab.a모듈의 hello\n"
     ]
    }
   ],
   "source": [
    "from sample_pac.cd import c\n",
    "c.nice()"
   ]
  },
  {
   "cell_type": "code",
   "execution_count": 51,
   "id": "913732fe",
   "metadata": {},
   "outputs": [
    {
     "name": "stdout",
     "output_type": "stream",
     "text": [
      "sample_pac.ab.a모듈의 hello\n"
     ]
    }
   ],
   "source": [
    "c.a.hello()"
   ]
  },
  {
   "attachments": {},
   "cell_type": "markdown",
   "id": "65eee875",
   "metadata": {},
   "source": [
    "# 4절 패키지 설치 및 삭제\n",
    "- 패키지 설치 : pip install 패키지명[==버젼]  / conda install 패키지명[==버젼]\n",
    "          - 버전을 생략하면 최신버전으로 설치됨  - pip보다 하나 낮은 버전으로 설치될 수 있다.(좀더 안정적)           \n",
    "- 패키지 확인 : pip show 패키지명             / conda list 패키지명\n",
    "- 패키지 삭제 : pip uninstall 패키지명        / conda remove 패키지명"
   ]
  },
  {
   "cell_type": "code",
   "execution_count": 5,
   "id": "047c8bca",
   "metadata": {},
   "outputs": [],
   "source": [
    "import objgraph     # 메모리 사용량 출력하는 함수  #uninstall 후 커널 재시작해야..."
   ]
  },
  {
   "cell_type": "code",
   "execution_count": 4,
   "id": "c9210dad",
   "metadata": {},
   "outputs": [
    {
     "name": "stdout",
     "output_type": "stream",
     "text": [
      "dict          34098\n",
      "list          27944\n",
      "function      18543\n",
      "Token         16774\n",
      "tuple         13003\n",
      "Operator      10461\n",
      "Name          9416\n",
      "PythonNode    6698\n",
      "ReferenceType 5463\n",
      "DFAPlan       5418\n"
     ]
    }
   ],
   "source": [
    "objgraph.show_most_common_types()"
   ]
  },
  {
   "cell_type": "markdown",
   "id": "b0f9374c",
   "metadata": {},
   "source": [
    "# 5절 연습문제"
   ]
  },
  {
   "cell_type": "code",
   "execution_count": null,
   "id": "602cf415",
   "metadata": {},
   "outputs": [],
   "source": [
    "# 1. 파이썬의 모듈과 패키지에 대해 잘 못 설명한 것은?    3번\n",
    "# ① 모듈은 파일 단위로 작성하며 확장자가 .py인 파이썬 파일이다.\n",
    "# ② 패키지는 모듈들의 모음이며 디렉터리 단위로 존재한다.\n",
    "# ③ 파이썬의 표준 라이브러리는 import하지 않고 사용할 수 있다.\n",
    "# ④ 일부 모듈 세트는 특정 플랫폼에서만 사용할 수 있다."
   ]
  },
  {
   "cell_type": "code",
   "execution_count": null,
   "id": "38e0b26d",
   "metadata": {},
   "outputs": [],
   "source": [
    "# 2. 다음 중 모듈의 import와 import 후 사용방법이 잘못 된 것은?   4번\n",
    "# ① import time\n",
    "#   time.ctime()\n",
    "# ② import time as t\n",
    "#   t.ctime()\n",
    "# ③ from time import ctime\n",
    "#   ctime()\n",
    "# ④ from time import ctime as ct\n",
    "#   ctime()"
   ]
  },
  {
   "cell_type": "code",
   "execution_count": null,
   "id": "bb1c207a",
   "metadata": {},
   "outputs": [],
   "source": [
    "# 3. 파이썬이 디렉터릴르 패키지에 포함하도록 처리하기 위해 필요한 파일은?\n",
    "#    __init__.py"
   ]
  },
  {
   "cell_type": "code",
   "execution_count": null,
   "id": "8de2a741",
   "metadata": {},
   "outputs": [],
   "source": [
    "# 4. import *을 이용하면 페키지에 있는 서브 모듈을 찾아서 모두 가져옵니다. \n",
    "# 그렇기 때문에 패키지 작성자가 패키지의 명시적 색인을 제공하기 위해 사용하는 속성의 이름은?\n",
    "#   __all__"
   ]
  },
  {
   "cell_type": "code",
   "execution_count": null,
   "id": "01e587bb",
   "metadata": {},
   "outputs": [],
   "source": [
    "# 5. 다음 중 파이썬 패키지를 설치하는 방법이 아닌 것은?     1번\n",
    "# ① python -m pip install --upgrade pip   ==> pip를 최신버전으로 업그레이드\n",
    "# ② pip install  패키지명\n",
    "# ③ conda install 패키지명\n",
    "# ④ pip install 휠(whl)파일경로"
   ]
  },
  {
   "cell_type": "code",
   "execution_count": null,
   "id": "eed65416",
   "metadata": {},
   "outputs": [],
   "source": []
  },
  {
   "cell_type": "code",
   "execution_count": null,
   "id": "ac50d40c",
   "metadata": {},
   "outputs": [],
   "source": []
  },
  {
   "cell_type": "code",
   "execution_count": null,
   "id": "3dee4523",
   "metadata": {},
   "outputs": [],
   "source": []
  },
  {
   "cell_type": "code",
   "execution_count": null,
   "id": "b4748f65",
   "metadata": {},
   "outputs": [],
   "source": []
  },
  {
   "cell_type": "code",
   "execution_count": null,
   "id": "8fc9f20c",
   "metadata": {},
   "outputs": [],
   "source": []
  }
 ],
 "metadata": {
  "kernelspec": {
   "display_name": "Python 3 (ipykernel)",
   "language": "python",
   "name": "python3"
  },
  "language_info": {
   "codemirror_mode": {
    "name": "ipython",
    "version": 3
   },
   "file_extension": ".py",
   "mimetype": "text/x-python",
   "name": "python",
   "nbconvert_exporter": "python",
   "pygments_lexer": "ipython3",
   "version": "3.10.9"
  },
  "toc": {
   "base_numbering": 1,
   "nav_menu": {},
   "number_sections": false,
   "sideBar": true,
   "skip_h1_title": false,
   "title_cell": "Table of Contents",
   "title_sidebar": "Contents",
   "toc_cell": false,
   "toc_position": {
    "height": "calc(100% - 180px)",
    "left": "10px",
    "top": "150px",
    "width": "229.188px"
   },
   "toc_section_display": true,
   "toc_window_display": true
  }
 },
 "nbformat": 4,
 "nbformat_minor": 5
}
